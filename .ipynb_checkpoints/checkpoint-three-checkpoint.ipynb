{
 "cells": [
  {
   "cell_type": "markdown",
   "metadata": {
    "azdata_cell_guid": "26037d32-2047-4157-81ef-595916bd66a0"
   },
   "source": [
    "# Checkpoint Three: Cleaning Data\n",
    "\n",
    "Now you are ready to clean your data. Before starting coding, provide the link to your dataset below.\n",
    "\n",
    "Import the necessary libraries and create your dataframe(s)."
   ]
  },
  {
   "cell_type": "markdown",
   "metadata": {},
   "source": [
    "## COVID-19 EDA USING WHO DATA (Sourced June 2022)\n",
    "\n",
    "**VACCINATION RATE VS. DEATH RATES**\n",
    "\n",
    "\n",
    "**My data came directly from the** [WHO CORONAVIRUS DASHBOARD](https://covid19.who.int/data)\n",
    "\n",
    "\n",
    "**Two datasets were used for analysis:**\n",
    "\n",
    "[THE COVID19 GLOBAL TABLE DATA](https://covid19.who.int/WHO-COVID-19-global-table-data.csv)\n",
    "\n",
    "[COVID19 VACCINATION DATA](https://covid19.who.int/who-data/vaccination-data.csv)  \n",
    "\n",
    "\n",
    "<br/><br/>\n",
    "\n",
    "**<font color=darkred> DATA DICTIONARY</FONT>**\n",
    "\n",
    "**Latest reported counts of cases and deaths**\n",
    "\n",
    "Download link: https://covid19.who.int/WHO-COVID-19-global-table-data.csv\n",
    "\n",
    "\n",
    "| Field name                                                   | Type    | Description                                                                                                                                                      |\n",
    "| ------------------------------------------------------------ | ------- | ---------------------------------------------------------------------------------------------------------------------------------------------------------------- |\n",
    "| Name                                                         | String  | Country, territory, area                                                                                                                                         |\n",
    "| WHO\\_region                                                  | String  | WHO Region                                                                                                                                                       |\n",
    "| Cases - cumulative total                                     | Integer | Cumulative confirmed cases reported to WHO to date.                                                                                                              |\n",
    "| Cases - cumulative total per 100000 population               | Decimal | Cumulative confirmed cases reported to WHO to date per 100,000 population.                                                                                       |\n",
    "| Cases - newly reported in last 7 days                        | Integer | New confirmed cases reported in the last 7 days. Calculated by subtracting previous cumulative case count (8 days prior) from current cumulative cases count.    |\n",
    "| Cases - newly reported in last 7 days per 100000 population  | Decimal | New confirmed cases reported in the last 7 days per 100,000 population.                                                                                          |\n",
    "| Cases - newly reported in last 24 hours                      | Integer | New confirmed cases reported in the last 24 hours. Calculated by subtracting previous cumulative case count from current cumulative cases count.                 |\n",
    "| Deaths - cumulative total                                    | Integer | Cumulative confirmed deaths reported to WHO to date.                                                                                                             |\n",
    "| Deaths - cumulative total per 100000 population              | Decimal | Cumulative confirmed deaths reported to WHO to date per 100,000 population.                                                                                      |\n",
    "| Deaths - newly reported in last 7 days                       | Integer | New confirmed deaths reported in the last 7 days. Calculated by subtracting previous cumulative death count (8 days prior) from current cumulative deaths count. |\n",
    "| Deaths - newly reported in last 7 days per 100000 population | Decimal | New confirmed deaths reported in the last 7 days per 100,000 population.                                                                                         |\n",
    "| Deaths - newly reported in last 24 hours                     | Integer | New confirmed deaths reported in the last 24 hours. Calculated by subtracting previous cumulative death count from current cumulative deaths count.              |\n",
    "\n",
    "\n",
    "<br/><br/>\n",
    "\n",
    "**Vaccination data**\n",
    "\n",
    "Download links: https://covid19.who.int/who-data/vaccination-data.csv\n",
    "\n",
    "\n",
    "\n",
    "\n",
    "| Field name                               | Type    | Description                                                                                                                                                                                                                                                                                                                                     |\n",
    "| ---------------------------------------- | ------- | ----------------------------------------------------------------------------------------------------------------------------------------------------------------------------------------------------------------------------------------------------------------------------------------------------------------------------------------------- |\n",
    "| COUNTRY                                  | String  | Country, territory, area                                                                                                                                                                                                                                                                                                                        |\n",
    "| ISO3                                     | String  | ISO Alpha-3 country code                                                                                                                                                                                                                                                                                                                        |\n",
    "| WHO\\_REGION                              | String  | WHO regional offices: WHO Member States are grouped into six WHO regions: Regional Office for Africa (AFRO), Regional Office for the Americas (AMRO), Regional Office for South-East Asia (SEARO), Regional Office for Europe (EURO), Regional Office for the Eastern Mediterranean (EMRO), and Regional Office for the Western Pacific (WPRO). |\n",
    "| DATA\\_SOURCE                             | String  | Indicates data source: - REPORTING: Data reported by Member States, or sourced from official reports - OWID: Data sourced from Our World in Data: https://ourworldindata.org/covid-vaccinations                                                                                                                                                 |\n",
    "| DATE\\_UPDATED                            | Date    | Date of last update                                                                                                                                                                                                                                                                                                                             |\n",
    "| TOTAL\\_VACCINATIONS                      | Integer | Cumulative total vaccine doses administered                                                                                                                                                                                                                                                                                                     |\n",
    "| PERSONS\\_VACCINATED\\_1PLUS\\_DOSE         | Decimal | Cumulative number of persons vaccinated with at least one dose                                                                                                                                                                                                                                                                                  |\n",
    "| TOTAL\\_VACCINATIONS\\_PER100              | Integer | Cumulative total vaccine doses administered per 100 population                                                                                                                                                                                                                                                                                  |\n",
    "| PERSONS\\_VACCINATED\\_1PLUS\\_DOSE\\_PER100 | Decimal | Cumulative persons vaccinated with at least one dose per 100 population                                                                                                                                                                                                                                                                         |\n",
    "| PERSONS\\_FULLY\\_VACCINATED               | Integer | Cumulative number of persons fully vaccinated                                                                                                                                                                                                                                                                                                   |\n",
    "| PERSONS\\_FULLY\\_VACCINATED\\_PER100       | Decimal | Cumulative number of persons fully vaccinated per 100 population                                                                                                                                                                                                                                                                                |\n",
    "| VACCINES\\_USED                           | String  | Combined short name of vaccine: “Company - Product name” (see below)                                                                                                                                                                                                                                                                            |\n",
    "| FIRST\\_VACCINE\\_DATE                     | Date    | Date of first vaccinations. Equivalent to start/launch date of the first vaccine administered in a country.                                                                                                                                                                                                                                     |\n",
    "| NUMBER\\_VACCINES\\_TYPES\\_USED            | Integer | Number of vaccine types used per country, territory, area                                                                                                                                                                                                                                                                                       |\n",
    "| PERSONS\\_BOOSTER\\_ADD\\_DOSE              | Integer | Persons received booster or additional dose                                                                                                                                                                                                                                                                                                     |\n",
    "| PERSONS\\_BOOSTER\\_ADD\\_DOSE\\_PER100      | Decimal | Persons received booster or additional dose per 100 population                                                                                                                                                                                                                                                                                  |"
   ]
  },
  {
   "cell_type": "code",
   "execution_count": 1,
   "metadata": {
    "azdata_cell_guid": "e8adef8e-d0f2-4640-a179-5997f11e82ca"
   },
   "outputs": [
    {
     "data": {
      "text/html": [
       "        <script type=\"text/javascript\">\n",
       "        window.PlotlyConfig = {MathJaxConfig: 'local'};\n",
       "        if (window.MathJax) {MathJax.Hub.Config({SVG: {font: \"STIX-Web\"}});}\n",
       "        if (typeof require !== 'undefined') {\n",
       "        require.undef(\"plotly\");\n",
       "        requirejs.config({\n",
       "            paths: {\n",
       "                'plotly': ['https://cdn.plot.ly/plotly-2.9.0.min']\n",
       "            }\n",
       "        });\n",
       "        require(['plotly'], function(Plotly) {\n",
       "            window._Plotly = Plotly;\n",
       "        });\n",
       "        }\n",
       "        </script>\n",
       "        "
      ]
     },
     "metadata": {},
     "output_type": "display_data"
    }
   ],
   "source": [
    "# Import the appropriate libraries\n",
    "import pandas as pd\n",
    "import numpy as np\n",
    "import matplotlib.mlab as mlab\n",
    "import matplotlib\n",
    "from nltk.metrics import edit_distance\n",
    "import missingno as msno\n",
    "import pandas_profiling as pp\n",
    "\n",
    "# Visualization Imports\n",
    "import matplotlib.pyplot as plt\n",
    "from matplotlib import style\n",
    "import seaborn as sns\n",
    "color = sns.color_palette()\n",
    "get_ipython().run_line_magic('matplotlib', 'inline')\n",
    "import plotly.offline as py\n",
    "py.init_notebook_mode(connected=True)\n",
    "import plotly.graph_objs as go\n",
    "import plotly.tools as tls\n",
    "import plotly.express as px\n",
    "import numpy as np\n",
    "\n",
    "\n",
    "from IPython.core.interactiveshell import InteractiveShell\n",
    "InteractiveShell.ast_node_interactivity = 'all'\n",
    "\n",
    "#Print multiple outputs from 1 cell\n",
    "\n",
    "pd.set_option('display.max_columns', None)"
   ]
  },
  {
   "cell_type": "code",
   "execution_count": 2,
   "metadata": {},
   "outputs": [],
   "source": [
    "#Import CSVs\n",
    "\n",
    "vacc_data=pd.read_csv(r\"C:\\Users\\holly\\Desktop\\DAExercises\\0 graded Assignment 4\\WHO data\\Core Data\\vaccination-data.csv\")\n",
    "covid_stats=pd.read_csv(r\"C:\\Users\\holly\\Desktop\\DAExercises\\0 graded Assignment 4\\WHO data\\Core Data\\WHO-COVID-19-global-table-data.csv\")"
   ]
  },
  {
   "cell_type": "markdown",
   "metadata": {
    "azdata_cell_guid": "e172475a-c4ee-414a-8367-9965355dbba6"
   },
   "source": [
    "## Missing Data\n",
    "\n",
    "Test your dataset for missing data and handle it as needed. Make notes in the form of code comments as to your thought process."
   ]
  },
  {
   "cell_type": "code",
   "execution_count": 3,
   "metadata": {
    "azdata_cell_guid": "e1dc66ef-e471-4c27-92e7-ee878c106eba"
   },
   "outputs": [
    {
     "name": "stdout",
     "output_type": "stream",
     "text": [
      "Vaccine data missing percentage-rounded \n",
      "\n",
      "COUNTRY - 0.0%\n",
      "ISO3 - 0.0%\n",
      "WHO_REGION - 0.0%\n",
      "DATA_SOURCE - 0.0%\n",
      "DATE_UPDATED - 0.0%\n",
      "TOTAL_VACCINATIONS - 0.0%\n",
      "PERSONS_VACCINATED_1PLUS_DOSE - 0.44%\n",
      "TOTAL_VACCINATIONS_PER100 - 0.0%\n",
      "PERSONS_VACCINATED_1PLUS_DOSE_PER100 - 0.44%\n",
      "PERSONS_FULLY_VACCINATED - 0.44%\n",
      "PERSONS_FULLY_VACCINATED_PER100 - 0.44%\n",
      "VACCINES_USED - 1.32%\n",
      "FIRST_VACCINE_DATE - 9.21%\n",
      "NUMBER_VACCINES_TYPES_USED - 1.32%\n",
      "PERSONS_BOOSTER_ADD_DOSE - 14.04%\n",
      "PERSONS_BOOSTER_ADD_DOSE_PER100 - 14.04%\n",
      "\n",
      " Covid stats missing percentage-rounded\n",
      "Name - 0.0%\n",
      "WHO Region - 0.42%\n",
      "Cases - cumulative total - 0.0%\n",
      "Cases - cumulative total per 100000 population - 0.42%\n",
      "Cases - newly reported in last 7 days - 0.0%\n",
      "Cases - newly reported in last 7 days per 100000 population - 0.42%\n",
      "Cases - newly reported in last 24 hours - 0.0%\n",
      "Deaths - cumulative total - 0.0%\n",
      "Deaths - cumulative total per 100000 population - 0.42%\n",
      "Deaths - newly reported in last 7 days - 0.0%\n",
      "Deaths - newly reported in last 7 days per 100000 population - 0.42%\n",
      "Deaths - newly reported in last 24 hours - 0.0%\n"
     ]
    }
   ],
   "source": [
    "#percentage of missing data for each column and data set:\n",
    "print('Vaccine data missing percentage-rounded \\n')\n",
    "\n",
    "for col in vacc_data.columns:\n",
    "    vacc_missing = np.mean(vacc_data[col].isnull()) #use numpy to find the mean of null values in each column\n",
    "    print('{} - {}%'.format(col, (vacc_missing*100).round(2)))\n",
    " \n",
    "\n",
    "print('\\n Covid stats missing percentage-rounded')   \n",
    "    \n",
    "for col in covid_stats.columns:\n",
    "    stats_missing = np.mean(covid_stats[col].isnull()) #use numpy to find the mean of null values in each column\n",
    "    print('{} - {}%'.format(col,( stats_missing*100).round(2)))\n",
    "       "
   ]
  },
  {
   "cell_type": "code",
   "execution_count": 4,
   "metadata": {},
   "outputs": [
    {
     "data": {
      "text/plain": [
       "COUNTRY                                  0\n",
       "ISO3                                     0\n",
       "WHO_REGION                               0\n",
       "DATA_SOURCE                              0\n",
       "DATE_UPDATED                             0\n",
       "TOTAL_VACCINATIONS                       0\n",
       "PERSONS_VACCINATED_1PLUS_DOSE            1\n",
       "TOTAL_VACCINATIONS_PER100                0\n",
       "PERSONS_VACCINATED_1PLUS_DOSE_PER100     1\n",
       "PERSONS_FULLY_VACCINATED                 1\n",
       "PERSONS_FULLY_VACCINATED_PER100          1\n",
       "VACCINES_USED                            3\n",
       "FIRST_VACCINE_DATE                      21\n",
       "NUMBER_VACCINES_TYPES_USED               3\n",
       "PERSONS_BOOSTER_ADD_DOSE                32\n",
       "PERSONS_BOOSTER_ADD_DOSE_PER100         32\n",
       "dtype: int64"
      ]
     },
     "execution_count": 4,
     "metadata": {},
     "output_type": "execute_result"
    },
    {
     "name": "stdout",
     "output_type": "stream",
     "text": [
      "\n",
      "\n"
     ]
    },
    {
     "data": {
      "text/plain": [
       "Name                                                            0\n",
       "WHO Region                                                      1\n",
       "Cases - cumulative total                                        0\n",
       "Cases - cumulative total per 100000 population                  1\n",
       "Cases - newly reported in last 7 days                           0\n",
       "Cases - newly reported in last 7 days per 100000 population     1\n",
       "Cases - newly reported in last 24 hours                         0\n",
       "Deaths - cumulative total                                       0\n",
       "Deaths - cumulative total per 100000 population                 1\n",
       "Deaths - newly reported in last 7 days                          0\n",
       "Deaths - newly reported in last 7 days per 100000 population    1\n",
       "Deaths - newly reported in last 24 hours                        0\n",
       "dtype: int64"
      ]
     },
     "execution_count": 4,
     "metadata": {},
     "output_type": "execute_result"
    }
   ],
   "source": [
    "#Sum of missing data\n",
    "\n",
    "vacc_data.isnull().sum()\n",
    "\n",
    "print('\\n')\n",
    "\n",
    "covid_stats.isnull().sum()"
   ]
  },
  {
   "cell_type": "markdown",
   "metadata": {},
   "source": [
    "### Heat map of missing vaccine data\n",
    "\n",
    "The use of heatmaps is to verify and visualize the missing data output above"
   ]
  },
  {
   "cell_type": "code",
   "execution_count": 5,
   "metadata": {},
   "outputs": [
    {
     "data": {
      "text/plain": [
       "<Figure size 720x576 with 0 Axes>"
      ]
     },
     "execution_count": 5,
     "metadata": {},
     "output_type": "execute_result"
    },
    {
     "data": {
      "text/plain": [
       "<AxesSubplot:>"
      ]
     },
     "execution_count": 5,
     "metadata": {},
     "output_type": "execute_result"
    },
    {
     "data": {
      "image/png": "[encoded data removed]",
      "text/plain": [
       "<Figure size 720x576 with 2 Axes>"
      ]
     },
     "metadata": {
      "needs_background": "light"
     },
     "output_type": "display_data"
    }
   ],
   "source": [
    "plt.figure(figsize=(10,8))\n",
    "\n",
    "cols = vacc_data.columns\n",
    "colours = ['#000099', '#ffff00'] # specify colours: yellow - missing. blue - not missing\n",
    "sns.heatmap(vacc_data[cols].isna(), cmap=sns.color_palette(colours))"
   ]
  },
  {
   "cell_type": "markdown",
   "metadata": {},
   "source": [
    "### Heat map of missing covid stats data"
   ]
  },
  {
   "cell_type": "code",
   "execution_count": 6,
   "metadata": {},
   "outputs": [
    {
     "data": {
      "text/plain": [
       "<Figure size 720x576 with 0 Axes>"
      ]
     },
     "execution_count": 6,
     "metadata": {},
     "output_type": "execute_result"
    },
    {
     "data": {
      "text/plain": [
       "<AxesSubplot:>"
      ]
     },
     "execution_count": 6,
     "metadata": {},
     "output_type": "execute_result"
    },
    {
     "data": {
      "image/png": "[encoded data removed]",
      "text/plain": [
       "<Figure size 720x576 with 2 Axes>"
      ]
     },
     "metadata": {
      "needs_background": "light"
     },
     "output_type": "display_data"
    }
   ],
   "source": [
    "plt.figure(figsize=(10,8))\n",
    "\n",
    "col = covid_stats.columns\n",
    "colours = ['green', 'red'] # specify colours: red - missing. green - not missing\n",
    "sns.heatmap(covid_stats[col].isna(), cmap=sns.color_palette(colours))"
   ]
  },
  {
   "cell_type": "code",
   "execution_count": 7,
   "metadata": {},
   "outputs": [],
   "source": [
    "# vacc_data.loc[vacc_data['COUNTRY'] == 'Other']\n",
    "\n",
    "# pd.set_option('display.max_rows', None)\n",
    "\n",
    "# covid_stats['Name'].value_counts"
   ]
  },
  {
   "cell_type": "markdown",
   "metadata": {},
   "source": [
    "### Taking a closer look at rows with missing data to see how best to address them"
   ]
  },
  {
   "cell_type": "code",
   "execution_count": 8,
   "metadata": {},
   "outputs": [
    {
     "data": {
      "text/html": [
       "<div>\n",
       "<style scoped>\n",
       "    .dataframe tbody tr th:only-of-type {\n",
       "        vertical-align: middle;\n",
       "    }\n",
       "\n",
       "    .dataframe tbody tr th {\n",
       "        vertical-align: top;\n",
       "    }\n",
       "\n",
       "    .dataframe thead th {\n",
       "        text-align: right;\n",
       "    }\n",
       "</style>\n",
       "<table border=\"1\" class=\"dataframe\">\n",
       "  <thead>\n",
       "    <tr style=\"text-align: right;\">\n",
       "      <th></th>\n",
       "      <th>COUNTRY</th>\n",
       "      <th>ISO3</th>\n",
       "      <th>WHO_REGION</th>\n",
       "      <th>DATA_SOURCE</th>\n",
       "      <th>DATE_UPDATED</th>\n",
       "      <th>TOTAL_VACCINATIONS</th>\n",
       "      <th>PERSONS_VACCINATED_1PLUS_DOSE</th>\n",
       "      <th>TOTAL_VACCINATIONS_PER100</th>\n",
       "      <th>PERSONS_VACCINATED_1PLUS_DOSE_PER100</th>\n",
       "      <th>PERSONS_FULLY_VACCINATED</th>\n",
       "      <th>PERSONS_FULLY_VACCINATED_PER100</th>\n",
       "      <th>VACCINES_USED</th>\n",
       "      <th>FIRST_VACCINE_DATE</th>\n",
       "      <th>NUMBER_VACCINES_TYPES_USED</th>\n",
       "      <th>PERSONS_BOOSTER_ADD_DOSE</th>\n",
       "      <th>PERSONS_BOOSTER_ADD_DOSE_PER100</th>\n",
       "    </tr>\n",
       "  </thead>\n",
       "  <tbody>\n",
       "    <tr>\n",
       "      <th>0</th>\n",
       "      <td>Afghanistan</td>\n",
       "      <td>AFG</td>\n",
       "      <td>EMRO</td>\n",
       "      <td>REPORTING</td>\n",
       "      <td>01/06/2022</td>\n",
       "      <td>6171652</td>\n",
       "      <td>5456919.0</td>\n",
       "      <td>15.854</td>\n",
       "      <td>14.018</td>\n",
       "      <td>4807917.0</td>\n",
       "      <td>12.351</td>\n",
       "      <td>AstraZeneca - Vaxzevria,Beijing CNBG - BBIBP-C...</td>\n",
       "      <td>22/02/2021</td>\n",
       "      <td>11.0</td>\n",
       "      <td>NaN</td>\n",
       "      <td>NaN</td>\n",
       "    </tr>\n",
       "    <tr>\n",
       "      <th>10</th>\n",
       "      <td>Aruba</td>\n",
       "      <td>ABW</td>\n",
       "      <td>AMRO</td>\n",
       "      <td>REPORTING</td>\n",
       "      <td>03/06/2022</td>\n",
       "      <td>171243</td>\n",
       "      <td>88853.0</td>\n",
       "      <td>160.391</td>\n",
       "      <td>83.222</td>\n",
       "      <td>82390.0</td>\n",
       "      <td>77.169</td>\n",
       "      <td>Janssen - Ad26.COV 2-S,Pfizer BioNTech - Comir...</td>\n",
       "      <td>17/02/2021</td>\n",
       "      <td>2.0</td>\n",
       "      <td>NaN</td>\n",
       "      <td>NaN</td>\n",
       "    </tr>\n",
       "    <tr>\n",
       "      <th>21</th>\n",
       "      <td>Benin</td>\n",
       "      <td>BEN</td>\n",
       "      <td>AFRO</td>\n",
       "      <td>REPORTING</td>\n",
       "      <td>05/06/2022</td>\n",
       "      <td>4156907</td>\n",
       "      <td>3638324.0</td>\n",
       "      <td>34.289</td>\n",
       "      <td>30.011</td>\n",
       "      <td>2690085.0</td>\n",
       "      <td>22.190</td>\n",
       "      <td>AstraZeneca - Vaxzevria,Janssen - Ad26.COV 2-S...</td>\n",
       "      <td>29/03/2021</td>\n",
       "      <td>5.0</td>\n",
       "      <td>NaN</td>\n",
       "      <td>NaN</td>\n",
       "    </tr>\n",
       "    <tr>\n",
       "      <th>25</th>\n",
       "      <td>Bonaire</td>\n",
       "      <td>XAA</td>\n",
       "      <td>AMRO</td>\n",
       "      <td>REPORTING</td>\n",
       "      <td>03/06/2022</td>\n",
       "      <td>41250</td>\n",
       "      <td>17523.0</td>\n",
       "      <td>197.227</td>\n",
       "      <td>83.782</td>\n",
       "      <td>15841.0</td>\n",
       "      <td>75.740</td>\n",
       "      <td>NaN</td>\n",
       "      <td>NaN</td>\n",
       "      <td>NaN</td>\n",
       "      <td>7886.0</td>\n",
       "      <td>37.705</td>\n",
       "    </tr>\n",
       "    <tr>\n",
       "      <th>26</th>\n",
       "      <td>Bonaire, Sint Eustatius and Saba</td>\n",
       "      <td>BES</td>\n",
       "      <td>AMRO</td>\n",
       "      <td>REPORTING</td>\n",
       "      <td>09/04/2021</td>\n",
       "      <td>7391</td>\n",
       "      <td>5726.0</td>\n",
       "      <td>28.441</td>\n",
       "      <td>22.034</td>\n",
       "      <td>2965.0</td>\n",
       "      <td>11.410</td>\n",
       "      <td>Moderna - Spikevax,Pfizer BioNTech - Comirnaty</td>\n",
       "      <td>22/02/2021</td>\n",
       "      <td>2.0</td>\n",
       "      <td>NaN</td>\n",
       "      <td>NaN</td>\n",
       "    </tr>\n",
       "    <tr>\n",
       "      <th>27</th>\n",
       "      <td>Bosnia and Herzegovina</td>\n",
       "      <td>BIH</td>\n",
       "      <td>EURO</td>\n",
       "      <td>REPORTING</td>\n",
       "      <td>29/01/2022</td>\n",
       "      <td>1924950</td>\n",
       "      <td>943394.0</td>\n",
       "      <td>58.700</td>\n",
       "      <td>28.755</td>\n",
       "      <td>846080.0</td>\n",
       "      <td>25.789</td>\n",
       "      <td>AstraZeneca - AZD1222, Pfizer BioNTech - Comir...</td>\n",
       "      <td>NaN</td>\n",
       "      <td>4.0</td>\n",
       "      <td>NaN</td>\n",
       "      <td>NaN</td>\n",
       "    </tr>\n",
       "    <tr>\n",
       "      <th>33</th>\n",
       "      <td>Burkina Faso</td>\n",
       "      <td>BFA</td>\n",
       "      <td>AFRO</td>\n",
       "      <td>REPORTING</td>\n",
       "      <td>05/06/2022</td>\n",
       "      <td>2947562</td>\n",
       "      <td>2449746.0</td>\n",
       "      <td>14.101</td>\n",
       "      <td>11.719</td>\n",
       "      <td>1555077.0</td>\n",
       "      <td>7.439</td>\n",
       "      <td>Beijing CNBG - BBIBP-CorV,Janssen - Ad26.COV 2...</td>\n",
       "      <td>02/06/2021</td>\n",
       "      <td>3.0</td>\n",
       "      <td>NaN</td>\n",
       "      <td>NaN</td>\n",
       "    </tr>\n",
       "    <tr>\n",
       "      <th>34</th>\n",
       "      <td>Burundi</td>\n",
       "      <td>BDI</td>\n",
       "      <td>AFRO</td>\n",
       "      <td>REPORTING</td>\n",
       "      <td>05/06/2022</td>\n",
       "      <td>16232</td>\n",
       "      <td>14388.0</td>\n",
       "      <td>0.137</td>\n",
       "      <td>0.121</td>\n",
       "      <td>13811.0</td>\n",
       "      <td>0.116</td>\n",
       "      <td>Beijing CNBG - BBIBP-CorV</td>\n",
       "      <td>18/10/2021</td>\n",
       "      <td>1.0</td>\n",
       "      <td>NaN</td>\n",
       "      <td>NaN</td>\n",
       "    </tr>\n",
       "    <tr>\n",
       "      <th>40</th>\n",
       "      <td>Central African Republic</td>\n",
       "      <td>CAF</td>\n",
       "      <td>AFRO</td>\n",
       "      <td>REPORTING</td>\n",
       "      <td>05/06/2022</td>\n",
       "      <td>1193681</td>\n",
       "      <td>1101130.0</td>\n",
       "      <td>24.715</td>\n",
       "      <td>22.799</td>\n",
       "      <td>1044746.0</td>\n",
       "      <td>21.631</td>\n",
       "      <td>Bharat - Covaxin,SII - Covishield</td>\n",
       "      <td>19/03/2021</td>\n",
       "      <td>2.0</td>\n",
       "      <td>NaN</td>\n",
       "      <td>NaN</td>\n",
       "    </tr>\n",
       "    <tr>\n",
       "      <th>41</th>\n",
       "      <td>Chad</td>\n",
       "      <td>TCD</td>\n",
       "      <td>AFRO</td>\n",
       "      <td>REPORTING</td>\n",
       "      <td>05/06/2022</td>\n",
       "      <td>2355126</td>\n",
       "      <td>2216437.0</td>\n",
       "      <td>14.338</td>\n",
       "      <td>13.494</td>\n",
       "      <td>2091466.0</td>\n",
       "      <td>12.733</td>\n",
       "      <td>Beijing CNBG - BBIBP-CorV</td>\n",
       "      <td>04/06/2021</td>\n",
       "      <td>1.0</td>\n",
       "      <td>NaN</td>\n",
       "      <td>NaN</td>\n",
       "    </tr>\n",
       "    <tr>\n",
       "      <th>45</th>\n",
       "      <td>Comoros</td>\n",
       "      <td>COM</td>\n",
       "      <td>AFRO</td>\n",
       "      <td>REPORTING</td>\n",
       "      <td>05/06/2022</td>\n",
       "      <td>642520</td>\n",
       "      <td>341302.0</td>\n",
       "      <td>73.887</td>\n",
       "      <td>39.248</td>\n",
       "      <td>301218.0</td>\n",
       "      <td>34.639</td>\n",
       "      <td>Beijing CNBG - BBIBP-CorV,Bharat - Covaxin,SII...</td>\n",
       "      <td>10/04/2021</td>\n",
       "      <td>3.0</td>\n",
       "      <td>NaN</td>\n",
       "      <td>NaN</td>\n",
       "    </tr>\n",
       "    <tr>\n",
       "      <th>46</th>\n",
       "      <td>Congo</td>\n",
       "      <td>COG</td>\n",
       "      <td>AFRO</td>\n",
       "      <td>REPORTING</td>\n",
       "      <td>05/06/2022</td>\n",
       "      <td>831318</td>\n",
       "      <td>693902.0</td>\n",
       "      <td>15.065</td>\n",
       "      <td>12.575</td>\n",
       "      <td>652422.0</td>\n",
       "      <td>11.823</td>\n",
       "      <td>Beijing CNBG - BBIBP-CorV,Gamaleya - Gam-Covid...</td>\n",
       "      <td>23/03/2021</td>\n",
       "      <td>4.0</td>\n",
       "      <td>NaN</td>\n",
       "      <td>NaN</td>\n",
       "    </tr>\n",
       "    <tr>\n",
       "      <th>51</th>\n",
       "      <td>Cuba</td>\n",
       "      <td>CUB</td>\n",
       "      <td>AMRO</td>\n",
       "      <td>REPORTING</td>\n",
       "      <td>03/06/2022</td>\n",
       "      <td>36461068</td>\n",
       "      <td>10670978.0</td>\n",
       "      <td>321.906</td>\n",
       "      <td>94.212</td>\n",
       "      <td>9965164.0</td>\n",
       "      <td>87.980</td>\n",
       "      <td>CIGB - CIGB-66,Finlay - Soberana Plus,Finlay -...</td>\n",
       "      <td>NaN</td>\n",
       "      <td>3.0</td>\n",
       "      <td>7267798.0</td>\n",
       "      <td>64.166</td>\n",
       "    </tr>\n",
       "    <tr>\n",
       "      <th>55</th>\n",
       "      <td>Democratic Republic of the Congo</td>\n",
       "      <td>COD</td>\n",
       "      <td>AFRO</td>\n",
       "      <td>REPORTING</td>\n",
       "      <td>05/06/2022</td>\n",
       "      <td>2952125</td>\n",
       "      <td>2416650.0</td>\n",
       "      <td>3.296</td>\n",
       "      <td>2.698</td>\n",
       "      <td>1710177.0</td>\n",
       "      <td>1.910</td>\n",
       "      <td>SII - Covishield</td>\n",
       "      <td>19/04/2021</td>\n",
       "      <td>1.0</td>\n",
       "      <td>NaN</td>\n",
       "      <td>NaN</td>\n",
       "    </tr>\n",
       "    <tr>\n",
       "      <th>57</th>\n",
       "      <td>Djibouti</td>\n",
       "      <td>DJI</td>\n",
       "      <td>EMRO</td>\n",
       "      <td>REPORTING</td>\n",
       "      <td>05/06/2022</td>\n",
       "      <td>311823</td>\n",
       "      <td>175939.0</td>\n",
       "      <td>31.561</td>\n",
       "      <td>17.808</td>\n",
       "      <td>135884.0</td>\n",
       "      <td>13.753</td>\n",
       "      <td>AstraZeneca - Vaxzevria,Beijing CNBG - BBIBP-C...</td>\n",
       "      <td>15/03/2021</td>\n",
       "      <td>11.0</td>\n",
       "      <td>NaN</td>\n",
       "      <td>NaN</td>\n",
       "    </tr>\n",
       "    <tr>\n",
       "      <th>65</th>\n",
       "      <td>Eswatini</td>\n",
       "      <td>SWZ</td>\n",
       "      <td>AFRO</td>\n",
       "      <td>REPORTING</td>\n",
       "      <td>05/06/2022</td>\n",
       "      <td>535393</td>\n",
       "      <td>387468.0</td>\n",
       "      <td>46.148</td>\n",
       "      <td>33.398</td>\n",
       "      <td>336066.0</td>\n",
       "      <td>28.967</td>\n",
       "      <td>Janssen - Ad26.COV 2-S,Pfizer BioNTech - Comir...</td>\n",
       "      <td>19/03/2021</td>\n",
       "      <td>3.0</td>\n",
       "      <td>NaN</td>\n",
       "      <td>NaN</td>\n",
       "    </tr>\n",
       "    <tr>\n",
       "      <th>67</th>\n",
       "      <td>Falkland Islands (Malvinas)</td>\n",
       "      <td>FLK</td>\n",
       "      <td>AMRO</td>\n",
       "      <td>OWID</td>\n",
       "      <td>14/04/2021</td>\n",
       "      <td>4407</td>\n",
       "      <td>2632.0</td>\n",
       "      <td>126.529</td>\n",
       "      <td>75.567</td>\n",
       "      <td>1775.0</td>\n",
       "      <td>50.962</td>\n",
       "      <td>AstraZeneca - AZD1222</td>\n",
       "      <td>NaN</td>\n",
       "      <td>1.0</td>\n",
       "      <td>NaN</td>\n",
       "      <td>NaN</td>\n",
       "    </tr>\n",
       "    <tr>\n",
       "      <th>68</th>\n",
       "      <td>Faroe Islands</td>\n",
       "      <td>FRO</td>\n",
       "      <td>EURO</td>\n",
       "      <td>OWID</td>\n",
       "      <td>18/02/2022</td>\n",
       "      <td>103894</td>\n",
       "      <td>41715.0</td>\n",
       "      <td>212.614</td>\n",
       "      <td>85.368</td>\n",
       "      <td>40895.0</td>\n",
       "      <td>83.690</td>\n",
       "      <td>Moderna - mRNA-1273, Pfizer BioNTech - Comirnaty</td>\n",
       "      <td>NaN</td>\n",
       "      <td>2.0</td>\n",
       "      <td>21284.0</td>\n",
       "      <td>43.557</td>\n",
       "    </tr>\n",
       "    <tr>\n",
       "      <th>79</th>\n",
       "      <td>Gibraltar</td>\n",
       "      <td>GIB</td>\n",
       "      <td>EURO</td>\n",
       "      <td>OWID</td>\n",
       "      <td>21/04/2022</td>\n",
       "      <td>119855</td>\n",
       "      <td>42074.0</td>\n",
       "      <td>355.748</td>\n",
       "      <td>124.882</td>\n",
       "      <td>41421.0</td>\n",
       "      <td>122.944</td>\n",
       "      <td>AstraZeneca - AZD1222, Pfizer BioNTech - Comir...</td>\n",
       "      <td>NaN</td>\n",
       "      <td>2.0</td>\n",
       "      <td>36360.0</td>\n",
       "      <td>107.922</td>\n",
       "    </tr>\n",
       "    <tr>\n",
       "      <th>81</th>\n",
       "      <td>Greenland</td>\n",
       "      <td>GRL</td>\n",
       "      <td>EURO</td>\n",
       "      <td>OWID</td>\n",
       "      <td>07/03/2022</td>\n",
       "      <td>79745</td>\n",
       "      <td>41243.0</td>\n",
       "      <td>140.465</td>\n",
       "      <td>72.647</td>\n",
       "      <td>38502.0</td>\n",
       "      <td>67.819</td>\n",
       "      <td>Moderna - mRNA-1273</td>\n",
       "      <td>NaN</td>\n",
       "      <td>1.0</td>\n",
       "      <td>NaN</td>\n",
       "      <td>NaN</td>\n",
       "    </tr>\n",
       "    <tr>\n",
       "      <th>86</th>\n",
       "      <td>Guernsey</td>\n",
       "      <td>GGY</td>\n",
       "      <td>EURO</td>\n",
       "      <td>OWID</td>\n",
       "      <td>01/06/2022</td>\n",
       "      <td>156415</td>\n",
       "      <td>NaN</td>\n",
       "      <td>242.624</td>\n",
       "      <td>NaN</td>\n",
       "      <td>NaN</td>\n",
       "      <td>NaN</td>\n",
       "      <td>Moderna - mRNA-1273, AstraZeneca - AZD1222, Pf...</td>\n",
       "      <td>NaN</td>\n",
       "      <td>3.0</td>\n",
       "      <td>NaN</td>\n",
       "      <td>NaN</td>\n",
       "    </tr>\n",
       "    <tr>\n",
       "      <th>87</th>\n",
       "      <td>Guinea</td>\n",
       "      <td>GIN</td>\n",
       "      <td>AFRO</td>\n",
       "      <td>REPORTING</td>\n",
       "      <td>05/06/2022</td>\n",
       "      <td>6127699</td>\n",
       "      <td>4477740.0</td>\n",
       "      <td>46.660</td>\n",
       "      <td>34.096</td>\n",
       "      <td>2511039.0</td>\n",
       "      <td>19.120</td>\n",
       "      <td>Beijing CNBG - BBIBP-CorV,Gamaleya - Gam-Covid...</td>\n",
       "      <td>05/03/2021</td>\n",
       "      <td>6.0</td>\n",
       "      <td>NaN</td>\n",
       "      <td>NaN</td>\n",
       "    </tr>\n",
       "    <tr>\n",
       "      <th>90</th>\n",
       "      <td>Haiti</td>\n",
       "      <td>HTI</td>\n",
       "      <td>AMRO</td>\n",
       "      <td>REPORTING</td>\n",
       "      <td>03/06/2022</td>\n",
       "      <td>285651</td>\n",
       "      <td>188584.0</td>\n",
       "      <td>2.505</td>\n",
       "      <td>1.654</td>\n",
       "      <td>132177.0</td>\n",
       "      <td>1.159</td>\n",
       "      <td>Janssen - Ad26.COV 2-S,Moderna - Spikevax</td>\n",
       "      <td>NaN</td>\n",
       "      <td>2.0</td>\n",
       "      <td>NaN</td>\n",
       "      <td>NaN</td>\n",
       "    </tr>\n",
       "    <tr>\n",
       "      <th>99</th>\n",
       "      <td>Isle of Man</td>\n",
       "      <td>IMN</td>\n",
       "      <td>EURO</td>\n",
       "      <td>OWID</td>\n",
       "      <td>05/04/2022</td>\n",
       "      <td>189681</td>\n",
       "      <td>69532.0</td>\n",
       "      <td>223.070</td>\n",
       "      <td>81.772</td>\n",
       "      <td>67024.0</td>\n",
       "      <td>78.822</td>\n",
       "      <td>Moderna - mRNA-1273, AstraZeneca - AZD1222, Pf...</td>\n",
       "      <td>NaN</td>\n",
       "      <td>3.0</td>\n",
       "      <td>53125.0</td>\n",
       "      <td>62.476</td>\n",
       "    </tr>\n",
       "    <tr>\n",
       "      <th>104</th>\n",
       "      <td>Jersey</td>\n",
       "      <td>JEY</td>\n",
       "      <td>EURO</td>\n",
       "      <td>OWID</td>\n",
       "      <td>05/06/2022</td>\n",
       "      <td>234978</td>\n",
       "      <td>83487.0</td>\n",
       "      <td>217.984</td>\n",
       "      <td>77.449</td>\n",
       "      <td>80597.0</td>\n",
       "      <td>74.768</td>\n",
       "      <td>Moderna - mRNA-1273, AstraZeneca - AZD1222, Pf...</td>\n",
       "      <td>NaN</td>\n",
       "      <td>3.0</td>\n",
       "      <td>70894.0</td>\n",
       "      <td>65.767</td>\n",
       "    </tr>\n",
       "    <tr>\n",
       "      <th>109</th>\n",
       "      <td>Kosovo</td>\n",
       "      <td>XKX</td>\n",
       "      <td>EURO</td>\n",
       "      <td>REPORTING</td>\n",
       "      <td>29/05/2022</td>\n",
       "      <td>1828696</td>\n",
       "      <td>903026.0</td>\n",
       "      <td>101.800</td>\n",
       "      <td>50.289</td>\n",
       "      <td>822798.0</td>\n",
       "      <td>45.821</td>\n",
       "      <td>AstraZeneca - AZD1222, Pfizer BioNTech - Comir...</td>\n",
       "      <td>NaN</td>\n",
       "      <td>2.0</td>\n",
       "      <td>102872.0</td>\n",
       "      <td>5.729</td>\n",
       "    </tr>\n",
       "    <tr>\n",
       "      <th>115</th>\n",
       "      <td>Lesotho</td>\n",
       "      <td>LSO</td>\n",
       "      <td>AFRO</td>\n",
       "      <td>REPORTING</td>\n",
       "      <td>05/06/2022</td>\n",
       "      <td>948906</td>\n",
       "      <td>1014456.0</td>\n",
       "      <td>44.295</td>\n",
       "      <td>47.355</td>\n",
       "      <td>739962.0</td>\n",
       "      <td>34.541</td>\n",
       "      <td>Beijing CNBG - BBIBP-CorV,Janssen - Ad26.COV 2...</td>\n",
       "      <td>10/03/2021</td>\n",
       "      <td>3.0</td>\n",
       "      <td>NaN</td>\n",
       "      <td>NaN</td>\n",
       "    </tr>\n",
       "    <tr>\n",
       "      <th>125</th>\n",
       "      <td>Mali</td>\n",
       "      <td>MLI</td>\n",
       "      <td>AFRO</td>\n",
       "      <td>REPORTING</td>\n",
       "      <td>05/06/2022</td>\n",
       "      <td>2308245</td>\n",
       "      <td>1695963.0</td>\n",
       "      <td>11.398</td>\n",
       "      <td>8.375</td>\n",
       "      <td>1245359.0</td>\n",
       "      <td>6.150</td>\n",
       "      <td>SII - Covishield</td>\n",
       "      <td>31/03/2021</td>\n",
       "      <td>1.0</td>\n",
       "      <td>NaN</td>\n",
       "      <td>NaN</td>\n",
       "    </tr>\n",
       "    <tr>\n",
       "      <th>128</th>\n",
       "      <td>Martinique</td>\n",
       "      <td>MTQ</td>\n",
       "      <td>AMRO</td>\n",
       "      <td>REPORTING</td>\n",
       "      <td>03/06/2022</td>\n",
       "      <td>384386</td>\n",
       "      <td>148947.0</td>\n",
       "      <td>102.431</td>\n",
       "      <td>39.691</td>\n",
       "      <td>143729.0</td>\n",
       "      <td>38.301</td>\n",
       "      <td>Pfizer BioNTech - Comirnaty</td>\n",
       "      <td>NaN</td>\n",
       "      <td>1.0</td>\n",
       "      <td>89449.0</td>\n",
       "      <td>23.836</td>\n",
       "    </tr>\n",
       "    <tr>\n",
       "      <th>146</th>\n",
       "      <td>Nicaragua</td>\n",
       "      <td>NIC</td>\n",
       "      <td>AMRO</td>\n",
       "      <td>REPORTING</td>\n",
       "      <td>03/06/2022</td>\n",
       "      <td>10760706</td>\n",
       "      <td>5788470.0</td>\n",
       "      <td>162.437</td>\n",
       "      <td>87.379</td>\n",
       "      <td>4972236.0</td>\n",
       "      <td>75.058</td>\n",
       "      <td>AstraZeneca - Vaxzevria,CIGB - CIGB-66,Finlay ...</td>\n",
       "      <td>03/03/2021</td>\n",
       "      <td>9.0</td>\n",
       "      <td>NaN</td>\n",
       "      <td>NaN</td>\n",
       "    </tr>\n",
       "    <tr>\n",
       "      <th>147</th>\n",
       "      <td>Niger</td>\n",
       "      <td>NER</td>\n",
       "      <td>AFRO</td>\n",
       "      <td>REPORTING</td>\n",
       "      <td>05/06/2022</td>\n",
       "      <td>2703493</td>\n",
       "      <td>2198758.0</td>\n",
       "      <td>11.168</td>\n",
       "      <td>9.083</td>\n",
       "      <td>1556817.0</td>\n",
       "      <td>6.431</td>\n",
       "      <td>Beijing CNBG - BBIBP-CorV,SII - Covishield</td>\n",
       "      <td>29/03/2021</td>\n",
       "      <td>2.0</td>\n",
       "      <td>NaN</td>\n",
       "      <td>NaN</td>\n",
       "    </tr>\n",
       "    <tr>\n",
       "      <th>165</th>\n",
       "      <td>Puerto Rico</td>\n",
       "      <td>PRI</td>\n",
       "      <td>AMRO</td>\n",
       "      <td>REPORTING</td>\n",
       "      <td>03/06/2022</td>\n",
       "      <td>7286265</td>\n",
       "      <td>3052719.0</td>\n",
       "      <td>254.689</td>\n",
       "      <td>106.707</td>\n",
       "      <td>2664504.0</td>\n",
       "      <td>93.137</td>\n",
       "      <td>Janssen - Ad26.COV 2-S,Moderna - Spikevax,Pfiz...</td>\n",
       "      <td>NaN</td>\n",
       "      <td>3.0</td>\n",
       "      <td>1571568.0</td>\n",
       "      <td>54.934</td>\n",
       "    </tr>\n",
       "    <tr>\n",
       "      <th>166</th>\n",
       "      <td>Qatar</td>\n",
       "      <td>QAT</td>\n",
       "      <td>EMRO</td>\n",
       "      <td>REPORTING</td>\n",
       "      <td>01/06/2022</td>\n",
       "      <td>6890950</td>\n",
       "      <td>2632575.0</td>\n",
       "      <td>239.182</td>\n",
       "      <td>91.375</td>\n",
       "      <td>2632575.0</td>\n",
       "      <td>91.375</td>\n",
       "      <td>AstraZeneca - Vaxzevria,Beijing CNBG - BBIBP-C...</td>\n",
       "      <td>NaN</td>\n",
       "      <td>10.0</td>\n",
       "      <td>1625800.0</td>\n",
       "      <td>56.431</td>\n",
       "    </tr>\n",
       "    <tr>\n",
       "      <th>170</th>\n",
       "      <td>Russian Federation</td>\n",
       "      <td>RUS</td>\n",
       "      <td>EURO</td>\n",
       "      <td>OWID</td>\n",
       "      <td>04/06/2022</td>\n",
       "      <td>166830060</td>\n",
       "      <td>81031567.0</td>\n",
       "      <td>114.300</td>\n",
       "      <td>55.526</td>\n",
       "      <td>73682537.0</td>\n",
       "      <td>50.490</td>\n",
       "      <td>SRCVB - EpiVacCorona, Gamaleya - Sputnik V</td>\n",
       "      <td>NaN</td>\n",
       "      <td>2.0</td>\n",
       "      <td>NaN</td>\n",
       "      <td>NaN</td>\n",
       "    </tr>\n",
       "    <tr>\n",
       "      <th>172</th>\n",
       "      <td>Saba</td>\n",
       "      <td>XCA</td>\n",
       "      <td>AMRO</td>\n",
       "      <td>REPORTING</td>\n",
       "      <td>03/06/2022</td>\n",
       "      <td>4270</td>\n",
       "      <td>1594.0</td>\n",
       "      <td>220.900</td>\n",
       "      <td>82.462</td>\n",
       "      <td>1577.0</td>\n",
       "      <td>81.583</td>\n",
       "      <td>NaN</td>\n",
       "      <td>NaN</td>\n",
       "      <td>NaN</td>\n",
       "      <td>1099.0</td>\n",
       "      <td>56.855</td>\n",
       "    </tr>\n",
       "    <tr>\n",
       "      <th>173</th>\n",
       "      <td>Saint Helena</td>\n",
       "      <td>SHN</td>\n",
       "      <td>AFRO</td>\n",
       "      <td>OWID</td>\n",
       "      <td>05/05/2021</td>\n",
       "      <td>7892</td>\n",
       "      <td>4361.0</td>\n",
       "      <td>129.995</td>\n",
       "      <td>71.833</td>\n",
       "      <td>3531.0</td>\n",
       "      <td>58.162</td>\n",
       "      <td>AstraZeneca - AZD1222</td>\n",
       "      <td>NaN</td>\n",
       "      <td>1.0</td>\n",
       "      <td>NaN</td>\n",
       "      <td>NaN</td>\n",
       "    </tr>\n",
       "    <tr>\n",
       "      <th>186</th>\n",
       "      <td>Sint Eustatius</td>\n",
       "      <td>XBA</td>\n",
       "      <td>AMRO</td>\n",
       "      <td>REPORTING</td>\n",
       "      <td>03/06/2022</td>\n",
       "      <td>4325</td>\n",
       "      <td>1791.0</td>\n",
       "      <td>137.783</td>\n",
       "      <td>57.056</td>\n",
       "      <td>1686.0</td>\n",
       "      <td>53.711</td>\n",
       "      <td>NaN</td>\n",
       "      <td>NaN</td>\n",
       "      <td>NaN</td>\n",
       "      <td>848.0</td>\n",
       "      <td>27.015</td>\n",
       "    </tr>\n",
       "    <tr>\n",
       "      <th>191</th>\n",
       "      <td>Somalia</td>\n",
       "      <td>SOM</td>\n",
       "      <td>EMRO</td>\n",
       "      <td>REPORTING</td>\n",
       "      <td>05/06/2022</td>\n",
       "      <td>3724063</td>\n",
       "      <td>2298052.0</td>\n",
       "      <td>23.432</td>\n",
       "      <td>14.459</td>\n",
       "      <td>1426011.0</td>\n",
       "      <td>8.972</td>\n",
       "      <td>AstraZeneca - Vaxzevria,Beijing CNBG - BBIBP-C...</td>\n",
       "      <td>16/03/2021</td>\n",
       "      <td>11.0</td>\n",
       "      <td>NaN</td>\n",
       "      <td>NaN</td>\n",
       "    </tr>\n",
       "    <tr>\n",
       "      <th>193</th>\n",
       "      <td>South Sudan</td>\n",
       "      <td>SSD</td>\n",
       "      <td>AFRO</td>\n",
       "      <td>REPORTING</td>\n",
       "      <td>05/06/2022</td>\n",
       "      <td>1059464</td>\n",
       "      <td>1009259.0</td>\n",
       "      <td>9.465</td>\n",
       "      <td>9.016</td>\n",
       "      <td>967199.0</td>\n",
       "      <td>8.641</td>\n",
       "      <td>Janssen - Ad26.COV 2-S,SII - Covishield</td>\n",
       "      <td>06/04/2021</td>\n",
       "      <td>2.0</td>\n",
       "      <td>NaN</td>\n",
       "      <td>NaN</td>\n",
       "    </tr>\n",
       "    <tr>\n",
       "      <th>203</th>\n",
       "      <td>The United Kingdom</td>\n",
       "      <td>GBR</td>\n",
       "      <td>EURO</td>\n",
       "      <td>REPORTING</td>\n",
       "      <td>31/05/2022</td>\n",
       "      <td>143183637</td>\n",
       "      <td>53472488.0</td>\n",
       "      <td>210.900</td>\n",
       "      <td>78.567</td>\n",
       "      <td>49986833.0</td>\n",
       "      <td>73.445</td>\n",
       "      <td>AstraZeneca - Vaxzevria,Moderna - Spikevax,Pfi...</td>\n",
       "      <td>21/12/2020</td>\n",
       "      <td>3.0</td>\n",
       "      <td>NaN</td>\n",
       "      <td>NaN</td>\n",
       "    </tr>\n",
       "    <tr>\n",
       "      <th>210</th>\n",
       "      <td>Turkey</td>\n",
       "      <td>TUR</td>\n",
       "      <td>EURO</td>\n",
       "      <td>OWID</td>\n",
       "      <td>31/05/2022</td>\n",
       "      <td>147720907</td>\n",
       "      <td>57841876.0</td>\n",
       "      <td>175.200</td>\n",
       "      <td>69.559</td>\n",
       "      <td>53064752.0</td>\n",
       "      <td>63.814</td>\n",
       "      <td>Pfizer BioNTech - Comirnaty, Sinovac - CoronaV...</td>\n",
       "      <td>NaN</td>\n",
       "      <td>3.0</td>\n",
       "      <td>NaN</td>\n",
       "      <td>NaN</td>\n",
       "    </tr>\n",
       "    <tr>\n",
       "      <th>213</th>\n",
       "      <td>Tuvalu</td>\n",
       "      <td>TUV</td>\n",
       "      <td>WPRO</td>\n",
       "      <td>REPORTING</td>\n",
       "      <td>05/06/2022</td>\n",
       "      <td>12528</td>\n",
       "      <td>6368.0</td>\n",
       "      <td>106.242</td>\n",
       "      <td>54.003</td>\n",
       "      <td>6160.0</td>\n",
       "      <td>52.239</td>\n",
       "      <td>AstraZeneca - Vaxzevria</td>\n",
       "      <td>13/04/2021</td>\n",
       "      <td>1.0</td>\n",
       "      <td>NaN</td>\n",
       "      <td>NaN</td>\n",
       "    </tr>\n",
       "    <tr>\n",
       "      <th>216</th>\n",
       "      <td>United Arab Emirates</td>\n",
       "      <td>ARE</td>\n",
       "      <td>EMRO</td>\n",
       "      <td>REPORTING</td>\n",
       "      <td>31/05/2022</td>\n",
       "      <td>24909327</td>\n",
       "      <td>9991089.0</td>\n",
       "      <td>251.854</td>\n",
       "      <td>101.018</td>\n",
       "      <td>9792266.0</td>\n",
       "      <td>99.008</td>\n",
       "      <td>AstraZeneca - Vaxzevria,Beijing CNBG - BBIBP-C...</td>\n",
       "      <td>NaN</td>\n",
       "      <td>11.0</td>\n",
       "      <td>5125972.0</td>\n",
       "      <td>51.828</td>\n",
       "    </tr>\n",
       "    <tr>\n",
       "      <th>217</th>\n",
       "      <td>United Republic of Tanzania</td>\n",
       "      <td>TZA</td>\n",
       "      <td>AFRO</td>\n",
       "      <td>REPORTING</td>\n",
       "      <td>05/06/2022</td>\n",
       "      <td>7967468</td>\n",
       "      <td>6483895.0</td>\n",
       "      <td>13.338</td>\n",
       "      <td>10.855</td>\n",
       "      <td>3915900.0</td>\n",
       "      <td>6.556</td>\n",
       "      <td>Beijing CNBG - BBIBP-CorV,Janssen - Ad26.COV 2...</td>\n",
       "      <td>28/07/2021</td>\n",
       "      <td>3.0</td>\n",
       "      <td>NaN</td>\n",
       "      <td>NaN</td>\n",
       "    </tr>\n",
       "    <tr>\n",
       "      <th>225</th>\n",
       "      <td>Yemen</td>\n",
       "      <td>YEM</td>\n",
       "      <td>EMRO</td>\n",
       "      <td>REPORTING</td>\n",
       "      <td>25/05/2022</td>\n",
       "      <td>838621</td>\n",
       "      <td>672794.0</td>\n",
       "      <td>2.812</td>\n",
       "      <td>2.256</td>\n",
       "      <td>429721.0</td>\n",
       "      <td>1.441</td>\n",
       "      <td>AstraZeneca - Vaxzevria,Beijing CNBG - BBIBP-C...</td>\n",
       "      <td>20/04/2021</td>\n",
       "      <td>11.0</td>\n",
       "      <td>NaN</td>\n",
       "      <td>NaN</td>\n",
       "    </tr>\n",
       "  </tbody>\n",
       "</table>\n",
       "</div>"
      ],
      "text/plain": [
       "                              COUNTRY ISO3 WHO_REGION DATA_SOURCE  \\\n",
       "0                         Afghanistan  AFG       EMRO   REPORTING   \n",
       "10                              Aruba  ABW       AMRO   REPORTING   \n",
       "21                              Benin  BEN       AFRO   REPORTING   \n",
       "25                            Bonaire  XAA       AMRO   REPORTING   \n",
       "26   Bonaire, Sint Eustatius and Saba  BES       AMRO   REPORTING   \n",
       "27             Bosnia and Herzegovina  BIH       EURO   REPORTING   \n",
       "33                       Burkina Faso  BFA       AFRO   REPORTING   \n",
       "34                            Burundi  BDI       AFRO   REPORTING   \n",
       "40           Central African Republic  CAF       AFRO   REPORTING   \n",
       "41                               Chad  TCD       AFRO   REPORTING   \n",
       "45                            Comoros  COM       AFRO   REPORTING   \n",
       "46                              Congo  COG       AFRO   REPORTING   \n",
       "51                               Cuba  CUB       AMRO   REPORTING   \n",
       "55   Democratic Republic of the Congo  COD       AFRO   REPORTING   \n",
       "57                           Djibouti  DJI       EMRO   REPORTING   \n",
       "65                           Eswatini  SWZ       AFRO   REPORTING   \n",
       "67        Falkland Islands (Malvinas)  FLK       AMRO        OWID   \n",
       "68                      Faroe Islands  FRO       EURO        OWID   \n",
       "79                          Gibraltar  GIB       EURO        OWID   \n",
       "81                          Greenland  GRL       EURO        OWID   \n",
       "86                           Guernsey  GGY       EURO        OWID   \n",
       "87                             Guinea  GIN       AFRO   REPORTING   \n",
       "90                              Haiti  HTI       AMRO   REPORTING   \n",
       "99                        Isle of Man  IMN       EURO        OWID   \n",
       "104                            Jersey  JEY       EURO        OWID   \n",
       "109                            Kosovo  XKX       EURO   REPORTING   \n",
       "115                           Lesotho  LSO       AFRO   REPORTING   \n",
       "125                              Mali  MLI       AFRO   REPORTING   \n",
       "128                        Martinique  MTQ       AMRO   REPORTING   \n",
       "146                         Nicaragua  NIC       AMRO   REPORTING   \n",
       "147                             Niger  NER       AFRO   REPORTING   \n",
       "165                       Puerto Rico  PRI       AMRO   REPORTING   \n",
       "166                             Qatar  QAT       EMRO   REPORTING   \n",
       "170                Russian Federation  RUS       EURO        OWID   \n",
       "172                              Saba  XCA       AMRO   REPORTING   \n",
       "173                      Saint Helena  SHN       AFRO        OWID   \n",
       "186                    Sint Eustatius  XBA       AMRO   REPORTING   \n",
       "191                           Somalia  SOM       EMRO   REPORTING   \n",
       "193                       South Sudan  SSD       AFRO   REPORTING   \n",
       "203                The United Kingdom  GBR       EURO   REPORTING   \n",
       "210                            Turkey  TUR       EURO        OWID   \n",
       "213                            Tuvalu  TUV       WPRO   REPORTING   \n",
       "216              United Arab Emirates  ARE       EMRO   REPORTING   \n",
       "217       United Republic of Tanzania  TZA       AFRO   REPORTING   \n",
       "225                             Yemen  YEM       EMRO   REPORTING   \n",
       "\n",
       "    DATE_UPDATED  TOTAL_VACCINATIONS  PERSONS_VACCINATED_1PLUS_DOSE  \\\n",
       "0     01/06/2022             6171652                      5456919.0   \n",
       "10    03/06/2022              171243                        88853.0   \n",
       "21    05/06/2022             4156907                      3638324.0   \n",
       "25    03/06/2022               41250                        17523.0   \n",
       "26    09/04/2021                7391                         5726.0   \n",
       "27    29/01/2022             1924950                       943394.0   \n",
       "33    05/06/2022             2947562                      2449746.0   \n",
       "34    05/06/2022               16232                        14388.0   \n",
       "40    05/06/2022             1193681                      1101130.0   \n",
       "41    05/06/2022             2355126                      2216437.0   \n",
       "45    05/06/2022              642520                       341302.0   \n",
       "46    05/06/2022              831318                       693902.0   \n",
       "51    03/06/2022            36461068                     10670978.0   \n",
       "55    05/06/2022             2952125                      2416650.0   \n",
       "57    05/06/2022              311823                       175939.0   \n",
       "65    05/06/2022              535393                       387468.0   \n",
       "67    14/04/2021                4407                         2632.0   \n",
       "68    18/02/2022              103894                        41715.0   \n",
       "79    21/04/2022              119855                        42074.0   \n",
       "81    07/03/2022               79745                        41243.0   \n",
       "86    01/06/2022              156415                            NaN   \n",
       "87    05/06/2022             6127699                      4477740.0   \n",
       "90    03/06/2022              285651                       188584.0   \n",
       "99    05/04/2022              189681                        69532.0   \n",
       "104   05/06/2022              234978                        83487.0   \n",
       "109   29/05/2022             1828696                       903026.0   \n",
       "115   05/06/2022              948906                      1014456.0   \n",
       "125   05/06/2022             2308245                      1695963.0   \n",
       "128   03/06/2022              384386                       148947.0   \n",
       "146   03/06/2022            10760706                      5788470.0   \n",
       "147   05/06/2022             2703493                      2198758.0   \n",
       "165   03/06/2022             7286265                      3052719.0   \n",
       "166   01/06/2022             6890950                      2632575.0   \n",
       "170   04/06/2022           166830060                     81031567.0   \n",
       "172   03/06/2022                4270                         1594.0   \n",
       "173   05/05/2021                7892                         4361.0   \n",
       "186   03/06/2022                4325                         1791.0   \n",
       "191   05/06/2022             3724063                      2298052.0   \n",
       "193   05/06/2022             1059464                      1009259.0   \n",
       "203   31/05/2022           143183637                     53472488.0   \n",
       "210   31/05/2022           147720907                     57841876.0   \n",
       "213   05/06/2022               12528                         6368.0   \n",
       "216   31/05/2022            24909327                      9991089.0   \n",
       "217   05/06/2022             7967468                      6483895.0   \n",
       "225   25/05/2022              838621                       672794.0   \n",
       "\n",
       "     TOTAL_VACCINATIONS_PER100  PERSONS_VACCINATED_1PLUS_DOSE_PER100  \\\n",
       "0                       15.854                                14.018   \n",
       "10                     160.391                                83.222   \n",
       "21                      34.289                                30.011   \n",
       "25                     197.227                                83.782   \n",
       "26                      28.441                                22.034   \n",
       "27                      58.700                                28.755   \n",
       "33                      14.101                                11.719   \n",
       "34                       0.137                                 0.121   \n",
       "40                      24.715                                22.799   \n",
       "41                      14.338                                13.494   \n",
       "45                      73.887                                39.248   \n",
       "46                      15.065                                12.575   \n",
       "51                     321.906                                94.212   \n",
       "55                       3.296                                 2.698   \n",
       "57                      31.561                                17.808   \n",
       "65                      46.148                                33.398   \n",
       "67                     126.529                                75.567   \n",
       "68                     212.614                                85.368   \n",
       "79                     355.748                               124.882   \n",
       "81                     140.465                                72.647   \n",
       "86                     242.624                                   NaN   \n",
       "87                      46.660                                34.096   \n",
       "90                       2.505                                 1.654   \n",
       "99                     223.070                                81.772   \n",
       "104                    217.984                                77.449   \n",
       "109                    101.800                                50.289   \n",
       "115                     44.295                                47.355   \n",
       "125                     11.398                                 8.375   \n",
       "128                    102.431                                39.691   \n",
       "146                    162.437                                87.379   \n",
       "147                     11.168                                 9.083   \n",
       "165                    254.689                               106.707   \n",
       "166                    239.182                                91.375   \n",
       "170                    114.300                                55.526   \n",
       "172                    220.900                                82.462   \n",
       "173                    129.995                                71.833   \n",
       "186                    137.783                                57.056   \n",
       "191                     23.432                                14.459   \n",
       "193                      9.465                                 9.016   \n",
       "203                    210.900                                78.567   \n",
       "210                    175.200                                69.559   \n",
       "213                    106.242                                54.003   \n",
       "216                    251.854                               101.018   \n",
       "217                     13.338                                10.855   \n",
       "225                      2.812                                 2.256   \n",
       "\n",
       "     PERSONS_FULLY_VACCINATED  PERSONS_FULLY_VACCINATED_PER100  \\\n",
       "0                   4807917.0                           12.351   \n",
       "10                    82390.0                           77.169   \n",
       "21                  2690085.0                           22.190   \n",
       "25                    15841.0                           75.740   \n",
       "26                     2965.0                           11.410   \n",
       "27                   846080.0                           25.789   \n",
       "33                  1555077.0                            7.439   \n",
       "34                    13811.0                            0.116   \n",
       "40                  1044746.0                           21.631   \n",
       "41                  2091466.0                           12.733   \n",
       "45                   301218.0                           34.639   \n",
       "46                   652422.0                           11.823   \n",
       "51                  9965164.0                           87.980   \n",
       "55                  1710177.0                            1.910   \n",
       "57                   135884.0                           13.753   \n",
       "65                   336066.0                           28.967   \n",
       "67                     1775.0                           50.962   \n",
       "68                    40895.0                           83.690   \n",
       "79                    41421.0                          122.944   \n",
       "81                    38502.0                           67.819   \n",
       "86                        NaN                              NaN   \n",
       "87                  2511039.0                           19.120   \n",
       "90                   132177.0                            1.159   \n",
       "99                    67024.0                           78.822   \n",
       "104                   80597.0                           74.768   \n",
       "109                  822798.0                           45.821   \n",
       "115                  739962.0                           34.541   \n",
       "125                 1245359.0                            6.150   \n",
       "128                  143729.0                           38.301   \n",
       "146                 4972236.0                           75.058   \n",
       "147                 1556817.0                            6.431   \n",
       "165                 2664504.0                           93.137   \n",
       "166                 2632575.0                           91.375   \n",
       "170                73682537.0                           50.490   \n",
       "172                    1577.0                           81.583   \n",
       "173                    3531.0                           58.162   \n",
       "186                    1686.0                           53.711   \n",
       "191                 1426011.0                            8.972   \n",
       "193                  967199.0                            8.641   \n",
       "203                49986833.0                           73.445   \n",
       "210                53064752.0                           63.814   \n",
       "213                    6160.0                           52.239   \n",
       "216                 9792266.0                           99.008   \n",
       "217                 3915900.0                            6.556   \n",
       "225                  429721.0                            1.441   \n",
       "\n",
       "                                         VACCINES_USED FIRST_VACCINE_DATE  \\\n",
       "0    AstraZeneca - Vaxzevria,Beijing CNBG - BBIBP-C...         22/02/2021   \n",
       "10   Janssen - Ad26.COV 2-S,Pfizer BioNTech - Comir...         17/02/2021   \n",
       "21   AstraZeneca - Vaxzevria,Janssen - Ad26.COV 2-S...         29/03/2021   \n",
       "25                                                 NaN                NaN   \n",
       "26      Moderna - Spikevax,Pfizer BioNTech - Comirnaty         22/02/2021   \n",
       "27   AstraZeneca - AZD1222, Pfizer BioNTech - Comir...                NaN   \n",
       "33   Beijing CNBG - BBIBP-CorV,Janssen - Ad26.COV 2...         02/06/2021   \n",
       "34                           Beijing CNBG - BBIBP-CorV         18/10/2021   \n",
       "40                   Bharat - Covaxin,SII - Covishield         19/03/2021   \n",
       "41                           Beijing CNBG - BBIBP-CorV         04/06/2021   \n",
       "45   Beijing CNBG - BBIBP-CorV,Bharat - Covaxin,SII...         10/04/2021   \n",
       "46   Beijing CNBG - BBIBP-CorV,Gamaleya - Gam-Covid...         23/03/2021   \n",
       "51   CIGB - CIGB-66,Finlay - Soberana Plus,Finlay -...                NaN   \n",
       "55                                    SII - Covishield         19/04/2021   \n",
       "57   AstraZeneca - Vaxzevria,Beijing CNBG - BBIBP-C...         15/03/2021   \n",
       "65   Janssen - Ad26.COV 2-S,Pfizer BioNTech - Comir...         19/03/2021   \n",
       "67                               AstraZeneca - AZD1222                NaN   \n",
       "68    Moderna - mRNA-1273, Pfizer BioNTech - Comirnaty                NaN   \n",
       "79   AstraZeneca - AZD1222, Pfizer BioNTech - Comir...                NaN   \n",
       "81                                 Moderna - mRNA-1273                NaN   \n",
       "86   Moderna - mRNA-1273, AstraZeneca - AZD1222, Pf...                NaN   \n",
       "87   Beijing CNBG - BBIBP-CorV,Gamaleya - Gam-Covid...         05/03/2021   \n",
       "90           Janssen - Ad26.COV 2-S,Moderna - Spikevax                NaN   \n",
       "99   Moderna - mRNA-1273, AstraZeneca - AZD1222, Pf...                NaN   \n",
       "104  Moderna - mRNA-1273, AstraZeneca - AZD1222, Pf...                NaN   \n",
       "109  AstraZeneca - AZD1222, Pfizer BioNTech - Comir...                NaN   \n",
       "115  Beijing CNBG - BBIBP-CorV,Janssen - Ad26.COV 2...         10/03/2021   \n",
       "125                                   SII - Covishield         31/03/2021   \n",
       "128                        Pfizer BioNTech - Comirnaty                NaN   \n",
       "146  AstraZeneca - Vaxzevria,CIGB - CIGB-66,Finlay ...         03/03/2021   \n",
       "147         Beijing CNBG - BBIBP-CorV,SII - Covishield         29/03/2021   \n",
       "165  Janssen - Ad26.COV 2-S,Moderna - Spikevax,Pfiz...                NaN   \n",
       "166  AstraZeneca - Vaxzevria,Beijing CNBG - BBIBP-C...                NaN   \n",
       "170         SRCVB - EpiVacCorona, Gamaleya - Sputnik V                NaN   \n",
       "172                                                NaN                NaN   \n",
       "173                              AstraZeneca - AZD1222                NaN   \n",
       "186                                                NaN                NaN   \n",
       "191  AstraZeneca - Vaxzevria,Beijing CNBG - BBIBP-C...         16/03/2021   \n",
       "193            Janssen - Ad26.COV 2-S,SII - Covishield         06/04/2021   \n",
       "203  AstraZeneca - Vaxzevria,Moderna - Spikevax,Pfi...         21/12/2020   \n",
       "210  Pfizer BioNTech - Comirnaty, Sinovac - CoronaV...                NaN   \n",
       "213                            AstraZeneca - Vaxzevria         13/04/2021   \n",
       "216  AstraZeneca - Vaxzevria,Beijing CNBG - BBIBP-C...                NaN   \n",
       "217  Beijing CNBG - BBIBP-CorV,Janssen - Ad26.COV 2...         28/07/2021   \n",
       "225  AstraZeneca - Vaxzevria,Beijing CNBG - BBIBP-C...         20/04/2021   \n",
       "\n",
       "     NUMBER_VACCINES_TYPES_USED  PERSONS_BOOSTER_ADD_DOSE  \\\n",
       "0                          11.0                       NaN   \n",
       "10                          2.0                       NaN   \n",
       "21                          5.0                       NaN   \n",
       "25                          NaN                    7886.0   \n",
       "26                          2.0                       NaN   \n",
       "27                          4.0                       NaN   \n",
       "33                          3.0                       NaN   \n",
       "34                          1.0                       NaN   \n",
       "40                          2.0                       NaN   \n",
       "41                          1.0                       NaN   \n",
       "45                          3.0                       NaN   \n",
       "46                          4.0                       NaN   \n",
       "51                          3.0                 7267798.0   \n",
       "55                          1.0                       NaN   \n",
       "57                         11.0                       NaN   \n",
       "65                          3.0                       NaN   \n",
       "67                          1.0                       NaN   \n",
       "68                          2.0                   21284.0   \n",
       "79                          2.0                   36360.0   \n",
       "81                          1.0                       NaN   \n",
       "86                          3.0                       NaN   \n",
       "87                          6.0                       NaN   \n",
       "90                          2.0                       NaN   \n",
       "99                          3.0                   53125.0   \n",
       "104                         3.0                   70894.0   \n",
       "109                         2.0                  102872.0   \n",
       "115                         3.0                       NaN   \n",
       "125                         1.0                       NaN   \n",
       "128                         1.0                   89449.0   \n",
       "146                         9.0                       NaN   \n",
       "147                         2.0                       NaN   \n",
       "165                         3.0                 1571568.0   \n",
       "166                        10.0                 1625800.0   \n",
       "170                         2.0                       NaN   \n",
       "172                         NaN                    1099.0   \n",
       "173                         1.0                       NaN   \n",
       "186                         NaN                     848.0   \n",
       "191                        11.0                       NaN   \n",
       "193                         2.0                       NaN   \n",
       "203                         3.0                       NaN   \n",
       "210                         3.0                       NaN   \n",
       "213                         1.0                       NaN   \n",
       "216                        11.0                 5125972.0   \n",
       "217                         3.0                       NaN   \n",
       "225                        11.0                       NaN   \n",
       "\n",
       "     PERSONS_BOOSTER_ADD_DOSE_PER100  \n",
       "0                                NaN  \n",
       "10                               NaN  \n",
       "21                               NaN  \n",
       "25                            37.705  \n",
       "26                               NaN  \n",
       "27                               NaN  \n",
       "33                               NaN  \n",
       "34                               NaN  \n",
       "40                               NaN  \n",
       "41                               NaN  \n",
       "45                               NaN  \n",
       "46                               NaN  \n",
       "51                            64.166  \n",
       "55                               NaN  \n",
       "57                               NaN  \n",
       "65                               NaN  \n",
       "67                               NaN  \n",
       "68                            43.557  \n",
       "79                           107.922  \n",
       "81                               NaN  \n",
       "86                               NaN  \n",
       "87                               NaN  \n",
       "90                               NaN  \n",
       "99                            62.476  \n",
       "104                           65.767  \n",
       "109                            5.729  \n",
       "115                              NaN  \n",
       "125                              NaN  \n",
       "128                           23.836  \n",
       "146                              NaN  \n",
       "147                              NaN  \n",
       "165                           54.934  \n",
       "166                           56.431  \n",
       "170                              NaN  \n",
       "172                           56.855  \n",
       "173                              NaN  \n",
       "186                           27.015  \n",
       "191                              NaN  \n",
       "193                              NaN  \n",
       "203                              NaN  \n",
       "210                              NaN  \n",
       "213                              NaN  \n",
       "216                           51.828  \n",
       "217                              NaN  \n",
       "225                              NaN  "
      ]
     },
     "execution_count": 8,
     "metadata": {},
     "output_type": "execute_result"
    }
   ],
   "source": [
    "#Vaccination dataset\n",
    "\n",
    "vacc_data[vacc_data.isna().any(axis=1)]"
   ]
  },
  {
   "cell_type": "markdown",
   "metadata": {},
   "source": [
    "### For this dataset, total vaccinations and fully vaccinated statistics are most important for analysis, so I will drop the columns with the highest percentage of missing data since I won't be using them for further analysis:\n",
    "<br>\n",
    "\n",
    "* FIRST_VACCINE_DATE - 9%\n",
    "* PERSONS_BOOSTER_ADD_DOSE - 14%\n",
    "* PERSONS_BOOSTER_ADD_DOSE_PER100 - 14%\n",
    "\n",
    "**Filling Vaccines_Used missing data with \"Unreported\".**"
   ]
  },
  {
   "cell_type": "code",
   "execution_count": 9,
   "metadata": {},
   "outputs": [],
   "source": [
    "#make a copy of dataset\n",
    "df_vacc = vacc_data.copy()\n",
    "\n",
    "#Set index to 'COUNTRY'\n",
    "df_vacc = df_vacc.set_index(\"COUNTRY\")\n",
    "#df_vacc.head()\n",
    "\n",
    "\n",
    "#Fill Vaccines_Used\n",
    "df_vacc['VACCINES_USED']=df_vacc['VACCINES_USED'].fillna('Unreported')\n",
    "\n"
   ]
  },
  {
   "cell_type": "code",
   "execution_count": 10,
   "metadata": {},
   "outputs": [
    {
     "data": {
      "text/plain": [
       "FIRST_VACCINE_DATE                 0.09\n",
       "PERSONS_BOOSTER_ADD_DOSE           0.14\n",
       "PERSONS_BOOSTER_ADD_DOSE_PER100    0.14\n",
       "dtype: float64"
      ]
     },
     "execution_count": 10,
     "metadata": {},
     "output_type": "execute_result"
    }
   ],
   "source": [
    "#Dropping columns\n",
    "vacc_missing=df_vacc.isna().mean().round(2)\n",
    "\n",
    "vacc_missing[vacc_missing >.08]\n",
    "\n"
   ]
  },
  {
   "cell_type": "code",
   "execution_count": 11,
   "metadata": {},
   "outputs": [],
   "source": [
    "df_vacc=df_vacc.drop(columns=vacc_missing[vacc_missing >.08].index)\n"
   ]
  },
  {
   "cell_type": "code",
   "execution_count": 12,
   "metadata": {},
   "outputs": [
    {
     "data": {
      "text/plain": [
       "ISO3                                    0\n",
       "WHO_REGION                              0\n",
       "DATA_SOURCE                             0\n",
       "DATE_UPDATED                            0\n",
       "TOTAL_VACCINATIONS                      0\n",
       "PERSONS_VACCINATED_1PLUS_DOSE           1\n",
       "TOTAL_VACCINATIONS_PER100               0\n",
       "PERSONS_VACCINATED_1PLUS_DOSE_PER100    1\n",
       "PERSONS_FULLY_VACCINATED                1\n",
       "PERSONS_FULLY_VACCINATED_PER100         1\n",
       "VACCINES_USED                           0\n",
       "NUMBER_VACCINES_TYPES_USED              3\n",
       "dtype: int64"
      ]
     },
     "execution_count": 12,
     "metadata": {},
     "output_type": "execute_result"
    },
    {
     "data": {
      "text/html": [
       "<div>\n",
       "<style scoped>\n",
       "    .dataframe tbody tr th:only-of-type {\n",
       "        vertical-align: middle;\n",
       "    }\n",
       "\n",
       "    .dataframe tbody tr th {\n",
       "        vertical-align: top;\n",
       "    }\n",
       "\n",
       "    .dataframe thead th {\n",
       "        text-align: right;\n",
       "    }\n",
       "</style>\n",
       "<table border=\"1\" class=\"dataframe\">\n",
       "  <thead>\n",
       "    <tr style=\"text-align: right;\">\n",
       "      <th></th>\n",
       "      <th>ISO3</th>\n",
       "      <th>WHO_REGION</th>\n",
       "      <th>DATA_SOURCE</th>\n",
       "      <th>DATE_UPDATED</th>\n",
       "      <th>TOTAL_VACCINATIONS</th>\n",
       "      <th>PERSONS_VACCINATED_1PLUS_DOSE</th>\n",
       "      <th>TOTAL_VACCINATIONS_PER100</th>\n",
       "      <th>PERSONS_VACCINATED_1PLUS_DOSE_PER100</th>\n",
       "      <th>PERSONS_FULLY_VACCINATED</th>\n",
       "      <th>PERSONS_FULLY_VACCINATED_PER100</th>\n",
       "      <th>VACCINES_USED</th>\n",
       "      <th>NUMBER_VACCINES_TYPES_USED</th>\n",
       "    </tr>\n",
       "    <tr>\n",
       "      <th>COUNTRY</th>\n",
       "      <th></th>\n",
       "      <th></th>\n",
       "      <th></th>\n",
       "      <th></th>\n",
       "      <th></th>\n",
       "      <th></th>\n",
       "      <th></th>\n",
       "      <th></th>\n",
       "      <th></th>\n",
       "      <th></th>\n",
       "      <th></th>\n",
       "      <th></th>\n",
       "    </tr>\n",
       "  </thead>\n",
       "  <tbody>\n",
       "    <tr>\n",
       "      <th>Bonaire</th>\n",
       "      <td>XAA</td>\n",
       "      <td>AMRO</td>\n",
       "      <td>REPORTING</td>\n",
       "      <td>03/06/2022</td>\n",
       "      <td>41250</td>\n",
       "      <td>17523.0</td>\n",
       "      <td>197.227</td>\n",
       "      <td>83.782</td>\n",
       "      <td>15841.0</td>\n",
       "      <td>75.740</td>\n",
       "      <td>Unreported</td>\n",
       "      <td>NaN</td>\n",
       "    </tr>\n",
       "    <tr>\n",
       "      <th>Guernsey</th>\n",
       "      <td>GGY</td>\n",
       "      <td>EURO</td>\n",
       "      <td>OWID</td>\n",
       "      <td>01/06/2022</td>\n",
       "      <td>156415</td>\n",
       "      <td>NaN</td>\n",
       "      <td>242.624</td>\n",
       "      <td>NaN</td>\n",
       "      <td>NaN</td>\n",
       "      <td>NaN</td>\n",
       "      <td>Moderna - mRNA-1273, AstraZeneca - AZD1222, Pf...</td>\n",
       "      <td>3.0</td>\n",
       "    </tr>\n",
       "    <tr>\n",
       "      <th>Saba</th>\n",
       "      <td>XCA</td>\n",
       "      <td>AMRO</td>\n",
       "      <td>REPORTING</td>\n",
       "      <td>03/06/2022</td>\n",
       "      <td>4270</td>\n",
       "      <td>1594.0</td>\n",
       "      <td>220.900</td>\n",
       "      <td>82.462</td>\n",
       "      <td>1577.0</td>\n",
       "      <td>81.583</td>\n",
       "      <td>Unreported</td>\n",
       "      <td>NaN</td>\n",
       "    </tr>\n",
       "    <tr>\n",
       "      <th>Sint Eustatius</th>\n",
       "      <td>XBA</td>\n",
       "      <td>AMRO</td>\n",
       "      <td>REPORTING</td>\n",
       "      <td>03/06/2022</td>\n",
       "      <td>4325</td>\n",
       "      <td>1791.0</td>\n",
       "      <td>137.783</td>\n",
       "      <td>57.056</td>\n",
       "      <td>1686.0</td>\n",
       "      <td>53.711</td>\n",
       "      <td>Unreported</td>\n",
       "      <td>NaN</td>\n",
       "    </tr>\n",
       "  </tbody>\n",
       "</table>\n",
       "</div>"
      ],
      "text/plain": [
       "               ISO3 WHO_REGION DATA_SOURCE DATE_UPDATED  TOTAL_VACCINATIONS  \\\n",
       "COUNTRY                                                                       \n",
       "Bonaire         XAA       AMRO   REPORTING   03/06/2022               41250   \n",
       "Guernsey        GGY       EURO        OWID   01/06/2022              156415   \n",
       "Saba            XCA       AMRO   REPORTING   03/06/2022                4270   \n",
       "Sint Eustatius  XBA       AMRO   REPORTING   03/06/2022                4325   \n",
       "\n",
       "                PERSONS_VACCINATED_1PLUS_DOSE  TOTAL_VACCINATIONS_PER100  \\\n",
       "COUNTRY                                                                    \n",
       "Bonaire                               17523.0                    197.227   \n",
       "Guernsey                                  NaN                    242.624   \n",
       "Saba                                   1594.0                    220.900   \n",
       "Sint Eustatius                         1791.0                    137.783   \n",
       "\n",
       "                PERSONS_VACCINATED_1PLUS_DOSE_PER100  \\\n",
       "COUNTRY                                                \n",
       "Bonaire                                       83.782   \n",
       "Guernsey                                         NaN   \n",
       "Saba                                          82.462   \n",
       "Sint Eustatius                                57.056   \n",
       "\n",
       "                PERSONS_FULLY_VACCINATED  PERSONS_FULLY_VACCINATED_PER100  \\\n",
       "COUNTRY                                                                     \n",
       "Bonaire                          15841.0                           75.740   \n",
       "Guernsey                             NaN                              NaN   \n",
       "Saba                              1577.0                           81.583   \n",
       "Sint Eustatius                    1686.0                           53.711   \n",
       "\n",
       "                                                    VACCINES_USED  \\\n",
       "COUNTRY                                                             \n",
       "Bonaire                                                Unreported   \n",
       "Guernsey        Moderna - mRNA-1273, AstraZeneca - AZD1222, Pf...   \n",
       "Saba                                                   Unreported   \n",
       "Sint Eustatius                                         Unreported   \n",
       "\n",
       "                NUMBER_VACCINES_TYPES_USED  \n",
       "COUNTRY                                     \n",
       "Bonaire                                NaN  \n",
       "Guernsey                               3.0  \n",
       "Saba                                   NaN  \n",
       "Sint Eustatius                         NaN  "
      ]
     },
     "execution_count": 12,
     "metadata": {},
     "output_type": "execute_result"
    }
   ],
   "source": [
    "df_vacc.isnull().sum()\n",
    "\n",
    "#Rechecking rows that contain missing data (I will leave these as is for now) \n",
    "df_vacc[df_vacc.isna().any(axis=1)]"
   ]
  },
  {
   "cell_type": "markdown",
   "metadata": {},
   "source": [
    "**Data set 2- check for missing data**"
   ]
  },
  {
   "cell_type": "code",
   "execution_count": 13,
   "metadata": {},
   "outputs": [
    {
     "data": {
      "text/html": [
       "<div>\n",
       "<style scoped>\n",
       "    .dataframe tbody tr th:only-of-type {\n",
       "        vertical-align: middle;\n",
       "    }\n",
       "\n",
       "    .dataframe tbody tr th {\n",
       "        vertical-align: top;\n",
       "    }\n",
       "\n",
       "    .dataframe thead th {\n",
       "        text-align: right;\n",
       "    }\n",
       "</style>\n",
       "<table border=\"1\" class=\"dataframe\">\n",
       "  <thead>\n",
       "    <tr style=\"text-align: right;\">\n",
       "      <th></th>\n",
       "      <th>Name</th>\n",
       "      <th>WHO Region</th>\n",
       "      <th>Cases - cumulative total</th>\n",
       "      <th>Cases - cumulative total per 100000 population</th>\n",
       "      <th>Cases - newly reported in last 7 days</th>\n",
       "      <th>Cases - newly reported in last 7 days per 100000 population</th>\n",
       "      <th>Cases - newly reported in last 24 hours</th>\n",
       "      <th>Deaths - cumulative total</th>\n",
       "      <th>Deaths - cumulative total per 100000 population</th>\n",
       "      <th>Deaths - newly reported in last 7 days</th>\n",
       "      <th>Deaths - newly reported in last 7 days per 100000 population</th>\n",
       "      <th>Deaths - newly reported in last 24 hours</th>\n",
       "    </tr>\n",
       "  </thead>\n",
       "  <tbody>\n",
       "    <tr>\n",
       "      <th>0</th>\n",
       "      <td>Global</td>\n",
       "      <td>NaN</td>\n",
       "      <td>534495291</td>\n",
       "      <td>6857.303528</td>\n",
       "      <td>3485948</td>\n",
       "      <td>44.722945</td>\n",
       "      <td>571825</td>\n",
       "      <td>6311088</td>\n",
       "      <td>80.968059</td>\n",
       "      <td>8591</td>\n",
       "      <td>0.110218</td>\n",
       "      <td>1082</td>\n",
       "    </tr>\n",
       "    <tr>\n",
       "      <th>224</th>\n",
       "      <td>Other</td>\n",
       "      <td>Other</td>\n",
       "      <td>764</td>\n",
       "      <td>NaN</td>\n",
       "      <td>0</td>\n",
       "      <td>NaN</td>\n",
       "      <td>0</td>\n",
       "      <td>13</td>\n",
       "      <td>NaN</td>\n",
       "      <td>0</td>\n",
       "      <td>NaN</td>\n",
       "      <td>0</td>\n",
       "    </tr>\n",
       "  </tbody>\n",
       "</table>\n",
       "</div>"
      ],
      "text/plain": [
       "       Name WHO Region  Cases - cumulative total  \\\n",
       "0    Global        NaN                 534495291   \n",
       "224   Other      Other                       764   \n",
       "\n",
       "     Cases - cumulative total per 100000 population  \\\n",
       "0                                       6857.303528   \n",
       "224                                             NaN   \n",
       "\n",
       "     Cases - newly reported in last 7 days  \\\n",
       "0                                  3485948   \n",
       "224                                      0   \n",
       "\n",
       "     Cases - newly reported in last 7 days per 100000 population  \\\n",
       "0                                            44.722945             \n",
       "224                                                NaN             \n",
       "\n",
       "     Cases - newly reported in last 24 hours  Deaths - cumulative total  \\\n",
       "0                                     571825                    6311088   \n",
       "224                                        0                         13   \n",
       "\n",
       "     Deaths - cumulative total per 100000 population  \\\n",
       "0                                          80.968059   \n",
       "224                                              NaN   \n",
       "\n",
       "     Deaths - newly reported in last 7 days  \\\n",
       "0                                      8591   \n",
       "224                                       0   \n",
       "\n",
       "     Deaths - newly reported in last 7 days per 100000 population  \\\n",
       "0                                             0.110218              \n",
       "224                                                NaN              \n",
       "\n",
       "     Deaths - newly reported in last 24 hours  \n",
       "0                                        1082  \n",
       "224                                         0  "
      ]
     },
     "execution_count": 13,
     "metadata": {},
     "output_type": "execute_result"
    }
   ],
   "source": [
    "#Covid stats data set\n",
    "covid_stats[covid_stats.isna().any(axis=1)]"
   ]
  },
  {
   "cell_type": "markdown",
   "metadata": {},
   "source": [
    "### Dropping Row with 'Other' country name because it has too much missing data and does not tell me anything about specific country or region statistics. Also filling WHO region under Global with 'Global'"
   ]
  },
  {
   "cell_type": "code",
   "execution_count": 14,
   "metadata": {},
   "outputs": [],
   "source": [
    "#make a copy of dataset\n",
    "df_covidstats = covid_stats.copy()\n",
    "\n",
    "#Set index to 'Name'\n",
    "df_covidstats = df_covidstats.set_index(\"Name\")\n",
    "#df_covidstats.head()\n",
    "\n",
    "#Drop \"Other\"\n",
    "df_covidstats = df_covidstats.drop(\"Other\")\n",
    "\n",
    "\n",
    "#Fill Region \n",
    "df_covidstats = df_covidstats.fillna('Global')\n",
    "\n"
   ]
  },
  {
   "cell_type": "code",
   "execution_count": 15,
   "metadata": {},
   "outputs": [
    {
     "data": {
      "text/plain": [
       "WHO Region                                                      0\n",
       "Cases - cumulative total                                        0\n",
       "Cases - cumulative total per 100000 population                  0\n",
       "Cases - newly reported in last 7 days                           0\n",
       "Cases - newly reported in last 7 days per 100000 population     0\n",
       "Cases - newly reported in last 24 hours                         0\n",
       "Deaths - cumulative total                                       0\n",
       "Deaths - cumulative total per 100000 population                 0\n",
       "Deaths - newly reported in last 7 days                          0\n",
       "Deaths - newly reported in last 7 days per 100000 population    0\n",
       "Deaths - newly reported in last 24 hours                        0\n",
       "dtype: int64"
      ]
     },
     "execution_count": 15,
     "metadata": {},
     "output_type": "execute_result"
    }
   ],
   "source": [
    "df_covidstats.isnull().sum()\n",
    "#no more null values in dataset 2"
   ]
  },
  {
   "cell_type": "markdown",
   "metadata": {
    "azdata_cell_guid": "1233f543-e9a0-4f78-96f5-d7536554102e"
   },
   "source": [
    "## Irregular Data\n",
    "\n",
    "Detect outliers in your dataset and handle them as needed. Use code comments to make notes about your thought process."
   ]
  },
  {
   "cell_type": "markdown",
   "metadata": {},
   "source": [
    "#### To check for irregular data I will be looking at two columns in dataset 1:\n",
    "\n",
    "* TOTAL_VACCINATIONS_PER100 \n",
    "* PERSONS_FULLY_VACCINATED_PER100\n",
    "\n",
    "**For dataset 2, I will be looking at:** \n",
    "\n",
    "* Cases - cumulative total per 100000 population \n",
    "* Deaths - cumulative total per 100000 population    \n",
    "\n",
    "\n",
    "**By using the columns with rates, this provides a meaningful way to compare data across population groups of different sizes.**"
   ]
  },
  {
   "cell_type": "code",
   "execution_count": 16,
   "metadata": {},
   "outputs": [
    {
     "data": {
      "text/html": [
       "<div>\n",
       "<style scoped>\n",
       "    .dataframe tbody tr th:only-of-type {\n",
       "        vertical-align: middle;\n",
       "    }\n",
       "\n",
       "    .dataframe tbody tr th {\n",
       "        vertical-align: top;\n",
       "    }\n",
       "\n",
       "    .dataframe thead th {\n",
       "        text-align: right;\n",
       "    }\n",
       "</style>\n",
       "<table border=\"1\" class=\"dataframe\">\n",
       "  <thead>\n",
       "    <tr style=\"text-align: right;\">\n",
       "      <th></th>\n",
       "      <th>TOTAL_VACCINATIONS_PER100</th>\n",
       "      <th>PERSONS_FULLY_VACCINATED_PER100</th>\n",
       "    </tr>\n",
       "  </thead>\n",
       "  <tbody>\n",
       "    <tr>\n",
       "      <th>count</th>\n",
       "      <td>228.00000</td>\n",
       "      <td>227.000000</td>\n",
       "    </tr>\n",
       "    <tr>\n",
       "      <th>mean</th>\n",
       "      <td>135.09814</td>\n",
       "      <td>53.272366</td>\n",
       "    </tr>\n",
       "    <tr>\n",
       "      <th>std</th>\n",
       "      <td>77.47055</td>\n",
       "      <td>26.659387</td>\n",
       "    </tr>\n",
       "    <tr>\n",
       "      <th>min</th>\n",
       "      <td>0.13700</td>\n",
       "      <td>0.116000</td>\n",
       "    </tr>\n",
       "    <tr>\n",
       "      <th>25%</th>\n",
       "      <td>71.12500</td>\n",
       "      <td>31.972500</td>\n",
       "    </tr>\n",
       "    <tr>\n",
       "      <th>50%</th>\n",
       "      <td>138.39250</td>\n",
       "      <td>58.981000</td>\n",
       "    </tr>\n",
       "    <tr>\n",
       "      <th>75%</th>\n",
       "      <td>202.58600</td>\n",
       "      <td>74.913000</td>\n",
       "    </tr>\n",
       "    <tr>\n",
       "      <th>max</th>\n",
       "      <td>355.74800</td>\n",
       "      <td>122.944000</td>\n",
       "    </tr>\n",
       "  </tbody>\n",
       "</table>\n",
       "</div>"
      ],
      "text/plain": [
       "       TOTAL_VACCINATIONS_PER100  PERSONS_FULLY_VACCINATED_PER100\n",
       "count                  228.00000                       227.000000\n",
       "mean                   135.09814                        53.272366\n",
       "std                     77.47055                        26.659387\n",
       "min                      0.13700                         0.116000\n",
       "25%                     71.12500                        31.972500\n",
       "50%                    138.39250                        58.981000\n",
       "75%                    202.58600                        74.913000\n",
       "max                    355.74800                       122.944000"
      ]
     },
     "execution_count": 16,
     "metadata": {},
     "output_type": "execute_result"
    }
   ],
   "source": [
    "#df_vacc.kurt(numeric_only=True)\n",
    "df_vacc.describe()[['TOTAL_VACCINATIONS_PER100', 'PERSONS_FULLY_VACCINATED_PER100']]"
   ]
  },
  {
   "cell_type": "code",
   "execution_count": 17,
   "metadata": {},
   "outputs": [],
   "source": [
    "#Reset index\n",
    "\n",
    "df_vacc=df_vacc.reset_index()\n",
    "\n",
    "df_covidstats=df_covidstats.reset_index()\n",
    "\n",
    "\n",
    "#df_vacc.head()"
   ]
  },
  {
   "cell_type": "code",
   "execution_count": 32,
   "metadata": {},
   "outputs": [
    {
     "name": "stdout",
     "output_type": "stream",
     "text": [
      "<class 'pandas.core.frame.DataFrame'>\n",
      "RangeIndex: 228 entries, 0 to 227\n",
      "Data columns (total 12 columns):\n",
      " #   Column                                Non-Null Count  Dtype  \n",
      "---  ------                                --------------  -----  \n",
      " 0   COUNTRY                               228 non-null    object \n",
      " 1   ISO3                                  228 non-null    object \n",
      " 2   WHO_REGION                            228 non-null    object \n",
      " 3   DATE_UPDATED                          228 non-null    object \n",
      " 4   TOTAL_VACCINATIONS                    228 non-null    int64  \n",
      " 5   PERSONS_VACCINATED_1PLUS_DOSE         227 non-null    float64\n",
      " 6   TOTAL_VACCINATIONS_PER100             228 non-null    float64\n",
      " 7   PERSONS_VACCINATED_1PLUS_DOSE_PER100  227 non-null    float64\n",
      " 8   PERSONS_FULLY_VACCINATED              227 non-null    float64\n",
      " 9   PERSONS_FULLY_VACCINATED_PER100       227 non-null    float64\n",
      " 10  VACCINES_USED                         228 non-null    object \n",
      " 11  NUMBER_VACCINES_TYPES_USED            225 non-null    float64\n",
      "dtypes: float64(6), int64(1), object(5)\n",
      "memory usage: 21.5+ KB\n"
     ]
    }
   ],
   "source": [
    "#Using .info to find column index number to customize data\n",
    "df_vacc.info()"
   ]
  },
  {
   "cell_type": "markdown",
   "metadata": {},
   "source": [
    "#### <font color= red> NB The following plots were made with plotly express. They are interactive and display data when hovering over the data points. This does not seem to show on github, so static images are included after each plot and png files of the plots can be found in the folder \"Violin Plots\"</font>.\n"
   ]
  },
  {
   "cell_type": "code",
   "execution_count": 33,
   "metadata": {},
   "outputs": [
    {
     "data": {
      "application/vnd.plotly.v1+json": {
       "config": {
        "plotlyServerURL": "https://plot.ly"
       },
       "data": [
        {
         "alignmentgroup": "True",
         "box": {
          "visible": true
         },
         "customdata": [
          [
           "Afghanistan",
           "AFG",
           "EMRO",
           "01/06/2022",
           6171652,
           5456919,
           15.854,
           14.018,
           4807917,
           12.351,
           "AstraZeneca - Vaxzevria,Beijing CNBG - BBIBP-CorV,Bharat - Covaxin,CanSino - Convidecia,Gamaleya - Gam-Covid-Vac,Gamaleya - Sputnik-Light,Janssen - Ad26.COV 2-S,Moderna - Spikevax,Pfizer BioNTech - Comirnaty,SII - Covishield,Sinovac - CoronaVac",
           11
          ],
          [
           "Albania",
           "ALB",
           "EURO",
           "29/05/2022",
           2873654,
           1320244,
           99.9,
           46.39,
           1241712,
           43.631,
           "AstraZeneca - Vaxzevria,Gamaleya - Gam-Covid-Vac,Pfizer BioNTech - Comirnaty,SII - Covishield,Sinovac - CoronaVac",
           5
          ],
          [
           "Algeria",
           "DZA",
           "AFRO",
           "05/06/2022",
           15205854,
           7840131,
           34.676,
           17.879,
           6481186,
           14.78,
           "Beijing CNBG - BBIBP-CorV,Gamaleya - Gam-Covid-Vac,SII - Covishield,Sinovac - CoronaVac",
           4
          ],
          [
           "American Samoa",
           "ASM",
           "WPRO",
           "05/06/2022",
           108220,
           44456,
           196.061,
           80.541,
           40945,
           74.18,
           "Janssen - Ad26.COV 2-S,Moderna - Spikevax,Pfizer BioNTech - Comirnaty",
           3
          ],
          [
           "Andorra",
           "AND",
           "EURO",
           "29/05/2022",
           153072,
           57880,
           198.1,
           75.981,
           53450,
           70.166,
           "AstraZeneca - Vaxzevria,Moderna - Spikevax,Pfizer BioNTech - Comirnaty",
           3
          ],
          [
           "Angola",
           "AGO",
           "AFRO",
           "05/06/2022",
           19486927,
           12700926,
           59.292,
           38.644,
           6811268,
           20.724,
           "SII - Covishield",
           1
          ],
          [
           "Anguilla",
           "AIA",
           "AMRO",
           "03/06/2022",
           23601,
           10746,
           157.319,
           71.63,
           10054,
           67.018,
           "AstraZeneca - Vaxzevria,Pfizer BioNTech - Comirnaty",
           2
          ],
          [
           "Antigua and Barbuda",
           "ATG",
           "AMRO",
           "03/06/2022",
           135715,
           63995,
           138.585,
           65.348,
           61882,
           63.191,
           "AstraZeneca - Vaxzevria,Beijing CNBG - BBIBP-CorV,Gamaleya - Gam-Covid-Vac,Janssen - Ad26.COV 2-S,Pfizer BioNTech - Comirnaty,SII - Covishield",
           6
          ],
          [
           "Argentina",
           "ARG",
           "AMRO",
           "03/06/2022",
           102986910,
           41110433,
           227.868,
           90.961,
           37483237,
           82.935,
           "AstraZeneca - Vaxzevria,Beijing CNBG - BBIBP-CorV,CanSino - Convidecia,Gamaleya - Gam-Covid-Vac,Moderna - Spikevax,Pfizer BioNTech - Comirnaty,SII - Covishield",
           7
          ],
          [
           "Armenia",
           "ARM",
           "EURO",
           "22/05/2022",
           2150112,
           1129669,
           72.6,
           38.123,
           985807,
           33.268,
           "AstraZeneca - Vaxzevria,Beijing CNBG - BBIBP-CorV,Gamaleya - Gam-Covid-Vac,Gamaleya - Sputnik-Light,Moderna - Spikevax,Pfizer BioNTech - Comirnaty,Sinovac - CoronaVac,Wuhan CNBG - Inactivated",
           8
          ],
          [
           "Aruba",
           "ABW",
           "AMRO",
           "03/06/2022",
           171243,
           88853,
           160.391,
           83.222,
           82390,
           77.169,
           "Janssen - Ad26.COV 2-S,Pfizer BioNTech - Comirnaty",
           2
          ],
          [
           "Australia",
           "AUS",
           "WPRO",
           "05/06/2022",
           59172637,
           22318568,
           232.051,
           87.524,
           21612293,
           84.754,
           "AstraZeneca - Vaxzevria,Janssen - Ad26.COV 2-S,Moderna - Spikevax,Novavax-NUVAXOVID,Pfizer BioNTech - Comirnaty",
           5
          ],
          [
           "Austria",
           "AUT",
           "EURO",
           "29/05/2022",
           18360721,
           6828403,
           206.3,
           76.714,
           6618435,
           74.356,
           "AstraZeneca - Vaxzevria,Janssen - Ad26.COV 2-S,Moderna - Spikevax,Novavax-NUVAXOVID,Pfizer BioNTech - Comirnaty,Unknown Vaccine",
           6
          ],
          [
           "Azerbaijan",
           "AZE",
           "EURO",
           "29/05/2022",
           13594097,
           5372656,
           134.1,
           52.989,
           4853656,
           47.87,
           "AstraZeneca - Vaxzevria,Gamaleya - Gam-Covid-Vac,Gamaleya - Sputnik-Light,Pfizer BioNTech - Comirnaty,Sinovac - CoronaVac",
           5
          ],
          [
           "Bahamas",
           "BHS",
           "AMRO",
           "03/06/2022",
           340866,
           166471,
           86.681,
           42.333,
           157964,
           40.169,
           "AstraZeneca - Vaxzevria,Janssen - Ad26.COV 2-S,Pfizer BioNTech - Comirnaty,SII - Covishield",
           4
          ],
          [
           "Bahrain",
           "BHR",
           "EMRO",
           "01/06/2022",
           3444799,
           1236895,
           202.448,
           72.691,
           1220655,
           71.737,
           "AstraZeneca - Vaxzevria,Beijing CNBG - BBIBP-CorV,Bharat - Covaxin,CanSino - Convidecia,Gamaleya - Gam-Covid-Vac,Gamaleya - Sputnik-Light,Janssen - Ad26.COV 2-S,Moderna - Spikevax,Pfizer BioNTech - Comirnaty,SII - Covishield,Sinovac - CoronaVac",
           11
          ],
          [
           "Bangladesh",
           "BGD",
           "SEARO",
           "07/06/2022",
           269401356,
           129092630,
           163.581,
           78.386,
           118088249,
           71.704,
           "AstraZeneca - Vaxzevria,Beijing CNBG - BBIBP-CorV,Gamaleya - Gam-Covid-Vac,Janssen - Ad26.COV 2-S,Moderna - Spikevax,Pfizer BioNTech - Comirnaty,SII - Covishield,Sinovac - CoronaVac",
           8
          ],
          [
           "Barbados",
           "BRB",
           "AMRO",
           "03/06/2022",
           363262,
           162385,
           126.407,
           56.506,
           152808,
           53.174,
           "AstraZeneca - Vaxzevria,Beijing CNBG - BBIBP-CorV,Janssen - Ad26.COV 2-S,Pfizer BioNTech - Comirnaty,SII - Covishield",
           5
          ],
          [
           "Belarus",
           "BLR",
           "EURO",
           "29/05/2022",
           13054679,
           6388371,
           138.2,
           67.607,
           6237709,
           66.012,
           "Beijing CNBG - BBIBP-CorV,Chumakov - Covi-Vac,Gamaleya - Gam-Covid-Vac,Gamaleya - Sputnik-Light",
           4
          ],
          [
           "Belgium",
           "BEL",
           "EURO",
           "29/05/2022",
           25357830,
           9234117,
           220.1,
           80.14,
           9136723,
           79.295,
           "AstraZeneca - Vaxzevria,Janssen - Ad26.COV 2-S,Moderna - Spikevax,Pfizer BioNTech - Comirnaty",
           4
          ],
          [
           "Belize",
           "BLZ",
           "AMRO",
           "03/06/2022",
           478096,
           237860,
           120.237,
           59.82,
           212057,
           53.33,
           "AstraZeneca - Vaxzevria,Beijing CNBG - BBIBP-CorV,Janssen - Ad26.COV 2-S,Pfizer BioNTech - Comirnaty,SII - Covishield",
           5
          ],
          [
           "Benin",
           "BEN",
           "AFRO",
           "05/06/2022",
           4156907,
           3638324,
           34.289,
           30.011,
           2690085,
           22.19,
           "AstraZeneca - Vaxzevria,Janssen - Ad26.COV 2-S,Pfizer BioNTech - Comirnaty,SII - Covishield,Sinovac - CoronaVac",
           5
          ],
          [
           "Bermuda",
           "BMU",
           "AMRO",
           "03/06/2022",
           131612,
           48554,
           211.347,
           77.97,
           47657,
           76.529,
           "AstraZeneca - Vaxzevria,Pfizer BioNTech - Comirnaty",
           2
          ],
          [
           "Bhutan",
           "BTN",
           "SEARO",
           "05/06/2022",
           1909762,
           692874,
           247.504,
           89.796,
           672508,
           87.157,
           "AstraZeneca - Vaxzevria,Beijing CNBG - BBIBP-CorV,Moderna - Spikevax,Pfizer BioNTech - Comirnaty,SII - Covishield",
           5
          ],
          [
           "Bolivia (Plurinational State of)",
           "BOL",
           "AMRO",
           "03/06/2022",
           13939699,
           7213127,
           119.418,
           61.793,
           5980603,
           51.234,
           "Beijing CNBG - BBIBP-CorV,Gamaleya - Gam-Covid-Vac,Janssen - Ad26.COV 2-S,Moderna - Spikevax,Pfizer BioNTech - Comirnaty,SII - Covishield",
           6
          ],
          [
           "Bonaire",
           "XAA",
           "AMRO",
           "03/06/2022",
           41250,
           17523,
           197.227,
           83.782,
           15841,
           75.74,
           "Unreported",
           null
          ],
          [
           "Bonaire, Sint Eustatius and Saba",
           "BES",
           "AMRO",
           "09/04/2021",
           7391,
           5726,
           28.441,
           22.034,
           2965,
           11.41,
           "Moderna - Spikevax,Pfizer BioNTech - Comirnaty",
           2
          ],
          [
           "Bosnia and Herzegovina",
           "BIH",
           "EURO",
           "29/01/2022",
           1924950,
           943394,
           58.7,
           28.755,
           846080,
           25.789,
           "AstraZeneca - AZD1222, Pfizer BioNTech - Comirnaty, Sinovac - CoronaVac, Gamaleya - Sputnik V",
           4
          ],
          [
           "Botswana",
           "BWA",
           "AFRO",
           "05/06/2022",
           2727844,
           1695294,
           115.998,
           72.09,
           1510940,
           64.251,
           "Bharat - Covaxin,Janssen - Ad26.COV 2-S,Moderna - Spikevax,Pfizer BioNTech - Comirnaty,SII - Covishield,Sinovac - CoronaVac",
           6
          ],
          [
           "Brazil",
           "BRA",
           "AMRO",
           "03/06/2022",
           433872497,
           181071481,
           204.118,
           85.186,
           163459745,
           76.901,
           "AstraZeneca - Vaxzevria,Janssen - Ad26.COV 2-S,Pfizer BioNTech - Comirnaty,SII - Covishield,Sinovac - CoronaVac",
           5
          ],
          [
           "British Virgin Islands",
           "VGB",
           "AMRO",
           "03/06/2022",
           41104,
           19348,
           135.939,
           63.988,
           18030,
           59.629,
           "AstraZeneca - Vaxzevria,Janssen - Ad26.COV 2-S",
           2
          ],
          [
           "Brunei Darussalam",
           "BRN",
           "WPRO",
           "05/06/2022",
           1173118,
           444293,
           268.154,
           101.558,
           426764,
           97.551,
           "AstraZeneca - Vaxzevria,Beijing CNBG - BBIBP-CorV,Janssen - Ad26.COV 2-S,Moderna - Spikevax,Pfizer BioNTech - Comirnaty",
           5
          ],
          [
           "Bulgaria",
           "BGR",
           "EURO",
           "29/05/2022",
           4398844,
           2090328,
           63.3,
           30.07,
           2061151,
           29.651,
           "AstraZeneca - Vaxzevria,Janssen - Ad26.COV 2-S,Moderna - Spikevax,Pfizer BioNTech - Comirnaty",
           4
          ],
          [
           "Burkina Faso",
           "BFA",
           "AFRO",
           "05/06/2022",
           2947562,
           2449746,
           14.101,
           11.719,
           1555077,
           7.439,
           "Beijing CNBG - BBIBP-CorV,Janssen - Ad26.COV 2-S,SII - Covishield",
           3
          ],
          [
           "Burundi",
           "BDI",
           "AFRO",
           "05/06/2022",
           16232,
           14388,
           0.137,
           0.121,
           13811,
           0.116,
           "Beijing CNBG - BBIBP-CorV",
           1
          ],
          [
           "Cabo Verde",
           "CPV",
           "AFRO",
           "05/06/2022",
           762486,
           355232,
           137.141,
           63.892,
           307398,
           55.289,
           "Beijing CNBG - BBIBP-CorV,Moderna - Spikevax,Pfizer BioNTech - Comirnaty,SII - Covishield",
           4
          ],
          [
           "Cambodia",
           "KHM",
           "WPRO",
           "05/06/2022",
           40160051,
           15045995,
           240.207,
           89.994,
           14328268,
           85.701,
           "AstraZeneca - Vaxzevria,Beijing CNBG - BBIBP-CorV,Janssen - Ad26.COV 2-S,Moderna - Spikevax,Pfizer BioNTech - Comirnaty,SII - Covishield,Sinovac - CoronaVac",
           7
          ],
          [
           "Cameroon",
           "CMR",
           "AFRO",
           "05/06/2022",
           1837626,
           1558744,
           6.922,
           5.872,
           1215532,
           4.579,
           "Beijing CNBG - BBIBP-CorV,Janssen - Ad26.COV 2-S,Pfizer BioNTech - Comirnaty,SII - Covishield",
           4
          ],
          [
           "Canada",
           "CAN",
           "AMRO",
           "03/06/2022",
           84847129,
           32562746,
           224.807,
           86.277,
           31250512,
           82.8,
           "AstraZeneca - Vaxzevria,Janssen - Ad26.COV 2-S,Moderna - Spikevax,Pfizer BioNTech - Comirnaty,SII - Covishield",
           5
          ],
          [
           "Cayman Islands",
           "CYM",
           "AMRO",
           "03/06/2022",
           144978,
           61119,
           220.6,
           92.999,
           59292,
           90.219,
           "Pfizer BioNTech - Comirnaty",
           1
          ],
          [
           "Central African Republic",
           "CAF",
           "AFRO",
           "05/06/2022",
           1193681,
           1101130,
           24.715,
           22.799,
           1044746,
           21.631,
           "Bharat - Covaxin,SII - Covishield",
           2
          ],
          [
           "Chad",
           "TCD",
           "AFRO",
           "05/06/2022",
           2355126,
           2216437,
           14.338,
           13.494,
           2091466,
           12.733,
           "Beijing CNBG - BBIBP-CorV",
           1
          ],
          [
           "Chile",
           "CHL",
           "AMRO",
           "03/06/2022",
           56897016,
           17965569,
           297.638,
           93.981,
           17528387,
           91.694,
           "AstraZeneca - Vaxzevria,CanSino - Convidecia,Moderna - Spikevax,Pfizer BioNTech - Comirnaty,Sinovac - CoronaVac",
           5
          ],
          [
           "China",
           "CHN",
           "WPRO",
           "05/06/2022",
           3397315599,
           1297285455,
           230.908,
           88.174,
           1266874166,
           86.107,
           "Anhui ZL - Zifivax,Beijing CNBG - BBIBP-CorV,CanSino - Convidecia,IMB - Covidful,Pfizer BioNTech - Comirnaty,Shenzhen - LV-SMENP-DC,Sinovac - CoronaVac,Wuhan CNBG - Inactivated",
           8
          ],
          [
           "Colombia",
           "COL",
           "AMRO",
           "03/06/2022",
           84486714,
           42292969,
           166.041,
           83.118,
           35958948,
           70.67,
           "AstraZeneca - Vaxzevria,Janssen - Ad26.COV 2-S,Moderna - Spikevax,Pfizer BioNTech - Comirnaty,Sinovac - CoronaVac",
           5
          ],
          [
           "Comoros",
           "COM",
           "AFRO",
           "05/06/2022",
           642520,
           341302,
           73.887,
           39.248,
           301218,
           34.639,
           "Beijing CNBG - BBIBP-CorV,Bharat - Covaxin,SII - Covishield",
           3
          ],
          [
           "Congo",
           "COG",
           "AFRO",
           "05/06/2022",
           831318,
           693902,
           15.065,
           12.575,
           652422,
           11.823,
           "Beijing CNBG - BBIBP-CorV,Gamaleya - Gam-Covid-Vac,Moderna - Spikevax,SII - Covishield",
           4
          ],
          [
           "Cook Islands",
           "COK",
           "WPRO",
           "05/06/2022",
           39667,
           15013,
           225.843,
           85.476,
           14679,
           83.574,
           "Pfizer BioNTech - Comirnaty",
           1
          ],
          [
           "Costa Rica",
           "CRI",
           "AMRO",
           "03/06/2022",
           11017624,
           4437629,
           216.281,
           87.113,
           4143017,
           81.329,
           "AstraZeneca - Vaxzevria,Moderna - Spikevax,Pfizer BioNTech - Comirnaty",
           3
          ],
          [
           "Côte d’Ivoire",
           "CIV",
           "AFRO",
           "05/06/2022",
           12753769,
           8026397,
           48.35,
           30.428,
           5540193,
           21.003,
           "Beijing CNBG - BBIBP-CorV,Gamaleya - Gam-Covid-Vac,Janssen - Ad26.COV 2-S,Pfizer BioNTech - Comirnaty,SII - Covishield",
           5
          ],
          [
           "Croatia",
           "HRV",
           "EURO",
           "29/05/2022",
           5253369,
           2313092,
           129.5,
           57.032,
           2239483,
           55.185,
           "AstraZeneca - Vaxzevria,Janssen - Ad26.COV 2-S,Moderna - Spikevax,Novavax-NUVAXOVID,Pfizer BioNTech - Comirnaty,Unknown Vaccine",
           6
          ],
          [
           "Cuba",
           "CUB",
           "AMRO",
           "03/06/2022",
           36461068,
           10670978,
           321.906,
           94.212,
           9965164,
           87.98,
           "CIGB - CIGB-66,Finlay - Soberana Plus,Finlay - Soberana-02",
           3
          ],
          [
           "Curaçao",
           "CUW",
           "AMRO",
           "03/06/2022",
           253246,
           108161,
           154.331,
           65.914,
           99402,
           60.577,
           "AstraZeneca - Vaxzevria,Moderna - Spikevax,Pfizer BioNTech - Comirnaty",
           3
          ],
          [
           "Cyprus",
           "CYP",
           "EURO",
           "29/05/2022",
           1785214,
           663886,
           201,
           74.762,
           659912,
           74.314,
           "AstraZeneca - Vaxzevria,Janssen - Ad26.COV 2-S,Moderna - Spikevax,Novavax-NUVAXOVID,Pfizer BioNTech - Comirnaty",
           5
          ],
          [
           "Czechia",
           "CZE",
           "EURO",
           "29/05/2022",
           17620044,
           6956360,
           164.8,
           65.05,
           6868349,
           64.227,
           "AstraZeneca - Vaxzevria,Janssen - Ad26.COV 2-S,Moderna - Spikevax,Novavax-NUVAXOVID,Pfizer BioNTech - Comirnaty",
           5
          ],
          [
           "Democratic Republic of the Congo",
           "COD",
           "AFRO",
           "05/06/2022",
           2952125,
           2416650,
           3.296,
           2.698,
           1710177,
           1.91,
           "SII - Covishield",
           1
          ],
          [
           "Denmark",
           "DNK",
           "EURO",
           "22/05/2022",
           13204905,
           4831421,
           226.8,
           82.975,
           4783959,
           82.16,
           "AstraZeneca - Vaxzevria,Janssen - Ad26.COV 2-S,Moderna - Spikevax,Pfizer BioNTech - Comirnaty,Unknown Vaccine",
           5
          ],
          [
           "Djibouti",
           "DJI",
           "EMRO",
           "05/06/2022",
           311823,
           175939,
           31.561,
           17.808,
           135884,
           13.753,
           "AstraZeneca - Vaxzevria,Beijing CNBG - BBIBP-CorV,Bharat - Covaxin,CanSino - Convidecia,Gamaleya - Gam-Covid-Vac,Gamaleya - Sputnik-Light,Janssen - Ad26.COV 2-S,Moderna - Spikevax,Pfizer BioNTech - Comirnaty,SII - Covishield,Sinovac - CoronaVac",
           11
          ],
          [
           "Dominica",
           "DMA",
           "AMRO",
           "03/06/2022",
           66733,
           32759,
           92.696,
           45.504,
           30328,
           42.127,
           "AstraZeneca - Vaxzevria,Beijing CNBG - BBIBP-CorV,Pfizer BioNTech - Comirnaty,SII - Covishield",
           4
          ],
          [
           "Dominican Republic",
           "DOM",
           "AMRO",
           "03/06/2022",
           15555792,
           7222205,
           143.399,
           66.577,
           5982874,
           55.152,
           "AstraZeneca - Vaxzevria,SII - Covishield,Sinovac - CoronaVac",
           3
          ],
          [
           "Ecuador",
           "ECU",
           "AMRO",
           "03/06/2022",
           35268627,
           15167715,
           199.901,
           85.97,
           13978527,
           79.23,
           "AstraZeneca - Vaxzevria,CanSino - Convidecia,Pfizer BioNTech - Comirnaty,Sinovac - CoronaVac",
           4
          ],
          [
           "Egypt",
           "EGY",
           "EMRO",
           "05/06/2022",
           86132442,
           47851408,
           84.168,
           46.76,
           35333851,
           34.528,
           "AstraZeneca - Vaxzevria,Beijing CNBG - BBIBP-CorV,Bharat - Covaxin,CanSino - Convidecia,Gamaleya - Gam-Covid-Vac,Gamaleya - Sputnik-Light,Janssen - Ad26.COV 2-S,Moderna - Spikevax,Pfizer BioNTech - Comirnaty,Sinovac - CoronaVac",
           10
          ],
          [
           "El Salvador",
           "SLV",
           "AMRO",
           "03/06/2022",
           10785039,
           4588952,
           166.277,
           70.749,
           4296101,
           66.234,
           "AstraZeneca - Vaxzevria,Beijing CNBG - BBIBP-CorV,Moderna - Spikevax,Pfizer BioNTech - Comirnaty,SII - Covishield,Sinovac - CoronaVac",
           6
          ],
          [
           "Equatorial Guinea",
           "GNQ",
           "AFRO",
           "05/06/2022",
           479991,
           265505,
           34.212,
           18.924,
           206762,
           14.737,
           "Beijing CNBG - BBIBP-CorV,Sinovac - CoronaVac",
           2
          ],
          [
           "Estonia",
           "EST",
           "EURO",
           "29/05/2022",
           2073453,
           841601,
           156,
           63.327,
           837237,
           62.999,
           "AstraZeneca - Vaxzevria,Janssen - Ad26.COV 2-S,Moderna - Spikevax,Novavax-NUVAXOVID,Pfizer BioNTech - Comirnaty",
           5
          ],
          [
           "Eswatini",
           "SWZ",
           "AFRO",
           "05/06/2022",
           535393,
           387468,
           46.148,
           33.398,
           336066,
           28.967,
           "Janssen - Ad26.COV 2-S,Pfizer BioNTech - Comirnaty,SII - Covishield",
           3
          ],
          [
           "Ethiopia",
           "ETH",
           "AFRO",
           "05/06/2022",
           29419678,
           24770491,
           25.59,
           21.546,
           21292024,
           18.521,
           "Beijing CNBG - BBIBP-CorV,Bharat - Covaxin,Janssen - Ad26.COV 2-S,SII - Covishield",
           4
          ],
          [
           "Falkland Islands (Malvinas)",
           "FLK",
           "AMRO",
           "14/04/2021",
           4407,
           2632,
           126.529,
           75.567,
           1775,
           50.962,
           "AstraZeneca - AZD1222",
           1
          ],
          [
           "Faroe Islands",
           "FRO",
           "EURO",
           "18/02/2022",
           103894,
           41715,
           212.614,
           85.368,
           40895,
           83.69,
           "Moderna - mRNA-1273, Pfizer BioNTech - Comirnaty",
           2
          ],
          [
           "Fiji",
           "FJI",
           "WPRO",
           "05/06/2022",
           1469702,
           705891,
           163.948,
           78.743,
           634301,
           70.757,
           "AstraZeneca - Vaxzevria,Moderna - Spikevax,SII - Covishield",
           3
          ],
          [
           "Finland",
           "FIN",
           "EURO",
           "29/05/2022",
           11833552,
           4531577,
           214.2,
           82.015,
           4340329,
           78.554,
           "AstraZeneca - Vaxzevria,Janssen - Ad26.COV 2-S,Moderna - Spikevax,Pfizer BioNTech - Comirnaty,Unknown Vaccine",
           5
          ],
          [
           "France",
           "FRA",
           "EURO",
           "29/05/2022",
           148063245,
           54398084,
           219.9,
           80.805,
           52812105,
           78.449,
           "AstraZeneca - Vaxzevria,Janssen - Ad26.COV 2-S,Moderna - Spikevax,Novavax-NUVAXOVID,Pfizer BioNTech - Comirnaty,Unknown Vaccine",
           6
          ],
          [
           "French Guiana",
           "GUF",
           "AMRO",
           "03/06/2022",
           231220,
           98390,
           77.413,
           32.941,
           89111,
           29.835,
           "Moderna - Spikevax,Pfizer BioNTech - Comirnaty",
           2
          ],
          [
           "French Polynesia",
           "PYF",
           "WPRO",
           "05/06/2022",
           344607,
           186597,
           122.676,
           66.426,
           183548,
           65.341,
           "Janssen - Ad26.COV 2-S,Pfizer BioNTech - Comirnaty",
           2
          ],
          [
           "Gabon",
           "GAB",
           "AFRO",
           "05/06/2022",
           566886,
           308489,
           25.47,
           13.86,
           256088,
           11.506,
           "Beijing CNBG - BBIBP-CorV,Gamaleya - Gam-Covid-Vac,Pfizer BioNTech - Comirnaty",
           3
          ],
          [
           "Gambia",
           "GMB",
           "AFRO",
           "05/06/2022",
           720000,
           449464,
           29.793,
           18.599,
           354340,
           14.662,
           "Beijing CNBG - BBIBP-CorV,SII - Covishield",
           2
          ],
          [
           "Georgia",
           "GEO",
           "EURO",
           "22/05/2022",
           2685459,
           1281508,
           67.3,
           32.125,
           1166039,
           29.23,
           "AstraZeneca - Vaxzevria,Beijing CNBG - BBIBP-CorV,Pfizer BioNTech - Comirnaty,Sinovac - CoronaVac",
           4
          ],
          [
           "Germany",
           "DEU",
           "EURO",
           "29/05/2022",
           179952194,
           64542796,
           216.4,
           77.607,
           64501003,
           77.556,
           "AstraZeneca - Vaxzevria,Janssen - Ad26.COV 2-S,Moderna - Spikevax,Novavax-NUVAXOVID,Pfizer BioNTech - Comirnaty,Unknown Vaccine",
           6
          ],
          [
           "Ghana",
           "GHA",
           "AFRO",
           "05/06/2022",
           16203630,
           9786631,
           52.147,
           31.496,
           6410470,
           20.63,
           "Gamaleya - Gam-Covid-Vac,SII - Covishield",
           2
          ],
          [
           "Gibraltar",
           "GIB",
           "EURO",
           "21/04/2022",
           119855,
           42074,
           355.748,
           124.882,
           41421,
           122.944,
           "AstraZeneca - AZD1222, Pfizer BioNTech - Comirnaty",
           2
          ],
          [
           "Greece",
           "GRC",
           "EURO",
           "29/05/2022",
           21094849,
           7897973,
           196.8,
           73.685,
           7713777,
           71.967,
           "AstraZeneca - Vaxzevria,Janssen - Ad26.COV 2-S,Moderna - Spikevax,Novavax-NUVAXOVID,Pfizer BioNTech - Comirnaty",
           5
          ],
          [
           "Greenland",
           "GRL",
           "EURO",
           "07/03/2022",
           79745,
           41243,
           140.465,
           72.647,
           38502,
           67.819,
           "Moderna - mRNA-1273",
           1
          ],
          [
           "Grenada",
           "GRD",
           "AMRO",
           "03/06/2022",
           88728,
           43650,
           78.853,
           38.792,
           38410,
           34.135,
           "AstraZeneca - Vaxzevria,Janssen - Ad26.COV 2-S,Pfizer BioNTech - Comirnaty,SII - Covishield",
           4
          ],
          [
           "Guadeloupe",
           "GLP",
           "AMRO",
           "03/06/2022",
           377846,
           148990,
           94.432,
           37.236,
           143076,
           35.758,
           "AstraZeneca - Vaxzevria,Janssen - Ad26.COV 2-S,Moderna - Spikevax,Pfizer BioNTech - Comirnaty",
           6
          ],
          [
           "Guam",
           "GUM",
           "WPRO",
           "05/06/2022",
           349073,
           154519,
           206.827,
           91.553,
           140525,
           83.262,
           "Janssen - Ad26.COV 2-S,Moderna - Spikevax,Pfizer BioNTech - Comirnaty",
           3
          ],
          [
           "Guatemala",
           "GTM",
           "AMRO",
           "03/06/2022",
           17558698,
           8249568,
           98.008,
           46.047,
           6254215,
           34.909,
           "AstraZeneca - Vaxzevria,Gamaleya - Gam-Covid-Vac,Moderna - Spikevax,Pfizer BioNTech - Comirnaty,SII - Covishield",
           5
          ],
          [
           "Guernsey",
           "GGY",
           "EURO",
           "01/06/2022",
           156415,
           null,
           242.624,
           null,
           null,
           null,
           "Moderna - mRNA-1273, AstraZeneca - AZD1222, Pfizer BioNTech - Comirnaty",
           3
          ],
          [
           "Guinea",
           "GIN",
           "AFRO",
           "05/06/2022",
           6127699,
           4477740,
           46.66,
           34.096,
           2511039,
           19.12,
           "Beijing CNBG - BBIBP-CorV,Gamaleya - Gam-Covid-Vac,Janssen - Ad26.COV 2-S,Pfizer BioNTech - Comirnaty,SII - Covishield,Sinovac - CoronaVac",
           6
          ],
          [
           "Guinea-Bissau",
           "GNB",
           "AFRO",
           "05/06/2022",
           562717,
           529346,
           28.593,
           26.898,
           341781,
           17.367,
           "Beijing CNBG - BBIBP-CorV,SII - Covishield",
           2
          ],
          [
           "Guyana",
           "GUY",
           "AMRO",
           "03/06/2022",
           909924,
           476991,
           115.685,
           60.643,
           367326,
           46.701,
           "AstraZeneca - Vaxzevria,Beijing CNBG - BBIBP-CorV,Gamaleya - Gam-Covid-Vac,Janssen - Ad26.COV 2-S,Moderna - Spikevax,Pfizer BioNTech - Comirnaty,SII - Covishield",
           7
          ],
          [
           "Haiti",
           "HTI",
           "AMRO",
           "03/06/2022",
           285651,
           188584,
           2.505,
           1.654,
           132177,
           1.159,
           "Janssen - Ad26.COV 2-S,Moderna - Spikevax",
           2
          ],
          [
           "Honduras",
           "HND",
           "AMRO",
           "03/06/2022",
           14065533,
           6210907,
           142.01,
           62.707,
           5307723,
           53.588,
           "AstraZeneca - Vaxzevria,Gamaleya - Gam-Covid-Vac,Janssen - Ad26.COV 2-S,Moderna - Spikevax,Pfizer BioNTech - Comirnaty,SII - Covishield",
           6
          ],
          [
           "Hungary",
           "HUN",
           "EURO",
           "29/05/2022",
           16398692,
           6346095,
           167.9,
           64.958,
           6139822,
           62.847,
           "AstraZeneca - Vaxzevria,Beijing CNBG - BBIBP-CorV,Gamaleya - Gam-Covid-Vac,Janssen - Ad26.COV 2-S,Moderna - Spikevax,Pfizer BioNTech - Comirnaty,Sinovac - CoronaVac",
           7
          ],
          [
           "Iceland",
           "ISL",
           "EURO",
           "29/05/2022",
           803561,
           306483,
           220.7,
           84.168,
           296820,
           81.514,
           "AstraZeneca - Vaxzevria,Janssen - Ad26.COV 2-S,Moderna - Spikevax,Pfizer BioNTech - Comirnaty",
           4
          ],
          [
           "India",
           "IND",
           "SEARO",
           "07/06/2022",
           1962351204,
           1011009637,
           142.199,
           73.261,
           895821508,
           64.914,
           "Bharat - Covaxin,Biological E - Corbevax,Gamaleya - Gam-Covid-Vac,Janssen - Ad26.COV 2-S,Moderna - Spikevax,SII - Covishield,SII - Covovax,Zydus - ZyCov-D",
           8
          ],
          [
           "Indonesia",
           "IDN",
           "SEARO",
           "07/06/2022",
           415385585,
           200652038,
           151.865,
           73.358,
           167822664,
           61.356,
           "AstraZeneca - Vaxzevria,Beijing CNBG - BBIBP-CorV,Janssen - Ad26.COV 2-S,Moderna - Spikevax,Novavax-NUVAXOVID,Pfizer BioNTech - Comirnaty,Sinovac - CoronaVac",
           7
          ],
          [
           "Iran (Islamic Republic of)",
           "IRN",
           "EMRO",
           "29/05/2022",
           149357848,
           64501988,
           177.822,
           76.795,
           57809578,
           68.827,
           "AstraZeneca - Vaxzevria,Beijing CNBG - BBIBP-CorV,Bharat - Covaxin,CanSino - Convidecia,Finlay - Soberana-02,Gamaleya - Gam-Covid-Vac,Gamaleya - Sputnik-Light,Janssen - Ad26.COV 2-S,Moderna - Spikevax,Pfizer BioNTech - Comirnaty,Shifa - COVIran Barakat,Sinovac - CoronaVac",
           12
          ],
          [
           "Iraq",
           "IRQ",
           "EMRO",
           "28/05/2022",
           18353783,
           10674521,
           45.631,
           26.539,
           7498791,
           18.643,
           "AstraZeneca - Vaxzevria,Beijing CNBG - BBIBP-CorV,Bharat - Covaxin,CanSino - Convidecia,Gamaleya - Gam-Covid-Vac,Gamaleya - Sputnik-Light,Janssen - Ad26.COV 2-S,Moderna - Spikevax,Pfizer BioNTech - Comirnaty,Sinovac - CoronaVac",
           10
          ],
          [
           "Ireland",
           "IRL",
           "EURO",
           "29/05/2022",
           11114500,
           4038189,
           223.9,
           83.761,
           3997486,
           80.522,
           "AstraZeneca - Vaxzevria,Janssen - Ad26.COV 2-S,Moderna - Spikevax,Novavax-NUVAXOVID,Pfizer BioNTech - Comirnaty",
           5
          ],
          [
           "Isle of Man",
           "IMN",
           "EURO",
           "05/04/2022",
           189681,
           69532,
           223.07,
           81.772,
           67024,
           78.822,
           "Moderna - mRNA-1273, AstraZeneca - AZD1222, Pfizer BioNTech - Comirnaty",
           3
          ],
          [
           "Israel",
           "ISR",
           "EURO",
           "08/05/2022",
           15018677,
           7054015,
           173.5,
           81.497,
           6382834,
           73.743,
           "AstraZeneca - Vaxzevria,Moderna - Spikevax,Pfizer BioNTech - Comirnaty",
           3
          ],
          [
           "Italy",
           "ITA",
           "EURO",
           "15/05/2022",
           136206350,
           50381196,
           228.4,
           84.478,
           47455689,
           79.568,
           "AstraZeneca - Vaxzevria,Janssen - Ad26.COV 2-S,Moderna - Spikevax,Novavax-NUVAXOVID,Pfizer BioNTech - Comirnaty",
           5
          ],
          [
           "Jamaica",
           "JAM",
           "AMRO",
           "03/06/2022",
           1442890,
           804279,
           48.727,
           27.161,
           700243,
           23.648,
           "AstraZeneca - Vaxzevria,Beijing CNBG - BBIBP-CorV,Janssen - Ad26.COV 2-S,Pfizer BioNTech - Comirnaty,SII - Covishield",
           5
          ],
          [
           "Japan",
           "JPN",
           "WPRO",
           "05/06/2022",
           279402397,
           103523757,
           220.913,
           81.852,
           101984505,
           80.635,
           "AstraZeneca - Vaxzevria,Moderna - Spikevax,Novavax-NUVAXOVID,Pfizer BioNTech - Comirnaty",
           4
          ],
          [
           "Jersey",
           "JEY",
           "EURO",
           "05/06/2022",
           234978,
           83487,
           217.984,
           77.449,
           80597,
           74.768,
           "Moderna - mRNA-1273, AstraZeneca - AZD1222, Pfizer BioNTech - Comirnaty",
           3
          ],
          [
           "Jordan",
           "JOR",
           "EMRO",
           "29/05/2022",
           9951844,
           4789727,
           97.537,
           46.944,
           4508753,
           44.19,
           "AstraZeneca - Vaxzevria,Beijing CNBG - BBIBP-CorV,Bharat - Covaxin,CanSino - Convidecia,Gamaleya - Gam-Covid-Vac,Gamaleya - Sputnik-Light,Janssen - Ad26.COV 2-S,Moderna - Spikevax,Pfizer BioNTech - Comirnaty,Sinovac - CoronaVac",
           10
          ],
          [
           "Kazakhstan",
           "KAZ",
           "EURO",
           "29/05/2022",
           26084936,
           10643089,
           138.9,
           56.682,
           11170347,
           59.49,
           "Beijing CNBG - BBIBP-CorV,Gamaleya - Gam-Covid-Vac,Pfizer BioNTech - Comirnaty,RIBSP - QazVac,Sinovac - CoronaVac",
           5
          ],
          [
           "Kenya",
           "KEN",
           "AFRO",
           "05/06/2022",
           18367309,
           12576597,
           34.158,
           23.389,
           9223230,
           17.153,
           "Beijing CNBG - BBIBP-CorV,Janssen - Ad26.COV 2-S,Moderna - Spikevax,Pfizer BioNTech - Comirnaty,SII - Covishield",
           5
          ],
          [
           "Kiribati",
           "KIR",
           "WPRO",
           "05/06/2022",
           151235,
           80566,
           126.611,
           67.448,
           60670,
           50.792,
           "AstraZeneca - Vaxzevria,Beijing CNBG - BBIBP-CorV",
           2
          ],
          [
           "Kosovo",
           "XKX",
           "EURO",
           "29/05/2022",
           1828696,
           903026,
           101.8,
           50.289,
           822798,
           45.821,
           "AstraZeneca - AZD1222, Pfizer BioNTech - Comirnaty",
           2
          ],
          [
           "Kuwait",
           "KWT",
           "EMRO",
           "01/06/2022",
           8043969,
           3426459,
           188.358,
           80.234,
           3310871,
           77.528,
           "AstraZeneca - Vaxzevria,Beijing CNBG - BBIBP-CorV,Bharat - Covaxin,CanSino - Convidecia,Gamaleya - Gam-Covid-Vac,Gamaleya - Sputnik-Light,Janssen - Ad26.COV 2-S,Moderna - Spikevax,Pfizer BioNTech - Comirnaty,Sinovac - CoronaVac",
           10
          ],
          [
           "Kyrgyzstan",
           "KGZ",
           "EURO",
           "29/05/2022",
           2850862,
           1430615,
           43.7,
           21.928,
           1262853,
           19.356,
           "AstraZeneca - Vaxzevria,Beijing CNBG - BBIBP-CorV,Gamaleya - Gam-Covid-Vac,Moderna - Spikevax,Pfizer BioNTech - Comirnaty,RIBSP - QazVac",
           6
          ],
          [
           "Lao People's Democratic Republic",
           "LAO",
           "WPRO",
           "05/06/2022",
           11130131,
           5786537,
           152.98,
           79.534,
           4939064,
           67.886,
           "AstraZeneca - Vaxzevria,Beijing CNBG - BBIBP-CorV,Gamaleya - Gam-Covid-Vac,Gamaleya - Sputnik-Light,Janssen - Ad26.COV 2-S,Pfizer BioNTech - Comirnaty,SII - Covishield,Sinovac - CoronaVac",
           8
          ],
          [
           "Latvia",
           "LVA",
           "EURO",
           "22/05/2022",
           2826513,
           1300851,
           148.2,
           68.19,
           1268859,
           66.513,
           "AstraZeneca - Vaxzevria,Janssen - Ad26.COV 2-S,Moderna - Spikevax,Novavax-NUVAXOVID,Pfizer BioNTech - Comirnaty",
           5
          ],
          [
           "Lebanon",
           "LBN",
           "EMRO",
           "30/05/2022",
           5634462,
           2686207,
           82.551,
           39.356,
           2362812,
           34.618,
           "AstraZeneca - Vaxzevria,Beijing CNBG - BBIBP-CorV,Bharat - Covaxin,CanSino - Convidecia,Gamaleya - Gam-Covid-Vac,Gamaleya - Sputnik-Light,Janssen - Ad26.COV 2-S,Moderna - Spikevax,Pfizer BioNTech - Comirnaty,Sinovac - CoronaVac",
           10
          ],
          [
           "Lesotho",
           "LSO",
           "AFRO",
           "05/06/2022",
           948906,
           1014456,
           44.295,
           47.355,
           739962,
           34.541,
           "Beijing CNBG - BBIBP-CorV,Janssen - Ad26.COV 2-S,SII - Covishield",
           3
          ],
          [
           "Liberia",
           "LBR",
           "AFRO",
           "05/06/2022",
           1996703,
           1751520,
           39.479,
           34.631,
           1438154,
           28.435,
           "SII - Covishield",
           1
          ],
          [
           "Libya",
           "LBY",
           "EMRO",
           "05/06/2022",
           3514582,
           2246087,
           51.149,
           32.688,
           1167540,
           16.992,
           "AstraZeneca - Vaxzevria,Beijing CNBG - BBIBP-CorV,Bharat - Covaxin,CanSino - Convidecia,Gamaleya - Gam-Covid-Vac,Gamaleya - Sputnik-Light,Janssen - Ad26.COV 2-S,Moderna - Spikevax,Pfizer BioNTech - Comirnaty,Sinovac - CoronaVac",
           10
          ],
          [
           "Liechtenstein",
           "LIE",
           "OTHER",
           "10/04/2022",
           71104,
           26681,
           183.5,
           68.86,
           26346,
           67.995,
           "Janssen - Ad26.COV 2-S,Moderna - Spikevax,Pfizer BioNTech - Comirnaty",
           3
          ],
          [
           "Lithuania",
           "LTU",
           "EURO",
           "29/05/2022",
           4472293,
           1951055,
           160.1,
           69.982,
           1900995,
           68.036,
           "AstraZeneca - Vaxzevria,Janssen - Ad26.COV 2-S,Moderna - Spikevax,Pfizer BioNTech - Comirnaty,Unknown Vaccine",
           5
          ],
          [
           "Luxembourg",
           "LUX",
           "EURO",
           "29/05/2022",
           1264619,
           469087,
           202,
           74.921,
           462034,
           73.795,
           "AstraZeneca - Vaxzevria,Janssen - Ad26.COV 2-S,Moderna - Spikevax,Novavax-NUVAXOVID,Pfizer BioNTech - Comirnaty",
           5
          ],
          [
           "Madagascar",
           "MDG",
           "AFRO",
           "05/06/2022",
           2369775,
           1290584,
           8.558,
           4.661,
           1199011,
           4.33,
           "Beijing CNBG - BBIBP-CorV,Janssen - Ad26.COV 2-S,SII - Covishield",
           3
          ],
          [
           "Malawi",
           "MWI",
           "AFRO",
           "05/06/2022",
           2166402,
           1596607,
           11.325,
           8.346,
           1139589,
           5.957,
           "Janssen - Ad26.COV 2-S,SII - Covishield",
           2
          ],
          [
           "Malaysia",
           "MYS",
           "WPRO",
           "05/06/2022",
           70973991,
           27997736,
           219.286,
           86.504,
           27086354,
           83.688,
           "AstraZeneca - Vaxzevria,Beijing CNBG - BBIBP-CorV,CanSino - Convidecia,Gamaleya - Gam-Covid-Vac,Janssen - Ad26.COV 2-S,Moderna - Spikevax,Pfizer BioNTech - Comirnaty,Sinovac - CoronaVac",
           8
          ],
          [
           "Maldives",
           "MDV",
           "SEARO",
           "06/06/2022",
           944563,
           398727,
           174.743,
           73.764,
           384274,
           71.09,
           "AstraZeneca - Vaxzevria,Beijing CNBG - BBIBP-CorV,Gamaleya - Gam-Covid-Vac,Janssen - Ad26.COV 2-S,Moderna - Spikevax,Pfizer BioNTech - Comirnaty,SII - Covishield,Sinovac - CoronaVac",
           8
          ],
          [
           "Mali",
           "MLI",
           "AFRO",
           "05/06/2022",
           2308245,
           1695963,
           11.398,
           8.375,
           1245359,
           6.15,
           "SII - Covishield",
           1
          ],
          [
           "Malta",
           "MLT",
           "EURO",
           "29/05/2022",
           1240419,
           450051,
           241.1,
           87.463,
           444214,
           86.328,
           "AstraZeneca - Vaxzevria,Janssen - Ad26.COV 2-S,Moderna - Spikevax,Pfizer BioNTech - Comirnaty",
           4
          ],
          [
           "Marshall Islands",
           "MHL",
           "WPRO",
           "05/06/2022",
           67461,
           35056,
           113.966,
           59.222,
           27591,
           46.611,
           "Janssen - Ad26.COV 2-S,Moderna - Spikevax,Pfizer BioNTech - Comirnaty",
           3
          ],
          [
           "Martinique",
           "MTQ",
           "AMRO",
           "03/06/2022",
           384386,
           148947,
           102.431,
           39.691,
           143729,
           38.301,
           "Pfizer BioNTech - Comirnaty",
           1
          ],
          [
           "Mauritania",
           "MRT",
           "AFRO",
           "05/06/2022",
           2845889,
           1924472,
           61.206,
           41.39,
           1332013,
           28.648,
           "Beijing CNBG - BBIBP-CorV,SII - Covishield",
           2
          ],
          [
           "Mauritius",
           "MUS",
           "AFRO",
           "05/06/2022",
           2551638,
           977183,
           200.637,
           76.837,
           944658,
           74.279,
           "Beijing CNBG - BBIBP-CorV,Bharat - Covaxin,SII - Covishield",
           3
          ],
          [
           "Mexico",
           "MEX",
           "AMRO",
           "03/06/2022",
           208630697,
           88047653,
           161.814,
           68.29,
           79947470,
           62.007,
           "AstraZeneca - Vaxzevria,CanSino - Convidecia,Gamaleya - Gam-Covid-Vac,Janssen - Ad26.COV 2-S,Moderna - Spikevax,Pfizer BioNTech - Comirnaty,Sinovac - CoronaVac",
           7
          ],
          [
           "Micronesia (Federated States of)",
           "FSM",
           "WPRO",
           "05/06/2022",
           128183,
           67839,
           111.441,
           58.979,
           57297,
           49.814,
           "AstraZeneca - Vaxzevria,Janssen - Ad26.COV 2-S,Moderna - Spikevax,Pfizer BioNTech - Comirnaty",
           4
          ],
          [
           "Monaco",
           "MCO",
           "EURO",
           "02/01/2022",
           58294,
           23460,
           148.5,
           59.78,
           23356,
           59.515,
           "AstraZeneca - Vaxzevria,Janssen - Ad26.COV 2-S,Moderna - Spikevax,Novavax - Covavax,Novavax-NUVAXOVID,Pfizer BioNTech - Comirnaty",
           6
          ],
          [
           "Mongolia",
           "MNG",
           "WPRO",
           "05/06/2022",
           5629336,
           2273504,
           171.716,
           69.35,
           2176508,
           66.392,
           "AstraZeneca - Vaxzevria,Beijing CNBG - BBIBP-CorV,Gamaleya - Gam-Covid-Vac,Moderna - Spikevax,Pfizer BioNTech - Comirnaty,SII - Covishield",
           6
          ],
          [
           "Montenegro",
           "MNE",
           "EURO",
           "29/05/2022",
           524984,
           271780,
           83.6,
           43.703,
           253204,
           40.716,
           "AstraZeneca - Vaxzevria,Beijing CNBG - BBIBP-CorV,Gamaleya - Gam-Covid-Vac,Pfizer BioNTech - Comirnaty,Unknown Vaccine",
           5
          ],
          [
           "Montserrat",
           "MSR",
           "AMRO",
           "03/06/2022",
           4255,
           1916,
           85.117,
           38.328,
           1829,
           36.587,
           "AstraZeneca - Vaxzevria",
           1
          ],
          [
           "Morocco",
           "MAR",
           "EMRO",
           "05/06/2022",
           54710937,
           24930030,
           148.226,
           67.542,
           23411104,
           63.427,
           "AstraZeneca - Vaxzevria,Beijing CNBG - BBIBP-CorV,Bharat - Covaxin,CanSino - Convidecia,Gamaleya - Gam-Covid-Vac,Gamaleya - Sputnik-Light,Janssen - Ad26.COV 2-S,Moderna - Spikevax,Pfizer BioNTech - Comirnaty,Sinovac - CoronaVac",
           10
          ],
          [
           "Mozambique",
           "MOZ",
           "AFRO",
           "05/06/2022",
           31616078,
           14978771,
           101.154,
           47.924,
           14098645,
           45.108,
           "Beijing CNBG - BBIBP-CorV,Janssen - Ad26.COV 2-S,SII - Covishield",
           3
          ],
          [
           "Myanmar",
           "MMR",
           "SEARO",
           "24/05/2022",
           59453155,
           31345527,
           109.269,
           57.61,
           26110318,
           47.988,
           "Beijing CNBG - BBIBP-CorV,SII - Covishield",
           2
          ],
          [
           "Namibia",
           "NAM",
           "AFRO",
           "05/06/2022",
           825518,
           496475,
           32.489,
           19.539,
           426681,
           16.792,
           "Beijing CNBG - BBIBP-CorV,Janssen - Ad26.COV 2-S,Pfizer BioNTech - Comirnaty,SII - Covishield",
           4
          ],
          [
           "Nauru",
           "NRU",
           "WPRO",
           "05/06/2022",
           22976,
           9464,
           212.073,
           87.355,
           8585,
           79.241,
           "AstraZeneca - Vaxzevria,SII - Covishield",
           2
          ],
          [
           "Nepal",
           "NPL",
           "SEARO",
           "06/06/2022",
           47141797,
           22441717,
           161.795,
           77.022,
           19926930,
           68.391,
           "AstraZeneca - Vaxzevria,Beijing CNBG - BBIBP-CorV,Bharat - Covaxin,Gamaleya - Gam-Covid-Vac,Janssen - Ad26.COV 2-S,Moderna - Spikevax,Pfizer BioNTech - Comirnaty,SII - Covishield",
           8
          ],
          [
           "Netherlands",
           "NLD",
           "EURO",
           "29/05/2022",
           35332748,
           12808594,
           203,
           73.581,
           11983233,
           68.839,
           "AstraZeneca - Vaxzevria,Janssen - Ad26.COV 2-S,Moderna - Spikevax,Novavax-NUVAXOVID,Pfizer BioNTech - Comirnaty,Unknown Vaccine",
           6
          ],
          [
           "New Caledonia",
           "NCL",
           "WPRO",
           "05/06/2022",
           460985,
           188325,
           161.467,
           65.964,
           180201,
           63.118,
           "Janssen - Ad26.COV 2-S,Pfizer BioNTech - Comirnaty",
           2
          ],
          [
           "New Zealand",
           "NZL",
           "WPRO",
           "05/06/2022",
           11090222,
           4262527,
           229.981,
           88.393,
           4079886,
           84.606,
           "AstraZeneca - Vaxzevria,Janssen - Ad26.COV 2-S,Novavax-NUVAXOVID,Pfizer BioNTech - Comirnaty",
           4
          ],
          [
           "Nicaragua",
           "NIC",
           "AMRO",
           "03/06/2022",
           10760706,
           5788470,
           162.437,
           87.379,
           4972236,
           75.058,
           "AstraZeneca - Vaxzevria,CIGB - CIGB-66,Finlay - Soberana Plus,Finlay - Soberana-02,Gamaleya - Gam-Covid-Vac,Gamaleya - Sputnik-Light,Janssen - Ad26.COV 2-S,Pfizer BioNTech - Comirnaty,SII - Covishield",
           9
          ],
          [
           "Niger",
           "NER",
           "AFRO",
           "05/06/2022",
           2703493,
           2198758,
           11.168,
           9.083,
           1556817,
           6.431,
           "Beijing CNBG - BBIBP-CorV,SII - Covishield",
           2
          ],
          [
           "Nigeria",
           "NGA",
           "AFRO",
           "05/06/2022",
           46391592,
           27401621,
           22.505,
           13.293,
           16817979,
           8.159,
           "SII - Covishield",
           1
          ],
          [
           "Niue",
           "NIU",
           "WPRO",
           "05/06/2022",
           4161,
           1650,
           257.169,
           101.978,
           1417,
           87.577,
           "Pfizer BioNTech - Comirnaty",
           1
          ],
          [
           "North Macedonia",
           "MKD",
           "EURO",
           "22/05/2022",
           1848954,
           853737,
           88.7,
           41.119,
           837084,
           40.317,
           "AstraZeneca - Vaxzevria,Beijing CNBG - BBIBP-CorV,Gamaleya - Gam-Covid-Vac,Pfizer BioNTech - Comirnaty,Sinovac - CoronaVac,Wuhan CNBG - Inactivated",
           6
          ],
          [
           "Northern Mariana Islands (Commonwealth of the)",
           "MNP",
           "WPRO",
           "05/06/2022",
           111665,
           44759,
           194.008,
           77.765,
           43866,
           76.213,
           "Janssen - Ad26.COV 2-S,Moderna - Spikevax,Pfizer BioNTech - Comirnaty",
           3
          ],
          [
           "Norway",
           "NOR",
           "EURO",
           "29/05/2022",
           11318644,
           4336878,
           210.9,
           80.798,
           4044245,
           75.346,
           "AstraZeneca - Vaxzevria,Janssen - Ad26.COV 2-S,Moderna - Spikevax,Pfizer BioNTech - Comirnaty",
           4
          ],
          [
           "occupied Palestinian territory",
           "PSE",
           "EMRO",
           "22/05/2022",
           3723499,
           2003622,
           72.99,
           39.276,
           1769425,
           34.685,
           "AstraZeneca - Vaxzevria,Beijing CNBG - BBIBP-CorV,Bharat - Covaxin,CanSino - Convidecia,Gamaleya - Gam-Covid-Vac,Gamaleya - Sputnik-Light,Janssen - Ad26.COV 2-S,Moderna - Spikevax,Pfizer BioNTech - Comirnaty,Sinovac - CoronaVac",
           10
          ],
          [
           "Oman",
           "OMN",
           "EMRO",
           "23/05/2022",
           7090453,
           3263849,
           138.848,
           63.914,
           3072891,
           60.175,
           "AstraZeneca - Vaxzevria,Beijing CNBG - BBIBP-CorV,Bharat - Covaxin,CanSino - Convidecia,Gamaleya - Gam-Covid-Vac,Gamaleya - Sputnik-Light,Janssen - Ad26.COV 2-S,Moderna - Spikevax,Pfizer BioNTech - Comirnaty,SII - Covishield,Sinovac - CoronaVac",
           11
          ],
          [
           "Pakistan",
           "PAK",
           "EMRO",
           "30/05/2022",
           256289705,
           143988959,
           116.025,
           65.185,
           121494669,
           55.002,
           "AstraZeneca - Vaxzevria,Beijing CNBG - BBIBP-CorV,Bharat - Covaxin,CanSino - Convidecia,Gamaleya - Gam-Covid-Vac,Gamaleya - Sputnik-Light,Janssen - Ad26.COV 2-S,Moderna - Spikevax,Pfizer BioNTech - Comirnaty,SII - Covishield,Sinovac - CoronaVac",
           11
          ],
          [
           "Palau",
           "PLW",
           "WPRO",
           "05/06/2022",
           47146,
           20196,
           260.59,
           111.629,
           17971,
           99.331,
           "Janssen - Ad26.COV 2-S,Moderna - Spikevax,Pfizer BioNTech - Comirnaty",
           3
          ],
          [
           "Panama",
           "PAN",
           "AMRO",
           "03/06/2022",
           8242621,
           3477600,
           191.033,
           80.598,
           3103529,
           71.928,
           "AstraZeneca - Vaxzevria,Pfizer BioNTech - Comirnaty",
           2
          ],
          [
           "Papua New Guinea",
           "PNG",
           "WPRO",
           "05/06/2022",
           452777,
           330825,
           5.061,
           3.698,
           271349,
           3.033,
           "AstraZeneca - Vaxzevria,Beijing CNBG - BBIBP-CorV,Janssen - Ad26.COV 2-S,SII - Covishield",
           4
          ],
          [
           "Paraguay",
           "PRY",
           "AMRO",
           "03/06/2022",
           8798904,
           3937397,
           123.363,
           55.203,
           3435394,
           48.165,
           "AstraZeneca - Vaxzevria,Beijing CNBG - BBIBP-CorV,Bharat - Covaxin,Gamaleya - Gam-Covid-Vac,Julphar - Hayat-Vax,Moderna - Spikevax,Pfizer BioNTech - Comirnaty,Sinovac - CoronaVac",
           8
          ],
          [
           "Peru",
           "PER",
           "AMRO",
           "03/06/2022",
           75444116,
           29373878,
           228.814,
           89.088,
           27372984,
           83.019,
           "AstraZeneca - Vaxzevria,Beijing CNBG - BBIBP-CorV,Moderna - Spikevax,Pfizer BioNTech - Comirnaty",
           4
          ],
          [
           "Philippines",
           "PHL",
           "WPRO",
           "05/06/2022",
           150995394,
           74634409,
           137.793,
           68.109,
           70009042,
           63.888,
           "AstraZeneca - Vaxzevria,Beijing CNBG - BBIBP-CorV,Bharat - Covaxin,Gamaleya - Gam-Covid-Vac,Gamaleya - Sputnik-Light,Janssen - Ad26.COV 2-S,Julphar - Hayat-Vax,Moderna - Spikevax,Novavax-NUVAXOVID,Pfizer BioNTech - Comirnaty,Sinovac - CoronaVac",
           11
          ],
          [
           "Pitcairn Islands",
           "PCN",
           "WPRO",
           "05/06/2022",
           106,
           46,
           212,
           92,
           37,
           74,
           "AstraZeneca - Vaxzevria",
           1
          ],
          [
           "Poland",
           "POL",
           "EURO",
           "29/05/2022",
           54551867,
           22817068,
           143.7,
           60.111,
           22518979,
           59.326,
           "AstraZeneca - Vaxzevria,Janssen - Ad26.COV 2-S,Moderna - Spikevax,Novavax-NUVAXOVID,Pfizer BioNTech - Comirnaty",
           5
          ],
          [
           "Portugal",
           "PRT",
           "EURO",
           "29/05/2022",
           24105499,
           9716547,
           234.1,
           94.464,
           8866231,
           86.114,
           "AstraZeneca - Vaxzevria,Beijing CNBG - BBIBP-CorV,Bharat - Covaxin,Janssen - Ad26.COV 2-S,Moderna - Spikevax,Novavax-NUVAXOVID,Pfizer BioNTech - Comirnaty,Sinovac - CoronaVac",
           8
          ],
          [
           "Puerto Rico",
           "PRI",
           "AMRO",
           "03/06/2022",
           7286265,
           3052719,
           254.689,
           106.707,
           2664504,
           93.137,
           "Janssen - Ad26.COV 2-S,Moderna - Spikevax,Pfizer BioNTech - Comirnaty",
           3
          ],
          [
           "Qatar",
           "QAT",
           "EMRO",
           "01/06/2022",
           6890950,
           2632575,
           239.182,
           91.375,
           2632575,
           91.375,
           "AstraZeneca - Vaxzevria,Beijing CNBG - BBIBP-CorV,Bharat - Covaxin,CanSino - Convidecia,Gamaleya - Gam-Covid-Vac,Gamaleya - Sputnik-Light,Janssen - Ad26.COV 2-S,Moderna - Spikevax,Pfizer BioNTech - Comirnaty,Sinovac - CoronaVac",
           10
          ],
          [
           "Republic of Korea",
           "KOR",
           "WPRO",
           "05/06/2022",
           126333492,
           44971813,
           246.412,
           87.717,
           44505965,
           86.808,
           "AstraZeneca - Vaxzevria,Janssen - Ad26.COV 2-S,Moderna - Spikevax,Novavax-NUVAXOVID,Pfizer BioNTech - Comirnaty",
           5
          ],
          [
           "Republic of Moldova",
           "MDA",
           "EURO",
           "29/05/2022",
           2191590,
           1093903,
           54.3,
           27.117,
           1063602,
           26.366,
           "AstraZeneca - Vaxzevria,Beijing CNBG - BBIBP-CorV,Gamaleya - Gam-Covid-Vac,Janssen - Ad26.COV 2-S,Moderna - Spikevax,Pfizer BioNTech - Comirnaty,Sinovac - CoronaVac",
           7
          ],
          [
           "Romania",
           "ROU",
           "EURO",
           "29/05/2022",
           16025055,
           8173453,
           82.9,
           42.286,
           8120581,
           42.013,
           "AstraZeneca - Vaxzevria,Janssen - Ad26.COV 2-S,Moderna - Spikevax,Pfizer BioNTech - Comirnaty",
           4
          ],
          [
           "Russian Federation",
           "RUS",
           "EURO",
           "04/06/2022",
           166830060,
           81031567,
           114.3,
           55.526,
           73682537,
           50.49,
           "SRCVB - EpiVacCorona, Gamaleya - Sputnik V",
           2
          ],
          [
           "Rwanda",
           "RWA",
           "AFRO",
           "05/06/2022",
           22214312,
           9061143,
           171.51,
           69.958,
           8527099,
           65.835,
           "Beijing CNBG - BBIBP-CorV,Gamaleya - Gam-Covid-Vac,Janssen - Ad26.COV 2-S,Moderna - Spikevax,Pfizer BioNTech - Comirnaty,SII - Covishield,Sinovac - CoronaVac",
           7
          ],
          [
           "Saba",
           "XCA",
           "AMRO",
           "03/06/2022",
           4270,
           1594,
           220.9,
           82.462,
           1577,
           81.583,
           "Unreported",
           null
          ],
          [
           "Saint Helena",
           "SHN",
           "AFRO",
           "05/05/2021",
           7892,
           4361,
           129.995,
           71.833,
           3531,
           58.162,
           "AstraZeneca - AZD1222",
           1
          ],
          [
           "Saint Kitts and Nevis",
           "KNA",
           "AMRO",
           "03/06/2022",
           58697,
           28540,
           110.349,
           53.655,
           26750,
           50.29,
           "AstraZeneca - Vaxzevria,Pfizer BioNTech - Comirnaty,SII - Covishield",
           3
          ],
          [
           "Saint Lucia",
           "LCA",
           "AMRO",
           "03/06/2022",
           120873,
           59353,
           65.825,
           32.323,
           54032,
           29.425,
           "AstraZeneca - Vaxzevria,Janssen - Ad26.COV 2-S,Moderna - Spikevax,Pfizer BioNTech - Comirnaty,SII - Covishield",
           5
          ],
          [
           "Saint Vincent and the Grenadines",
           "VCT",
           "AMRO",
           "03/06/2022",
           71018,
           36580,
           64.015,
           32.973,
           30661,
           27.637,
           "AstraZeneca - Vaxzevria,Gamaleya - Gam-Covid-Vac,Gamaleya - Sputnik-Light,Pfizer BioNTech - Comirnaty,SII - Covishield",
           5
          ],
          [
           "Samoa",
           "WSM",
           "WPRO",
           "05/06/2022",
           438313,
           190053,
           220.908,
           95.786,
           173378,
           87.382,
           "AstraZeneca - Vaxzevria,Pfizer BioNTech - Comirnaty",
           2
          ],
          [
           "San Marino",
           "SMR",
           "EURO",
           "22/05/2022",
           69338,
           26357,
           204.3,
           76.501,
           23633,
           68.595,
           "Gamaleya - Gam-Covid-Vac,Pfizer BioNTech - Comirnaty",
           2
          ],
          [
           "Sao Tome and Principe",
           "STP",
           "AFRO",
           "05/06/2022",
           214560,
           123088,
           97.902,
           56.164,
           91836,
           41.904,
           "AstraZeneca - Vaxzevria,SII - Covishield",
           2
          ],
          [
           "Saudi Arabia",
           "SAU",
           "EMRO",
           "01/06/2022",
           65837671,
           26599329,
           189.113,
           76.404,
           24960145,
           71.696,
           "AstraZeneca - Vaxzevria,Beijing CNBG - BBIBP-CorV,Bharat - Covaxin,CanSino - Convidecia,Gamaleya - Gam-Covid-Vac,Gamaleya - Sputnik-Light,Janssen - Ad26.COV 2-S,Moderna - Spikevax,Pfizer BioNTech - Comirnaty,Sinovac - CoronaVac",
           10
          ],
          [
           "Senegal",
           "SEN",
           "AFRO",
           "05/06/2022",
           2523856,
           1883218,
           15.073,
           11.247,
           1051041,
           6.277,
           "Beijing CNBG - BBIBP-CorV,Janssen - Ad26.COV 2-S,SII - Covishield",
           3
          ],
          [
           "Serbia",
           "SRB",
           "EURO",
           "27/03/2022",
           6696502,
           3386883,
           96.7,
           48.896,
           3309619,
           47.781,
           "AstraZeneca - Vaxzevria,Beijing CNBG - BBIBP-CorV,Gamaleya - Gam-Covid-Vac,Moderna - Spikevax,Pfizer BioNTech - Comirnaty",
           5
          ],
          [
           "Seychelles",
           "SYC",
           "AFRO",
           "05/06/2022",
           221597,
           84886,
           225.322,
           86.313,
           80700,
           82.056,
           "Beijing CNBG - BBIBP-CorV,Gamaleya - Gam-Covid-Vac,Julphar - Hayat-Vax,SII - Covishield",
           4
          ],
          [
           "Sierra Leone",
           "SLE",
           "AFRO",
           "05/06/2022",
           2930408,
           2383636,
           36.736,
           29.881,
           1659093,
           20.799,
           "Beijing CNBG - BBIBP-CorV,SII - Covishield",
           2
          ],
          [
           "Singapore",
           "SGP",
           "WPRO",
           "05/06/2022",
           14088862,
           5015471,
           240.821,
           85.73,
           4987927,
           85.259,
           "AstraZeneca - Vaxzevria,Beijing CNBG - BBIBP-CorV,Moderna - Spikevax,Pfizer BioNTech - Comirnaty",
           4
          ],
          [
           "Sint Eustatius",
           "XBA",
           "AMRO",
           "03/06/2022",
           4325,
           1791,
           137.783,
           57.056,
           1686,
           53.711,
           "Unreported",
           null
          ],
          [
           "Sint Maarten",
           "SXM",
           "AMRO",
           "03/06/2022",
           64539,
           29164,
           150.504,
           68.01,
           26237,
           61.184,
           "AstraZeneca - Vaxzevria,Moderna - Spikevax,Pfizer BioNTech - Comirnaty",
           3
          ],
          [
           "Slovakia",
           "SVK",
           "EURO",
           "29/05/2022",
           7075947,
           2821839,
           129.6,
           51.702,
           2771739,
           50.784,
           "AstraZeneca - Vaxzevria,Gamaleya - Gam-Covid-Vac,Janssen - Ad26.COV 2-S,Moderna - Spikevax,Novavax-NUVAXOVID,Pfizer BioNTech - Comirnaty",
           6
          ],
          [
           "Slovenia",
           "SVN",
           "EURO",
           "29/05/2022",
           2957844,
           1237811,
           141.1,
           59.06,
           1206827,
           57.581,
           "AstraZeneca - Vaxzevria,Janssen - Ad26.COV 2-S,Moderna - Spikevax,Novavax-NUVAXOVID,Pfizer BioNTech - Comirnaty",
           5
          ],
          [
           "Solomon Islands",
           "SLB",
           "WPRO",
           "05/06/2022",
           451057,
           275560,
           65.667,
           40.117,
           172833,
           25.162,
           "AstraZeneca - Vaxzevria,Beijing CNBG - BBIBP-CorV,Pfizer BioNTech - Comirnaty,SII - Covishield",
           4
          ],
          [
           "Somalia",
           "SOM",
           "EMRO",
           "05/06/2022",
           3724063,
           2298052,
           23.432,
           14.459,
           1426011,
           8.972,
           "AstraZeneca - Vaxzevria,Beijing CNBG - BBIBP-CorV,Bharat - Covaxin,CanSino - Convidecia,Gamaleya - Gam-Covid-Vac,Gamaleya - Sputnik-Light,Janssen - Ad26.COV 2-S,Moderna - Spikevax,Pfizer BioNTech - Comirnaty,SII - Covishield,Sinovac - CoronaVac",
           11
          ],
          [
           "South Africa",
           "ZAF",
           "AFRO",
           "05/06/2022",
           36240713,
           23019199,
           61.105,
           38.813,
           20040729,
           33.791,
           "Janssen - Ad26.COV 2-S,Pfizer BioNTech - Comirnaty",
           2
          ],
          [
           "South Sudan",
           "SSD",
           "AFRO",
           "05/06/2022",
           1059464,
           1009259,
           9.465,
           9.016,
           967199,
           8.641,
           "Janssen - Ad26.COV 2-S,SII - Covishield",
           2
          ],
          [
           "Spain",
           "ESP",
           "EURO",
           "29/05/2022",
           101671001,
           41212271,
           214.8,
           87.07,
           37367206,
           78.946,
           "AstraZeneca - Vaxzevria,Janssen - Ad26.COV 2-S,Moderna - Spikevax,Pfizer BioNTech - Comirnaty",
           4
          ],
          [
           "Sri Lanka",
           "LKA",
           "SEARO",
           "07/06/2022",
           39576548,
           17072957,
           184.823,
           79.731,
           14516137,
           67.79,
           "AstraZeneca - Vaxzevria,Beijing CNBG - BBIBP-CorV,Gamaleya - Gam-Covid-Vac,Moderna - Spikevax,Pfizer BioNTech - Comirnaty,SII - Covishield",
           6
          ],
          [
           "Sudan",
           "SDN",
           "EMRO",
           "05/06/2022",
           9710092,
           5929766,
           22.144,
           13.523,
           3742065,
           8.534,
           "AstraZeneca - Vaxzevria,Beijing CNBG - BBIBP-CorV,Bharat - Covaxin,CanSino - Convidecia,Gamaleya - Gam-Covid-Vac,Gamaleya - Sputnik-Light,Janssen - Ad26.COV 2-S,Moderna - Spikevax,Pfizer BioNTech - Comirnaty,SII - Covishield,Sinovac - CoronaVac",
           11
          ],
          [
           "Suriname",
           "SUR",
           "AMRO",
           "03/06/2022",
           554588,
           267820,
           94.538,
           45.654,
           237879,
           40.55,
           "AstraZeneca - Vaxzevria,Beijing CNBG - BBIBP-CorV,Moderna - Spikevax,Pfizer BioNTech - Comirnaty,SII - Covishield",
           5
          ],
          [
           "Sweden",
           "SWE",
           "EURO",
           "29/05/2022",
           21818451,
           7555967,
           211.3,
           73.163,
           7390018,
           71.556,
           "AstraZeneca - Vaxzevria,Moderna - Spikevax,Novavax-NUVAXOVID,Pfizer BioNTech - Comirnaty,Unknown Vaccine",
           5
          ],
          [
           "Switzerland",
           "CHE",
           "EURO",
           "22/05/2022",
           15535912,
           6083847,
           179.5,
           70.693,
           5705105,
           66.292,
           "Janssen - Ad26.COV 2-S,Moderna - Spikevax,Pfizer BioNTech - Comirnaty",
           3
          ],
          [
           "Syrian Arab Republic",
           "SYR",
           "EMRO",
           "29/05/2022",
           3870173,
           2544641,
           22.114,
           14.54,
           1633948,
           9.336,
           "AstraZeneca - Vaxzevria,Beijing CNBG - BBIBP-CorV,Bharat - Covaxin,CanSino - Convidecia,Gamaleya - Gam-Covid-Vac,Gamaleya - Sputnik-Light,Janssen - Ad26.COV 2-S,Moderna - Spikevax,Pfizer BioNTech - Comirnaty,SII - Covishield,Sinovac - CoronaVac",
           11
          ],
          [
           "Tajikistan",
           "TJK",
           "EURO",
           "08/05/2022",
           12504152,
           5189877,
           131.1,
           54.415,
           4976770,
           52.18,
           "AstraZeneca - Vaxzevria,Gamaleya - Gam-Covid-Vac,Moderna - Spikevax,Pfizer BioNTech - Comirnaty,SII - Covishield,Sinovac - CoronaVac",
           6
          ],
          [
           "Thailand",
           "THA",
           "SEARO",
           "06/06/2022",
           137385704,
           56554618,
           196.828,
           81.024,
           52577760,
           75.326,
           "AstraZeneca - Vaxzevria,Beijing CNBG - BBIBP-CorV,Janssen - Ad26.COV 2-S,Moderna - Spikevax,Pfizer BioNTech - Comirnaty,SII - Covishield,SII - Covovax,Sinovac - CoronaVac",
           8
          ],
          [
           "The United Kingdom",
           "GBR",
           "EURO",
           "31/05/2022",
           143183637,
           53472488,
           210.9,
           78.567,
           49986833,
           73.445,
           "AstraZeneca - Vaxzevria,Moderna - Spikevax,Pfizer BioNTech - Comirnaty",
           3
          ],
          [
           "Timor-Leste",
           "TLS",
           "SEARO",
           "07/06/2022",
           1599092,
           812337,
           121.286,
           61.613,
           682953,
           51.8,
           "AstraZeneca - Vaxzevria,Pfizer BioNTech - Comirnaty,SII - Covishield,Sinovac - CoronaVac",
           4
          ],
          [
           "Togo",
           "TGO",
           "AFRO",
           "05/06/2022",
           3290821,
           2092750,
           39.75,
           25.279,
           1557538,
           18.814,
           "SII - Covishield",
           1
          ],
          [
           "Tokelau",
           "TKL",
           "WPRO",
           "05/06/2022",
           3538,
           1339,
           262.074,
           99.185,
           1337,
           99.037,
           "Pfizer BioNTech - Comirnaty",
           1
          ],
          [
           "Tonga",
           "TON",
           "WPRO",
           "05/06/2022",
           261560,
           104624,
           247.467,
           98.987,
           97151,
           91.916,
           "AstraZeneca - Vaxzevria,Pfizer BioNTech - Comirnaty",
           2
          ],
          [
           "Trinidad and Tobago",
           "TTO",
           "AMRO",
           "03/06/2022",
           1564019,
           749638,
           111.757,
           53.565,
           712605,
           50.919,
           "AstraZeneca - Vaxzevria,Beijing CNBG - BBIBP-CorV,Janssen - Ad26.COV 2-S,Pfizer BioNTech - Comirnaty,SII - Covishield",
           5
          ],
          [
           "Tunisia",
           "TUN",
           "EMRO",
           "05/06/2022",
           14856958,
           7229872,
           125.708,
           61.174,
           6372301,
           53.917,
           "AstraZeneca - Vaxzevria,Beijing CNBG - BBIBP-CorV,Bharat - Covaxin,CanSino - Convidecia,Gamaleya - Gam-Covid-Vac,Gamaleya - Sputnik-Light,Janssen - Ad26.COV 2-S,Moderna - Spikevax,Pfizer BioNTech - Comirnaty,Sinovac - CoronaVac",
           10
          ],
          [
           "Turkey",
           "TUR",
           "EURO",
           "31/05/2022",
           147720907,
           57841876,
           175.2,
           69.559,
           53064752,
           63.814,
           "Pfizer BioNTech - Comirnaty, Sinovac - CoronaVac, Turkovac",
           3
          ],
          [
           "Turkmenistan",
           "TKM",
           "EURO",
           "06/03/2022",
           7140000,
           2970000,
           118.4,
           49.244,
           2920000,
           48.415,
           "Anhui ZL - Zifivax,AstraZeneca - Vaxzevria,Beijing CNBG - BBIBP-CorV,Gamaleya - Gam-Covid-Vac,RIBSP - QazVac,SRCVB - EpiVacCorona,Unknown Vaccine",
           7
          ],
          [
           "Turks and Caicos Islands",
           "TCA",
           "AMRO",
           "03/06/2022",
           69465,
           31807,
           179.413,
           82.15,
           29807,
           76.985,
           "Pfizer BioNTech - Comirnaty",
           1
          ],
          [
           "Tuvalu",
           "TUV",
           "WPRO",
           "05/06/2022",
           12528,
           6368,
           106.242,
           54.003,
           6160,
           52.239,
           "AstraZeneca - Vaxzevria",
           1
          ],
          [
           "Uganda",
           "UGA",
           "AFRO",
           "05/06/2022",
           21268120,
           15896844,
           46.497,
           34.754,
           10790397,
           23.59,
           "Janssen - Ad26.COV 2-S,Moderna - Spikevax,Pfizer BioNTech - Comirnaty,SII - Covishield,Sinovac - CoronaVac",
           5
          ],
          [
           "Ukraine",
           "UKR",
           "EURO",
           "27/02/2022",
           31668577,
           15774300,
           72.4,
           36.069,
           15153577,
           34.65,
           "AstraZeneca - Vaxzevria,Janssen - Ad26.COV 2-S,Moderna - Spikevax,Pfizer BioNTech - Comirnaty,SII - Covishield,Sinovac - CoronaVac",
           6
          ],
          [
           "United Arab Emirates",
           "ARE",
           "EMRO",
           "31/05/2022",
           24909327,
           9991089,
           251.854,
           101.018,
           9792266,
           99.008,
           "AstraZeneca - Vaxzevria,Beijing CNBG - BBIBP-CorV,Bharat - Covaxin,CanSino - Convidecia,Gamaleya - Gam-Covid-Vac,Gamaleya - Sputnik-Light,Janssen - Ad26.COV 2-S,Moderna - Spikevax,Pfizer BioNTech - Comirnaty,SII - Covishield,Sinovac - CoronaVac",
           11
          ],
          [
           "United Republic of Tanzania",
           "TZA",
           "AFRO",
           "05/06/2022",
           7967468,
           6483895,
           13.338,
           10.855,
           3915900,
           6.556,
           "Beijing CNBG - BBIBP-CorV,Janssen - Ad26.COV 2-S,Pfizer BioNTech - Comirnaty",
           3
          ],
          [
           "United States of America",
           "USA",
           "AMRO",
           "03/06/2022",
           579958258,
           261785425,
           175.213,
           79.089,
           218761222,
           66.09,
           "Janssen - Ad26.COV 2-S,Moderna - Spikevax,Pfizer BioNTech - Comirnaty",
           3
          ],
          [
           "Uruguay",
           "URY",
           "AMRO",
           "03/06/2022",
           8438481,
           2992929,
           242.923,
           86.159,
           2877976,
           82.85,
           "AstraZeneca - Vaxzevria,Pfizer BioNTech - Comirnaty,Sinovac - CoronaVac",
           3
          ],
          [
           "Uzbekistan",
           "UZB",
           "EURO",
           "29/05/2022",
           52392744,
           19463364,
           156.5,
           58.153,
           15232341,
           45.512,
           "Anhui ZL - Zifivax,Gamaleya - Gam-Covid-Vac,Gamaleya - Sputnik-Light,Moderna - Spikevax,Pfizer BioNTech - Comirnaty,SII - Covishield,Sinovac - CoronaVac",
           7
          ],
          [
           "Vanuatu",
           "VUT",
           "WPRO",
           "05/06/2022",
           242178,
           132941,
           78.848,
           43.283,
           118158,
           38.47,
           "AstraZeneca - Vaxzevria,Beijing CNBG - BBIBP-CorV,Janssen - Ad26.COV 2-S",
           3
          ],
          [
           "Venezuela (Bolivarian Republic of)",
           "VEN",
           "AMRO",
           "03/06/2022",
           37860994,
           22157232,
           133.145,
           77.92,
           14287370,
           50.244,
           "Beijing CNBG - BBIBP-CorV,CIGB - CIGB-66,Finlay - Soberana-02,Gamaleya - Gam-Covid-Vac,Gamaleya - Sputnik-Light,Sinovac - CoronaVac",
           6
          ],
          [
           "Viet Nam",
           "VNM",
           "WPRO",
           "05/06/2022",
           221658034,
           84545834,
           227.719,
           86.857,
           77824176,
           79.952,
           "AstraZeneca - Vaxzevria,Beijing CNBG - BBIBP-CorV,CIGB - CIGB-66,Gamaleya - Gam-Covid-Vac,Moderna - Spikevax,Pfizer BioNTech - Comirnaty",
           6
          ],
          [
           "Wallis and Futuna",
           "WLF",
           "WPRO",
           "05/06/2022",
           16426,
           6592,
           146.061,
           58.616,
           6633,
           58.981,
           "Moderna - Spikevax",
           1
          ],
          [
           "Yemen",
           "YEM",
           "EMRO",
           "25/05/2022",
           838621,
           672794,
           2.812,
           2.256,
           429721,
           1.441,
           "AstraZeneca - Vaxzevria,Beijing CNBG - BBIBP-CorV,Bharat - Covaxin,CanSino - Convidecia,Gamaleya - Gam-Covid-Vac,Gamaleya - Sputnik-Light,Janssen - Ad26.COV 2-S,Moderna - Spikevax,Pfizer BioNTech - Comirnaty,SII - Covishield,Sinovac - CoronaVac",
           11
          ],
          [
           "Zambia",
           "ZMB",
           "AFRO",
           "05/06/2022",
           3750417,
           4656681,
           20.4,
           25.33,
           2935333,
           15.967,
           "Beijing CNBG - BBIBP-CorV,Janssen - Ad26.COV 2-S,SII - Covishield",
           3
          ],
          [
           "Zimbabwe",
           "ZWE",
           "AFRO",
           "05/06/2022",
           10796053,
           6236512,
           72.637,
           41.96,
           4559541,
           30.677,
           "Beijing CNBG - BBIBP-CorV,Bharat - Covaxin,Gamaleya - Gam-Covid-Vac,Sinovac - CoronaVac",
           4
          ]
         ],
         "fillcolor": "seagreen",
         "hovertemplate": "%{customdata[0]}<br>%{customdata[6]}",
         "legendgroup": "",
         "line": {
          "color": "black"
         },
         "marker": {
          "color": "#636efa"
         },
         "name": "",
         "offsetgroup": "",
         "orientation": "v",
         "points": "all",
         "scalegroup": "True",
         "showlegend": false,
         "type": "violin",
         "x0": " ",
         "xaxis": "x",
         "y": [
          15.854,
          99.9,
          34.676,
          196.061,
          198.1,
          59.292,
          157.319,
          138.585,
          227.868,
          72.6,
          160.391,
          232.051,
          206.3,
          134.1,
          86.681,
          202.448,
          163.581,
          126.407,
          138.2,
          220.1,
          120.237,
          34.289,
          211.347,
          247.504,
          119.418,
          197.227,
          28.441,
          58.7,
          115.998,
          204.118,
          135.939,
          268.154,
          63.3,
          14.101,
          0.137,
          137.141,
          240.207,
          6.922,
          224.807,
          220.6,
          24.715,
          14.338,
          297.638,
          230.908,
          166.041,
          73.887,
          15.065,
          225.843,
          216.281,
          48.35,
          129.5,
          321.906,
          154.331,
          201,
          164.8,
          3.296,
          226.8,
          31.561,
          92.696,
          143.399,
          199.901,
          84.168,
          166.277,
          34.212,
          156,
          46.148,
          25.59,
          126.529,
          212.614,
          163.948,
          214.2,
          219.9,
          77.413,
          122.676,
          25.47,
          29.793,
          67.3,
          216.4,
          52.147,
          355.748,
          196.8,
          140.465,
          78.853,
          94.432,
          206.827,
          98.008,
          242.624,
          46.66,
          28.593,
          115.685,
          2.505,
          142.01,
          167.9,
          220.7,
          142.199,
          151.865,
          177.822,
          45.631,
          223.9,
          223.07,
          173.5,
          228.4,
          48.727,
          220.913,
          217.984,
          97.537,
          138.9,
          34.158,
          126.611,
          101.8,
          188.358,
          43.7,
          152.98,
          148.2,
          82.551,
          44.295,
          39.479,
          51.149,
          183.5,
          160.1,
          202,
          8.558,
          11.325,
          219.286,
          174.743,
          11.398,
          241.1,
          113.966,
          102.431,
          61.206,
          200.637,
          161.814,
          111.441,
          148.5,
          171.716,
          83.6,
          85.117,
          148.226,
          101.154,
          109.269,
          32.489,
          212.073,
          161.795,
          203,
          161.467,
          229.981,
          162.437,
          11.168,
          22.505,
          257.169,
          88.7,
          194.008,
          210.9,
          72.99,
          138.848,
          116.025,
          260.59,
          191.033,
          5.061,
          123.363,
          228.814,
          137.793,
          212,
          143.7,
          234.1,
          254.689,
          239.182,
          246.412,
          54.3,
          82.9,
          114.3,
          171.51,
          220.9,
          129.995,
          110.349,
          65.825,
          64.015,
          220.908,
          204.3,
          97.902,
          189.113,
          15.073,
          96.7,
          225.322,
          36.736,
          240.821,
          137.783,
          150.504,
          129.6,
          141.1,
          65.667,
          23.432,
          61.105,
          9.465,
          214.8,
          184.823,
          22.144,
          94.538,
          211.3,
          179.5,
          22.114,
          131.1,
          196.828,
          210.9,
          121.286,
          39.75,
          262.074,
          247.467,
          111.757,
          125.708,
          175.2,
          118.4,
          179.413,
          106.242,
          46.497,
          72.4,
          251.854,
          13.338,
          175.213,
          242.923,
          156.5,
          78.848,
          133.145,
          227.719,
          146.061,
          2.812,
          20.4,
          72.637
         ],
         "y0": " ",
         "yaxis": "y"
        }
       ],
       "layout": {
        "legend": {
         "tracegroupgap": 0
        },
        "template": {
         "data": {
          "bar": [
           {
            "error_x": {
             "color": "#2a3f5f"
            },
            "error_y": {
             "color": "#2a3f5f"
            },
            "marker": {
             "line": {
              "color": "#E5ECF6",
              "width": 0.5
             },
             "pattern": {
              "fillmode": "overlay",
              "size": 10,
              "solidity": 0.2
             }
            },
            "type": "bar"
           }
          ],
          "barpolar": [
           {
            "marker": {
             "line": {
              "color": "#E5ECF6",
              "width": 0.5
             },
             "pattern": {
              "fillmode": "overlay",
              "size": 10,
              "solidity": 0.2
             }
            },
            "type": "barpolar"
           }
          ],
          "carpet": [
           {
            "aaxis": {
             "endlinecolor": "#2a3f5f",
             "gridcolor": "white",
             "linecolor": "white",
             "minorgridcolor": "white",
             "startlinecolor": "#2a3f5f"
            },
            "baxis": {
             "endlinecolor": "#2a3f5f",
             "gridcolor": "white",
             "linecolor": "white",
             "minorgridcolor": "white",
             "startlinecolor": "#2a3f5f"
            },
            "type": "carpet"
           }
          ],
          "choropleth": [
           {
            "colorbar": {
             "outlinewidth": 0,
             "ticks": ""
            },
            "type": "choropleth"
           }
          ],
          "contour": [
           {
            "colorbar": {
             "outlinewidth": 0,
             "ticks": ""
            },
            "colorscale": [
             [
              0,
              "#0d0887"
             ],
             [
              0.1111111111111111,
              "#46039f"
             ],
             [
              0.2222222222222222,
              "#7201a8"
             ],
             [
              0.3333333333333333,
              "#9c179e"
             ],
             [
              0.4444444444444444,
              "#bd3786"
             ],
             [
              0.5555555555555556,
              "#d8576b"
             ],
             [
              0.6666666666666666,
              "#ed7953"
             ],
             [
              0.7777777777777778,
              "#fb9f3a"
             ],
             [
              0.8888888888888888,
              "#fdca26"
             ],
             [
              1,
              "#f0f921"
             ]
            ],
            "type": "contour"
           }
          ],
          "contourcarpet": [
           {
            "colorbar": {
             "outlinewidth": 0,
             "ticks": ""
            },
            "type": "contourcarpet"
           }
          ],
          "heatmap": [
           {
            "colorbar": {
             "outlinewidth": 0,
             "ticks": ""
            },
            "colorscale": [
             [
              0,
              "#0d0887"
             ],
             [
              0.1111111111111111,
              "#46039f"
             ],
             [
              0.2222222222222222,
              "#7201a8"
             ],
             [
              0.3333333333333333,
              "#9c179e"
             ],
             [
              0.4444444444444444,
              "#bd3786"
             ],
             [
              0.5555555555555556,
              "#d8576b"
             ],
             [
              0.6666666666666666,
              "#ed7953"
             ],
             [
              0.7777777777777778,
              "#fb9f3a"
             ],
             [
              0.8888888888888888,
              "#fdca26"
             ],
             [
              1,
              "#f0f921"
             ]
            ],
            "type": "heatmap"
           }
          ],
          "heatmapgl": [
           {
            "colorbar": {
             "outlinewidth": 0,
             "ticks": ""
            },
            "colorscale": [
             [
              0,
              "#0d0887"
             ],
             [
              0.1111111111111111,
              "#46039f"
             ],
             [
              0.2222222222222222,
              "#7201a8"
             ],
             [
              0.3333333333333333,
              "#9c179e"
             ],
             [
              0.4444444444444444,
              "#bd3786"
             ],
             [
              0.5555555555555556,
              "#d8576b"
             ],
             [
              0.6666666666666666,
              "#ed7953"
             ],
             [
              0.7777777777777778,
              "#fb9f3a"
             ],
             [
              0.8888888888888888,
              "#fdca26"
             ],
             [
              1,
              "#f0f921"
             ]
            ],
            "type": "heatmapgl"
           }
          ],
          "histogram": [
           {
            "marker": {
             "pattern": {
              "fillmode": "overlay",
              "size": 10,
              "solidity": 0.2
             }
            },
            "type": "histogram"
           }
          ],
          "histogram2d": [
           {
            "colorbar": {
             "outlinewidth": 0,
             "ticks": ""
            },
            "colorscale": [
             [
              0,
              "#0d0887"
             ],
             [
              0.1111111111111111,
              "#46039f"
             ],
             [
              0.2222222222222222,
              "#7201a8"
             ],
             [
              0.3333333333333333,
              "#9c179e"
             ],
             [
              0.4444444444444444,
              "#bd3786"
             ],
             [
              0.5555555555555556,
              "#d8576b"
             ],
             [
              0.6666666666666666,
              "#ed7953"
             ],
             [
              0.7777777777777778,
              "#fb9f3a"
             ],
             [
              0.8888888888888888,
              "#fdca26"
             ],
             [
              1,
              "#f0f921"
             ]
            ],
            "type": "histogram2d"
           }
          ],
          "histogram2dcontour": [
           {
            "colorbar": {
             "outlinewidth": 0,
             "ticks": ""
            },
            "colorscale": [
             [
              0,
              "#0d0887"
             ],
             [
              0.1111111111111111,
              "#46039f"
             ],
             [
              0.2222222222222222,
              "#7201a8"
             ],
             [
              0.3333333333333333,
              "#9c179e"
             ],
             [
              0.4444444444444444,
              "#bd3786"
             ],
             [
              0.5555555555555556,
              "#d8576b"
             ],
             [
              0.6666666666666666,
              "#ed7953"
             ],
             [
              0.7777777777777778,
              "#fb9f3a"
             ],
             [
              0.8888888888888888,
              "#fdca26"
             ],
             [
              1,
              "#f0f921"
             ]
            ],
            "type": "histogram2dcontour"
           }
          ],
          "mesh3d": [
           {
            "colorbar": {
             "outlinewidth": 0,
             "ticks": ""
            },
            "type": "mesh3d"
           }
          ],
          "parcoords": [
           {
            "line": {
             "colorbar": {
              "outlinewidth": 0,
              "ticks": ""
             }
            },
            "type": "parcoords"
           }
          ],
          "pie": [
           {
            "automargin": true,
            "type": "pie"
           }
          ],
          "scatter": [
           {
            "marker": {
             "colorbar": {
              "outlinewidth": 0,
              "ticks": ""
             }
            },
            "type": "scatter"
           }
          ],
          "scatter3d": [
           {
            "line": {
             "colorbar": {
              "outlinewidth": 0,
              "ticks": ""
             }
            },
            "marker": {
             "colorbar": {
              "outlinewidth": 0,
              "ticks": ""
             }
            },
            "type": "scatter3d"
           }
          ],
          "scattercarpet": [
           {
            "marker": {
             "colorbar": {
              "outlinewidth": 0,
              "ticks": ""
             }
            },
            "type": "scattercarpet"
           }
          ],
          "scattergeo": [
           {
            "marker": {
             "colorbar": {
              "outlinewidth": 0,
              "ticks": ""
             }
            },
            "type": "scattergeo"
           }
          ],
          "scattergl": [
           {
            "marker": {
             "colorbar": {
              "outlinewidth": 0,
              "ticks": ""
             }
            },
            "type": "scattergl"
           }
          ],
          "scattermapbox": [
           {
            "marker": {
             "colorbar": {
              "outlinewidth": 0,
              "ticks": ""
             }
            },
            "type": "scattermapbox"
           }
          ],
          "scatterpolar": [
           {
            "marker": {
             "colorbar": {
              "outlinewidth": 0,
              "ticks": ""
             }
            },
            "type": "scatterpolar"
           }
          ],
          "scatterpolargl": [
           {
            "marker": {
             "colorbar": {
              "outlinewidth": 0,
              "ticks": ""
             }
            },
            "type": "scatterpolargl"
           }
          ],
          "scatterternary": [
           {
            "marker": {
             "colorbar": {
              "outlinewidth": 0,
              "ticks": ""
             }
            },
            "type": "scatterternary"
           }
          ],
          "surface": [
           {
            "colorbar": {
             "outlinewidth": 0,
             "ticks": ""
            },
            "colorscale": [
             [
              0,
              "#0d0887"
             ],
             [
              0.1111111111111111,
              "#46039f"
             ],
             [
              0.2222222222222222,
              "#7201a8"
             ],
             [
              0.3333333333333333,
              "#9c179e"
             ],
             [
              0.4444444444444444,
              "#bd3786"
             ],
             [
              0.5555555555555556,
              "#d8576b"
             ],
             [
              0.6666666666666666,
              "#ed7953"
             ],
             [
              0.7777777777777778,
              "#fb9f3a"
             ],
             [
              0.8888888888888888,
              "#fdca26"
             ],
             [
              1,
              "#f0f921"
             ]
            ],
            "type": "surface"
           }
          ],
          "table": [
           {
            "cells": {
             "fill": {
              "color": "#EBF0F8"
             },
             "line": {
              "color": "white"
             }
            },
            "header": {
             "fill": {
              "color": "#C8D4E3"
             },
             "line": {
              "color": "white"
             }
            },
            "type": "table"
           }
          ]
         },
         "layout": {
          "annotationdefaults": {
           "arrowcolor": "#2a3f5f",
           "arrowhead": 0,
           "arrowwidth": 1
          },
          "autotypenumbers": "strict",
          "coloraxis": {
           "colorbar": {
            "outlinewidth": 0,
            "ticks": ""
           }
          },
          "colorscale": {
           "diverging": [
            [
             0,
             "#8e0152"
            ],
            [
             0.1,
             "#c51b7d"
            ],
            [
             0.2,
             "#de77ae"
            ],
            [
             0.3,
             "#f1b6da"
            ],
            [
             0.4,
             "#fde0ef"
            ],
            [
             0.5,
             "#f7f7f7"
            ],
            [
             0.6,
             "#e6f5d0"
            ],
            [
             0.7,
             "#b8e186"
            ],
            [
             0.8,
             "#7fbc41"
            ],
            [
             0.9,
             "#4d9221"
            ],
            [
             1,
             "#276419"
            ]
           ],
           "sequential": [
            [
             0,
             "#0d0887"
            ],
            [
             0.1111111111111111,
             "#46039f"
            ],
            [
             0.2222222222222222,
             "#7201a8"
            ],
            [
             0.3333333333333333,
             "#9c179e"
            ],
            [
             0.4444444444444444,
             "#bd3786"
            ],
            [
             0.5555555555555556,
             "#d8576b"
            ],
            [
             0.6666666666666666,
             "#ed7953"
            ],
            [
             0.7777777777777778,
             "#fb9f3a"
            ],
            [
             0.8888888888888888,
             "#fdca26"
            ],
            [
             1,
             "#f0f921"
            ]
           ],
           "sequentialminus": [
            [
             0,
             "#0d0887"
            ],
            [
             0.1111111111111111,
             "#46039f"
            ],
            [
             0.2222222222222222,
             "#7201a8"
            ],
            [
             0.3333333333333333,
             "#9c179e"
            ],
            [
             0.4444444444444444,
             "#bd3786"
            ],
            [
             0.5555555555555556,
             "#d8576b"
            ],
            [
             0.6666666666666666,
             "#ed7953"
            ],
            [
             0.7777777777777778,
             "#fb9f3a"
            ],
            [
             0.8888888888888888,
             "#fdca26"
            ],
            [
             1,
             "#f0f921"
            ]
           ]
          },
          "colorway": [
           "#636efa",
           "#EF553B",
           "#00cc96",
           "#ab63fa",
           "#FFA15A",
           "#19d3f3",
           "#FF6692",
           "#B6E880",
           "#FF97FF",
           "#FECB52"
          ],
          "font": {
           "color": "#2a3f5f"
          },
          "geo": {
           "bgcolor": "white",
           "lakecolor": "white",
           "landcolor": "#E5ECF6",
           "showlakes": true,
           "showland": true,
           "subunitcolor": "white"
          },
          "hoverlabel": {
           "align": "left"
          },
          "hovermode": "closest",
          "mapbox": {
           "style": "light"
          },
          "paper_bgcolor": "white",
          "plot_bgcolor": "#E5ECF6",
          "polar": {
           "angularaxis": {
            "gridcolor": "white",
            "linecolor": "white",
            "ticks": ""
           },
           "bgcolor": "#E5ECF6",
           "radialaxis": {
            "gridcolor": "white",
            "linecolor": "white",
            "ticks": ""
           }
          },
          "scene": {
           "xaxis": {
            "backgroundcolor": "#E5ECF6",
            "gridcolor": "white",
            "gridwidth": 2,
            "linecolor": "white",
            "showbackground": true,
            "ticks": "",
            "zerolinecolor": "white"
           },
           "yaxis": {
            "backgroundcolor": "#E5ECF6",
            "gridcolor": "white",
            "gridwidth": 2,
            "linecolor": "white",
            "showbackground": true,
            "ticks": "",
            "zerolinecolor": "white"
           },
           "zaxis": {
            "backgroundcolor": "#E5ECF6",
            "gridcolor": "white",
            "gridwidth": 2,
            "linecolor": "white",
            "showbackground": true,
            "ticks": "",
            "zerolinecolor": "white"
           }
          },
          "shapedefaults": {
           "line": {
            "color": "#2a3f5f"
           }
          },
          "ternary": {
           "aaxis": {
            "gridcolor": "white",
            "linecolor": "white",
            "ticks": ""
           },
           "baxis": {
            "gridcolor": "white",
            "linecolor": "white",
            "ticks": ""
           },
           "bgcolor": "#E5ECF6",
           "caxis": {
            "gridcolor": "white",
            "linecolor": "white",
            "ticks": ""
           }
          },
          "title": {
           "x": 0.05
          },
          "xaxis": {
           "automargin": true,
           "gridcolor": "white",
           "linecolor": "white",
           "ticks": "",
           "title": {
            "standoff": 15
           },
           "zerolinecolor": "white",
           "zerolinewidth": 2
          },
          "yaxis": {
           "automargin": true,
           "gridcolor": "white",
           "linecolor": "white",
           "ticks": "",
           "title": {
            "standoff": 15
           },
           "zerolinecolor": "white",
           "zerolinewidth": 2
          }
         }
        },
        "title": {
         "text": "Total Vaccinations Per 100"
        },
        "violinmode": "group",
        "xaxis": {
         "anchor": "y",
         "domain": [
          0,
          1
         ]
        },
        "yaxis": {
         "anchor": "x",
         "domain": [
          0,
          1
         ],
         "title": {
          "text": "TOTAL_VACCINATIONS_PER100"
         }
        }
       }
      },
      "text/html": [
       "<div>                            <div id=\"e17bb322-e6ba-4636-8182-93ebe0c8fb52\" class=\"plotly-graph-div\" style=\"height:525px; width:100%;\"></div>            <script type=\"text/javascript\">                require([\"plotly\"], function(Plotly) {                    window.PLOTLYENV=window.PLOTLYENV || {};                                    if (document.getElementById(\"e17bb322-e6ba-4636-8182-93ebe0c8fb52\")) {                    Plotly.newPlot(                        \"e17bb322-e6ba-4636-8182-93ebe0c8fb52\",                        [{\"alignmentgroup\":\"True\",\"box\":{\"visible\":true},\"hovertemplate\":\"%{customdata[0]}<br>%{customdata[6]}\",\"legendgroup\":\"\",\"marker\":{\"color\":\"#636efa\"},\"name\":\"\",\"offsetgroup\":\"\",\"orientation\":\"v\",\"points\":\"all\",\"scalegroup\":\"True\",\"showlegend\":false,\"x0\":\" \",\"xaxis\":\"x\",\"y\":[15.854,99.9,34.676,196.061,198.1,59.292,157.319,138.585,227.868,72.6,160.391,232.051,206.3,134.1,86.681,202.448,163.581,126.407,138.2,220.1,120.237,34.289,211.347,247.504,119.418,197.227,28.441,58.7,115.998,204.118,135.939,268.154,63.3,14.101,0.137,137.141,240.207,6.922,224.807,220.6,24.715,14.338,297.638,230.908,166.041,73.887,15.065,225.843,216.281,48.35,129.5,321.906,154.331,201.0,164.8,3.296,226.8,31.561,92.696,143.399,199.901,84.168,166.277,34.212,156.0,46.148,25.59,126.529,212.614,163.948,214.2,219.9,77.413,122.676,25.47,29.793,67.3,216.4,52.147,355.748,196.8,140.465,78.853,94.432,206.827,98.008,242.624,46.66,28.593,115.685,2.505,142.01,167.9,220.7,142.199,151.865,177.822,45.631,223.9,223.07,173.5,228.4,48.727,220.913,217.984,97.537,138.9,34.158,126.611,101.8,188.358,43.7,152.98,148.2,82.551,44.295,39.479,51.149,183.5,160.1,202.0,8.558,11.325,219.286,174.743,11.398,241.1,113.966,102.431,61.206,200.637,161.814,111.441,148.5,171.716,83.6,85.117,148.226,101.154,109.269,32.489,212.073,161.795,203.0,161.467,229.981,162.437,11.168,22.505,257.169,88.7,194.008,210.9,72.99,138.848,116.025,260.59,191.033,5.061,123.363,228.814,137.793,212.0,143.7,234.1,254.689,239.182,246.412,54.3,82.9,114.3,171.51,220.9,129.995,110.349,65.825,64.015,220.908,204.3,97.902,189.113,15.073,96.7,225.322,36.736,240.821,137.783,150.504,129.6,141.1,65.667,23.432,61.105,9.465,214.8,184.823,22.144,94.538,211.3,179.5,22.114,131.1,196.828,210.9,121.286,39.75,262.074,247.467,111.757,125.708,175.2,118.4,179.413,106.242,46.497,72.4,251.854,13.338,175.213,242.923,156.5,78.848,133.145,227.719,146.061,2.812,20.4,72.637],\"y0\":\" \",\"yaxis\":\"y\",\"type\":\"violin\",\"line\":{\"color\":\"black\"},\"customdata\":[[\"Afghanistan\",\"AFG\",\"EMRO\",\"01/06/2022\",6171652,5456919.0,15.854,14.018,4807917.0,12.351,\"AstraZeneca - Vaxzevria,Beijing CNBG - BBIBP-CorV,Bharat - Covaxin,CanSino - Convidecia,Gamaleya - Gam-Covid-Vac,Gamaleya - Sputnik-Light,Janssen - Ad26.COV 2-S,Moderna - Spikevax,Pfizer BioNTech - Comirnaty,SII - Covishield,Sinovac - CoronaVac\",11.0],[\"Albania\",\"ALB\",\"EURO\",\"29/05/2022\",2873654,1320244.0,99.9,46.39,1241712.0,43.631,\"AstraZeneca - Vaxzevria,Gamaleya - Gam-Covid-Vac,Pfizer BioNTech - Comirnaty,SII - Covishield,Sinovac - CoronaVac\",5.0],[\"Algeria\",\"DZA\",\"AFRO\",\"05/06/2022\",15205854,7840131.0,34.676,17.879,6481186.0,14.78,\"Beijing CNBG - BBIBP-CorV,Gamaleya - Gam-Covid-Vac,SII - Covishield,Sinovac - CoronaVac\",4.0],[\"American Samoa\",\"ASM\",\"WPRO\",\"05/06/2022\",108220,44456.0,196.061,80.541,40945.0,74.18,\"Janssen - Ad26.COV 2-S,Moderna - Spikevax,Pfizer BioNTech - Comirnaty\",3.0],[\"Andorra\",\"AND\",\"EURO\",\"29/05/2022\",153072,57880.0,198.1,75.981,53450.0,70.166,\"AstraZeneca - Vaxzevria,Moderna - Spikevax,Pfizer BioNTech - Comirnaty\",3.0],[\"Angola\",\"AGO\",\"AFRO\",\"05/06/2022\",19486927,12700926.0,59.292,38.644,6811268.0,20.724,\"SII - Covishield\",1.0],[\"Anguilla\",\"AIA\",\"AMRO\",\"03/06/2022\",23601,10746.0,157.319,71.63,10054.0,67.018,\"AstraZeneca - Vaxzevria,Pfizer BioNTech - Comirnaty\",2.0],[\"Antigua and Barbuda\",\"ATG\",\"AMRO\",\"03/06/2022\",135715,63995.0,138.585,65.348,61882.0,63.191,\"AstraZeneca - Vaxzevria,Beijing CNBG - BBIBP-CorV,Gamaleya - Gam-Covid-Vac,Janssen - Ad26.COV 2-S,Pfizer BioNTech - Comirnaty,SII - Covishield\",6.0],[\"Argentina\",\"ARG\",\"AMRO\",\"03/06/2022\",102986910,41110433.0,227.868,90.961,37483237.0,82.935,\"AstraZeneca - Vaxzevria,Beijing CNBG - BBIBP-CorV,CanSino - Convidecia,Gamaleya - Gam-Covid-Vac,Moderna - Spikevax,Pfizer BioNTech - Comirnaty,SII - Covishield\",7.0],[\"Armenia\",\"ARM\",\"EURO\",\"22/05/2022\",2150112,1129669.0,72.6,38.123,985807.0,33.268,\"AstraZeneca - Vaxzevria,Beijing CNBG - BBIBP-CorV,Gamaleya - Gam-Covid-Vac,Gamaleya - Sputnik-Light,Moderna - Spikevax,Pfizer BioNTech - Comirnaty,Sinovac - CoronaVac,Wuhan CNBG - Inactivated\",8.0],[\"Aruba\",\"ABW\",\"AMRO\",\"03/06/2022\",171243,88853.0,160.391,83.222,82390.0,77.169,\"Janssen - Ad26.COV 2-S,Pfizer BioNTech - Comirnaty\",2.0],[\"Australia\",\"AUS\",\"WPRO\",\"05/06/2022\",59172637,22318568.0,232.051,87.524,21612293.0,84.754,\"AstraZeneca - Vaxzevria,Janssen - Ad26.COV 2-S,Moderna - Spikevax,Novavax-NUVAXOVID,Pfizer BioNTech - Comirnaty\",5.0],[\"Austria\",\"AUT\",\"EURO\",\"29/05/2022\",18360721,6828403.0,206.3,76.714,6618435.0,74.356,\"AstraZeneca - Vaxzevria,Janssen - Ad26.COV 2-S,Moderna - Spikevax,Novavax-NUVAXOVID,Pfizer BioNTech - Comirnaty,Unknown Vaccine\",6.0],[\"Azerbaijan\",\"AZE\",\"EURO\",\"29/05/2022\",13594097,5372656.0,134.1,52.989,4853656.0,47.87,\"AstraZeneca - Vaxzevria,Gamaleya - Gam-Covid-Vac,Gamaleya - Sputnik-Light,Pfizer BioNTech - Comirnaty,Sinovac - CoronaVac\",5.0],[\"Bahamas\",\"BHS\",\"AMRO\",\"03/06/2022\",340866,166471.0,86.681,42.333,157964.0,40.169,\"AstraZeneca - Vaxzevria,Janssen - Ad26.COV 2-S,Pfizer BioNTech - Comirnaty,SII - Covishield\",4.0],[\"Bahrain\",\"BHR\",\"EMRO\",\"01/06/2022\",3444799,1236895.0,202.448,72.691,1220655.0,71.737,\"AstraZeneca - Vaxzevria,Beijing CNBG - BBIBP-CorV,Bharat - Covaxin,CanSino - Convidecia,Gamaleya - Gam-Covid-Vac,Gamaleya - Sputnik-Light,Janssen - Ad26.COV 2-S,Moderna - Spikevax,Pfizer BioNTech - Comirnaty,SII - Covishield,Sinovac - CoronaVac\",11.0],[\"Bangladesh\",\"BGD\",\"SEARO\",\"07/06/2022\",269401356,129092630.0,163.581,78.386,118088249.0,71.704,\"AstraZeneca - Vaxzevria,Beijing CNBG - BBIBP-CorV,Gamaleya - Gam-Covid-Vac,Janssen - Ad26.COV 2-S,Moderna - Spikevax,Pfizer BioNTech - Comirnaty,SII - Covishield,Sinovac - CoronaVac\",8.0],[\"Barbados\",\"BRB\",\"AMRO\",\"03/06/2022\",363262,162385.0,126.407,56.506,152808.0,53.174,\"AstraZeneca - Vaxzevria,Beijing CNBG - BBIBP-CorV,Janssen - Ad26.COV 2-S,Pfizer BioNTech - Comirnaty,SII - Covishield\",5.0],[\"Belarus\",\"BLR\",\"EURO\",\"29/05/2022\",13054679,6388371.0,138.2,67.607,6237709.0,66.012,\"Beijing CNBG - BBIBP-CorV,Chumakov - Covi-Vac,Gamaleya - Gam-Covid-Vac,Gamaleya - Sputnik-Light\",4.0],[\"Belgium\",\"BEL\",\"EURO\",\"29/05/2022\",25357830,9234117.0,220.1,80.14,9136723.0,79.295,\"AstraZeneca - Vaxzevria,Janssen - Ad26.COV 2-S,Moderna - Spikevax,Pfizer BioNTech - Comirnaty\",4.0],[\"Belize\",\"BLZ\",\"AMRO\",\"03/06/2022\",478096,237860.0,120.237,59.82,212057.0,53.33,\"AstraZeneca - Vaxzevria,Beijing CNBG - BBIBP-CorV,Janssen - Ad26.COV 2-S,Pfizer BioNTech - Comirnaty,SII - Covishield\",5.0],[\"Benin\",\"BEN\",\"AFRO\",\"05/06/2022\",4156907,3638324.0,34.289,30.011,2690085.0,22.19,\"AstraZeneca - Vaxzevria,Janssen - Ad26.COV 2-S,Pfizer BioNTech - Comirnaty,SII - Covishield,Sinovac - CoronaVac\",5.0],[\"Bermuda\",\"BMU\",\"AMRO\",\"03/06/2022\",131612,48554.0,211.347,77.97,47657.0,76.529,\"AstraZeneca - Vaxzevria,Pfizer BioNTech - Comirnaty\",2.0],[\"Bhutan\",\"BTN\",\"SEARO\",\"05/06/2022\",1909762,692874.0,247.504,89.796,672508.0,87.157,\"AstraZeneca - Vaxzevria,Beijing CNBG - BBIBP-CorV,Moderna - Spikevax,Pfizer BioNTech - Comirnaty,SII - Covishield\",5.0],[\"Bolivia (Plurinational State of)\",\"BOL\",\"AMRO\",\"03/06/2022\",13939699,7213127.0,119.418,61.793,5980603.0,51.234,\"Beijing CNBG - BBIBP-CorV,Gamaleya - Gam-Covid-Vac,Janssen - Ad26.COV 2-S,Moderna - Spikevax,Pfizer BioNTech - Comirnaty,SII - Covishield\",6.0],[\"Bonaire\",\"XAA\",\"AMRO\",\"03/06/2022\",41250,17523.0,197.227,83.782,15841.0,75.74,\"Unreported\",null],[\"Bonaire, Sint Eustatius and Saba\",\"BES\",\"AMRO\",\"09/04/2021\",7391,5726.0,28.441,22.034,2965.0,11.41,\"Moderna - Spikevax,Pfizer BioNTech - Comirnaty\",2.0],[\"Bosnia and Herzegovina\",\"BIH\",\"EURO\",\"29/01/2022\",1924950,943394.0,58.7,28.755,846080.0,25.789,\"AstraZeneca - AZD1222, Pfizer BioNTech - Comirnaty, Sinovac - CoronaVac, Gamaleya - Sputnik V\",4.0],[\"Botswana\",\"BWA\",\"AFRO\",\"05/06/2022\",2727844,1695294.0,115.998,72.09,1510940.0,64.251,\"Bharat - Covaxin,Janssen - Ad26.COV 2-S,Moderna - Spikevax,Pfizer BioNTech - Comirnaty,SII - Covishield,Sinovac - CoronaVac\",6.0],[\"Brazil\",\"BRA\",\"AMRO\",\"03/06/2022\",433872497,181071481.0,204.118,85.186,163459745.0,76.901,\"AstraZeneca - Vaxzevria,Janssen - Ad26.COV 2-S,Pfizer BioNTech - Comirnaty,SII - Covishield,Sinovac - CoronaVac\",5.0],[\"British Virgin Islands\",\"VGB\",\"AMRO\",\"03/06/2022\",41104,19348.0,135.939,63.988,18030.0,59.629,\"AstraZeneca - Vaxzevria,Janssen - Ad26.COV 2-S\",2.0],[\"Brunei Darussalam\",\"BRN\",\"WPRO\",\"05/06/2022\",1173118,444293.0,268.154,101.558,426764.0,97.551,\"AstraZeneca - Vaxzevria,Beijing CNBG - BBIBP-CorV,Janssen - Ad26.COV 2-S,Moderna - Spikevax,Pfizer BioNTech - Comirnaty\",5.0],[\"Bulgaria\",\"BGR\",\"EURO\",\"29/05/2022\",4398844,2090328.0,63.3,30.07,2061151.0,29.651,\"AstraZeneca - Vaxzevria,Janssen - Ad26.COV 2-S,Moderna - Spikevax,Pfizer BioNTech - Comirnaty\",4.0],[\"Burkina Faso\",\"BFA\",\"AFRO\",\"05/06/2022\",2947562,2449746.0,14.101,11.719,1555077.0,7.439,\"Beijing CNBG - BBIBP-CorV,Janssen - Ad26.COV 2-S,SII - Covishield\",3.0],[\"Burundi\",\"BDI\",\"AFRO\",\"05/06/2022\",16232,14388.0,0.137,0.121,13811.0,0.116,\"Beijing CNBG - BBIBP-CorV\",1.0],[\"Cabo Verde\",\"CPV\",\"AFRO\",\"05/06/2022\",762486,355232.0,137.141,63.892,307398.0,55.289,\"Beijing CNBG - BBIBP-CorV,Moderna - Spikevax,Pfizer BioNTech - Comirnaty,SII - Covishield\",4.0],[\"Cambodia\",\"KHM\",\"WPRO\",\"05/06/2022\",40160051,15045995.0,240.207,89.994,14328268.0,85.701,\"AstraZeneca - Vaxzevria,Beijing CNBG - BBIBP-CorV,Janssen - Ad26.COV 2-S,Moderna - Spikevax,Pfizer BioNTech - Comirnaty,SII - Covishield,Sinovac - CoronaVac\",7.0],[\"Cameroon\",\"CMR\",\"AFRO\",\"05/06/2022\",1837626,1558744.0,6.922,5.872,1215532.0,4.579,\"Beijing CNBG - BBIBP-CorV,Janssen - Ad26.COV 2-S,Pfizer BioNTech - Comirnaty,SII - Covishield\",4.0],[\"Canada\",\"CAN\",\"AMRO\",\"03/06/2022\",84847129,32562746.0,224.807,86.277,31250512.0,82.8,\"AstraZeneca - Vaxzevria,Janssen - Ad26.COV 2-S,Moderna - Spikevax,Pfizer BioNTech - Comirnaty,SII - Covishield\",5.0],[\"Cayman Islands\",\"CYM\",\"AMRO\",\"03/06/2022\",144978,61119.0,220.6,92.999,59292.0,90.219,\"Pfizer BioNTech - Comirnaty\",1.0],[\"Central African Republic\",\"CAF\",\"AFRO\",\"05/06/2022\",1193681,1101130.0,24.715,22.799,1044746.0,21.631,\"Bharat - Covaxin,SII - Covishield\",2.0],[\"Chad\",\"TCD\",\"AFRO\",\"05/06/2022\",2355126,2216437.0,14.338,13.494,2091466.0,12.733,\"Beijing CNBG - BBIBP-CorV\",1.0],[\"Chile\",\"CHL\",\"AMRO\",\"03/06/2022\",56897016,17965569.0,297.638,93.981,17528387.0,91.694,\"AstraZeneca - Vaxzevria,CanSino - Convidecia,Moderna - Spikevax,Pfizer BioNTech - Comirnaty,Sinovac - CoronaVac\",5.0],[\"China\",\"CHN\",\"WPRO\",\"05/06/2022\",3397315599,1297285455.0,230.908,88.174,1266874166.0,86.107,\"Anhui ZL - Zifivax,Beijing CNBG - BBIBP-CorV,CanSino - Convidecia,IMB - Covidful,Pfizer BioNTech - Comirnaty,Shenzhen - LV-SMENP-DC,Sinovac - CoronaVac,Wuhan CNBG - Inactivated\",8.0],[\"Colombia\",\"COL\",\"AMRO\",\"03/06/2022\",84486714,42292969.0,166.041,83.118,35958948.0,70.67,\"AstraZeneca - Vaxzevria,Janssen - Ad26.COV 2-S,Moderna - Spikevax,Pfizer BioNTech - Comirnaty,Sinovac - CoronaVac\",5.0],[\"Comoros\",\"COM\",\"AFRO\",\"05/06/2022\",642520,341302.0,73.887,39.248,301218.0,34.639,\"Beijing CNBG - BBIBP-CorV,Bharat - Covaxin,SII - Covishield\",3.0],[\"Congo\",\"COG\",\"AFRO\",\"05/06/2022\",831318,693902.0,15.065,12.575,652422.0,11.823,\"Beijing CNBG - BBIBP-CorV,Gamaleya - Gam-Covid-Vac,Moderna - Spikevax,SII - Covishield\",4.0],[\"Cook Islands\",\"COK\",\"WPRO\",\"05/06/2022\",39667,15013.0,225.843,85.476,14679.0,83.574,\"Pfizer BioNTech - Comirnaty\",1.0],[\"Costa Rica\",\"CRI\",\"AMRO\",\"03/06/2022\",11017624,4437629.0,216.281,87.113,4143017.0,81.329,\"AstraZeneca - Vaxzevria,Moderna - Spikevax,Pfizer BioNTech - Comirnaty\",3.0],[\"C\\u00f4te d\\u2019Ivoire\",\"CIV\",\"AFRO\",\"05/06/2022\",12753769,8026397.0,48.35,30.428,5540193.0,21.003,\"Beijing CNBG - BBIBP-CorV,Gamaleya - Gam-Covid-Vac,Janssen - Ad26.COV 2-S,Pfizer BioNTech - Comirnaty,SII - Covishield\",5.0],[\"Croatia\",\"HRV\",\"EURO\",\"29/05/2022\",5253369,2313092.0,129.5,57.032,2239483.0,55.185,\"AstraZeneca - Vaxzevria,Janssen - Ad26.COV 2-S,Moderna - Spikevax,Novavax-NUVAXOVID,Pfizer BioNTech - Comirnaty,Unknown Vaccine\",6.0],[\"Cuba\",\"CUB\",\"AMRO\",\"03/06/2022\",36461068,10670978.0,321.906,94.212,9965164.0,87.98,\"CIGB - CIGB-66,Finlay - Soberana Plus,Finlay - Soberana-02\",3.0],[\"Cura\\u00e7ao\",\"CUW\",\"AMRO\",\"03/06/2022\",253246,108161.0,154.331,65.914,99402.0,60.577,\"AstraZeneca - Vaxzevria,Moderna - Spikevax,Pfizer BioNTech - Comirnaty\",3.0],[\"Cyprus\",\"CYP\",\"EURO\",\"29/05/2022\",1785214,663886.0,201.0,74.762,659912.0,74.314,\"AstraZeneca - Vaxzevria,Janssen - Ad26.COV 2-S,Moderna - Spikevax,Novavax-NUVAXOVID,Pfizer BioNTech - Comirnaty\",5.0],[\"Czechia\",\"CZE\",\"EURO\",\"29/05/2022\",17620044,6956360.0,164.8,65.05,6868349.0,64.227,\"AstraZeneca - Vaxzevria,Janssen - Ad26.COV 2-S,Moderna - Spikevax,Novavax-NUVAXOVID,Pfizer BioNTech - Comirnaty\",5.0],[\"Democratic Republic of the Congo\",\"COD\",\"AFRO\",\"05/06/2022\",2952125,2416650.0,3.296,2.698,1710177.0,1.91,\"SII - Covishield\",1.0],[\"Denmark\",\"DNK\",\"EURO\",\"22/05/2022\",13204905,4831421.0,226.8,82.975,4783959.0,82.16,\"AstraZeneca - Vaxzevria,Janssen - Ad26.COV 2-S,Moderna - Spikevax,Pfizer BioNTech - Comirnaty,Unknown Vaccine\",5.0],[\"Djibouti\",\"DJI\",\"EMRO\",\"05/06/2022\",311823,175939.0,31.561,17.808,135884.0,13.753,\"AstraZeneca - Vaxzevria,Beijing CNBG - BBIBP-CorV,Bharat - Covaxin,CanSino - Convidecia,Gamaleya - Gam-Covid-Vac,Gamaleya - Sputnik-Light,Janssen - Ad26.COV 2-S,Moderna - Spikevax,Pfizer BioNTech - Comirnaty,SII - Covishield,Sinovac - CoronaVac\",11.0],[\"Dominica\",\"DMA\",\"AMRO\",\"03/06/2022\",66733,32759.0,92.696,45.504,30328.0,42.127,\"AstraZeneca - Vaxzevria,Beijing CNBG - BBIBP-CorV,Pfizer BioNTech - Comirnaty,SII - Covishield\",4.0],[\"Dominican Republic\",\"DOM\",\"AMRO\",\"03/06/2022\",15555792,7222205.0,143.399,66.577,5982874.0,55.152,\"AstraZeneca - Vaxzevria,SII - Covishield,Sinovac - CoronaVac\",3.0],[\"Ecuador\",\"ECU\",\"AMRO\",\"03/06/2022\",35268627,15167715.0,199.901,85.97,13978527.0,79.23,\"AstraZeneca - Vaxzevria,CanSino - Convidecia,Pfizer BioNTech - Comirnaty,Sinovac - CoronaVac\",4.0],[\"Egypt\",\"EGY\",\"EMRO\",\"05/06/2022\",86132442,47851408.0,84.168,46.76,35333851.0,34.528,\"AstraZeneca - Vaxzevria,Beijing CNBG - BBIBP-CorV,Bharat - Covaxin,CanSino - Convidecia,Gamaleya - Gam-Covid-Vac,Gamaleya - Sputnik-Light,Janssen - Ad26.COV 2-S,Moderna - Spikevax,Pfizer BioNTech - Comirnaty,Sinovac - CoronaVac\",10.0],[\"El Salvador\",\"SLV\",\"AMRO\",\"03/06/2022\",10785039,4588952.0,166.277,70.749,4296101.0,66.234,\"AstraZeneca - Vaxzevria,Beijing CNBG - BBIBP-CorV,Moderna - Spikevax,Pfizer BioNTech - Comirnaty,SII - Covishield,Sinovac - CoronaVac\",6.0],[\"Equatorial Guinea\",\"GNQ\",\"AFRO\",\"05/06/2022\",479991,265505.0,34.212,18.924,206762.0,14.737,\"Beijing CNBG - BBIBP-CorV,Sinovac - CoronaVac\",2.0],[\"Estonia\",\"EST\",\"EURO\",\"29/05/2022\",2073453,841601.0,156.0,63.327,837237.0,62.999,\"AstraZeneca - Vaxzevria,Janssen - Ad26.COV 2-S,Moderna - Spikevax,Novavax-NUVAXOVID,Pfizer BioNTech - Comirnaty\",5.0],[\"Eswatini\",\"SWZ\",\"AFRO\",\"05/06/2022\",535393,387468.0,46.148,33.398,336066.0,28.967,\"Janssen - Ad26.COV 2-S,Pfizer BioNTech - Comirnaty,SII - Covishield\",3.0],[\"Ethiopia\",\"ETH\",\"AFRO\",\"05/06/2022\",29419678,24770491.0,25.59,21.546,21292024.0,18.521,\"Beijing CNBG - BBIBP-CorV,Bharat - Covaxin,Janssen - Ad26.COV 2-S,SII - Covishield\",4.0],[\"Falkland Islands (Malvinas)\",\"FLK\",\"AMRO\",\"14/04/2021\",4407,2632.0,126.529,75.567,1775.0,50.962,\"AstraZeneca - AZD1222\",1.0],[\"Faroe Islands\",\"FRO\",\"EURO\",\"18/02/2022\",103894,41715.0,212.614,85.368,40895.0,83.69,\"Moderna - mRNA-1273, Pfizer BioNTech - Comirnaty\",2.0],[\"Fiji\",\"FJI\",\"WPRO\",\"05/06/2022\",1469702,705891.0,163.948,78.743,634301.0,70.757,\"AstraZeneca - Vaxzevria,Moderna - Spikevax,SII - Covishield\",3.0],[\"Finland\",\"FIN\",\"EURO\",\"29/05/2022\",11833552,4531577.0,214.2,82.015,4340329.0,78.554,\"AstraZeneca - Vaxzevria,Janssen - Ad26.COV 2-S,Moderna - Spikevax,Pfizer BioNTech - Comirnaty,Unknown Vaccine\",5.0],[\"France\",\"FRA\",\"EURO\",\"29/05/2022\",148063245,54398084.0,219.9,80.805,52812105.0,78.449,\"AstraZeneca - Vaxzevria,Janssen - Ad26.COV 2-S,Moderna - Spikevax,Novavax-NUVAXOVID,Pfizer BioNTech - Comirnaty,Unknown Vaccine\",6.0],[\"French Guiana\",\"GUF\",\"AMRO\",\"03/06/2022\",231220,98390.0,77.413,32.941,89111.0,29.835,\"Moderna - Spikevax,Pfizer BioNTech - Comirnaty\",2.0],[\"French Polynesia\",\"PYF\",\"WPRO\",\"05/06/2022\",344607,186597.0,122.676,66.426,183548.0,65.341,\"Janssen - Ad26.COV 2-S,Pfizer BioNTech - Comirnaty\",2.0],[\"Gabon\",\"GAB\",\"AFRO\",\"05/06/2022\",566886,308489.0,25.47,13.86,256088.0,11.506,\"Beijing CNBG - BBIBP-CorV,Gamaleya - Gam-Covid-Vac,Pfizer BioNTech - Comirnaty\",3.0],[\"Gambia\",\"GMB\",\"AFRO\",\"05/06/2022\",720000,449464.0,29.793,18.599,354340.0,14.662,\"Beijing CNBG - BBIBP-CorV,SII - Covishield\",2.0],[\"Georgia\",\"GEO\",\"EURO\",\"22/05/2022\",2685459,1281508.0,67.3,32.125,1166039.0,29.23,\"AstraZeneca - Vaxzevria,Beijing CNBG - BBIBP-CorV,Pfizer BioNTech - Comirnaty,Sinovac - CoronaVac\",4.0],[\"Germany\",\"DEU\",\"EURO\",\"29/05/2022\",179952194,64542796.0,216.4,77.607,64501003.0,77.556,\"AstraZeneca - Vaxzevria,Janssen - Ad26.COV 2-S,Moderna - Spikevax,Novavax-NUVAXOVID,Pfizer BioNTech - Comirnaty,Unknown Vaccine\",6.0],[\"Ghana\",\"GHA\",\"AFRO\",\"05/06/2022\",16203630,9786631.0,52.147,31.496,6410470.0,20.63,\"Gamaleya - Gam-Covid-Vac,SII - Covishield\",2.0],[\"Gibraltar\",\"GIB\",\"EURO\",\"21/04/2022\",119855,42074.0,355.748,124.882,41421.0,122.944,\"AstraZeneca - AZD1222, Pfizer BioNTech - Comirnaty\",2.0],[\"Greece\",\"GRC\",\"EURO\",\"29/05/2022\",21094849,7897973.0,196.8,73.685,7713777.0,71.967,\"AstraZeneca - Vaxzevria,Janssen - Ad26.COV 2-S,Moderna - Spikevax,Novavax-NUVAXOVID,Pfizer BioNTech - Comirnaty\",5.0],[\"Greenland\",\"GRL\",\"EURO\",\"07/03/2022\",79745,41243.0,140.465,72.647,38502.0,67.819,\"Moderna - mRNA-1273\",1.0],[\"Grenada\",\"GRD\",\"AMRO\",\"03/06/2022\",88728,43650.0,78.853,38.792,38410.0,34.135,\"AstraZeneca - Vaxzevria,Janssen - Ad26.COV 2-S,Pfizer BioNTech - Comirnaty,SII - Covishield\",4.0],[\"Guadeloupe\",\"GLP\",\"AMRO\",\"03/06/2022\",377846,148990.0,94.432,37.236,143076.0,35.758,\"AstraZeneca - Vaxzevria,Janssen - Ad26.COV 2-S,Moderna - Spikevax,Pfizer BioNTech - Comirnaty\",6.0],[\"Guam\",\"GUM\",\"WPRO\",\"05/06/2022\",349073,154519.0,206.827,91.553,140525.0,83.262,\"Janssen - Ad26.COV 2-S,Moderna - Spikevax,Pfizer BioNTech - Comirnaty\",3.0],[\"Guatemala\",\"GTM\",\"AMRO\",\"03/06/2022\",17558698,8249568.0,98.008,46.047,6254215.0,34.909,\"AstraZeneca - Vaxzevria,Gamaleya - Gam-Covid-Vac,Moderna - Spikevax,Pfizer BioNTech - Comirnaty,SII - Covishield\",5.0],[\"Guernsey\",\"GGY\",\"EURO\",\"01/06/2022\",156415,null,242.624,null,null,null,\"Moderna - mRNA-1273, AstraZeneca - AZD1222, Pfizer BioNTech - Comirnaty\",3.0],[\"Guinea\",\"GIN\",\"AFRO\",\"05/06/2022\",6127699,4477740.0,46.66,34.096,2511039.0,19.12,\"Beijing CNBG - BBIBP-CorV,Gamaleya - Gam-Covid-Vac,Janssen - Ad26.COV 2-S,Pfizer BioNTech - Comirnaty,SII - Covishield,Sinovac - CoronaVac\",6.0],[\"Guinea-Bissau\",\"GNB\",\"AFRO\",\"05/06/2022\",562717,529346.0,28.593,26.898,341781.0,17.367,\"Beijing CNBG - BBIBP-CorV,SII - Covishield\",2.0],[\"Guyana\",\"GUY\",\"AMRO\",\"03/06/2022\",909924,476991.0,115.685,60.643,367326.0,46.701,\"AstraZeneca - Vaxzevria,Beijing CNBG - BBIBP-CorV,Gamaleya - Gam-Covid-Vac,Janssen - Ad26.COV 2-S,Moderna - Spikevax,Pfizer BioNTech - Comirnaty,SII - Covishield\",7.0],[\"Haiti\",\"HTI\",\"AMRO\",\"03/06/2022\",285651,188584.0,2.505,1.654,132177.0,1.159,\"Janssen - Ad26.COV 2-S,Moderna - Spikevax\",2.0],[\"Honduras\",\"HND\",\"AMRO\",\"03/06/2022\",14065533,6210907.0,142.01,62.707,5307723.0,53.588,\"AstraZeneca - Vaxzevria,Gamaleya - Gam-Covid-Vac,Janssen - Ad26.COV 2-S,Moderna - Spikevax,Pfizer BioNTech - Comirnaty,SII - Covishield\",6.0],[\"Hungary\",\"HUN\",\"EURO\",\"29/05/2022\",16398692,6346095.0,167.9,64.958,6139822.0,62.847,\"AstraZeneca - Vaxzevria,Beijing CNBG - BBIBP-CorV,Gamaleya - Gam-Covid-Vac,Janssen - Ad26.COV 2-S,Moderna - Spikevax,Pfizer BioNTech - Comirnaty,Sinovac - CoronaVac\",7.0],[\"Iceland\",\"ISL\",\"EURO\",\"29/05/2022\",803561,306483.0,220.7,84.168,296820.0,81.514,\"AstraZeneca - Vaxzevria,Janssen - Ad26.COV 2-S,Moderna - Spikevax,Pfizer BioNTech - Comirnaty\",4.0],[\"India\",\"IND\",\"SEARO\",\"07/06/2022\",1962351204,1011009637.0,142.199,73.261,895821508.0,64.914,\"Bharat - Covaxin,Biological E - Corbevax,Gamaleya - Gam-Covid-Vac,Janssen - Ad26.COV 2-S,Moderna - Spikevax,SII - Covishield,SII - Covovax,Zydus - ZyCov-D\",8.0],[\"Indonesia\",\"IDN\",\"SEARO\",\"07/06/2022\",415385585,200652038.0,151.865,73.358,167822664.0,61.356,\"AstraZeneca - Vaxzevria,Beijing CNBG - BBIBP-CorV,Janssen - Ad26.COV 2-S,Moderna - Spikevax,Novavax-NUVAXOVID,Pfizer BioNTech - Comirnaty,Sinovac - CoronaVac\",7.0],[\"Iran (Islamic Republic of)\",\"IRN\",\"EMRO\",\"29/05/2022\",149357848,64501988.0,177.822,76.795,57809578.0,68.827,\"AstraZeneca - Vaxzevria,Beijing CNBG - BBIBP-CorV,Bharat - Covaxin,CanSino - Convidecia,Finlay - Soberana-02,Gamaleya - Gam-Covid-Vac,Gamaleya - Sputnik-Light,Janssen - Ad26.COV 2-S,Moderna - Spikevax,Pfizer BioNTech - Comirnaty,Shifa - COVIran Barakat,Sinovac - CoronaVac\",12.0],[\"Iraq\",\"IRQ\",\"EMRO\",\"28/05/2022\",18353783,10674521.0,45.631,26.539,7498791.0,18.643,\"AstraZeneca - Vaxzevria,Beijing CNBG - BBIBP-CorV,Bharat - Covaxin,CanSino - Convidecia,Gamaleya - Gam-Covid-Vac,Gamaleya - Sputnik-Light,Janssen - Ad26.COV 2-S,Moderna - Spikevax,Pfizer BioNTech - Comirnaty,Sinovac - CoronaVac\",10.0],[\"Ireland\",\"IRL\",\"EURO\",\"29/05/2022\",11114500,4038189.0,223.9,83.761,3997486.0,80.522,\"AstraZeneca - Vaxzevria,Janssen - Ad26.COV 2-S,Moderna - Spikevax,Novavax-NUVAXOVID,Pfizer BioNTech - Comirnaty\",5.0],[\"Isle of Man\",\"IMN\",\"EURO\",\"05/04/2022\",189681,69532.0,223.07,81.772,67024.0,78.822,\"Moderna - mRNA-1273, AstraZeneca - AZD1222, Pfizer BioNTech - Comirnaty\",3.0],[\"Israel\",\"ISR\",\"EURO\",\"08/05/2022\",15018677,7054015.0,173.5,81.497,6382834.0,73.743,\"AstraZeneca - Vaxzevria,Moderna - Spikevax,Pfizer BioNTech - Comirnaty\",3.0],[\"Italy\",\"ITA\",\"EURO\",\"15/05/2022\",136206350,50381196.0,228.4,84.478,47455689.0,79.568,\"AstraZeneca - Vaxzevria,Janssen - Ad26.COV 2-S,Moderna - Spikevax,Novavax-NUVAXOVID,Pfizer BioNTech - Comirnaty\",5.0],[\"Jamaica\",\"JAM\",\"AMRO\",\"03/06/2022\",1442890,804279.0,48.727,27.161,700243.0,23.648,\"AstraZeneca - Vaxzevria,Beijing CNBG - BBIBP-CorV,Janssen - Ad26.COV 2-S,Pfizer BioNTech - Comirnaty,SII - Covishield\",5.0],[\"Japan\",\"JPN\",\"WPRO\",\"05/06/2022\",279402397,103523757.0,220.913,81.852,101984505.0,80.635,\"AstraZeneca - Vaxzevria,Moderna - Spikevax,Novavax-NUVAXOVID,Pfizer BioNTech - Comirnaty\",4.0],[\"Jersey\",\"JEY\",\"EURO\",\"05/06/2022\",234978,83487.0,217.984,77.449,80597.0,74.768,\"Moderna - mRNA-1273, AstraZeneca - AZD1222, Pfizer BioNTech - Comirnaty\",3.0],[\"Jordan\",\"JOR\",\"EMRO\",\"29/05/2022\",9951844,4789727.0,97.537,46.944,4508753.0,44.19,\"AstraZeneca - Vaxzevria,Beijing CNBG - BBIBP-CorV,Bharat - Covaxin,CanSino - Convidecia,Gamaleya - Gam-Covid-Vac,Gamaleya - Sputnik-Light,Janssen - Ad26.COV 2-S,Moderna - Spikevax,Pfizer BioNTech - Comirnaty,Sinovac - CoronaVac\",10.0],[\"Kazakhstan\",\"KAZ\",\"EURO\",\"29/05/2022\",26084936,10643089.0,138.9,56.682,11170347.0,59.49,\"Beijing CNBG - BBIBP-CorV,Gamaleya - Gam-Covid-Vac,Pfizer BioNTech - Comirnaty,RIBSP - QazVac,Sinovac - CoronaVac\",5.0],[\"Kenya\",\"KEN\",\"AFRO\",\"05/06/2022\",18367309,12576597.0,34.158,23.389,9223230.0,17.153,\"Beijing CNBG - BBIBP-CorV,Janssen - Ad26.COV 2-S,Moderna - Spikevax,Pfizer BioNTech - Comirnaty,SII - Covishield\",5.0],[\"Kiribati\",\"KIR\",\"WPRO\",\"05/06/2022\",151235,80566.0,126.611,67.448,60670.0,50.792,\"AstraZeneca - Vaxzevria,Beijing CNBG - BBIBP-CorV\",2.0],[\"Kosovo\",\"XKX\",\"EURO\",\"29/05/2022\",1828696,903026.0,101.8,50.289,822798.0,45.821,\"AstraZeneca - AZD1222, Pfizer BioNTech - Comirnaty\",2.0],[\"Kuwait\",\"KWT\",\"EMRO\",\"01/06/2022\",8043969,3426459.0,188.358,80.234,3310871.0,77.528,\"AstraZeneca - Vaxzevria,Beijing CNBG - BBIBP-CorV,Bharat - Covaxin,CanSino - Convidecia,Gamaleya - Gam-Covid-Vac,Gamaleya - Sputnik-Light,Janssen - Ad26.COV 2-S,Moderna - Spikevax,Pfizer BioNTech - Comirnaty,Sinovac - CoronaVac\",10.0],[\"Kyrgyzstan\",\"KGZ\",\"EURO\",\"29/05/2022\",2850862,1430615.0,43.7,21.928,1262853.0,19.356,\"AstraZeneca - Vaxzevria,Beijing CNBG - BBIBP-CorV,Gamaleya - Gam-Covid-Vac,Moderna - Spikevax,Pfizer BioNTech - Comirnaty,RIBSP - QazVac\",6.0],[\"Lao People's Democratic Republic\",\"LAO\",\"WPRO\",\"05/06/2022\",11130131,5786537.0,152.98,79.534,4939064.0,67.886,\"AstraZeneca - Vaxzevria,Beijing CNBG - BBIBP-CorV,Gamaleya - Gam-Covid-Vac,Gamaleya - Sputnik-Light,Janssen - Ad26.COV 2-S,Pfizer BioNTech - Comirnaty,SII - Covishield,Sinovac - CoronaVac\",8.0],[\"Latvia\",\"LVA\",\"EURO\",\"22/05/2022\",2826513,1300851.0,148.2,68.19,1268859.0,66.513,\"AstraZeneca - Vaxzevria,Janssen - Ad26.COV 2-S,Moderna - Spikevax,Novavax-NUVAXOVID,Pfizer BioNTech - Comirnaty\",5.0],[\"Lebanon\",\"LBN\",\"EMRO\",\"30/05/2022\",5634462,2686207.0,82.551,39.356,2362812.0,34.618,\"AstraZeneca - Vaxzevria,Beijing CNBG - BBIBP-CorV,Bharat - Covaxin,CanSino - Convidecia,Gamaleya - Gam-Covid-Vac,Gamaleya - Sputnik-Light,Janssen - Ad26.COV 2-S,Moderna - Spikevax,Pfizer BioNTech - Comirnaty,Sinovac - CoronaVac\",10.0],[\"Lesotho\",\"LSO\",\"AFRO\",\"05/06/2022\",948906,1014456.0,44.295,47.355,739962.0,34.541,\"Beijing CNBG - BBIBP-CorV,Janssen - Ad26.COV 2-S,SII - Covishield\",3.0],[\"Liberia\",\"LBR\",\"AFRO\",\"05/06/2022\",1996703,1751520.0,39.479,34.631,1438154.0,28.435,\"SII - Covishield\",1.0],[\"Libya\",\"LBY\",\"EMRO\",\"05/06/2022\",3514582,2246087.0,51.149,32.688,1167540.0,16.992,\"AstraZeneca - Vaxzevria,Beijing CNBG - BBIBP-CorV,Bharat - Covaxin,CanSino - Convidecia,Gamaleya - Gam-Covid-Vac,Gamaleya - Sputnik-Light,Janssen - Ad26.COV 2-S,Moderna - Spikevax,Pfizer BioNTech - Comirnaty,Sinovac - CoronaVac\",10.0],[\"Liechtenstein\",\"LIE\",\"OTHER\",\"10/04/2022\",71104,26681.0,183.5,68.86,26346.0,67.995,\"Janssen - Ad26.COV 2-S,Moderna - Spikevax,Pfizer BioNTech - Comirnaty\",3.0],[\"Lithuania\",\"LTU\",\"EURO\",\"29/05/2022\",4472293,1951055.0,160.1,69.982,1900995.0,68.036,\"AstraZeneca - Vaxzevria,Janssen - Ad26.COV 2-S,Moderna - Spikevax,Pfizer BioNTech - Comirnaty,Unknown Vaccine\",5.0],[\"Luxembourg\",\"LUX\",\"EURO\",\"29/05/2022\",1264619,469087.0,202.0,74.921,462034.0,73.795,\"AstraZeneca - Vaxzevria,Janssen - Ad26.COV 2-S,Moderna - Spikevax,Novavax-NUVAXOVID,Pfizer BioNTech - Comirnaty\",5.0],[\"Madagascar\",\"MDG\",\"AFRO\",\"05/06/2022\",2369775,1290584.0,8.558,4.661,1199011.0,4.33,\"Beijing CNBG - BBIBP-CorV,Janssen - Ad26.COV 2-S,SII - Covishield\",3.0],[\"Malawi\",\"MWI\",\"AFRO\",\"05/06/2022\",2166402,1596607.0,11.325,8.346,1139589.0,5.957,\"Janssen - Ad26.COV 2-S,SII - Covishield\",2.0],[\"Malaysia\",\"MYS\",\"WPRO\",\"05/06/2022\",70973991,27997736.0,219.286,86.504,27086354.0,83.688,\"AstraZeneca - Vaxzevria,Beijing CNBG - BBIBP-CorV,CanSino - Convidecia,Gamaleya - Gam-Covid-Vac,Janssen - Ad26.COV 2-S,Moderna - Spikevax,Pfizer BioNTech - Comirnaty,Sinovac - CoronaVac\",8.0],[\"Maldives\",\"MDV\",\"SEARO\",\"06/06/2022\",944563,398727.0,174.743,73.764,384274.0,71.09,\"AstraZeneca - Vaxzevria,Beijing CNBG - BBIBP-CorV,Gamaleya - Gam-Covid-Vac,Janssen - Ad26.COV 2-S,Moderna - Spikevax,Pfizer BioNTech - Comirnaty,SII - Covishield,Sinovac - CoronaVac\",8.0],[\"Mali\",\"MLI\",\"AFRO\",\"05/06/2022\",2308245,1695963.0,11.398,8.375,1245359.0,6.15,\"SII - Covishield\",1.0],[\"Malta\",\"MLT\",\"EURO\",\"29/05/2022\",1240419,450051.0,241.1,87.463,444214.0,86.328,\"AstraZeneca - Vaxzevria,Janssen - Ad26.COV 2-S,Moderna - Spikevax,Pfizer BioNTech - Comirnaty\",4.0],[\"Marshall Islands\",\"MHL\",\"WPRO\",\"05/06/2022\",67461,35056.0,113.966,59.222,27591.0,46.611,\"Janssen - Ad26.COV 2-S,Moderna - Spikevax,Pfizer BioNTech - Comirnaty\",3.0],[\"Martinique\",\"MTQ\",\"AMRO\",\"03/06/2022\",384386,148947.0,102.431,39.691,143729.0,38.301,\"Pfizer BioNTech - Comirnaty\",1.0],[\"Mauritania\",\"MRT\",\"AFRO\",\"05/06/2022\",2845889,1924472.0,61.206,41.39,1332013.0,28.648,\"Beijing CNBG - BBIBP-CorV,SII - Covishield\",2.0],[\"Mauritius\",\"MUS\",\"AFRO\",\"05/06/2022\",2551638,977183.0,200.637,76.837,944658.0,74.279,\"Beijing CNBG - BBIBP-CorV,Bharat - Covaxin,SII - Covishield\",3.0],[\"Mexico\",\"MEX\",\"AMRO\",\"03/06/2022\",208630697,88047653.0,161.814,68.29,79947470.0,62.007,\"AstraZeneca - Vaxzevria,CanSino - Convidecia,Gamaleya - Gam-Covid-Vac,Janssen - Ad26.COV 2-S,Moderna - Spikevax,Pfizer BioNTech - Comirnaty,Sinovac - CoronaVac\",7.0],[\"Micronesia (Federated States of)\",\"FSM\",\"WPRO\",\"05/06/2022\",128183,67839.0,111.441,58.979,57297.0,49.814,\"AstraZeneca - Vaxzevria,Janssen - Ad26.COV 2-S,Moderna - Spikevax,Pfizer BioNTech - Comirnaty\",4.0],[\"Monaco\",\"MCO\",\"EURO\",\"02/01/2022\",58294,23460.0,148.5,59.78,23356.0,59.515,\"AstraZeneca - Vaxzevria,Janssen - Ad26.COV 2-S,Moderna - Spikevax,Novavax - Covavax,Novavax-NUVAXOVID,Pfizer BioNTech - Comirnaty\",6.0],[\"Mongolia\",\"MNG\",\"WPRO\",\"05/06/2022\",5629336,2273504.0,171.716,69.35,2176508.0,66.392,\"AstraZeneca - Vaxzevria,Beijing CNBG - BBIBP-CorV,Gamaleya - Gam-Covid-Vac,Moderna - Spikevax,Pfizer BioNTech - Comirnaty,SII - Covishield\",6.0],[\"Montenegro\",\"MNE\",\"EURO\",\"29/05/2022\",524984,271780.0,83.6,43.703,253204.0,40.716,\"AstraZeneca - Vaxzevria,Beijing CNBG - BBIBP-CorV,Gamaleya - Gam-Covid-Vac,Pfizer BioNTech - Comirnaty,Unknown Vaccine\",5.0],[\"Montserrat\",\"MSR\",\"AMRO\",\"03/06/2022\",4255,1916.0,85.117,38.328,1829.0,36.587,\"AstraZeneca - Vaxzevria\",1.0],[\"Morocco\",\"MAR\",\"EMRO\",\"05/06/2022\",54710937,24930030.0,148.226,67.542,23411104.0,63.427,\"AstraZeneca - Vaxzevria,Beijing CNBG - BBIBP-CorV,Bharat - Covaxin,CanSino - Convidecia,Gamaleya - Gam-Covid-Vac,Gamaleya - Sputnik-Light,Janssen - Ad26.COV 2-S,Moderna - Spikevax,Pfizer BioNTech - Comirnaty,Sinovac - CoronaVac\",10.0],[\"Mozambique\",\"MOZ\",\"AFRO\",\"05/06/2022\",31616078,14978771.0,101.154,47.924,14098645.0,45.108,\"Beijing CNBG - BBIBP-CorV,Janssen - Ad26.COV 2-S,SII - Covishield\",3.0],[\"Myanmar\",\"MMR\",\"SEARO\",\"24/05/2022\",59453155,31345527.0,109.269,57.61,26110318.0,47.988,\"Beijing CNBG - BBIBP-CorV,SII - Covishield\",2.0],[\"Namibia\",\"NAM\",\"AFRO\",\"05/06/2022\",825518,496475.0,32.489,19.539,426681.0,16.792,\"Beijing CNBG - BBIBP-CorV,Janssen - Ad26.COV 2-S,Pfizer BioNTech - Comirnaty,SII - Covishield\",4.0],[\"Nauru\",\"NRU\",\"WPRO\",\"05/06/2022\",22976,9464.0,212.073,87.355,8585.0,79.241,\"AstraZeneca - Vaxzevria,SII - Covishield\",2.0],[\"Nepal\",\"NPL\",\"SEARO\",\"06/06/2022\",47141797,22441717.0,161.795,77.022,19926930.0,68.391,\"AstraZeneca - Vaxzevria,Beijing CNBG - BBIBP-CorV,Bharat - Covaxin,Gamaleya - Gam-Covid-Vac,Janssen - Ad26.COV 2-S,Moderna - Spikevax,Pfizer BioNTech - Comirnaty,SII - Covishield\",8.0],[\"Netherlands\",\"NLD\",\"EURO\",\"29/05/2022\",35332748,12808594.0,203.0,73.581,11983233.0,68.839,\"AstraZeneca - Vaxzevria,Janssen - Ad26.COV 2-S,Moderna - Spikevax,Novavax-NUVAXOVID,Pfizer BioNTech - Comirnaty,Unknown Vaccine\",6.0],[\"New Caledonia\",\"NCL\",\"WPRO\",\"05/06/2022\",460985,188325.0,161.467,65.964,180201.0,63.118,\"Janssen - Ad26.COV 2-S,Pfizer BioNTech - Comirnaty\",2.0],[\"New Zealand\",\"NZL\",\"WPRO\",\"05/06/2022\",11090222,4262527.0,229.981,88.393,4079886.0,84.606,\"AstraZeneca - Vaxzevria,Janssen - Ad26.COV 2-S,Novavax-NUVAXOVID,Pfizer BioNTech - Comirnaty\",4.0],[\"Nicaragua\",\"NIC\",\"AMRO\",\"03/06/2022\",10760706,5788470.0,162.437,87.379,4972236.0,75.058,\"AstraZeneca - Vaxzevria,CIGB - CIGB-66,Finlay - Soberana Plus,Finlay - Soberana-02,Gamaleya - Gam-Covid-Vac,Gamaleya - Sputnik-Light,Janssen - Ad26.COV 2-S,Pfizer BioNTech - Comirnaty,SII - Covishield\",9.0],[\"Niger\",\"NER\",\"AFRO\",\"05/06/2022\",2703493,2198758.0,11.168,9.083,1556817.0,6.431,\"Beijing CNBG - BBIBP-CorV,SII - Covishield\",2.0],[\"Nigeria\",\"NGA\",\"AFRO\",\"05/06/2022\",46391592,27401621.0,22.505,13.293,16817979.0,8.159,\"SII - Covishield\",1.0],[\"Niue\",\"NIU\",\"WPRO\",\"05/06/2022\",4161,1650.0,257.169,101.978,1417.0,87.577,\"Pfizer BioNTech - Comirnaty\",1.0],[\"North Macedonia\",\"MKD\",\"EURO\",\"22/05/2022\",1848954,853737.0,88.7,41.119,837084.0,40.317,\"AstraZeneca - Vaxzevria,Beijing CNBG - BBIBP-CorV,Gamaleya - Gam-Covid-Vac,Pfizer BioNTech - Comirnaty,Sinovac - CoronaVac,Wuhan CNBG - Inactivated\",6.0],[\"Northern Mariana Islands (Commonwealth of the)\",\"MNP\",\"WPRO\",\"05/06/2022\",111665,44759.0,194.008,77.765,43866.0,76.213,\"Janssen - Ad26.COV 2-S,Moderna - Spikevax,Pfizer BioNTech - Comirnaty\",3.0],[\"Norway\",\"NOR\",\"EURO\",\"29/05/2022\",11318644,4336878.0,210.9,80.798,4044245.0,75.346,\"AstraZeneca - Vaxzevria,Janssen - Ad26.COV 2-S,Moderna - Spikevax,Pfizer BioNTech - Comirnaty\",4.0],[\"occupied Palestinian territory\",\"PSE\",\"EMRO\",\"22/05/2022\",3723499,2003622.0,72.99,39.276,1769425.0,34.685,\"AstraZeneca - Vaxzevria,Beijing CNBG - BBIBP-CorV,Bharat - Covaxin,CanSino - Convidecia,Gamaleya - Gam-Covid-Vac,Gamaleya - Sputnik-Light,Janssen - Ad26.COV 2-S,Moderna - Spikevax,Pfizer BioNTech - Comirnaty,Sinovac - CoronaVac\",10.0],[\"Oman\",\"OMN\",\"EMRO\",\"23/05/2022\",7090453,3263849.0,138.848,63.914,3072891.0,60.175,\"AstraZeneca - Vaxzevria,Beijing CNBG - BBIBP-CorV,Bharat - Covaxin,CanSino - Convidecia,Gamaleya - Gam-Covid-Vac,Gamaleya - Sputnik-Light,Janssen - Ad26.COV 2-S,Moderna - Spikevax,Pfizer BioNTech - Comirnaty,SII - Covishield,Sinovac - CoronaVac\",11.0],[\"Pakistan\",\"PAK\",\"EMRO\",\"30/05/2022\",256289705,143988959.0,116.025,65.185,121494669.0,55.002,\"AstraZeneca - Vaxzevria,Beijing CNBG - BBIBP-CorV,Bharat - Covaxin,CanSino - Convidecia,Gamaleya - Gam-Covid-Vac,Gamaleya - Sputnik-Light,Janssen - Ad26.COV 2-S,Moderna - Spikevax,Pfizer BioNTech - Comirnaty,SII - Covishield,Sinovac - CoronaVac\",11.0],[\"Palau\",\"PLW\",\"WPRO\",\"05/06/2022\",47146,20196.0,260.59,111.629,17971.0,99.331,\"Janssen - Ad26.COV 2-S,Moderna - Spikevax,Pfizer BioNTech - Comirnaty\",3.0],[\"Panama\",\"PAN\",\"AMRO\",\"03/06/2022\",8242621,3477600.0,191.033,80.598,3103529.0,71.928,\"AstraZeneca - Vaxzevria,Pfizer BioNTech - Comirnaty\",2.0],[\"Papua New Guinea\",\"PNG\",\"WPRO\",\"05/06/2022\",452777,330825.0,5.061,3.698,271349.0,3.033,\"AstraZeneca - Vaxzevria,Beijing CNBG - BBIBP-CorV,Janssen - Ad26.COV 2-S,SII - Covishield\",4.0],[\"Paraguay\",\"PRY\",\"AMRO\",\"03/06/2022\",8798904,3937397.0,123.363,55.203,3435394.0,48.165,\"AstraZeneca - Vaxzevria,Beijing CNBG - BBIBP-CorV,Bharat - Covaxin,Gamaleya - Gam-Covid-Vac,Julphar - Hayat-Vax,Moderna - Spikevax,Pfizer BioNTech - Comirnaty,Sinovac - CoronaVac\",8.0],[\"Peru\",\"PER\",\"AMRO\",\"03/06/2022\",75444116,29373878.0,228.814,89.088,27372984.0,83.019,\"AstraZeneca - Vaxzevria,Beijing CNBG - BBIBP-CorV,Moderna - Spikevax,Pfizer BioNTech - Comirnaty\",4.0],[\"Philippines\",\"PHL\",\"WPRO\",\"05/06/2022\",150995394,74634409.0,137.793,68.109,70009042.0,63.888,\"AstraZeneca - Vaxzevria,Beijing CNBG - BBIBP-CorV,Bharat - Covaxin,Gamaleya - Gam-Covid-Vac,Gamaleya - Sputnik-Light,Janssen - Ad26.COV 2-S,Julphar - Hayat-Vax,Moderna - Spikevax,Novavax-NUVAXOVID,Pfizer BioNTech - Comirnaty,Sinovac - CoronaVac\",11.0],[\"Pitcairn Islands\",\"PCN\",\"WPRO\",\"05/06/2022\",106,46.0,212.0,92.0,37.0,74.0,\"AstraZeneca - Vaxzevria\",1.0],[\"Poland\",\"POL\",\"EURO\",\"29/05/2022\",54551867,22817068.0,143.7,60.111,22518979.0,59.326,\"AstraZeneca - Vaxzevria,Janssen - Ad26.COV 2-S,Moderna - Spikevax,Novavax-NUVAXOVID,Pfizer BioNTech - Comirnaty\",5.0],[\"Portugal\",\"PRT\",\"EURO\",\"29/05/2022\",24105499,9716547.0,234.1,94.464,8866231.0,86.114,\"AstraZeneca - Vaxzevria,Beijing CNBG - BBIBP-CorV,Bharat - Covaxin,Janssen - Ad26.COV 2-S,Moderna - Spikevax,Novavax-NUVAXOVID,Pfizer BioNTech - Comirnaty,Sinovac - CoronaVac\",8.0],[\"Puerto Rico\",\"PRI\",\"AMRO\",\"03/06/2022\",7286265,3052719.0,254.689,106.707,2664504.0,93.137,\"Janssen - Ad26.COV 2-S,Moderna - Spikevax,Pfizer BioNTech - Comirnaty\",3.0],[\"Qatar\",\"QAT\",\"EMRO\",\"01/06/2022\",6890950,2632575.0,239.182,91.375,2632575.0,91.375,\"AstraZeneca - Vaxzevria,Beijing CNBG - BBIBP-CorV,Bharat - Covaxin,CanSino - Convidecia,Gamaleya - Gam-Covid-Vac,Gamaleya - Sputnik-Light,Janssen - Ad26.COV 2-S,Moderna - Spikevax,Pfizer BioNTech - Comirnaty,Sinovac - CoronaVac\",10.0],[\"Republic of Korea\",\"KOR\",\"WPRO\",\"05/06/2022\",126333492,44971813.0,246.412,87.717,44505965.0,86.808,\"AstraZeneca - Vaxzevria,Janssen - Ad26.COV 2-S,Moderna - Spikevax,Novavax-NUVAXOVID,Pfizer BioNTech - Comirnaty\",5.0],[\"Republic of Moldova\",\"MDA\",\"EURO\",\"29/05/2022\",2191590,1093903.0,54.3,27.117,1063602.0,26.366,\"AstraZeneca - Vaxzevria,Beijing CNBG - BBIBP-CorV,Gamaleya - Gam-Covid-Vac,Janssen - Ad26.COV 2-S,Moderna - Spikevax,Pfizer BioNTech - Comirnaty,Sinovac - CoronaVac\",7.0],[\"Romania\",\"ROU\",\"EURO\",\"29/05/2022\",16025055,8173453.0,82.9,42.286,8120581.0,42.013,\"AstraZeneca - Vaxzevria,Janssen - Ad26.COV 2-S,Moderna - Spikevax,Pfizer BioNTech - Comirnaty\",4.0],[\"Russian Federation\",\"RUS\",\"EURO\",\"04/06/2022\",166830060,81031567.0,114.3,55.526,73682537.0,50.49,\"SRCVB - EpiVacCorona, Gamaleya - Sputnik V\",2.0],[\"Rwanda\",\"RWA\",\"AFRO\",\"05/06/2022\",22214312,9061143.0,171.51,69.958,8527099.0,65.835,\"Beijing CNBG - BBIBP-CorV,Gamaleya - Gam-Covid-Vac,Janssen - Ad26.COV 2-S,Moderna - Spikevax,Pfizer BioNTech - Comirnaty,SII - Covishield,Sinovac - CoronaVac\",7.0],[\"Saba\",\"XCA\",\"AMRO\",\"03/06/2022\",4270,1594.0,220.9,82.462,1577.0,81.583,\"Unreported\",null],[\"Saint Helena\",\"SHN\",\"AFRO\",\"05/05/2021\",7892,4361.0,129.995,71.833,3531.0,58.162,\"AstraZeneca - AZD1222\",1.0],[\"Saint Kitts and Nevis\",\"KNA\",\"AMRO\",\"03/06/2022\",58697,28540.0,110.349,53.655,26750.0,50.29,\"AstraZeneca - Vaxzevria,Pfizer BioNTech - Comirnaty,SII - Covishield\",3.0],[\"Saint Lucia\",\"LCA\",\"AMRO\",\"03/06/2022\",120873,59353.0,65.825,32.323,54032.0,29.425,\"AstraZeneca - Vaxzevria,Janssen - Ad26.COV 2-S,Moderna - Spikevax,Pfizer BioNTech - Comirnaty,SII - Covishield\",5.0],[\"Saint Vincent and the Grenadines\",\"VCT\",\"AMRO\",\"03/06/2022\",71018,36580.0,64.015,32.973,30661.0,27.637,\"AstraZeneca - Vaxzevria,Gamaleya - Gam-Covid-Vac,Gamaleya - Sputnik-Light,Pfizer BioNTech - Comirnaty,SII - Covishield\",5.0],[\"Samoa\",\"WSM\",\"WPRO\",\"05/06/2022\",438313,190053.0,220.908,95.786,173378.0,87.382,\"AstraZeneca - Vaxzevria,Pfizer BioNTech - Comirnaty\",2.0],[\"San Marino\",\"SMR\",\"EURO\",\"22/05/2022\",69338,26357.0,204.3,76.501,23633.0,68.595,\"Gamaleya - Gam-Covid-Vac,Pfizer BioNTech - Comirnaty\",2.0],[\"Sao Tome and Principe\",\"STP\",\"AFRO\",\"05/06/2022\",214560,123088.0,97.902,56.164,91836.0,41.904,\"AstraZeneca - Vaxzevria,SII - Covishield\",2.0],[\"Saudi Arabia\",\"SAU\",\"EMRO\",\"01/06/2022\",65837671,26599329.0,189.113,76.404,24960145.0,71.696,\"AstraZeneca - Vaxzevria,Beijing CNBG - BBIBP-CorV,Bharat - Covaxin,CanSino - Convidecia,Gamaleya - Gam-Covid-Vac,Gamaleya - Sputnik-Light,Janssen - Ad26.COV 2-S,Moderna - Spikevax,Pfizer BioNTech - Comirnaty,Sinovac - CoronaVac\",10.0],[\"Senegal\",\"SEN\",\"AFRO\",\"05/06/2022\",2523856,1883218.0,15.073,11.247,1051041.0,6.277,\"Beijing CNBG - BBIBP-CorV,Janssen - Ad26.COV 2-S,SII - Covishield\",3.0],[\"Serbia\",\"SRB\",\"EURO\",\"27/03/2022\",6696502,3386883.0,96.7,48.896,3309619.0,47.781,\"AstraZeneca - Vaxzevria,Beijing CNBG - BBIBP-CorV,Gamaleya - Gam-Covid-Vac,Moderna - Spikevax,Pfizer BioNTech - Comirnaty\",5.0],[\"Seychelles\",\"SYC\",\"AFRO\",\"05/06/2022\",221597,84886.0,225.322,86.313,80700.0,82.056,\"Beijing CNBG - BBIBP-CorV,Gamaleya - Gam-Covid-Vac,Julphar - Hayat-Vax,SII - Covishield\",4.0],[\"Sierra Leone\",\"SLE\",\"AFRO\",\"05/06/2022\",2930408,2383636.0,36.736,29.881,1659093.0,20.799,\"Beijing CNBG - BBIBP-CorV,SII - Covishield\",2.0],[\"Singapore\",\"SGP\",\"WPRO\",\"05/06/2022\",14088862,5015471.0,240.821,85.73,4987927.0,85.259,\"AstraZeneca - Vaxzevria,Beijing CNBG - BBIBP-CorV,Moderna - Spikevax,Pfizer BioNTech - Comirnaty\",4.0],[\"Sint Eustatius\",\"XBA\",\"AMRO\",\"03/06/2022\",4325,1791.0,137.783,57.056,1686.0,53.711,\"Unreported\",null],[\"Sint Maarten\",\"SXM\",\"AMRO\",\"03/06/2022\",64539,29164.0,150.504,68.01,26237.0,61.184,\"AstraZeneca - Vaxzevria,Moderna - Spikevax,Pfizer BioNTech - Comirnaty\",3.0],[\"Slovakia\",\"SVK\",\"EURO\",\"29/05/2022\",7075947,2821839.0,129.6,51.702,2771739.0,50.784,\"AstraZeneca - Vaxzevria,Gamaleya - Gam-Covid-Vac,Janssen - Ad26.COV 2-S,Moderna - Spikevax,Novavax-NUVAXOVID,Pfizer BioNTech - Comirnaty\",6.0],[\"Slovenia\",\"SVN\",\"EURO\",\"29/05/2022\",2957844,1237811.0,141.1,59.06,1206827.0,57.581,\"AstraZeneca - Vaxzevria,Janssen - Ad26.COV 2-S,Moderna - Spikevax,Novavax-NUVAXOVID,Pfizer BioNTech - Comirnaty\",5.0],[\"Solomon Islands\",\"SLB\",\"WPRO\",\"05/06/2022\",451057,275560.0,65.667,40.117,172833.0,25.162,\"AstraZeneca - Vaxzevria,Beijing CNBG - BBIBP-CorV,Pfizer BioNTech - Comirnaty,SII - Covishield\",4.0],[\"Somalia\",\"SOM\",\"EMRO\",\"05/06/2022\",3724063,2298052.0,23.432,14.459,1426011.0,8.972,\"AstraZeneca - Vaxzevria,Beijing CNBG - BBIBP-CorV,Bharat - Covaxin,CanSino - Convidecia,Gamaleya - Gam-Covid-Vac,Gamaleya - Sputnik-Light,Janssen - Ad26.COV 2-S,Moderna - Spikevax,Pfizer BioNTech - Comirnaty,SII - Covishield,Sinovac - CoronaVac\",11.0],[\"South Africa\",\"ZAF\",\"AFRO\",\"05/06/2022\",36240713,23019199.0,61.105,38.813,20040729.0,33.791,\"Janssen - Ad26.COV 2-S,Pfizer BioNTech - Comirnaty\",2.0],[\"South Sudan\",\"SSD\",\"AFRO\",\"05/06/2022\",1059464,1009259.0,9.465,9.016,967199.0,8.641,\"Janssen - Ad26.COV 2-S,SII - Covishield\",2.0],[\"Spain\",\"ESP\",\"EURO\",\"29/05/2022\",101671001,41212271.0,214.8,87.07,37367206.0,78.946,\"AstraZeneca - Vaxzevria,Janssen - Ad26.COV 2-S,Moderna - Spikevax,Pfizer BioNTech - Comirnaty\",4.0],[\"Sri Lanka\",\"LKA\",\"SEARO\",\"07/06/2022\",39576548,17072957.0,184.823,79.731,14516137.0,67.79,\"AstraZeneca - Vaxzevria,Beijing CNBG - BBIBP-CorV,Gamaleya - Gam-Covid-Vac,Moderna - Spikevax,Pfizer BioNTech - Comirnaty,SII - Covishield\",6.0],[\"Sudan\",\"SDN\",\"EMRO\",\"05/06/2022\",9710092,5929766.0,22.144,13.523,3742065.0,8.534,\"AstraZeneca - Vaxzevria,Beijing CNBG - BBIBP-CorV,Bharat - Covaxin,CanSino - Convidecia,Gamaleya - Gam-Covid-Vac,Gamaleya - Sputnik-Light,Janssen - Ad26.COV 2-S,Moderna - Spikevax,Pfizer BioNTech - Comirnaty,SII - Covishield,Sinovac - CoronaVac\",11.0],[\"Suriname\",\"SUR\",\"AMRO\",\"03/06/2022\",554588,267820.0,94.538,45.654,237879.0,40.55,\"AstraZeneca - Vaxzevria,Beijing CNBG - BBIBP-CorV,Moderna - Spikevax,Pfizer BioNTech - Comirnaty,SII - Covishield\",5.0],[\"Sweden\",\"SWE\",\"EURO\",\"29/05/2022\",21818451,7555967.0,211.3,73.163,7390018.0,71.556,\"AstraZeneca - Vaxzevria,Moderna - Spikevax,Novavax-NUVAXOVID,Pfizer BioNTech - Comirnaty,Unknown Vaccine\",5.0],[\"Switzerland\",\"CHE\",\"EURO\",\"22/05/2022\",15535912,6083847.0,179.5,70.693,5705105.0,66.292,\"Janssen - Ad26.COV 2-S,Moderna - Spikevax,Pfizer BioNTech - Comirnaty\",3.0],[\"Syrian Arab Republic\",\"SYR\",\"EMRO\",\"29/05/2022\",3870173,2544641.0,22.114,14.54,1633948.0,9.336,\"AstraZeneca - Vaxzevria,Beijing CNBG - BBIBP-CorV,Bharat - Covaxin,CanSino - Convidecia,Gamaleya - Gam-Covid-Vac,Gamaleya - Sputnik-Light,Janssen - Ad26.COV 2-S,Moderna - Spikevax,Pfizer BioNTech - Comirnaty,SII - Covishield,Sinovac - CoronaVac\",11.0],[\"Tajikistan\",\"TJK\",\"EURO\",\"08/05/2022\",12504152,5189877.0,131.1,54.415,4976770.0,52.18,\"AstraZeneca - Vaxzevria,Gamaleya - Gam-Covid-Vac,Moderna - Spikevax,Pfizer BioNTech - Comirnaty,SII - Covishield,Sinovac - CoronaVac\",6.0],[\"Thailand\",\"THA\",\"SEARO\",\"06/06/2022\",137385704,56554618.0,196.828,81.024,52577760.0,75.326,\"AstraZeneca - Vaxzevria,Beijing CNBG - BBIBP-CorV,Janssen - Ad26.COV 2-S,Moderna - Spikevax,Pfizer BioNTech - Comirnaty,SII - Covishield,SII - Covovax,Sinovac - CoronaVac\",8.0],[\"The United Kingdom\",\"GBR\",\"EURO\",\"31/05/2022\",143183637,53472488.0,210.9,78.567,49986833.0,73.445,\"AstraZeneca - Vaxzevria,Moderna - Spikevax,Pfizer BioNTech - Comirnaty\",3.0],[\"Timor-Leste\",\"TLS\",\"SEARO\",\"07/06/2022\",1599092,812337.0,121.286,61.613,682953.0,51.8,\"AstraZeneca - Vaxzevria,Pfizer BioNTech - Comirnaty,SII - Covishield,Sinovac - CoronaVac\",4.0],[\"Togo\",\"TGO\",\"AFRO\",\"05/06/2022\",3290821,2092750.0,39.75,25.279,1557538.0,18.814,\"SII - Covishield\",1.0],[\"Tokelau\",\"TKL\",\"WPRO\",\"05/06/2022\",3538,1339.0,262.074,99.185,1337.0,99.037,\"Pfizer BioNTech - Comirnaty\",1.0],[\"Tonga\",\"TON\",\"WPRO\",\"05/06/2022\",261560,104624.0,247.467,98.987,97151.0,91.916,\"AstraZeneca - Vaxzevria,Pfizer BioNTech - Comirnaty\",2.0],[\"Trinidad and Tobago\",\"TTO\",\"AMRO\",\"03/06/2022\",1564019,749638.0,111.757,53.565,712605.0,50.919,\"AstraZeneca - Vaxzevria,Beijing CNBG - BBIBP-CorV,Janssen - Ad26.COV 2-S,Pfizer BioNTech - Comirnaty,SII - Covishield\",5.0],[\"Tunisia\",\"TUN\",\"EMRO\",\"05/06/2022\",14856958,7229872.0,125.708,61.174,6372301.0,53.917,\"AstraZeneca - Vaxzevria,Beijing CNBG - BBIBP-CorV,Bharat - Covaxin,CanSino - Convidecia,Gamaleya - Gam-Covid-Vac,Gamaleya - Sputnik-Light,Janssen - Ad26.COV 2-S,Moderna - Spikevax,Pfizer BioNTech - Comirnaty,Sinovac - CoronaVac\",10.0],[\"Turkey\",\"TUR\",\"EURO\",\"31/05/2022\",147720907,57841876.0,175.2,69.559,53064752.0,63.814,\"Pfizer BioNTech - Comirnaty, Sinovac - CoronaVac, Turkovac\",3.0],[\"Turkmenistan\",\"TKM\",\"EURO\",\"06/03/2022\",7140000,2970000.0,118.4,49.244,2920000.0,48.415,\"Anhui ZL - Zifivax,AstraZeneca - Vaxzevria,Beijing CNBG - BBIBP-CorV,Gamaleya - Gam-Covid-Vac,RIBSP - QazVac,SRCVB - EpiVacCorona,Unknown Vaccine\",7.0],[\"Turks and Caicos Islands\",\"TCA\",\"AMRO\",\"03/06/2022\",69465,31807.0,179.413,82.15,29807.0,76.985,\"Pfizer BioNTech - Comirnaty\",1.0],[\"Tuvalu\",\"TUV\",\"WPRO\",\"05/06/2022\",12528,6368.0,106.242,54.003,6160.0,52.239,\"AstraZeneca - Vaxzevria\",1.0],[\"Uganda\",\"UGA\",\"AFRO\",\"05/06/2022\",21268120,15896844.0,46.497,34.754,10790397.0,23.59,\"Janssen - Ad26.COV 2-S,Moderna - Spikevax,Pfizer BioNTech - Comirnaty,SII - Covishield,Sinovac - CoronaVac\",5.0],[\"Ukraine\",\"UKR\",\"EURO\",\"27/02/2022\",31668577,15774300.0,72.4,36.069,15153577.0,34.65,\"AstraZeneca - Vaxzevria,Janssen - Ad26.COV 2-S,Moderna - Spikevax,Pfizer BioNTech - Comirnaty,SII - Covishield,Sinovac - CoronaVac\",6.0],[\"United Arab Emirates\",\"ARE\",\"EMRO\",\"31/05/2022\",24909327,9991089.0,251.854,101.018,9792266.0,99.008,\"AstraZeneca - Vaxzevria,Beijing CNBG - BBIBP-CorV,Bharat - Covaxin,CanSino - Convidecia,Gamaleya - Gam-Covid-Vac,Gamaleya - Sputnik-Light,Janssen - Ad26.COV 2-S,Moderna - Spikevax,Pfizer BioNTech - Comirnaty,SII - Covishield,Sinovac - CoronaVac\",11.0],[\"United Republic of Tanzania\",\"TZA\",\"AFRO\",\"05/06/2022\",7967468,6483895.0,13.338,10.855,3915900.0,6.556,\"Beijing CNBG - BBIBP-CorV,Janssen - Ad26.COV 2-S,Pfizer BioNTech - Comirnaty\",3.0],[\"United States of America\",\"USA\",\"AMRO\",\"03/06/2022\",579958258,261785425.0,175.213,79.089,218761222.0,66.09,\"Janssen - Ad26.COV 2-S,Moderna - Spikevax,Pfizer BioNTech - Comirnaty\",3.0],[\"Uruguay\",\"URY\",\"AMRO\",\"03/06/2022\",8438481,2992929.0,242.923,86.159,2877976.0,82.85,\"AstraZeneca - Vaxzevria,Pfizer BioNTech - Comirnaty,Sinovac - CoronaVac\",3.0],[\"Uzbekistan\",\"UZB\",\"EURO\",\"29/05/2022\",52392744,19463364.0,156.5,58.153,15232341.0,45.512,\"Anhui ZL - Zifivax,Gamaleya - Gam-Covid-Vac,Gamaleya - Sputnik-Light,Moderna - Spikevax,Pfizer BioNTech - Comirnaty,SII - Covishield,Sinovac - CoronaVac\",7.0],[\"Vanuatu\",\"VUT\",\"WPRO\",\"05/06/2022\",242178,132941.0,78.848,43.283,118158.0,38.47,\"AstraZeneca - Vaxzevria,Beijing CNBG - BBIBP-CorV,Janssen - Ad26.COV 2-S\",3.0],[\"Venezuela (Bolivarian Republic of)\",\"VEN\",\"AMRO\",\"03/06/2022\",37860994,22157232.0,133.145,77.92,14287370.0,50.244,\"Beijing CNBG - BBIBP-CorV,CIGB - CIGB-66,Finlay - Soberana-02,Gamaleya - Gam-Covid-Vac,Gamaleya - Sputnik-Light,Sinovac - CoronaVac\",6.0],[\"Viet Nam\",\"VNM\",\"WPRO\",\"05/06/2022\",221658034,84545834.0,227.719,86.857,77824176.0,79.952,\"AstraZeneca - Vaxzevria,Beijing CNBG - BBIBP-CorV,CIGB - CIGB-66,Gamaleya - Gam-Covid-Vac,Moderna - Spikevax,Pfizer BioNTech - Comirnaty\",6.0],[\"Wallis and Futuna\",\"WLF\",\"WPRO\",\"05/06/2022\",16426,6592.0,146.061,58.616,6633.0,58.981,\"Moderna - Spikevax\",1.0],[\"Yemen\",\"YEM\",\"EMRO\",\"25/05/2022\",838621,672794.0,2.812,2.256,429721.0,1.441,\"AstraZeneca - Vaxzevria,Beijing CNBG - BBIBP-CorV,Bharat - Covaxin,CanSino - Convidecia,Gamaleya - Gam-Covid-Vac,Gamaleya - Sputnik-Light,Janssen - Ad26.COV 2-S,Moderna - Spikevax,Pfizer BioNTech - Comirnaty,SII - Covishield,Sinovac - CoronaVac\",11.0],[\"Zambia\",\"ZMB\",\"AFRO\",\"05/06/2022\",3750417,4656681.0,20.4,25.33,2935333.0,15.967,\"Beijing CNBG - BBIBP-CorV,Janssen - Ad26.COV 2-S,SII - Covishield\",3.0],[\"Zimbabwe\",\"ZWE\",\"AFRO\",\"05/06/2022\",10796053,6236512.0,72.637,41.96,4559541.0,30.677,\"Beijing CNBG - BBIBP-CorV,Bharat - Covaxin,Gamaleya - Gam-Covid-Vac,Sinovac - CoronaVac\",4.0]],\"fillcolor\":\"seagreen\"}],                        {\"template\":{\"data\":{\"bar\":[{\"error_x\":{\"color\":\"#2a3f5f\"},\"error_y\":{\"color\":\"#2a3f5f\"},\"marker\":{\"line\":{\"color\":\"#E5ECF6\",\"width\":0.5},\"pattern\":{\"fillmode\":\"overlay\",\"size\":10,\"solidity\":0.2}},\"type\":\"bar\"}],\"barpolar\":[{\"marker\":{\"line\":{\"color\":\"#E5ECF6\",\"width\":0.5},\"pattern\":{\"fillmode\":\"overlay\",\"size\":10,\"solidity\":0.2}},\"type\":\"barpolar\"}],\"carpet\":[{\"aaxis\":{\"endlinecolor\":\"#2a3f5f\",\"gridcolor\":\"white\",\"linecolor\":\"white\",\"minorgridcolor\":\"white\",\"startlinecolor\":\"#2a3f5f\"},\"baxis\":{\"endlinecolor\":\"#2a3f5f\",\"gridcolor\":\"white\",\"linecolor\":\"white\",\"minorgridcolor\":\"white\",\"startlinecolor\":\"#2a3f5f\"},\"type\":\"carpet\"}],\"choropleth\":[{\"colorbar\":{\"outlinewidth\":0,\"ticks\":\"\"},\"type\":\"choropleth\"}],\"contour\":[{\"colorbar\":{\"outlinewidth\":0,\"ticks\":\"\"},\"colorscale\":[[0.0,\"#0d0887\"],[0.1111111111111111,\"#46039f\"],[0.2222222222222222,\"#7201a8\"],[0.3333333333333333,\"#9c179e\"],[0.4444444444444444,\"#bd3786\"],[0.5555555555555556,\"#d8576b\"],[0.6666666666666666,\"#ed7953\"],[0.7777777777777778,\"#fb9f3a\"],[0.8888888888888888,\"#fdca26\"],[1.0,\"#f0f921\"]],\"type\":\"contour\"}],\"contourcarpet\":[{\"colorbar\":{\"outlinewidth\":0,\"ticks\":\"\"},\"type\":\"contourcarpet\"}],\"heatmap\":[{\"colorbar\":{\"outlinewidth\":0,\"ticks\":\"\"},\"colorscale\":[[0.0,\"#0d0887\"],[0.1111111111111111,\"#46039f\"],[0.2222222222222222,\"#7201a8\"],[0.3333333333333333,\"#9c179e\"],[0.4444444444444444,\"#bd3786\"],[0.5555555555555556,\"#d8576b\"],[0.6666666666666666,\"#ed7953\"],[0.7777777777777778,\"#fb9f3a\"],[0.8888888888888888,\"#fdca26\"],[1.0,\"#f0f921\"]],\"type\":\"heatmap\"}],\"heatmapgl\":[{\"colorbar\":{\"outlinewidth\":0,\"ticks\":\"\"},\"colorscale\":[[0.0,\"#0d0887\"],[0.1111111111111111,\"#46039f\"],[0.2222222222222222,\"#7201a8\"],[0.3333333333333333,\"#9c179e\"],[0.4444444444444444,\"#bd3786\"],[0.5555555555555556,\"#d8576b\"],[0.6666666666666666,\"#ed7953\"],[0.7777777777777778,\"#fb9f3a\"],[0.8888888888888888,\"#fdca26\"],[1.0,\"#f0f921\"]],\"type\":\"heatmapgl\"}],\"histogram\":[{\"marker\":{\"pattern\":{\"fillmode\":\"overlay\",\"size\":10,\"solidity\":0.2}},\"type\":\"histogram\"}],\"histogram2d\":[{\"colorbar\":{\"outlinewidth\":0,\"ticks\":\"\"},\"colorscale\":[[0.0,\"#0d0887\"],[0.1111111111111111,\"#46039f\"],[0.2222222222222222,\"#7201a8\"],[0.3333333333333333,\"#9c179e\"],[0.4444444444444444,\"#bd3786\"],[0.5555555555555556,\"#d8576b\"],[0.6666666666666666,\"#ed7953\"],[0.7777777777777778,\"#fb9f3a\"],[0.8888888888888888,\"#fdca26\"],[1.0,\"#f0f921\"]],\"type\":\"histogram2d\"}],\"histogram2dcontour\":[{\"colorbar\":{\"outlinewidth\":0,\"ticks\":\"\"},\"colorscale\":[[0.0,\"#0d0887\"],[0.1111111111111111,\"#46039f\"],[0.2222222222222222,\"#7201a8\"],[0.3333333333333333,\"#9c179e\"],[0.4444444444444444,\"#bd3786\"],[0.5555555555555556,\"#d8576b\"],[0.6666666666666666,\"#ed7953\"],[0.7777777777777778,\"#fb9f3a\"],[0.8888888888888888,\"#fdca26\"],[1.0,\"#f0f921\"]],\"type\":\"histogram2dcontour\"}],\"mesh3d\":[{\"colorbar\":{\"outlinewidth\":0,\"ticks\":\"\"},\"type\":\"mesh3d\"}],\"parcoords\":[{\"line\":{\"colorbar\":{\"outlinewidth\":0,\"ticks\":\"\"}},\"type\":\"parcoords\"}],\"pie\":[{\"automargin\":true,\"type\":\"pie\"}],\"scatter\":[{\"marker\":{\"colorbar\":{\"outlinewidth\":0,\"ticks\":\"\"}},\"type\":\"scatter\"}],\"scatter3d\":[{\"line\":{\"colorbar\":{\"outlinewidth\":0,\"ticks\":\"\"}},\"marker\":{\"colorbar\":{\"outlinewidth\":0,\"ticks\":\"\"}},\"type\":\"scatter3d\"}],\"scattercarpet\":[{\"marker\":{\"colorbar\":{\"outlinewidth\":0,\"ticks\":\"\"}},\"type\":\"scattercarpet\"}],\"scattergeo\":[{\"marker\":{\"colorbar\":{\"outlinewidth\":0,\"ticks\":\"\"}},\"type\":\"scattergeo\"}],\"scattergl\":[{\"marker\":{\"colorbar\":{\"outlinewidth\":0,\"ticks\":\"\"}},\"type\":\"scattergl\"}],\"scattermapbox\":[{\"marker\":{\"colorbar\":{\"outlinewidth\":0,\"ticks\":\"\"}},\"type\":\"scattermapbox\"}],\"scatterpolar\":[{\"marker\":{\"colorbar\":{\"outlinewidth\":0,\"ticks\":\"\"}},\"type\":\"scatterpolar\"}],\"scatterpolargl\":[{\"marker\":{\"colorbar\":{\"outlinewidth\":0,\"ticks\":\"\"}},\"type\":\"scatterpolargl\"}],\"scatterternary\":[{\"marker\":{\"colorbar\":{\"outlinewidth\":0,\"ticks\":\"\"}},\"type\":\"scatterternary\"}],\"surface\":[{\"colorbar\":{\"outlinewidth\":0,\"ticks\":\"\"},\"colorscale\":[[0.0,\"#0d0887\"],[0.1111111111111111,\"#46039f\"],[0.2222222222222222,\"#7201a8\"],[0.3333333333333333,\"#9c179e\"],[0.4444444444444444,\"#bd3786\"],[0.5555555555555556,\"#d8576b\"],[0.6666666666666666,\"#ed7953\"],[0.7777777777777778,\"#fb9f3a\"],[0.8888888888888888,\"#fdca26\"],[1.0,\"#f0f921\"]],\"type\":\"surface\"}],\"table\":[{\"cells\":{\"fill\":{\"color\":\"#EBF0F8\"},\"line\":{\"color\":\"white\"}},\"header\":{\"fill\":{\"color\":\"#C8D4E3\"},\"line\":{\"color\":\"white\"}},\"type\":\"table\"}]},\"layout\":{\"annotationdefaults\":{\"arrowcolor\":\"#2a3f5f\",\"arrowhead\":0,\"arrowwidth\":1},\"autotypenumbers\":\"strict\",\"coloraxis\":{\"colorbar\":{\"outlinewidth\":0,\"ticks\":\"\"}},\"colorscale\":{\"diverging\":[[0,\"#8e0152\"],[0.1,\"#c51b7d\"],[0.2,\"#de77ae\"],[0.3,\"#f1b6da\"],[0.4,\"#fde0ef\"],[0.5,\"#f7f7f7\"],[0.6,\"#e6f5d0\"],[0.7,\"#b8e186\"],[0.8,\"#7fbc41\"],[0.9,\"#4d9221\"],[1,\"#276419\"]],\"sequential\":[[0.0,\"#0d0887\"],[0.1111111111111111,\"#46039f\"],[0.2222222222222222,\"#7201a8\"],[0.3333333333333333,\"#9c179e\"],[0.4444444444444444,\"#bd3786\"],[0.5555555555555556,\"#d8576b\"],[0.6666666666666666,\"#ed7953\"],[0.7777777777777778,\"#fb9f3a\"],[0.8888888888888888,\"#fdca26\"],[1.0,\"#f0f921\"]],\"sequentialminus\":[[0.0,\"#0d0887\"],[0.1111111111111111,\"#46039f\"],[0.2222222222222222,\"#7201a8\"],[0.3333333333333333,\"#9c179e\"],[0.4444444444444444,\"#bd3786\"],[0.5555555555555556,\"#d8576b\"],[0.6666666666666666,\"#ed7953\"],[0.7777777777777778,\"#fb9f3a\"],[0.8888888888888888,\"#fdca26\"],[1.0,\"#f0f921\"]]},\"colorway\":[\"#636efa\",\"#EF553B\",\"#00cc96\",\"#ab63fa\",\"#FFA15A\",\"#19d3f3\",\"#FF6692\",\"#B6E880\",\"#FF97FF\",\"#FECB52\"],\"font\":{\"color\":\"#2a3f5f\"},\"geo\":{\"bgcolor\":\"white\",\"lakecolor\":\"white\",\"landcolor\":\"#E5ECF6\",\"showlakes\":true,\"showland\":true,\"subunitcolor\":\"white\"},\"hoverlabel\":{\"align\":\"left\"},\"hovermode\":\"closest\",\"mapbox\":{\"style\":\"light\"},\"paper_bgcolor\":\"white\",\"plot_bgcolor\":\"#E5ECF6\",\"polar\":{\"angularaxis\":{\"gridcolor\":\"white\",\"linecolor\":\"white\",\"ticks\":\"\"},\"bgcolor\":\"#E5ECF6\",\"radialaxis\":{\"gridcolor\":\"white\",\"linecolor\":\"white\",\"ticks\":\"\"}},\"scene\":{\"xaxis\":{\"backgroundcolor\":\"#E5ECF6\",\"gridcolor\":\"white\",\"gridwidth\":2,\"linecolor\":\"white\",\"showbackground\":true,\"ticks\":\"\",\"zerolinecolor\":\"white\"},\"yaxis\":{\"backgroundcolor\":\"#E5ECF6\",\"gridcolor\":\"white\",\"gridwidth\":2,\"linecolor\":\"white\",\"showbackground\":true,\"ticks\":\"\",\"zerolinecolor\":\"white\"},\"zaxis\":{\"backgroundcolor\":\"#E5ECF6\",\"gridcolor\":\"white\",\"gridwidth\":2,\"linecolor\":\"white\",\"showbackground\":true,\"ticks\":\"\",\"zerolinecolor\":\"white\"}},\"shapedefaults\":{\"line\":{\"color\":\"#2a3f5f\"}},\"ternary\":{\"aaxis\":{\"gridcolor\":\"white\",\"linecolor\":\"white\",\"ticks\":\"\"},\"baxis\":{\"gridcolor\":\"white\",\"linecolor\":\"white\",\"ticks\":\"\"},\"bgcolor\":\"#E5ECF6\",\"caxis\":{\"gridcolor\":\"white\",\"linecolor\":\"white\",\"ticks\":\"\"}},\"title\":{\"x\":0.05},\"xaxis\":{\"automargin\":true,\"gridcolor\":\"white\",\"linecolor\":\"white\",\"ticks\":\"\",\"title\":{\"standoff\":15},\"zerolinecolor\":\"white\",\"zerolinewidth\":2},\"yaxis\":{\"automargin\":true,\"gridcolor\":\"white\",\"linecolor\":\"white\",\"ticks\":\"\",\"title\":{\"standoff\":15},\"zerolinecolor\":\"white\",\"zerolinewidth\":2}}},\"xaxis\":{\"anchor\":\"y\",\"domain\":[0.0,1.0]},\"yaxis\":{\"anchor\":\"x\",\"domain\":[0.0,1.0],\"title\":{\"text\":\"TOTAL_VACCINATIONS_PER100\"}},\"legend\":{\"tracegroupgap\":0},\"title\":{\"text\":\"Total Vaccinations Per 100\"},\"violinmode\":\"group\"},                        {\"responsive\": true}                    ).then(function(){\n",
       "                            \n",
       "var gd = document.getElementById('e17bb322-e6ba-4636-8182-93ebe0c8fb52');\n",
       "var x = new MutationObserver(function (mutations, observer) {{\n",
       "        var display = window.getComputedStyle(gd).display;\n",
       "        if (!display || display === 'none') {{\n",
       "            console.log([gd, 'removed!']);\n",
       "            Plotly.purge(gd);\n",
       "            observer.disconnect();\n",
       "        }}\n",
       "}});\n",
       "\n",
       "// Listen for the removal of the full notebook cells\n",
       "var notebookContainer = gd.closest('#notebook-container');\n",
       "if (notebookContainer) {{\n",
       "    x.observe(notebookContainer, {childList: true});\n",
       "}}\n",
       "\n",
       "// Listen for the clearing of the current output cell\n",
       "var outputEl = gd.closest('.output');\n",
       "if (outputEl) {{\n",
       "    x.observe(outputEl, {childList: true});\n",
       "}}\n",
       "\n",
       "                        })                };                });            </script>        </div>"
      ]
     },
     "metadata": {},
     "output_type": "display_data"
    }
   ],
   "source": [
    "fig = px.violin(df_vacc['TOTAL_VACCINATIONS_PER100'], y=\"TOTAL_VACCINATIONS_PER100\", box=True, points='all', title=\"Total Vaccinations Per 100\")\n",
    "fig.update_traces(fillcolor='seagreen', line_color='black', customdata=df_vacc, hovertemplate ='%{customdata[0]}<br>%{customdata[6]}') \n",
    "fig.show()\n",
    "\n",
    "\n",
    "#Gibraltar, (355.74), Cuba(321.91) and Chile (297.64) have the top three highest value points \n",
    "#but they follow the general trend of the dataset so won't be considered outliers that need to be removed.\n",
    "# In the violin plot, the wider the section, the greater the probability that members of the population will take the given value;\n",
    "#in the skinnier section, the lower the probability. Which means that most countries follow a trend of having higher vaccination rates per 100 than lower vaccination rates.\n"
   ]
  },
  {
   "attachments": {
    "Total%20Vaccines%20per%20100.png": {
     "image/png": "[encoded data removed]"
    }
   },
   "cell_type": "markdown",
   "metadata": {},
   "source": [
    "![Total%20Vaccines%20per%20100.png](attachment:Total%20Vaccines%20per%20100.png)"
   ]
  },
  {
   "cell_type": "markdown",
   "metadata": {},
   "source": [
    "**Dataset 2**"
   ]
  },
  {
   "cell_type": "code",
   "execution_count": 21,
   "metadata": {
    "azdata_cell_guid": "efed50ae-16f0-471d-98e2-632553a74c12"
   },
   "outputs": [
    {
     "data": {
      "text/html": [
       "<div>\n",
       "<style scoped>\n",
       "    .dataframe tbody tr th:only-of-type {\n",
       "        vertical-align: middle;\n",
       "    }\n",
       "\n",
       "    .dataframe tbody tr th {\n",
       "        vertical-align: top;\n",
       "    }\n",
       "\n",
       "    .dataframe thead th {\n",
       "        text-align: right;\n",
       "    }\n",
       "</style>\n",
       "<table border=\"1\" class=\"dataframe\">\n",
       "  <thead>\n",
       "    <tr style=\"text-align: right;\">\n",
       "      <th></th>\n",
       "      <th>Cases - cumulative total per 100000 population</th>\n",
       "      <th>Deaths - cumulative total per 100000 population</th>\n",
       "    </tr>\n",
       "  </thead>\n",
       "  <tbody>\n",
       "    <tr>\n",
       "      <th>count</th>\n",
       "      <td>237.000000</td>\n",
       "      <td>237.000000</td>\n",
       "    </tr>\n",
       "    <tr>\n",
       "      <th>mean</th>\n",
       "      <td>15954.805593</td>\n",
       "      <td>113.529595</td>\n",
       "    </tr>\n",
       "    <tr>\n",
       "      <th>std</th>\n",
       "      <td>16331.414183</td>\n",
       "      <td>120.332178</td>\n",
       "    </tr>\n",
       "    <tr>\n",
       "      <th>min</th>\n",
       "      <td>0.000000</td>\n",
       "      <td>0.000000</td>\n",
       "    </tr>\n",
       "    <tr>\n",
       "      <th>25%</th>\n",
       "      <td>1186.863000</td>\n",
       "      <td>13.754000</td>\n",
       "    </tr>\n",
       "    <tr>\n",
       "      <th>50%</th>\n",
       "      <td>10893.582000</td>\n",
       "      <td>73.847000</td>\n",
       "    </tr>\n",
       "    <tr>\n",
       "      <th>75%</th>\n",
       "      <td>27005.418000</td>\n",
       "      <td>174.253000</td>\n",
       "    </tr>\n",
       "    <tr>\n",
       "      <th>max</th>\n",
       "      <td>70926.021000</td>\n",
       "      <td>647.031000</td>\n",
       "    </tr>\n",
       "  </tbody>\n",
       "</table>\n",
       "</div>"
      ],
      "text/plain": [
       "       Cases - cumulative total per 100000 population  \\\n",
       "count                                      237.000000   \n",
       "mean                                     15954.805593   \n",
       "std                                      16331.414183   \n",
       "min                                          0.000000   \n",
       "25%                                       1186.863000   \n",
       "50%                                      10893.582000   \n",
       "75%                                      27005.418000   \n",
       "max                                      70926.021000   \n",
       "\n",
       "       Deaths - cumulative total per 100000 population  \n",
       "count                                       237.000000  \n",
       "mean                                        113.529595  \n",
       "std                                         120.332178  \n",
       "min                                           0.000000  \n",
       "25%                                          13.754000  \n",
       "50%                                          73.847000  \n",
       "75%                                         174.253000  \n",
       "max                                         647.031000  "
      ]
     },
     "execution_count": 21,
     "metadata": {},
     "output_type": "execute_result"
    }
   ],
   "source": [
    "#df_covidstats.kurt(numeric_only=True)\n",
    "df_covidstats.describe()[['Cases - cumulative total per 100000 population', 'Deaths - cumulative total per 100000 population']]"
   ]
  },
  {
   "cell_type": "code",
   "execution_count": 38,
   "metadata": {},
   "outputs": [
    {
     "name": "stdout",
     "output_type": "stream",
     "text": [
      "<class 'pandas.core.frame.DataFrame'>\n",
      "Int64Index: 237 entries, 0 to 236\n",
      "Data columns (total 12 columns):\n",
      " #   Column                                                        Non-Null Count  Dtype  \n",
      "---  ------                                                        --------------  -----  \n",
      " 0   Name                                                          237 non-null    object \n",
      " 1   WHO Region                                                    237 non-null    object \n",
      " 2   Cases - cumulative total                                      237 non-null    int64  \n",
      " 3   Cases - cumulative total per 100000 population                237 non-null    float64\n",
      " 4   Cases - newly reported in last 7 days                         237 non-null    int64  \n",
      " 5   Cases - newly reported in last 7 days per 100000 population   237 non-null    float64\n",
      " 6   Cases - newly reported in last 24 hours                       237 non-null    int64  \n",
      " 7   Deaths - cumulative total                                     237 non-null    int64  \n",
      " 8   Deaths - cumulative total per 100000 population               237 non-null    float64\n",
      " 9   Deaths - newly reported in last 7 days                        237 non-null    int64  \n",
      " 10  Deaths - newly reported in last 7 days per 100000 population  237 non-null    float64\n",
      " 11  Deaths - newly reported in last 24 hours                      237 non-null    int64  \n",
      "dtypes: float64(4), int64(6), object(2)\n",
      "memory usage: 24.1+ KB\n"
     ]
    }
   ],
   "source": [
    "#Using .info to find column index number to customize data\n",
    "#df_covidstats.info()"
   ]
  },
  {
   "cell_type": "code",
   "execution_count": 35,
   "metadata": {},
   "outputs": [
    {
     "data": {
      "application/vnd.plotly.v1+json": {
       "config": {
        "plotlyServerURL": "https://plot.ly"
       },
       "data": [
        {
         "alignmentgroup": "True",
         "box": {
          "visible": true
         },
         "customdata": [
          [
           "Global",
           "Global",
           534495291,
           6857.303528,
           3485948,
           44.72294503,
           571825,
           6311088,
           80.96805853,
           8591,
           0.110218173,
           1082
          ],
          [
           "United States of America",
           "Americas",
           84708007,
           25591.338,
           731052,
           220.86,
           114807,
           1001895,
           302.685,
           2340,
           0.707,
           297
          ],
          [
           "India",
           "South-East Asia",
           43245517,
           3133.723,
           55235,
           4.003,
           8822,
           524792,
           38.028,
           77,
           0.006,
           15
          ],
          [
           "Brazil",
           "Americas",
           31497038,
           14817.992,
           301920,
           142.04,
           40173,
           668180,
           314.35,
           1139,
           0.536,
           70
          ],
          [
           "France",
           "Europe",
           29009234,
           44602.583,
           251844,
           387.218,
           65425,
           145564,
           223.809,
           293,
           0.45,
           57
          ],
          [
           "Germany",
           "Europe",
           27007429,
           32473.845,
           393189,
           472.772,
           64479,
           140026,
           168.368,
           47,
           0.057,
           8
          ],
          [
           "The United Kingdom",
           "Europe",
           22422615,
           33029.805,
           64264,
           94.665,
           8427,
           179363,
           264.212,
           179,
           0.264,
           6
          ],
          [
           "Russian Federation",
           "Europe",
           18385098,
           12598.188,
           22993,
           15.756,
           2718,
           380203,
           260.53,
           467,
           0.32,
           66
          ],
          [
           "Republic of Korea",
           "Western Pacific",
           18248479,
           35593.464,
           60294,
           117.603,
           9423,
           24399,
           47.59,
           94,
           0.183,
           9
          ],
          [
           "Italy",
           "Europe",
           17703887,
           29683.845,
           160751,
           269.529,
           39844,
           167505,
           280.853,
           416,
           0.698,
           73
          ],
          [
           "Turkey",
           "Europe",
           15085742,
           17887.016,
           7556,
           8.959,
           0,
           98996,
           117.379,
           20,
           0.024,
           0
          ],
          [
           "Spain",
           "Europe",
           12515127,
           26440.811,
           44153,
           93.282,
           36133,
           107239,
           226.565,
           230,
           0.486,
           131
          ],
          [
           "Viet Nam",
           "Western Pacific",
           10733285,
           11026.753,
           6280,
           6.452,
           856,
           43083,
           44.261,
           2,
           0.002,
           0
          ],
          [
           "Argentina",
           "Americas",
           9313453,
           20606.911,
           36835,
           81.501,
           0,
           128994,
           285.412,
           21,
           0.046,
           0
          ],
          [
           "Japan",
           "Western Pacific",
           9075966,
           7176.012,
           103312,
           81.685,
           14030,
           30935,
           24.459,
           138,
           0.109,
           25
          ],
          [
           "Netherlands",
           "Europe",
           8110818,
           46593.585,
           15526,
           89.191,
           2887,
           22336,
           128.312,
           10,
           0.057,
           0
          ],
          [
           "Australia",
           "Western Pacific",
           7583518,
           29739.422,
           112726,
           442.065,
           15418,
           8957,
           35.126,
           155,
           0.608,
           0
          ],
          [
           "Iran (Islamic Republic of)",
           "Eastern Mediterranean",
           7234042,
           8612.678,
           1113,
           1.325,
           162,
           141353,
           168.292,
           14,
           0.017,
           1
          ],
          [
           "Colombia",
           "Americas",
           6117847,
           12023.387,
           8742,
           17.181,
           0,
           139894,
           274.933,
           27,
           0.053,
           0
          ],
          [
           "Indonesia",
           "South-East Asia",
           6063251,
           2216.719,
           5071,
           1.854,
           1242,
           156670,
           57.278,
           42,
           0.015,
           8
          ],
          [
           "Poland",
           "Europe",
           6010643,
           15834.926,
           1438,
           3.788,
           232,
           116387,
           306.619,
           25,
           0.066,
           7
          ],
          [
           "Mexico",
           "Americas",
           5825532,
           4518.272,
           21701,
           16.831,
           1688,
           325205,
           252.228,
           23,
           0.018,
           11
          ],
          [
           "Ukraine",
           "Europe",
           5014929,
           11466.952,
           0,
           0,
           0,
           108605,
           248.332,
           0,
           0,
           0
          ],
          [
           "Portugal",
           "Europe",
           4985742,
           48424.496,
           114410,
           1111.218,
           23364,
           23707,
           230.257,
           256,
           2.486,
           37
          ],
          [
           "Malaysia",
           "Western Pacific",
           4530312,
           13997.133,
           12865,
           39.749,
           1922,
           35720,
           110.363,
           21,
           0.065,
           4
          ],
          [
           "Thailand",
           "South-East Asia",
           4490760,
           6433.756,
           16893,
           24.202,
           2263,
           30368,
           43.507,
           129,
           0.185,
           0
          ],
          [
           "Austria",
           "Europe",
           4335007,
           48702.121,
           27541,
           309.412,
           4335,
           19975,
           224.411,
           12,
           0.135,
           0
          ],
          [
           "Israel",
           "Europe",
           4201869,
           48545.423,
           39735,
           459.07,
           7661,
           10882,
           125.723,
           6,
           0.069,
           0
          ],
          [
           "Belgium",
           "Europe",
           4177440,
           36254.821,
           8932,
           77.518,
           0,
           31835,
           276.287,
           26,
           0.226,
           0
          ],
          [
           "China",
           "Western Pacific",
           3994428,
           271.492,
           465700,
           31.653,
           66634,
           19020,
           1.293,
           1191,
           0.081,
           124
          ],
          [
           "South Africa",
           "Africa",
           3979126,
           6709.179,
           8133,
           13.713,
           0,
           101509,
           171.154,
           112,
           0.189,
           0
          ],
          [
           "Czechia",
           "Europe",
           3923943,
           36693.149,
           2069,
           19.347,
           450,
           40303,
           376.877,
           6,
           0.056,
           0
          ],
          [
           "Canada",
           "Americas",
           3892409,
           10313.161,
           9188,
           24.344,
           0,
           41470,
           109.877,
           170,
           0.45,
           0
          ],
          [
           "Chile",
           "Americas",
           3834020,
           20056.391,
           73129,
           382.55,
           4901,
           58119,
           304.03,
           122,
           0.638,
           10
          ],
          [
           "Philippines",
           "Western Pacific",
           3693865,
           3370.897,
           1973,
           1.8,
           257,
           60461,
           55.175,
           5,
           0.005,
           0
          ],
          [
           "Switzerland",
           "Europe",
           3684276,
           42570.059,
           13128,
           151.688,
           6,
           13273,
           153.363,
           0,
           0,
           0
          ],
          [
           "Peru",
           "Americas",
           3591816,
           10893.582,
           6049,
           18.346,
           934,
           213338,
           647.031,
           69,
           0.209,
           14
          ],
          [
           "Greece",
           "Europe",
           3508610,
           32733.953,
           29831,
           278.312,
           4210,
           30033,
           280.196,
           82,
           0.765,
           7
          ],
          [
           "Denmark",
           "Europe",
           3148183,
           54066.824,
           7518,
           129.114,
           2364,
           6419,
           110.24,
           31,
           0.532,
           5
          ],
          [
           "Romania",
           "Europe",
           2912878,
           15070.114,
           1708,
           8.837,
           0,
           65714,
           339.979,
           17,
           0.088,
           0
          ],
          [
           "Sweden",
           "Europe",
           2510930,
           24312.838,
           874,
           8.463,
           0,
           19049,
           184.448,
           0,
           0,
           0
          ],
          [
           "Iraq",
           "Eastern Mediterranean",
           2330393,
           5793.756,
           1436,
           3.57,
           344,
           25224,
           62.711,
           3,
           0.007,
           1
          ],
          [
           "Serbia",
           "Europe",
           2020952,
           29176.239,
           1781,
           25.712,
           356,
           16103,
           232.477,
           9,
           0.13,
           2
          ],
          [
           "Bangladesh",
           "South-East Asia",
           1954637,
           1186.863,
           883,
           0.536,
           232,
           29131,
           17.688,
           0,
           0,
           0
          ],
          [
           "Hungary",
           "Europe",
           1923122,
           19684.906,
           1636,
           16.746,
           1636,
           46594,
           476.932,
           23,
           0.235,
           23
          ],
          [
           "Slovakia",
           "Europe",
           1791639,
           32826.689,
           1042,
           19.092,
           213,
           20119,
           368.623,
           12,
           0.22,
           0
          ],
          [
           "Jordan",
           "Eastern Mediterranean",
           1697673,
           16638.741,
           402,
           3.94,
           0,
           14068,
           137.879,
           0,
           0,
           0
          ],
          [
           "Georgia",
           "Europe",
           1658755,
           41581.405,
           515,
           12.91,
           0,
           16838,
           422.092,
           3,
           0.075,
           0
          ],
          [
           "Ireland",
           "Europe",
           1570519,
           31635.371,
           905,
           18.23,
           0,
           7416,
           149.382,
           5,
           0.101,
           0
          ],
          [
           "Pakistan",
           "Eastern Mediterranean",
           1531327,
           693.246,
           513,
           0.232,
           54,
           30381,
           13.754,
           2,
           0.001,
           0
          ],
          [
           "Norway",
           "Europe",
           1437344,
           26778.25,
           2192,
           40.838,
           264,
           3210,
           59.803,
           0,
           0,
           0
          ],
          [
           "Kazakhstan",
           "Europe",
           1395085,
           7429.87,
           88,
           0.469,
           17,
           19017,
           101.28,
           1,
           0.005,
           0
          ],
          [
           "Singapore",
           "Western Pacific",
           1348775,
           23054.635,
           23152,
           395.738,
           5130,
           1401,
           23.947,
           7,
           0.12,
           3
          ],
          [
           "New Zealand",
           "Western Pacific",
           1248298,
           25886.306,
           40499,
           839.839,
           0,
           1295,
           26.855,
           79,
           1.638,
           0
          ],
          [
           "Morocco",
           "Eastern Mediterranean",
           1177842,
           3191.071,
           6808,
           18.445,
           1677,
           16083,
           43.573,
           1,
           0.003,
           1
          ],
          [
           "Bulgaria",
           "Europe",
           1167314,
           16792.304,
           998,
           14.357,
           167,
           37206,
           535.224,
           22,
           0.316,
           2
          ],
          [
           "Croatia",
           "Europe",
           1140078,
           28093.436,
           1800,
           44.355,
           243,
           16020,
           394.76,
           16,
           0.394,
           1
          ],
          [
           "Finland",
           "Europe",
           1114573,
           20172.201,
           836,
           15.13,
           0,
           4714,
           85.317,
           0,
           0,
           0
          ],
          [
           "Cuba",
           "Americas",
           1105643,
           9761.459,
           153,
           1.351,
           12,
           8529,
           75.301,
           0,
           0,
           0
          ],
          [
           "Lebanon",
           "Eastern Mediterranean",
           1101109,
           16132.413,
           1102,
           16.145,
           0,
           10445,
           153.03,
           6,
           0.088,
           0
          ],
          [
           "Lithuania",
           "Europe",
           1064538,
           38099.632,
           1013,
           36.255,
           230,
           9158,
           327.763,
           7,
           0.251,
           3
          ],
          [
           "Tunisia",
           "Eastern Mediterranean",
           1044426,
           8837.124,
           886,
           7.497,
           886,
           28655,
           242.456,
           7,
           0.059,
           7
          ],
          [
           "Slovenia",
           "Europe",
           1028943,
           49094.048,
           2095,
           99.959,
           561,
           7805,
           372.401,
           0,
           0,
           0
          ],
          [
           "Belarus",
           "Europe",
           982867,
           10401.456,
           0,
           0,
           0,
           6978,
           73.847,
           0,
           0,
           0
          ],
          [
           "Nepal",
           "South-East Asia",
           979297,
           3361.03,
           74,
           0.254,
           19,
           11952,
           41.02,
           0,
           0,
           0
          ],
          [
           "Uruguay",
           "Americas",
           943877,
           27171.858,
           8916,
           256.669,
           0,
           7290,
           209.861,
           28,
           0.806,
           0
          ],
          [
           "Mongolia",
           "Western Pacific",
           926282,
           28255.035,
           0,
           0,
           0,
           2115,
           64.515,
           0,
           0,
           0
          ],
          [
           "United Arab Emirates",
           "Eastern Mediterranean",
           920171,
           9303.676,
           8085,
           81.746,
           1356,
           2305,
           23.305,
           0,
           0,
           0
          ],
          [
           "Bolivia (Plurinational State of)",
           "Americas",
           912869,
           7820.332,
           2353,
           20.158,
           396,
           21951,
           188.049,
           2,
           0.017,
           0
          ],
          [
           "Costa Rica",
           "Americas",
           904934,
           17764.292,
           0,
           0,
           0,
           8525,
           167.35,
           0,
           0,
           0
          ],
          [
           "Panama",
           "Americas",
           892455,
           20683.736,
           16969,
           393.277,
           1106,
           8307,
           192.525,
           31,
           0.718,
           8
          ],
          [
           "Ecuador",
           "Americas",
           890852,
           5049.307,
           5534,
           31.366,
           311,
           35659,
           202.114,
           10,
           0.057,
           1
          ],
          [
           "Guatemala",
           "Americas",
           871263,
           4863.161,
           6495,
           36.253,
           151,
           18293,
           102.107,
           69,
           0.385,
           6
          ],
          [
           "Latvia",
           "Europe",
           830977,
           43559.673,
           1337,
           70.085,
           0,
           5841,
           306.184,
           7,
           0.367,
           0
          ],
          [
           "Azerbaijan",
           "Europe",
           792903,
           7820.192,
           83,
           0.819,
           19,
           9715,
           95.816,
           1,
           0.01,
           0
          ],
          [
           "Saudi Arabia",
           "Eastern Mediterranean",
           780135,
           2240.874,
           6914,
           19.86,
           1152,
           9176,
           26.357,
           16,
           0.046,
           1
          ],
          [
           "Puerto Rico",
           "Americas",
           718965,
           25131.141,
           23622,
           825.698,
           390,
           4449,
           155.513,
           41,
           1.433,
           9
          ],
          [
           "Sri Lanka",
           "South-East Asia",
           663965,
           3100.72,
           64,
           0.299,
           0,
           16519,
           77.144,
           1,
           0.005,
           0
          ],
          [
           "occupied Palestinian territory, including east Jerusalem",
           "Eastern Mediterranean",
           658100,
           12900.345,
           221,
           4.332,
           221,
           5660,
           110.95,
           0,
           0,
           0
          ],
          [
           "Paraguay",
           "Americas",
           652044,
           9141.823,
           776,
           10.88,
           0,
           18932,
           265.431,
           21,
           0.294,
           0
          ],
          [
           "Kuwait",
           "Eastern Mediterranean",
           637061,
           14917.467,
           2524,
           59.102,
           409,
           2555,
           59.828,
           0,
           0,
           0
          ],
          [
           "Myanmar",
           "South-East Asia",
           613460,
           1127.481,
           55,
           0.101,
           0,
           19434,
           35.718,
           0,
           0,
           0
          ],
          [
           "Bahrain",
           "Eastern Mediterranean",
           598552,
           35176.351,
           7746,
           455.225,
           1368,
           1490,
           87.566,
           1,
           0.059,
           1
          ],
          [
           "Dominican Republic",
           "Americas",
           592578,
           5462.601,
           4170,
           38.441,
           0,
           4382,
           40.395,
           3,
           0.028,
           0
          ],
          [
           "Estonia",
           "Europe",
           578494,
           43529.304,
           633,
           47.631,
           0,
           2586,
           194.586,
           5,
           0.376,
           0
          ],
          [
           "Venezuela (Bolivarian Republic of)",
           "Americas",
           524321,
           1843.867,
           384,
           1.35,
           30,
           5724,
           20.129,
           2,
           0.007,
           0
          ],
          [
           "Republic of Moldova",
           "Europe",
           519452,
           12876.965,
           224,
           5.553,
           224,
           11554,
           286.418,
           3,
           0.074,
           3
          ],
          [
           "Egypt",
           "Eastern Mediterranean",
           514008,
           502.283,
           33,
           0.032,
           0,
           24720,
           24.156,
           1,
           0.001,
           0
          ],
          [
           "Libya",
           "Eastern Mediterranean",
           502076,
           7306.865,
           36,
           0.524,
           0,
           6430,
           93.578,
           0,
           0,
           0
          ],
          [
           "Cyprus",
           "Europe",
           493984,
           55628.516,
           2207,
           248.535,
           0,
           1068,
           120.27,
           1,
           0.113,
           0
          ],
          [
           "Ethiopia",
           "Africa",
           479484,
           417.075,
           3720,
           3.236,
           0,
           7517,
           6.539,
           2,
           0.002,
           0
          ],
          [
           "Honduras",
           "Americas",
           425655,
           4297.546,
           184,
           1.858,
           0,
           10902,
           110.07,
           2,
           0.02,
           0
          ],
          [
           "Armenia",
           "Europe",
           423044,
           14276.429,
           38,
           1.282,
           0,
           8625,
           291.067,
           0,
           0,
           0
          ],
          [
           "Réunion",
           "Africa",
           419968,
           46907.447,
           1383,
           154.471,
           0,
           799,
           89.243,
           3,
           0.335,
           0
          ],
          [
           "Oman",
           "Eastern Mediterranean",
           389758,
           7632.398,
           0,
           0,
           0,
           4260,
           83.421,
           0,
           0,
           0
          ],
          [
           "Bosnia and Herzegovina",
           "Europe",
           378138,
           11525.734,
           116,
           3.536,
           26,
           15796,
           481.466,
           5,
           0.152,
           1
          ],
          [
           "Qatar",
           "Eastern Mediterranean",
           373178,
           12952.834,
           2627,
           91.182,
           474,
           677,
           23.498,
           0,
           0,
           0
          ],
          [
           "Kenya",
           "Africa",
           327145,
           608.401,
           1348,
           2.507,
           0,
           5651,
           10.509,
           0,
           0,
           0
          ],
          [
           "Zambia",
           "Africa",
           323337,
           1758.8,
           775,
           4.216,
           0,
           3989,
           21.698,
           0,
           0,
           0
          ],
          [
           "North Macedonia",
           "Europe",
           312673,
           15007.968,
           328,
           15.744,
           66,
           9316,
           447.158,
           4,
           0.192,
           0
          ],
          [
           "Botswana",
           "Africa",
           310419,
           13200.18,
           0,
           0,
           0,
           2701,
           114.857,
           0,
           0,
           0
          ],
          [
           "Albania",
           "Europe",
           276821,
           9619.188,
           353,
           12.266,
           83,
           3497,
           121.516,
           0,
           0,
           0
          ],
          [
           "Algeria",
           "Africa",
           265937,
           606.455,
           33,
           0.075,
           0,
           6875,
           15.678,
           0,
           0,
           0
          ],
          [
           "Nigeria",
           "Africa",
           256352,
           124.358,
           125,
           0.061,
           0,
           3144,
           1.525,
           1,
           0,
           0
          ],
          [
           "Zimbabwe",
           "Africa",
           254155,
           1709.993,
           518,
           3.485,
           0,
           5521,
           37.146,
           6,
           0.04,
           0
          ],
          [
           "Luxembourg",
           "Europe",
           253318,
           40459.154,
           3422,
           546.551,
           625,
           1082,
           172.814,
           1,
           0.16,
           0
          ],
          [
           "Uzbekistan",
           "Europe",
           239319,
           715.043,
           160,
           0.478,
           39,
           1637,
           4.891,
           0,
           0,
           0
          ],
          [
           "Montenegro",
           "Europe",
           238037,
           37900.239,
           407,
           64.803,
           94,
           2722,
           433.397,
           2,
           0.318,
           0
          ],
          [
           "Kosovo[1]",
           "Europe",
           228407,
           12719.904,
           53,
           2.952,
           8,
           3129,
           174.253,
           0,
           0,
           0
          ],
          [
           "Mauritius",
           "Africa",
           227442,
           17883.922,
           0,
           0,
           0,
           1000,
           78.631,
           0,
           0,
           0
          ],
          [
           "Mozambique",
           "Africa",
           226481,
           724.613,
           416,
           1.331,
           0,
           2206,
           7.058,
           1,
           0.003,
           0
          ],
          [
           "Lao People's Democratic Republic",
           "Western Pacific",
           210164,
           2888.63,
           66,
           0.907,
           6,
           757,
           10.405,
           1,
           0.014,
           0
          ],
          [
           "Kyrgyzstan",
           "Europe",
           200993,
           3080.734,
           0,
           0,
           0,
           2991,
           45.845,
           0,
           0,
           0
          ],
          [
           "Iceland",
           "Europe",
           190643,
           52355.177,
           1169,
           321.036,
           215,
           153,
           42.017,
           0,
           0,
           0
          ],
          [
           "Afghanistan",
           "Eastern Mediterranean",
           181236,
           465.563,
           452,
           1.161,
           58,
           7710,
           19.806,
           1,
           0.003,
           0
          ],
          [
           "Martinique",
           "Americas",
           180883,
           48201.404,
           8000,
           2131.827,
           0,
           950,
           253.154,
           8,
           2.132,
           0
          ],
          [
           "Maldives",
           "South-East Asia",
           179979,
           33295.902,
           62,
           11.47,
           0,
           299,
           55.315,
           0,
           0,
           0
          ],
          [
           "Namibia",
           "Africa",
           165507,
           6513.703,
           799,
           31.445,
           0,
           4049,
           159.353,
           9,
           0.354,
           0
          ],
          [
           "Uganda",
           "Africa",
           165251,
           361.275,
           310,
           0.678,
           0,
           3605,
           7.881,
           2,
           0.004,
           0
          ],
          [
           "Trinidad and Tobago",
           "Americas",
           164829,
           11777.807,
           1884,
           134.621,
           106,
           3965,
           283.318,
           22,
           1.572,
           2
          ],
          [
           "Guadeloupe",
           "Americas",
           164325,
           41068.519,
           2135,
           533.585,
           0,
           950,
           237.426,
           1,
           0.25,
           0
          ],
          [
           "El Salvador",
           "Americas",
           164134,
           2530.509,
           0,
           0,
           0,
           4135,
           63.751,
           2,
           0.031,
           0
          ],
          [
           "Ghana",
           "Africa",
           161935,
           521.145,
           0,
           0,
           0,
           1445,
           4.65,
           0,
           0,
           0
          ],
          [
           "Brunei Darussalam",
           "Western Pacific",
           154133,
           35232.091,
           2972,
           679.347,
           522,
           164,
           37.488,
           2,
           0.457,
           0
          ],
          [
           "Jamaica",
           "Americas",
           140754,
           4753.329,
           1551,
           52.378,
           84,
           3091,
           104.385,
           15,
           0.507,
           7
          ],
          [
           "Cambodia",
           "Western Pacific",
           136262,
           815.015,
           0,
           0,
           0,
           3056,
           18.279,
           0,
           0,
           0
          ],
          [
           "Rwanda",
           "Africa",
           130382,
           1006.638,
           149,
           1.15,
           0,
           1459,
           11.264,
           0,
           0,
           0
          ],
          [
           "Cameroon",
           "Africa",
           119947,
           451.848,
           0,
           0,
           0,
           1930,
           7.27,
           0,
           0,
           0
          ],
          [
           "Angola",
           "Africa",
           99761,
           303.536,
           0,
           0,
           0,
           1900,
           5.781,
           0,
           0,
           0
          ],
          [
           "Malta",
           "Europe",
           96490,
           18751.798,
           1125,
           218.632,
           200,
           728,
           141.479,
           5,
           0.972,
           1
          ],
          [
           "Democratic Republic of the Congo",
           "Africa",
           89932,
           100.414,
           0,
           0,
           0,
           1345,
           1.502,
           0,
           0,
           0
          ],
          [
           "Senegal",
           "Africa",
           86150,
           514.515,
           10,
           0.06,
           0,
           1967,
           11.748,
           0,
           0,
           0
          ],
          [
           "Malawi",
           "Africa",
           86107,
           450.116,
           85,
           0.444,
           0,
           2642,
           13.811,
           0,
           0,
           0
          ],
          [
           "French Guiana",
           "Americas",
           84507,
           28293.302,
           836,
           279.896,
           0,
           399,
           133.587,
           2,
           0.67,
           0
          ],
          [
           "Côte d’Ivoire",
           "Africa",
           82492,
           312.727,
           176,
           0.667,
           0,
           799,
           3.029,
           0,
           0,
           0
          ],
          [
           "Barbados",
           "Americas",
           82318,
           28644.802,
           800,
           278.382,
           63,
           468,
           162.853,
           5,
           1.74,
           1
          ],
          [
           "Suriname",
           "Americas",
           80673,
           13751.892,
           126,
           21.479,
           0,
           1352,
           230.468,
           2,
           0.341,
           0
          ],
          [
           "French Polynesia",
           "Western Pacific",
           73124,
           26031.299,
           62,
           22.071,
           18,
           649,
           231.036,
           0,
           0,
           0
          ],
          [
           "Eswatini",
           "Africa",
           72904,
           6283.939,
           155,
           13.36,
           0,
           1410,
           121.535,
           0,
           0,
           0
          ],
          [
           "Guyana",
           "Americas",
           65926,
           8381.645,
           632,
           80.351,
           34,
           1240,
           157.65,
           2,
           0.254,
           1
          ],
          [
           "Fiji",
           "Western Pacific",
           65217,
           7275.07,
           114,
           12.717,
           0,
           865,
           96.492,
           1,
           0.112,
           0
          ],
          [
           "Madagascar",
           "Africa",
           64685,
           233.596,
           207,
           0.748,
           0,
           1396,
           5.041,
           0,
           0,
           0
          ],
          [
           "New Caledonia",
           "Western Pacific",
           63002,
           22067.405,
           379,
           132.75,
           379,
           313,
           109.633,
           0,
           0,
           0
          ],
          [
           "Sudan",
           "Eastern Mediterranean",
           62489,
           142.509,
           45,
           0.103,
           4,
           4950,
           11.289,
           0,
           0,
           0
          ],
          [
           "Belize",
           "Americas",
           61150,
           15378.696,
           1087,
           273.371,
           287,
           678,
           170.511,
           0,
           0,
           0
          ],
          [
           "Bhutan",
           "South-East Asia",
           59644,
           7729.832,
           8,
           1.037,
           0,
           21,
           2.722,
           0,
           0,
           0
          ],
          [
           "Mauritania",
           "Africa",
           59247,
           1274.223,
           35,
           0.753,
           0,
           982,
           21.12,
           0,
           0,
           0
          ],
          [
           "Cabo Verde",
           "Africa",
           57096,
           10269.305,
           358,
           64.39,
           0,
           402,
           72.304,
           0,
           0,
           0
          ],
          [
           "Syrian Arab Republic",
           "Eastern Mediterranean",
           55908,
           319.462,
           8,
           0.046,
           1,
           3150,
           17.999,
           0,
           0,
           0
          ],
          [
           "Jersey",
           "Europe",
           51132,
           47434.042,
           139,
           128.947,
           0,
           129,
           119.67,
           0,
           0,
           0
          ],
          [
           "Gabon",
           "Africa",
           47711,
           2143.607,
           34,
           1.528,
           0,
           304,
           13.658,
           0,
           0,
           0
          ],
          [
           "Papua New Guinea",
           "Western Pacific",
           44675,
           499.328,
           32,
           0.358,
           13,
           658,
           7.354,
           1,
           0.011,
           0
          ],
          [
           "Seychelles",
           "Africa",
           44397,
           45143.217,
           102,
           103.714,
           0,
           167,
           169.807,
           0,
           0,
           0
          ],
          [
           "Curaçao",
           "Americas",
           44314,
           27005.418,
           187,
           113.96,
           187,
           278,
           169.416,
           1,
           0.609,
           1
          ],
          [
           "Andorra",
           "Europe",
           43224,
           55942.535,
           157,
           203.197,
           0,
           153,
           198.02,
           0,
           0,
           0
          ],
          [
           "Burundi",
           "Africa",
           42330,
           355.99,
           82,
           0.69,
           0,
           15,
           0.126,
           0,
           0,
           0
          ],
          [
           "Guam",
           "Western Pacific",
           42029,
           24902.385,
           479,
           283.81,
           0,
           370,
           219.227,
           4,
           2.37,
           1
          ],
          [
           "Aruba",
           "Americas",
           39339,
           36846,
           1038,
           972.22,
           1038,
           219,
           205.121,
           3,
           2.81,
           3
          ],
          [
           "Mayotte",
           "Africa",
           37751,
           13837.582,
           94,
           34.456,
           0,
           187,
           68.545,
           0,
           0,
           0
          ],
          [
           "Togo",
           "Africa",
           37196,
           449.296,
           54,
           0.652,
           0,
           273,
           3.298,
           0,
           0,
           0
          ],
          [
           "Guinea",
           "Africa",
           36817,
           280.344,
           0,
           0,
           0,
           442,
           3.366,
           0,
           0,
           0
          ],
          [
           "Bahamas",
           "Americas",
           35351,
           8989.584,
           252,
           64.082,
           0,
           812,
           206.488,
           1,
           0.254,
           0
          ],
          [
           "United Republic of Tanzania",
           "Africa",
           35159,
           58.859,
           171,
           0.286,
           0,
           840,
           1.406,
           0,
           0,
           0
          ],
          [
           "Faroe Islands",
           "Europe",
           34658,
           70926.021,
           0,
           0,
           0,
           28,
           57.301,
           0,
           0,
           0
          ],
          [
           "Isle of Man",
           "Europe",
           33821,
           39774.438,
           723,
           850.268,
           570,
           107,
           125.835,
           0,
           0,
           0
          ],
          [
           "Lesotho",
           "Africa",
           33746,
           1575.26,
           0,
           0,
           0,
           699,
           32.629,
           0,
           0,
           0
          ],
          [
           "Mali",
           "Africa",
           31127,
           153.707,
           12,
           0.059,
           0,
           736,
           3.634,
           1,
           0.005,
           0
          ],
          [
           "Haiti",
           "Americas",
           31054,
           272.343,
           50,
           0.438,
           0,
           837,
           7.34,
           0,
           0,
           0
          ],
          [
           "Benin",
           "Africa",
           26914,
           222.004,
           0,
           0,
           0,
           163,
           1.345,
           0,
           0,
           0
          ],
          [
           "Somalia",
           "Eastern Mediterranean",
           26675,
           167.839,
           110,
           0.692,
           0,
           1361,
           8.563,
           0,
           0,
           0
          ],
          [
           "Saint Lucia",
           "Americas",
           26584,
           14477.174,
           350,
           190.604,
           20,
           376,
           204.763,
           5,
           2.723,
           5
          ],
          [
           "Cayman Islands",
           "Americas",
           26325,
           40056.299,
           439,
           667.985,
           439,
           28,
           42.605,
           0,
           0,
           0
          ],
          [
           "Guernsey",
           "Europe",
           26131,
           40533.288,
           257,
           398.647,
           257,
           47,
           72.904,
           0,
           0,
           0
          ],
          [
           "Congo",
           "Africa",
           24128,
           437.253,
           0,
           0,
           0,
           385,
           6.977,
           0,
           0,
           0
          ],
          [
           "Timor-Leste",
           "South-East Asia",
           22944,
           1740.232,
           15,
           1.138,
           4,
           133,
           10.088,
           0,
           0,
           0
          ],
          [
           "Solomon Islands",
           "Western Pacific",
           21237,
           3091.788,
           0,
           0,
           0,
           149,
           21.692,
           0,
           0,
           0
          ],
          [
           "Burkina Faso",
           "Africa",
           20899,
           99.98,
           0,
           0,
           0,
           384,
           1.837,
           0,
           0,
           0
          ],
          [
           "United States Virgin Islands",
           "Americas",
           20516,
           19646.636,
           287,
           274.838,
           44,
           115,
           110.127,
           1,
           0.958,
           0
          ],
          [
           "Gibraltar",
           "Europe",
           18806,
           55819.061,
           215,
           638.153,
           0,
           101,
           299.783,
           0,
           0,
           0
          ],
          [
           "Grenada",
           "Americas",
           18115,
           16098.931,
           167,
           148.414,
           80,
           231,
           205.291,
           0,
           0,
           0
          ],
          [
           "Tajikistan",
           "Europe",
           17786,
           186.482,
           0,
           0,
           0,
           125,
           1.311,
           0,
           0,
           0
          ],
          [
           "South Sudan",
           "Africa",
           17659,
           157.758,
           18,
           0.161,
           0,
           138,
           1.233,
           0,
           0,
           0
          ],
          [
           "Liechtenstein",
           "Europe",
           17619,
           45471.908,
           64,
           165.174,
           0,
           84,
           216.791,
           0,
           0,
           0
          ],
          [
           "San Marino",
           "Europe",
           17376,
           51199.246,
           146,
           430.196,
           31,
           115,
           338.853,
           0,
           0,
           0
          ],
          [
           "Equatorial Guinea",
           "Africa",
           15945,
           1136.505,
           21,
           1.497,
           0,
           183,
           13.044,
           0,
           0,
           0
          ],
          [
           "Djibouti",
           "Eastern Mediterranean",
           15690,
           1588.057,
           4,
           0.405,
           0,
           189,
           19.13,
           0,
           0,
           0
          ],
          [
           "Bermuda",
           "Americas",
           15428,
           24774.782,
           343,
           550.801,
           0,
           138,
           221.605,
           0,
           0,
           0
          ],
          [
           "Dominica",
           "Americas",
           14638,
           20333.097,
           343,
           476.448,
           0,
           67,
           93.067,
           0,
           0,
           0
          ],
          [
           "Nicaragua",
           "Americas",
           14619,
           220.679,
           42,
           0.634,
           42,
           241,
           3.638,
           1,
           0.015,
           1
          ],
          [
           "Samoa",
           "Western Pacific",
           14422,
           7268.64,
           235,
           118.439,
           107,
           28,
           14.112,
           1,
           0.504,
           0
          ],
          [
           "Central African Republic",
           "Africa",
           14371,
           297.551,
           0,
           0,
           0,
           113,
           2.34,
           0,
           0,
           0
          ],
          [
           "Monaco",
           "Europe",
           12545,
           31966.67,
           185,
           471.41,
           31,
           57,
           145.245,
           0,
           0,
           0
          ],
          [
           "Gambia",
           "Africa",
           12002,
           496.634,
           0,
           0,
           0,
           365,
           15.103,
           0,
           0,
           0
          ],
          [
           "Greenland",
           "Europe",
           11971,
           21086.099,
           0,
           0,
           0,
           21,
           36.99,
           0,
           0,
           0
          ],
          [
           "Tonga",
           "Western Pacific",
           11909,
           11267.326,
           0,
           0,
           0,
           12,
           11.353,
           0,
           0,
           0
          ],
          [
           "Yemen",
           "Eastern Mediterranean",
           11822,
           39.637,
           0,
           0,
           0,
           2149,
           7.205,
           0,
           0,
           0
          ],
          [
           "Northern Mariana Islands (Commonwealth of the)",
           "Western Pacific",
           11482,
           19948.92,
           79,
           137.255,
           0,
           34,
           59.072,
           0,
           0,
           0
          ],
          [
           "Saint Martin",
           "Americas",
           10800,
           27936.574,
           74,
           191.417,
           0,
           44,
           113.816,
           0,
           0,
           0
          ],
          [
           "Vanuatu",
           "Western Pacific",
           10695,
           3482.069,
           361,
           117.534,
           0,
           14,
           4.558,
           0,
           0,
           0
          ],
          [
           "Sint Maarten",
           "Americas",
           10508,
           24504.454,
           74,
           172.567,
           74,
           86,
           200.55,
           0,
           0,
           0
          ],
          [
           "Eritrea",
           "Africa",
           9771,
           275.517,
           3,
           0.085,
           0,
           103,
           2.904,
           0,
           0,
           0
          ],
          [
           "Niger",
           "Africa",
           9031,
           37.308,
           0,
           0,
           0,
           310,
           1.281,
           0,
           0,
           0
          ],
          [
           "Saint Vincent and the Grenadines",
           "Americas",
           8929,
           8048.495,
           122,
           109.969,
           13,
           109,
           98.251,
           1,
           0.901,
           1
          ],
          [
           "Bonaire",
           "Americas",
           8696,
           41577.815,
           46,
           219.938,
           46,
           30,
           143.438,
           0,
           0,
           0
          ],
          [
           "Antigua and Barbuda",
           "Americas",
           8531,
           8711.413,
           153,
           156.236,
           39,
           140,
           142.961,
           2,
           2.042,
           0
          ],
          [
           "Guinea-Bissau",
           "Africa",
           8306,
           422.053,
           9,
           0.457,
           0,
           171,
           8.689,
           0,
           0,
           0
          ],
          [
           "Comoros",
           "Africa",
           8131,
           935.027,
           0,
           0,
           0,
           160,
           18.399,
           0,
           0,
           0
          ],
          [
           "Sierra Leone",
           "Africa",
           7682,
           96.302,
           0,
           0,
           0,
           125,
           1.567,
           0,
           0,
           0
          ],
          [
           "Liberia",
           "Africa",
           7460,
           147.498,
           1,
           0.02,
           0,
           294,
           5.813,
           0,
           0,
           0
          ],
          [
           "Chad",
           "Africa",
           7420,
           45.173,
           2,
           0.012,
           0,
           193,
           1.175,
           0,
           0,
           0
          ],
          [
           "British Virgin Islands",
           "Americas",
           6902,
           22826.339,
           137,
           453.087,
           0,
           63,
           208.354,
           1,
           3.307,
           0
          ],
          [
           "American Samoa",
           "Western Pacific",
           6270,
           11359.313,
           78,
           141.312,
           78,
           31,
           56.162,
           0,
           0,
           0
          ],
          [
           "Turks and Caicos Islands",
           "Americas",
           6160,
           15909.913,
           12,
           30.993,
           0,
           36,
           92.98,
           0,
           0,
           0
          ],
          [
           "Sao Tome and Principe",
           "Africa",
           6010,
           2742.301,
           7,
           3.194,
           0,
           73,
           33.309,
           0,
           0,
           0
          ],
          [
           "Saint Kitts and Nevis",
           "Americas",
           5861,
           11018.574,
           50,
           93.999,
           9,
           43,
           80.839,
           0,
           0,
           0
          ],
          [
           "Cook Islands",
           "Western Pacific",
           5720,
           32566.614,
           9,
           51.241,
           3,
           1,
           5.693,
           0,
           0,
           0
          ],
          [
           "Palau",
           "Western Pacific",
           5165,
           28548.53,
           39,
           215.565,
           20,
           6,
           33.164,
           0,
           0,
           0
          ],
          [
           "Saint Barthélemy",
           "Americas",
           4646,
           47000.506,
           32,
           323.723,
           0,
           4,
           40.465,
           0,
           0,
           0
          ],
          [
           "Anguilla",
           "Americas",
           3374,
           22490.335,
           80,
           533.262,
           32,
           9,
           59.992,
           0,
           0,
           0
          ],
          [
           "Kiribati",
           "Western Pacific",
           3215,
           2691.525,
           32,
           26.79,
           6,
           13,
           10.883,
           0,
           0,
           0
          ],
          [
           "Saint Pierre and Miquelon",
           "Americas",
           2765,
           47713.546,
           3,
           51.769,
           0,
           1,
           17.256,
           0,
           0,
           0
          ],
          [
           "Falkland Islands (Malvinas)",
           "Americas",
           1733,
           49755.958,
           16,
           459.374,
           0,
           0,
           0,
           0,
           0,
           0
          ],
          [
           "Montserrat",
           "Americas",
           1012,
           20244.049,
           9,
           180.036,
           0,
           8,
           160.032,
           0,
           0,
           0
          ],
          [
           "Sint Eustatius",
           "Americas",
           945,
           30105.129,
           8,
           254.858,
           8,
           5,
           159.286,
           0,
           0,
           0
          ],
          [
           "Saba",
           "Americas",
           608,
           31453.699,
           1,
           51.733,
           1,
           1,
           51.733,
           1,
           51.733,
           0
          ],
          [
           "Wallis and Futuna",
           "Western Pacific",
           454,
           4036.991,
           0,
           0,
           0,
           7,
           62.244,
           0,
           0,
           0
          ],
          [
           "Micronesia (Federated States of)",
           "Western Pacific",
           34,
           29.559,
           0,
           0,
           0,
           0,
           0,
           0,
           0,
           0
          ],
          [
           "Holy See",
           "Europe",
           26,
           3213.844,
           0,
           0,
           0,
           0,
           0,
           0,
           0,
           0
          ],
          [
           "Marshall Islands",
           "Western Pacific",
           18,
           30.408,
           0,
           0,
           0,
           0,
           0,
           0,
           0,
           0
          ],
          [
           "Niue",
           "Western Pacific",
           9,
           556.242,
           0,
           0,
           0,
           0,
           0,
           0,
           0,
           0
          ],
          [
           "Nauru",
           "Western Pacific",
           3,
           27.691,
           0,
           0,
           0,
           0,
           0,
           0,
           0,
           0
          ],
          [
           "Tuvalu",
           "Western Pacific",
           3,
           25.441,
           0,
           0,
           0,
           0,
           0,
           0,
           0,
           0
          ],
          [
           "Democratic People's Republic of Korea",
           "South-East Asia",
           0,
           0,
           0,
           0,
           0,
           0,
           0,
           0,
           0,
           0
          ],
          [
           "Pitcairn Islands",
           "Western Pacific",
           0,
           0,
           0,
           0,
           0,
           0,
           0,
           0,
           0,
           0
          ],
          [
           "Saint Helena",
           "Africa",
           0,
           0,
           0,
           0,
           0,
           0,
           0,
           0,
           0,
           0
          ],
          [
           "Tokelau",
           "Western Pacific",
           0,
           0,
           0,
           0,
           0,
           0,
           0,
           0,
           0,
           0
          ],
          [
           "Turkmenistan",
           "Europe",
           0,
           0,
           0,
           0,
           0,
           0,
           0,
           0,
           0,
           0
          ]
         ],
         "fillcolor": "orange",
         "hovertemplate": "%{customdata[0]}<br>%{customdata[3]}",
         "legendgroup": "",
         "line": {
          "color": "black"
         },
         "marker": {
          "color": "#636efa"
         },
         "name": "",
         "offsetgroup": "",
         "orientation": "v",
         "points": "all",
         "scalegroup": "True",
         "showlegend": false,
         "type": "violin",
         "x0": " ",
         "xaxis": "x",
         "y": [
          6857.303528,
          25591.338,
          3133.723,
          14817.992,
          44602.583,
          32473.845,
          33029.805,
          12598.188,
          35593.464,
          29683.845,
          17887.016,
          26440.811,
          11026.753,
          20606.911,
          7176.012,
          46593.585,
          29739.422,
          8612.678,
          12023.387,
          2216.719,
          15834.926,
          4518.272,
          11466.952,
          48424.496,
          13997.133,
          6433.756,
          48702.121,
          48545.423,
          36254.821,
          271.492,
          6709.179,
          36693.149,
          10313.161,
          20056.391,
          3370.897,
          42570.059,
          10893.582,
          32733.953,
          54066.824,
          15070.114,
          24312.838,
          5793.756,
          29176.239,
          1186.863,
          19684.906,
          32826.689,
          16638.741,
          41581.405,
          31635.371,
          693.246,
          26778.25,
          7429.87,
          23054.635,
          25886.306,
          3191.071,
          16792.304,
          28093.436,
          20172.201,
          9761.459,
          16132.413,
          38099.632,
          8837.124,
          49094.048,
          10401.456,
          3361.03,
          27171.858,
          28255.035,
          9303.676,
          7820.332,
          17764.292,
          20683.736,
          5049.307,
          4863.161,
          43559.673,
          7820.192,
          2240.874,
          25131.141,
          3100.72,
          12900.345,
          9141.823,
          14917.467,
          1127.481,
          35176.351,
          5462.601,
          43529.304,
          1843.867,
          12876.965,
          502.283,
          7306.865,
          55628.516,
          417.075,
          4297.546,
          14276.429,
          46907.447,
          7632.398,
          11525.734,
          12952.834,
          608.401,
          1758.8,
          15007.968,
          13200.18,
          9619.188,
          606.455,
          124.358,
          1709.993,
          40459.154,
          715.043,
          37900.239,
          12719.904,
          17883.922,
          724.613,
          2888.63,
          3080.734,
          52355.177,
          465.563,
          48201.404,
          33295.902,
          6513.703,
          361.275,
          11777.807,
          41068.519,
          2530.509,
          521.145,
          35232.091,
          4753.329,
          815.015,
          1006.638,
          451.848,
          303.536,
          18751.798,
          100.414,
          514.515,
          450.116,
          28293.302,
          312.727,
          28644.802,
          13751.892,
          26031.299,
          6283.939,
          8381.645,
          7275.07,
          233.596,
          22067.405,
          142.509,
          15378.696,
          7729.832,
          1274.223,
          10269.305,
          319.462,
          47434.042,
          2143.607,
          499.328,
          45143.217,
          27005.418,
          55942.535,
          355.99,
          24902.385,
          36846,
          13837.582,
          449.296,
          280.344,
          8989.584,
          58.859,
          70926.021,
          39774.438,
          1575.26,
          153.707,
          272.343,
          222.004,
          167.839,
          14477.174,
          40056.299,
          40533.288,
          437.253,
          1740.232,
          3091.788,
          99.98,
          19646.636,
          55819.061,
          16098.931,
          186.482,
          157.758,
          45471.908,
          51199.246,
          1136.505,
          1588.057,
          24774.782,
          20333.097,
          220.679,
          7268.64,
          297.551,
          31966.67,
          496.634,
          21086.099,
          11267.326,
          39.637,
          19948.92,
          27936.574,
          3482.069,
          24504.454,
          275.517,
          37.308,
          8048.495,
          41577.815,
          8711.413,
          422.053,
          935.027,
          96.302,
          147.498,
          45.173,
          22826.339,
          11359.313,
          15909.913,
          2742.301,
          11018.574,
          32566.614,
          28548.53,
          47000.506,
          22490.335,
          2691.525,
          47713.546,
          49755.958,
          20244.049,
          30105.129,
          31453.699,
          4036.991,
          29.559,
          3213.844,
          30.408,
          556.242,
          27.691,
          25.441,
          0,
          0,
          0,
          0,
          0
         ],
         "y0": " ",
         "yaxis": "y"
        }
       ],
       "layout": {
        "legend": {
         "tracegroupgap": 0
        },
        "template": {
         "data": {
          "bar": [
           {
            "error_x": {
             "color": "#2a3f5f"
            },
            "error_y": {
             "color": "#2a3f5f"
            },
            "marker": {
             "line": {
              "color": "#E5ECF6",
              "width": 0.5
             },
             "pattern": {
              "fillmode": "overlay",
              "size": 10,
              "solidity": 0.2
             }
            },
            "type": "bar"
           }
          ],
          "barpolar": [
           {
            "marker": {
             "line": {
              "color": "#E5ECF6",
              "width": 0.5
             },
             "pattern": {
              "fillmode": "overlay",
              "size": 10,
              "solidity": 0.2
             }
            },
            "type": "barpolar"
           }
          ],
          "carpet": [
           {
            "aaxis": {
             "endlinecolor": "#2a3f5f",
             "gridcolor": "white",
             "linecolor": "white",
             "minorgridcolor": "white",
             "startlinecolor": "#2a3f5f"
            },
            "baxis": {
             "endlinecolor": "#2a3f5f",
             "gridcolor": "white",
             "linecolor": "white",
             "minorgridcolor": "white",
             "startlinecolor": "#2a3f5f"
            },
            "type": "carpet"
           }
          ],
          "choropleth": [
           {
            "colorbar": {
             "outlinewidth": 0,
             "ticks": ""
            },
            "type": "choropleth"
           }
          ],
          "contour": [
           {
            "colorbar": {
             "outlinewidth": 0,
             "ticks": ""
            },
            "colorscale": [
             [
              0,
              "#0d0887"
             ],
             [
              0.1111111111111111,
              "#46039f"
             ],
             [
              0.2222222222222222,
              "#7201a8"
             ],
             [
              0.3333333333333333,
              "#9c179e"
             ],
             [
              0.4444444444444444,
              "#bd3786"
             ],
             [
              0.5555555555555556,
              "#d8576b"
             ],
             [
              0.6666666666666666,
              "#ed7953"
             ],
             [
              0.7777777777777778,
              "#fb9f3a"
             ],
             [
              0.8888888888888888,
              "#fdca26"
             ],
             [
              1,
              "#f0f921"
             ]
            ],
            "type": "contour"
           }
          ],
          "contourcarpet": [
           {
            "colorbar": {
             "outlinewidth": 0,
             "ticks": ""
            },
            "type": "contourcarpet"
           }
          ],
          "heatmap": [
           {
            "colorbar": {
             "outlinewidth": 0,
             "ticks": ""
            },
            "colorscale": [
             [
              0,
              "#0d0887"
             ],
             [
              0.1111111111111111,
              "#46039f"
             ],
             [
              0.2222222222222222,
              "#7201a8"
             ],
             [
              0.3333333333333333,
              "#9c179e"
             ],
             [
              0.4444444444444444,
              "#bd3786"
             ],
             [
              0.5555555555555556,
              "#d8576b"
             ],
             [
              0.6666666666666666,
              "#ed7953"
             ],
             [
              0.7777777777777778,
              "#fb9f3a"
             ],
             [
              0.8888888888888888,
              "#fdca26"
             ],
             [
              1,
              "#f0f921"
             ]
            ],
            "type": "heatmap"
           }
          ],
          "heatmapgl": [
           {
            "colorbar": {
             "outlinewidth": 0,
             "ticks": ""
            },
            "colorscale": [
             [
              0,
              "#0d0887"
             ],
             [
              0.1111111111111111,
              "#46039f"
             ],
             [
              0.2222222222222222,
              "#7201a8"
             ],
             [
              0.3333333333333333,
              "#9c179e"
             ],
             [
              0.4444444444444444,
              "#bd3786"
             ],
             [
              0.5555555555555556,
              "#d8576b"
             ],
             [
              0.6666666666666666,
              "#ed7953"
             ],
             [
              0.7777777777777778,
              "#fb9f3a"
             ],
             [
              0.8888888888888888,
              "#fdca26"
             ],
             [
              1,
              "#f0f921"
             ]
            ],
            "type": "heatmapgl"
           }
          ],
          "histogram": [
           {
            "marker": {
             "pattern": {
              "fillmode": "overlay",
              "size": 10,
              "solidity": 0.2
             }
            },
            "type": "histogram"
           }
          ],
          "histogram2d": [
           {
            "colorbar": {
             "outlinewidth": 0,
             "ticks": ""
            },
            "colorscale": [
             [
              0,
              "#0d0887"
             ],
             [
              0.1111111111111111,
              "#46039f"
             ],
             [
              0.2222222222222222,
              "#7201a8"
             ],
             [
              0.3333333333333333,
              "#9c179e"
             ],
             [
              0.4444444444444444,
              "#bd3786"
             ],
             [
              0.5555555555555556,
              "#d8576b"
             ],
             [
              0.6666666666666666,
              "#ed7953"
             ],
             [
              0.7777777777777778,
              "#fb9f3a"
             ],
             [
              0.8888888888888888,
              "#fdca26"
             ],
             [
              1,
              "#f0f921"
             ]
            ],
            "type": "histogram2d"
           }
          ],
          "histogram2dcontour": [
           {
            "colorbar": {
             "outlinewidth": 0,
             "ticks": ""
            },
            "colorscale": [
             [
              0,
              "#0d0887"
             ],
             [
              0.1111111111111111,
              "#46039f"
             ],
             [
              0.2222222222222222,
              "#7201a8"
             ],
             [
              0.3333333333333333,
              "#9c179e"
             ],
             [
              0.4444444444444444,
              "#bd3786"
             ],
             [
              0.5555555555555556,
              "#d8576b"
             ],
             [
              0.6666666666666666,
              "#ed7953"
             ],
             [
              0.7777777777777778,
              "#fb9f3a"
             ],
             [
              0.8888888888888888,
              "#fdca26"
             ],
             [
              1,
              "#f0f921"
             ]
            ],
            "type": "histogram2dcontour"
           }
          ],
          "mesh3d": [
           {
            "colorbar": {
             "outlinewidth": 0,
             "ticks": ""
            },
            "type": "mesh3d"
           }
          ],
          "parcoords": [
           {
            "line": {
             "colorbar": {
              "outlinewidth": 0,
              "ticks": ""
             }
            },
            "type": "parcoords"
           }
          ],
          "pie": [
           {
            "automargin": true,
            "type": "pie"
           }
          ],
          "scatter": [
           {
            "marker": {
             "colorbar": {
              "outlinewidth": 0,
              "ticks": ""
             }
            },
            "type": "scatter"
           }
          ],
          "scatter3d": [
           {
            "line": {
             "colorbar": {
              "outlinewidth": 0,
              "ticks": ""
             }
            },
            "marker": {
             "colorbar": {
              "outlinewidth": 0,
              "ticks": ""
             }
            },
            "type": "scatter3d"
           }
          ],
          "scattercarpet": [
           {
            "marker": {
             "colorbar": {
              "outlinewidth": 0,
              "ticks": ""
             }
            },
            "type": "scattercarpet"
           }
          ],
          "scattergeo": [
           {
            "marker": {
             "colorbar": {
              "outlinewidth": 0,
              "ticks": ""
             }
            },
            "type": "scattergeo"
           }
          ],
          "scattergl": [
           {
            "marker": {
             "colorbar": {
              "outlinewidth": 0,
              "ticks": ""
             }
            },
            "type": "scattergl"
           }
          ],
          "scattermapbox": [
           {
            "marker": {
             "colorbar": {
              "outlinewidth": 0,
              "ticks": ""
             }
            },
            "type": "scattermapbox"
           }
          ],
          "scatterpolar": [
           {
            "marker": {
             "colorbar": {
              "outlinewidth": 0,
              "ticks": ""
             }
            },
            "type": "scatterpolar"
           }
          ],
          "scatterpolargl": [
           {
            "marker": {
             "colorbar": {
              "outlinewidth": 0,
              "ticks": ""
             }
            },
            "type": "scatterpolargl"
           }
          ],
          "scatterternary": [
           {
            "marker": {
             "colorbar": {
              "outlinewidth": 0,
              "ticks": ""
             }
            },
            "type": "scatterternary"
           }
          ],
          "surface": [
           {
            "colorbar": {
             "outlinewidth": 0,
             "ticks": ""
            },
            "colorscale": [
             [
              0,
              "#0d0887"
             ],
             [
              0.1111111111111111,
              "#46039f"
             ],
             [
              0.2222222222222222,
              "#7201a8"
             ],
             [
              0.3333333333333333,
              "#9c179e"
             ],
             [
              0.4444444444444444,
              "#bd3786"
             ],
             [
              0.5555555555555556,
              "#d8576b"
             ],
             [
              0.6666666666666666,
              "#ed7953"
             ],
             [
              0.7777777777777778,
              "#fb9f3a"
             ],
             [
              0.8888888888888888,
              "#fdca26"
             ],
             [
              1,
              "#f0f921"
             ]
            ],
            "type": "surface"
           }
          ],
          "table": [
           {
            "cells": {
             "fill": {
              "color": "#EBF0F8"
             },
             "line": {
              "color": "white"
             }
            },
            "header": {
             "fill": {
              "color": "#C8D4E3"
             },
             "line": {
              "color": "white"
             }
            },
            "type": "table"
           }
          ]
         },
         "layout": {
          "annotationdefaults": {
           "arrowcolor": "#2a3f5f",
           "arrowhead": 0,
           "arrowwidth": 1
          },
          "autotypenumbers": "strict",
          "coloraxis": {
           "colorbar": {
            "outlinewidth": 0,
            "ticks": ""
           }
          },
          "colorscale": {
           "diverging": [
            [
             0,
             "#8e0152"
            ],
            [
             0.1,
             "#c51b7d"
            ],
            [
             0.2,
             "#de77ae"
            ],
            [
             0.3,
             "#f1b6da"
            ],
            [
             0.4,
             "#fde0ef"
            ],
            [
             0.5,
             "#f7f7f7"
            ],
            [
             0.6,
             "#e6f5d0"
            ],
            [
             0.7,
             "#b8e186"
            ],
            [
             0.8,
             "#7fbc41"
            ],
            [
             0.9,
             "#4d9221"
            ],
            [
             1,
             "#276419"
            ]
           ],
           "sequential": [
            [
             0,
             "#0d0887"
            ],
            [
             0.1111111111111111,
             "#46039f"
            ],
            [
             0.2222222222222222,
             "#7201a8"
            ],
            [
             0.3333333333333333,
             "#9c179e"
            ],
            [
             0.4444444444444444,
             "#bd3786"
            ],
            [
             0.5555555555555556,
             "#d8576b"
            ],
            [
             0.6666666666666666,
             "#ed7953"
            ],
            [
             0.7777777777777778,
             "#fb9f3a"
            ],
            [
             0.8888888888888888,
             "#fdca26"
            ],
            [
             1,
             "#f0f921"
            ]
           ],
           "sequentialminus": [
            [
             0,
             "#0d0887"
            ],
            [
             0.1111111111111111,
             "#46039f"
            ],
            [
             0.2222222222222222,
             "#7201a8"
            ],
            [
             0.3333333333333333,
             "#9c179e"
            ],
            [
             0.4444444444444444,
             "#bd3786"
            ],
            [
             0.5555555555555556,
             "#d8576b"
            ],
            [
             0.6666666666666666,
             "#ed7953"
            ],
            [
             0.7777777777777778,
             "#fb9f3a"
            ],
            [
             0.8888888888888888,
             "#fdca26"
            ],
            [
             1,
             "#f0f921"
            ]
           ]
          },
          "colorway": [
           "#636efa",
           "#EF553B",
           "#00cc96",
           "#ab63fa",
           "#FFA15A",
           "#19d3f3",
           "#FF6692",
           "#B6E880",
           "#FF97FF",
           "#FECB52"
          ],
          "font": {
           "color": "#2a3f5f"
          },
          "geo": {
           "bgcolor": "white",
           "lakecolor": "white",
           "landcolor": "#E5ECF6",
           "showlakes": true,
           "showland": true,
           "subunitcolor": "white"
          },
          "hoverlabel": {
           "align": "left"
          },
          "hovermode": "closest",
          "mapbox": {
           "style": "light"
          },
          "paper_bgcolor": "white",
          "plot_bgcolor": "#E5ECF6",
          "polar": {
           "angularaxis": {
            "gridcolor": "white",
            "linecolor": "white",
            "ticks": ""
           },
           "bgcolor": "#E5ECF6",
           "radialaxis": {
            "gridcolor": "white",
            "linecolor": "white",
            "ticks": ""
           }
          },
          "scene": {
           "xaxis": {
            "backgroundcolor": "#E5ECF6",
            "gridcolor": "white",
            "gridwidth": 2,
            "linecolor": "white",
            "showbackground": true,
            "ticks": "",
            "zerolinecolor": "white"
           },
           "yaxis": {
            "backgroundcolor": "#E5ECF6",
            "gridcolor": "white",
            "gridwidth": 2,
            "linecolor": "white",
            "showbackground": true,
            "ticks": "",
            "zerolinecolor": "white"
           },
           "zaxis": {
            "backgroundcolor": "#E5ECF6",
            "gridcolor": "white",
            "gridwidth": 2,
            "linecolor": "white",
            "showbackground": true,
            "ticks": "",
            "zerolinecolor": "white"
           }
          },
          "shapedefaults": {
           "line": {
            "color": "#2a3f5f"
           }
          },
          "ternary": {
           "aaxis": {
            "gridcolor": "white",
            "linecolor": "white",
            "ticks": ""
           },
           "baxis": {
            "gridcolor": "white",
            "linecolor": "white",
            "ticks": ""
           },
           "bgcolor": "#E5ECF6",
           "caxis": {
            "gridcolor": "white",
            "linecolor": "white",
            "ticks": ""
           }
          },
          "title": {
           "x": 0.05
          },
          "xaxis": {
           "automargin": true,
           "gridcolor": "white",
           "linecolor": "white",
           "ticks": "",
           "title": {
            "standoff": 15
           },
           "zerolinecolor": "white",
           "zerolinewidth": 2
          },
          "yaxis": {
           "automargin": true,
           "gridcolor": "white",
           "linecolor": "white",
           "ticks": "",
           "title": {
            "standoff": 15
           },
           "zerolinecolor": "white",
           "zerolinewidth": 2
          }
         }
        },
        "title": {
         "text": "Cases - cumulative total per 100,000 population"
        },
        "violinmode": "group",
        "xaxis": {
         "anchor": "y",
         "domain": [
          0,
          1
         ]
        },
        "yaxis": {
         "anchor": "x",
         "domain": [
          0,
          1
         ],
         "title": {
          "text": "Cases - cumulative total per 100000 population"
         }
        }
       }
      },
      "text/html": [
       "<div>                            <div id=\"0b500e2b-edcb-49e8-82fc-231a76e55e8e\" class=\"plotly-graph-div\" style=\"height:525px; width:100%;\"></div>            <script type=\"text/javascript\">                require([\"plotly\"], function(Plotly) {                    window.PLOTLYENV=window.PLOTLYENV || {};                                    if (document.getElementById(\"0b500e2b-edcb-49e8-82fc-231a76e55e8e\")) {                    Plotly.newPlot(                        \"0b500e2b-edcb-49e8-82fc-231a76e55e8e\",                        [{\"alignmentgroup\":\"True\",\"box\":{\"visible\":true},\"hovertemplate\":\"%{customdata[0]}<br>%{customdata[3]}\",\"legendgroup\":\"\",\"marker\":{\"color\":\"#636efa\"},\"name\":\"\",\"offsetgroup\":\"\",\"orientation\":\"v\",\"points\":\"all\",\"scalegroup\":\"True\",\"showlegend\":false,\"x0\":\" \",\"xaxis\":\"x\",\"y\":[6857.303528,25591.338,3133.723,14817.992,44602.583,32473.845,33029.805,12598.188,35593.464,29683.845,17887.016,26440.811,11026.753,20606.911,7176.012,46593.585,29739.422,8612.678,12023.387,2216.719,15834.926,4518.272,11466.952,48424.496,13997.133,6433.756,48702.121,48545.423,36254.821,271.492,6709.179,36693.149,10313.161,20056.391,3370.897,42570.059,10893.582,32733.953,54066.824,15070.114,24312.838,5793.756,29176.239,1186.863,19684.906,32826.689,16638.741,41581.405,31635.371,693.246,26778.25,7429.87,23054.635,25886.306,3191.071,16792.304,28093.436,20172.201,9761.459,16132.413,38099.632,8837.124,49094.048,10401.456,3361.03,27171.858,28255.035,9303.676,7820.332,17764.292,20683.736,5049.307,4863.161,43559.673,7820.192,2240.874,25131.141,3100.72,12900.345,9141.823,14917.467,1127.481,35176.351,5462.601,43529.304,1843.867,12876.965,502.283,7306.865,55628.516,417.075,4297.546,14276.429,46907.447,7632.398,11525.734,12952.834,608.401,1758.8,15007.968,13200.18,9619.188,606.455,124.358,1709.993,40459.154,715.043,37900.239,12719.904,17883.922,724.613,2888.63,3080.734,52355.177,465.563,48201.404,33295.902,6513.703,361.275,11777.807,41068.519,2530.509,521.145,35232.091,4753.329,815.015,1006.638,451.848,303.536,18751.798,100.414,514.515,450.116,28293.302,312.727,28644.802,13751.892,26031.299,6283.939,8381.645,7275.07,233.596,22067.405,142.509,15378.696,7729.832,1274.223,10269.305,319.462,47434.042,2143.607,499.328,45143.217,27005.418,55942.535,355.99,24902.385,36846.0,13837.582,449.296,280.344,8989.584,58.859,70926.021,39774.438,1575.26,153.707,272.343,222.004,167.839,14477.174,40056.299,40533.288,437.253,1740.232,3091.788,99.98,19646.636,55819.061,16098.931,186.482,157.758,45471.908,51199.246,1136.505,1588.057,24774.782,20333.097,220.679,7268.64,297.551,31966.67,496.634,21086.099,11267.326,39.637,19948.92,27936.574,3482.069,24504.454,275.517,37.308,8048.495,41577.815,8711.413,422.053,935.027,96.302,147.498,45.173,22826.339,11359.313,15909.913,2742.301,11018.574,32566.614,28548.53,47000.506,22490.335,2691.525,47713.546,49755.958,20244.049,30105.129,31453.699,4036.991,29.559,3213.844,30.408,556.242,27.691,25.441,0.0,0.0,0.0,0.0,0.0],\"y0\":\" \",\"yaxis\":\"y\",\"type\":\"violin\",\"line\":{\"color\":\"black\"},\"customdata\":[[\"Global\",\"Global\",534495291,6857.303528,3485948,44.72294503,571825,6311088,80.96805853,8591,0.110218173,1082],[\"United States of America\",\"Americas\",84708007,25591.338,731052,220.86,114807,1001895,302.685,2340,0.707,297],[\"India\",\"South-East Asia\",43245517,3133.723,55235,4.003,8822,524792,38.028,77,0.006,15],[\"Brazil\",\"Americas\",31497038,14817.992,301920,142.04,40173,668180,314.35,1139,0.536,70],[\"France\",\"Europe\",29009234,44602.583,251844,387.218,65425,145564,223.809,293,0.45,57],[\"Germany\",\"Europe\",27007429,32473.845,393189,472.772,64479,140026,168.368,47,0.057,8],[\"The United Kingdom\",\"Europe\",22422615,33029.805,64264,94.665,8427,179363,264.212,179,0.264,6],[\"Russian Federation\",\"Europe\",18385098,12598.188,22993,15.756,2718,380203,260.53,467,0.32,66],[\"Republic of Korea\",\"Western Pacific\",18248479,35593.464,60294,117.603,9423,24399,47.59,94,0.183,9],[\"Italy\",\"Europe\",17703887,29683.845,160751,269.529,39844,167505,280.853,416,0.698,73],[\"Turkey\",\"Europe\",15085742,17887.016,7556,8.959,0,98996,117.379,20,0.024,0],[\"Spain\",\"Europe\",12515127,26440.811,44153,93.282,36133,107239,226.565,230,0.486,131],[\"Viet Nam\",\"Western Pacific\",10733285,11026.753,6280,6.452,856,43083,44.261,2,0.002,0],[\"Argentina\",\"Americas\",9313453,20606.911,36835,81.501,0,128994,285.412,21,0.046,0],[\"Japan\",\"Western Pacific\",9075966,7176.012,103312,81.685,14030,30935,24.459,138,0.109,25],[\"Netherlands\",\"Europe\",8110818,46593.585,15526,89.191,2887,22336,128.312,10,0.057,0],[\"Australia\",\"Western Pacific\",7583518,29739.422,112726,442.065,15418,8957,35.126,155,0.608,0],[\"Iran (Islamic Republic of)\",\"Eastern Mediterranean\",7234042,8612.678,1113,1.325,162,141353,168.292,14,0.017,1],[\"Colombia\",\"Americas\",6117847,12023.387,8742,17.181,0,139894,274.933,27,0.053,0],[\"Indonesia\",\"South-East Asia\",6063251,2216.719,5071,1.854,1242,156670,57.278,42,0.015,8],[\"Poland\",\"Europe\",6010643,15834.926,1438,3.788,232,116387,306.619,25,0.066,7],[\"Mexico\",\"Americas\",5825532,4518.272,21701,16.831,1688,325205,252.228,23,0.018,11],[\"Ukraine\",\"Europe\",5014929,11466.952,0,0.0,0,108605,248.332,0,0.0,0],[\"Portugal\",\"Europe\",4985742,48424.496,114410,1111.218,23364,23707,230.257,256,2.486,37],[\"Malaysia\",\"Western Pacific\",4530312,13997.133,12865,39.749,1922,35720,110.363,21,0.065,4],[\"Thailand\",\"South-East Asia\",4490760,6433.756,16893,24.202,2263,30368,43.507,129,0.185,0],[\"Austria\",\"Europe\",4335007,48702.121,27541,309.412,4335,19975,224.411,12,0.135,0],[\"Israel\",\"Europe\",4201869,48545.423,39735,459.07,7661,10882,125.723,6,0.069,0],[\"Belgium\",\"Europe\",4177440,36254.821,8932,77.518,0,31835,276.287,26,0.226,0],[\"China\",\"Western Pacific\",3994428,271.492,465700,31.653,66634,19020,1.293,1191,0.081,124],[\"South Africa\",\"Africa\",3979126,6709.179,8133,13.713,0,101509,171.154,112,0.189,0],[\"Czechia\",\"Europe\",3923943,36693.149,2069,19.347,450,40303,376.877,6,0.056,0],[\"Canada\",\"Americas\",3892409,10313.161,9188,24.344,0,41470,109.877,170,0.45,0],[\"Chile\",\"Americas\",3834020,20056.391,73129,382.55,4901,58119,304.03,122,0.638,10],[\"Philippines\",\"Western Pacific\",3693865,3370.897,1973,1.8,257,60461,55.175,5,0.005,0],[\"Switzerland\",\"Europe\",3684276,42570.059,13128,151.688,6,13273,153.363,0,0.0,0],[\"Peru\",\"Americas\",3591816,10893.582,6049,18.346,934,213338,647.031,69,0.209,14],[\"Greece\",\"Europe\",3508610,32733.953,29831,278.312,4210,30033,280.196,82,0.765,7],[\"Denmark\",\"Europe\",3148183,54066.824,7518,129.114,2364,6419,110.24,31,0.532,5],[\"Romania\",\"Europe\",2912878,15070.114,1708,8.837,0,65714,339.979,17,0.088,0],[\"Sweden\",\"Europe\",2510930,24312.838,874,8.463,0,19049,184.448,0,0.0,0],[\"Iraq\",\"Eastern Mediterranean\",2330393,5793.756,1436,3.57,344,25224,62.711,3,0.007,1],[\"Serbia\",\"Europe\",2020952,29176.239,1781,25.712,356,16103,232.477,9,0.13,2],[\"Bangladesh\",\"South-East Asia\",1954637,1186.863,883,0.536,232,29131,17.688,0,0.0,0],[\"Hungary\",\"Europe\",1923122,19684.906,1636,16.746,1636,46594,476.932,23,0.235,23],[\"Slovakia\",\"Europe\",1791639,32826.689,1042,19.092,213,20119,368.623,12,0.22,0],[\"Jordan\",\"Eastern Mediterranean\",1697673,16638.741,402,3.94,0,14068,137.879,0,0.0,0],[\"Georgia\",\"Europe\",1658755,41581.405,515,12.91,0,16838,422.092,3,0.075,0],[\"Ireland\",\"Europe\",1570519,31635.371,905,18.23,0,7416,149.382,5,0.101,0],[\"Pakistan\",\"Eastern Mediterranean\",1531327,693.246,513,0.232,54,30381,13.754,2,0.001,0],[\"Norway\",\"Europe\",1437344,26778.25,2192,40.838,264,3210,59.803,0,0.0,0],[\"Kazakhstan\",\"Europe\",1395085,7429.87,88,0.469,17,19017,101.28,1,0.005,0],[\"Singapore\",\"Western Pacific\",1348775,23054.635,23152,395.738,5130,1401,23.947,7,0.12,3],[\"New Zealand\",\"Western Pacific\",1248298,25886.306,40499,839.839,0,1295,26.855,79,1.638,0],[\"Morocco\",\"Eastern Mediterranean\",1177842,3191.071,6808,18.445,1677,16083,43.573,1,0.003,1],[\"Bulgaria\",\"Europe\",1167314,16792.304,998,14.357,167,37206,535.224,22,0.316,2],[\"Croatia\",\"Europe\",1140078,28093.436,1800,44.355,243,16020,394.76,16,0.394,1],[\"Finland\",\"Europe\",1114573,20172.201,836,15.13,0,4714,85.317,0,0.0,0],[\"Cuba\",\"Americas\",1105643,9761.459,153,1.351,12,8529,75.301,0,0.0,0],[\"Lebanon\",\"Eastern Mediterranean\",1101109,16132.413,1102,16.145,0,10445,153.03,6,0.088,0],[\"Lithuania\",\"Europe\",1064538,38099.632,1013,36.255,230,9158,327.763,7,0.251,3],[\"Tunisia\",\"Eastern Mediterranean\",1044426,8837.124,886,7.497,886,28655,242.456,7,0.059,7],[\"Slovenia\",\"Europe\",1028943,49094.048,2095,99.959,561,7805,372.401,0,0.0,0],[\"Belarus\",\"Europe\",982867,10401.456,0,0.0,0,6978,73.847,0,0.0,0],[\"Nepal\",\"South-East Asia\",979297,3361.03,74,0.254,19,11952,41.02,0,0.0,0],[\"Uruguay\",\"Americas\",943877,27171.858,8916,256.669,0,7290,209.861,28,0.806,0],[\"Mongolia\",\"Western Pacific\",926282,28255.035,0,0.0,0,2115,64.515,0,0.0,0],[\"United Arab Emirates\",\"Eastern Mediterranean\",920171,9303.676,8085,81.746,1356,2305,23.305,0,0.0,0],[\"Bolivia (Plurinational State of)\",\"Americas\",912869,7820.332,2353,20.158,396,21951,188.049,2,0.017,0],[\"Costa Rica\",\"Americas\",904934,17764.292,0,0.0,0,8525,167.35,0,0.0,0],[\"Panama\",\"Americas\",892455,20683.736,16969,393.277,1106,8307,192.525,31,0.718,8],[\"Ecuador\",\"Americas\",890852,5049.307,5534,31.366,311,35659,202.114,10,0.057,1],[\"Guatemala\",\"Americas\",871263,4863.161,6495,36.253,151,18293,102.107,69,0.385,6],[\"Latvia\",\"Europe\",830977,43559.673,1337,70.085,0,5841,306.184,7,0.367,0],[\"Azerbaijan\",\"Europe\",792903,7820.192,83,0.819,19,9715,95.816,1,0.01,0],[\"Saudi Arabia\",\"Eastern Mediterranean\",780135,2240.874,6914,19.86,1152,9176,26.357,16,0.046,1],[\"Puerto Rico\",\"Americas\",718965,25131.141,23622,825.698,390,4449,155.513,41,1.433,9],[\"Sri Lanka\",\"South-East Asia\",663965,3100.72,64,0.299,0,16519,77.144,1,0.005,0],[\"occupied Palestinian territory, including east Jerusalem\",\"Eastern Mediterranean\",658100,12900.345,221,4.332,221,5660,110.95,0,0.0,0],[\"Paraguay\",\"Americas\",652044,9141.823,776,10.88,0,18932,265.431,21,0.294,0],[\"Kuwait\",\"Eastern Mediterranean\",637061,14917.467,2524,59.102,409,2555,59.828,0,0.0,0],[\"Myanmar\",\"South-East Asia\",613460,1127.481,55,0.101,0,19434,35.718,0,0.0,0],[\"Bahrain\",\"Eastern Mediterranean\",598552,35176.351,7746,455.225,1368,1490,87.566,1,0.059,1],[\"Dominican Republic\",\"Americas\",592578,5462.601,4170,38.441,0,4382,40.395,3,0.028,0],[\"Estonia\",\"Europe\",578494,43529.304,633,47.631,0,2586,194.586,5,0.376,0],[\"Venezuela (Bolivarian Republic of)\",\"Americas\",524321,1843.867,384,1.35,30,5724,20.129,2,0.007,0],[\"Republic of Moldova\",\"Europe\",519452,12876.965,224,5.553,224,11554,286.418,3,0.074,3],[\"Egypt\",\"Eastern Mediterranean\",514008,502.283,33,0.032,0,24720,24.156,1,0.001,0],[\"Libya\",\"Eastern Mediterranean\",502076,7306.865,36,0.524,0,6430,93.578,0,0.0,0],[\"Cyprus\",\"Europe\",493984,55628.516,2207,248.535,0,1068,120.27,1,0.113,0],[\"Ethiopia\",\"Africa\",479484,417.075,3720,3.236,0,7517,6.539,2,0.002,0],[\"Honduras\",\"Americas\",425655,4297.546,184,1.858,0,10902,110.07,2,0.02,0],[\"Armenia\",\"Europe\",423044,14276.429,38,1.282,0,8625,291.067,0,0.0,0],[\"R\\u00e9union\",\"Africa\",419968,46907.447,1383,154.471,0,799,89.243,3,0.335,0],[\"Oman\",\"Eastern Mediterranean\",389758,7632.398,0,0.0,0,4260,83.421,0,0.0,0],[\"Bosnia and Herzegovina\",\"Europe\",378138,11525.734,116,3.536,26,15796,481.466,5,0.152,1],[\"Qatar\",\"Eastern Mediterranean\",373178,12952.834,2627,91.182,474,677,23.498,0,0.0,0],[\"Kenya\",\"Africa\",327145,608.401,1348,2.507,0,5651,10.509,0,0.0,0],[\"Zambia\",\"Africa\",323337,1758.8,775,4.216,0,3989,21.698,0,0.0,0],[\"North Macedonia\",\"Europe\",312673,15007.968,328,15.744,66,9316,447.158,4,0.192,0],[\"Botswana\",\"Africa\",310419,13200.18,0,0.0,0,2701,114.857,0,0.0,0],[\"Albania\",\"Europe\",276821,9619.188,353,12.266,83,3497,121.516,0,0.0,0],[\"Algeria\",\"Africa\",265937,606.455,33,0.075,0,6875,15.678,0,0.0,0],[\"Nigeria\",\"Africa\",256352,124.358,125,0.061,0,3144,1.525,1,0.0,0],[\"Zimbabwe\",\"Africa\",254155,1709.993,518,3.485,0,5521,37.146,6,0.04,0],[\"Luxembourg\",\"Europe\",253318,40459.154,3422,546.551,625,1082,172.814,1,0.16,0],[\"Uzbekistan\",\"Europe\",239319,715.043,160,0.478,39,1637,4.891,0,0.0,0],[\"Montenegro\",\"Europe\",238037,37900.239,407,64.803,94,2722,433.397,2,0.318,0],[\"Kosovo[1]\",\"Europe\",228407,12719.904,53,2.952,8,3129,174.253,0,0.0,0],[\"Mauritius\",\"Africa\",227442,17883.922,0,0.0,0,1000,78.631,0,0.0,0],[\"Mozambique\",\"Africa\",226481,724.613,416,1.331,0,2206,7.058,1,0.003,0],[\"Lao People's Democratic Republic\",\"Western Pacific\",210164,2888.63,66,0.907,6,757,10.405,1,0.014,0],[\"Kyrgyzstan\",\"Europe\",200993,3080.734,0,0.0,0,2991,45.845,0,0.0,0],[\"Iceland\",\"Europe\",190643,52355.177,1169,321.036,215,153,42.017,0,0.0,0],[\"Afghanistan\",\"Eastern Mediterranean\",181236,465.563,452,1.161,58,7710,19.806,1,0.003,0],[\"Martinique\",\"Americas\",180883,48201.404,8000,2131.827,0,950,253.154,8,2.132,0],[\"Maldives\",\"South-East Asia\",179979,33295.902,62,11.47,0,299,55.315,0,0.0,0],[\"Namibia\",\"Africa\",165507,6513.703,799,31.445,0,4049,159.353,9,0.354,0],[\"Uganda\",\"Africa\",165251,361.275,310,0.678,0,3605,7.881,2,0.004,0],[\"Trinidad and Tobago\",\"Americas\",164829,11777.807,1884,134.621,106,3965,283.318,22,1.572,2],[\"Guadeloupe\",\"Americas\",164325,41068.519,2135,533.585,0,950,237.426,1,0.25,0],[\"El Salvador\",\"Americas\",164134,2530.509,0,0.0,0,4135,63.751,2,0.031,0],[\"Ghana\",\"Africa\",161935,521.145,0,0.0,0,1445,4.65,0,0.0,0],[\"Brunei Darussalam\",\"Western Pacific\",154133,35232.091,2972,679.347,522,164,37.488,2,0.457,0],[\"Jamaica\",\"Americas\",140754,4753.329,1551,52.378,84,3091,104.385,15,0.507,7],[\"Cambodia\",\"Western Pacific\",136262,815.015,0,0.0,0,3056,18.279,0,0.0,0],[\"Rwanda\",\"Africa\",130382,1006.638,149,1.15,0,1459,11.264,0,0.0,0],[\"Cameroon\",\"Africa\",119947,451.848,0,0.0,0,1930,7.27,0,0.0,0],[\"Angola\",\"Africa\",99761,303.536,0,0.0,0,1900,5.781,0,0.0,0],[\"Malta\",\"Europe\",96490,18751.798,1125,218.632,200,728,141.479,5,0.972,1],[\"Democratic Republic of the Congo\",\"Africa\",89932,100.414,0,0.0,0,1345,1.502,0,0.0,0],[\"Senegal\",\"Africa\",86150,514.515,10,0.06,0,1967,11.748,0,0.0,0],[\"Malawi\",\"Africa\",86107,450.116,85,0.444,0,2642,13.811,0,0.0,0],[\"French Guiana\",\"Americas\",84507,28293.302,836,279.896,0,399,133.587,2,0.67,0],[\"C\\u00f4te d\\u2019Ivoire\",\"Africa\",82492,312.727,176,0.667,0,799,3.029,0,0.0,0],[\"Barbados\",\"Americas\",82318,28644.802,800,278.382,63,468,162.853,5,1.74,1],[\"Suriname\",\"Americas\",80673,13751.892,126,21.479,0,1352,230.468,2,0.341,0],[\"French Polynesia\",\"Western Pacific\",73124,26031.299,62,22.071,18,649,231.036,0,0.0,0],[\"Eswatini\",\"Africa\",72904,6283.939,155,13.36,0,1410,121.535,0,0.0,0],[\"Guyana\",\"Americas\",65926,8381.645,632,80.351,34,1240,157.65,2,0.254,1],[\"Fiji\",\"Western Pacific\",65217,7275.07,114,12.717,0,865,96.492,1,0.112,0],[\"Madagascar\",\"Africa\",64685,233.596,207,0.748,0,1396,5.041,0,0.0,0],[\"New Caledonia\",\"Western Pacific\",63002,22067.405,379,132.75,379,313,109.633,0,0.0,0],[\"Sudan\",\"Eastern Mediterranean\",62489,142.509,45,0.103,4,4950,11.289,0,0.0,0],[\"Belize\",\"Americas\",61150,15378.696,1087,273.371,287,678,170.511,0,0.0,0],[\"Bhutan\",\"South-East Asia\",59644,7729.832,8,1.037,0,21,2.722,0,0.0,0],[\"Mauritania\",\"Africa\",59247,1274.223,35,0.753,0,982,21.12,0,0.0,0],[\"Cabo Verde\",\"Africa\",57096,10269.305,358,64.39,0,402,72.304,0,0.0,0],[\"Syrian Arab Republic\",\"Eastern Mediterranean\",55908,319.462,8,0.046,1,3150,17.999,0,0.0,0],[\"Jersey\",\"Europe\",51132,47434.042,139,128.947,0,129,119.67,0,0.0,0],[\"Gabon\",\"Africa\",47711,2143.607,34,1.528,0,304,13.658,0,0.0,0],[\"Papua New Guinea\",\"Western Pacific\",44675,499.328,32,0.358,13,658,7.354,1,0.011,0],[\"Seychelles\",\"Africa\",44397,45143.217,102,103.714,0,167,169.807,0,0.0,0],[\"Cura\\u00e7ao\",\"Americas\",44314,27005.418,187,113.96,187,278,169.416,1,0.609,1],[\"Andorra\",\"Europe\",43224,55942.535,157,203.197,0,153,198.02,0,0.0,0],[\"Burundi\",\"Africa\",42330,355.99,82,0.69,0,15,0.126,0,0.0,0],[\"Guam\",\"Western Pacific\",42029,24902.385,479,283.81,0,370,219.227,4,2.37,1],[\"Aruba\",\"Americas\",39339,36846.0,1038,972.22,1038,219,205.121,3,2.81,3],[\"Mayotte\",\"Africa\",37751,13837.582,94,34.456,0,187,68.545,0,0.0,0],[\"Togo\",\"Africa\",37196,449.296,54,0.652,0,273,3.298,0,0.0,0],[\"Guinea\",\"Africa\",36817,280.344,0,0.0,0,442,3.366,0,0.0,0],[\"Bahamas\",\"Americas\",35351,8989.584,252,64.082,0,812,206.488,1,0.254,0],[\"United Republic of Tanzania\",\"Africa\",35159,58.859,171,0.286,0,840,1.406,0,0.0,0],[\"Faroe Islands\",\"Europe\",34658,70926.021,0,0.0,0,28,57.301,0,0.0,0],[\"Isle of Man\",\"Europe\",33821,39774.438,723,850.268,570,107,125.835,0,0.0,0],[\"Lesotho\",\"Africa\",33746,1575.26,0,0.0,0,699,32.629,0,0.0,0],[\"Mali\",\"Africa\",31127,153.707,12,0.059,0,736,3.634,1,0.005,0],[\"Haiti\",\"Americas\",31054,272.343,50,0.438,0,837,7.34,0,0.0,0],[\"Benin\",\"Africa\",26914,222.004,0,0.0,0,163,1.345,0,0.0,0],[\"Somalia\",\"Eastern Mediterranean\",26675,167.839,110,0.692,0,1361,8.563,0,0.0,0],[\"Saint Lucia\",\"Americas\",26584,14477.174,350,190.604,20,376,204.763,5,2.723,5],[\"Cayman Islands\",\"Americas\",26325,40056.299,439,667.985,439,28,42.605,0,0.0,0],[\"Guernsey\",\"Europe\",26131,40533.288,257,398.647,257,47,72.904,0,0.0,0],[\"Congo\",\"Africa\",24128,437.253,0,0.0,0,385,6.977,0,0.0,0],[\"Timor-Leste\",\"South-East Asia\",22944,1740.232,15,1.138,4,133,10.088,0,0.0,0],[\"Solomon Islands\",\"Western Pacific\",21237,3091.788,0,0.0,0,149,21.692,0,0.0,0],[\"Burkina Faso\",\"Africa\",20899,99.98,0,0.0,0,384,1.837,0,0.0,0],[\"United States Virgin Islands\",\"Americas\",20516,19646.636,287,274.838,44,115,110.127,1,0.958,0],[\"Gibraltar\",\"Europe\",18806,55819.061,215,638.153,0,101,299.783,0,0.0,0],[\"Grenada\",\"Americas\",18115,16098.931,167,148.414,80,231,205.291,0,0.0,0],[\"Tajikistan\",\"Europe\",17786,186.482,0,0.0,0,125,1.311,0,0.0,0],[\"South Sudan\",\"Africa\",17659,157.758,18,0.161,0,138,1.233,0,0.0,0],[\"Liechtenstein\",\"Europe\",17619,45471.908,64,165.174,0,84,216.791,0,0.0,0],[\"San Marino\",\"Europe\",17376,51199.246,146,430.196,31,115,338.853,0,0.0,0],[\"Equatorial Guinea\",\"Africa\",15945,1136.505,21,1.497,0,183,13.044,0,0.0,0],[\"Djibouti\",\"Eastern Mediterranean\",15690,1588.057,4,0.405,0,189,19.13,0,0.0,0],[\"Bermuda\",\"Americas\",15428,24774.782,343,550.801,0,138,221.605,0,0.0,0],[\"Dominica\",\"Americas\",14638,20333.097,343,476.448,0,67,93.067,0,0.0,0],[\"Nicaragua\",\"Americas\",14619,220.679,42,0.634,42,241,3.638,1,0.015,1],[\"Samoa\",\"Western Pacific\",14422,7268.64,235,118.439,107,28,14.112,1,0.504,0],[\"Central African Republic\",\"Africa\",14371,297.551,0,0.0,0,113,2.34,0,0.0,0],[\"Monaco\",\"Europe\",12545,31966.67,185,471.41,31,57,145.245,0,0.0,0],[\"Gambia\",\"Africa\",12002,496.634,0,0.0,0,365,15.103,0,0.0,0],[\"Greenland\",\"Europe\",11971,21086.099,0,0.0,0,21,36.99,0,0.0,0],[\"Tonga\",\"Western Pacific\",11909,11267.326,0,0.0,0,12,11.353,0,0.0,0],[\"Yemen\",\"Eastern Mediterranean\",11822,39.637,0,0.0,0,2149,7.205,0,0.0,0],[\"Northern Mariana Islands (Commonwealth of the)\",\"Western Pacific\",11482,19948.92,79,137.255,0,34,59.072,0,0.0,0],[\"Saint Martin\",\"Americas\",10800,27936.574,74,191.417,0,44,113.816,0,0.0,0],[\"Vanuatu\",\"Western Pacific\",10695,3482.069,361,117.534,0,14,4.558,0,0.0,0],[\"Sint Maarten\",\"Americas\",10508,24504.454,74,172.567,74,86,200.55,0,0.0,0],[\"Eritrea\",\"Africa\",9771,275.517,3,0.085,0,103,2.904,0,0.0,0],[\"Niger\",\"Africa\",9031,37.308,0,0.0,0,310,1.281,0,0.0,0],[\"Saint Vincent and the Grenadines\",\"Americas\",8929,8048.495,122,109.969,13,109,98.251,1,0.901,1],[\"Bonaire\",\"Americas\",8696,41577.815,46,219.938,46,30,143.438,0,0.0,0],[\"Antigua and Barbuda\",\"Americas\",8531,8711.413,153,156.236,39,140,142.961,2,2.042,0],[\"Guinea-Bissau\",\"Africa\",8306,422.053,9,0.457,0,171,8.689,0,0.0,0],[\"Comoros\",\"Africa\",8131,935.027,0,0.0,0,160,18.399,0,0.0,0],[\"Sierra Leone\",\"Africa\",7682,96.302,0,0.0,0,125,1.567,0,0.0,0],[\"Liberia\",\"Africa\",7460,147.498,1,0.02,0,294,5.813,0,0.0,0],[\"Chad\",\"Africa\",7420,45.173,2,0.012,0,193,1.175,0,0.0,0],[\"British Virgin Islands\",\"Americas\",6902,22826.339,137,453.087,0,63,208.354,1,3.307,0],[\"American Samoa\",\"Western Pacific\",6270,11359.313,78,141.312,78,31,56.162,0,0.0,0],[\"Turks and Caicos Islands\",\"Americas\",6160,15909.913,12,30.993,0,36,92.98,0,0.0,0],[\"Sao Tome and Principe\",\"Africa\",6010,2742.301,7,3.194,0,73,33.309,0,0.0,0],[\"Saint Kitts and Nevis\",\"Americas\",5861,11018.574,50,93.999,9,43,80.839,0,0.0,0],[\"Cook Islands\",\"Western Pacific\",5720,32566.614,9,51.241,3,1,5.693,0,0.0,0],[\"Palau\",\"Western Pacific\",5165,28548.53,39,215.565,20,6,33.164,0,0.0,0],[\"Saint Barth\\u00e9lemy\",\"Americas\",4646,47000.506,32,323.723,0,4,40.465,0,0.0,0],[\"Anguilla\",\"Americas\",3374,22490.335,80,533.262,32,9,59.992,0,0.0,0],[\"Kiribati\",\"Western Pacific\",3215,2691.525,32,26.79,6,13,10.883,0,0.0,0],[\"Saint Pierre and Miquelon\",\"Americas\",2765,47713.546,3,51.769,0,1,17.256,0,0.0,0],[\"Falkland Islands (Malvinas)\",\"Americas\",1733,49755.958,16,459.374,0,0,0.0,0,0.0,0],[\"Montserrat\",\"Americas\",1012,20244.049,9,180.036,0,8,160.032,0,0.0,0],[\"Sint Eustatius\",\"Americas\",945,30105.129,8,254.858,8,5,159.286,0,0.0,0],[\"Saba\",\"Americas\",608,31453.699,1,51.733,1,1,51.733,1,51.733,0],[\"Wallis and Futuna\",\"Western Pacific\",454,4036.991,0,0.0,0,7,62.244,0,0.0,0],[\"Micronesia (Federated States of)\",\"Western Pacific\",34,29.559,0,0.0,0,0,0.0,0,0.0,0],[\"Holy See\",\"Europe\",26,3213.844,0,0.0,0,0,0.0,0,0.0,0],[\"Marshall Islands\",\"Western Pacific\",18,30.408,0,0.0,0,0,0.0,0,0.0,0],[\"Niue\",\"Western Pacific\",9,556.242,0,0.0,0,0,0.0,0,0.0,0],[\"Nauru\",\"Western Pacific\",3,27.691,0,0.0,0,0,0.0,0,0.0,0],[\"Tuvalu\",\"Western Pacific\",3,25.441,0,0.0,0,0,0.0,0,0.0,0],[\"Democratic People's Republic of Korea\",\"South-East Asia\",0,0.0,0,0.0,0,0,0.0,0,0.0,0],[\"Pitcairn Islands\",\"Western Pacific\",0,0.0,0,0.0,0,0,0.0,0,0.0,0],[\"Saint Helena\",\"Africa\",0,0.0,0,0.0,0,0,0.0,0,0.0,0],[\"Tokelau\",\"Western Pacific\",0,0.0,0,0.0,0,0,0.0,0,0.0,0],[\"Turkmenistan\",\"Europe\",0,0.0,0,0.0,0,0,0.0,0,0.0,0]],\"fillcolor\":\"orange\"}],                        {\"template\":{\"data\":{\"bar\":[{\"error_x\":{\"color\":\"#2a3f5f\"},\"error_y\":{\"color\":\"#2a3f5f\"},\"marker\":{\"line\":{\"color\":\"#E5ECF6\",\"width\":0.5},\"pattern\":{\"fillmode\":\"overlay\",\"size\":10,\"solidity\":0.2}},\"type\":\"bar\"}],\"barpolar\":[{\"marker\":{\"line\":{\"color\":\"#E5ECF6\",\"width\":0.5},\"pattern\":{\"fillmode\":\"overlay\",\"size\":10,\"solidity\":0.2}},\"type\":\"barpolar\"}],\"carpet\":[{\"aaxis\":{\"endlinecolor\":\"#2a3f5f\",\"gridcolor\":\"white\",\"linecolor\":\"white\",\"minorgridcolor\":\"white\",\"startlinecolor\":\"#2a3f5f\"},\"baxis\":{\"endlinecolor\":\"#2a3f5f\",\"gridcolor\":\"white\",\"linecolor\":\"white\",\"minorgridcolor\":\"white\",\"startlinecolor\":\"#2a3f5f\"},\"type\":\"carpet\"}],\"choropleth\":[{\"colorbar\":{\"outlinewidth\":0,\"ticks\":\"\"},\"type\":\"choropleth\"}],\"contour\":[{\"colorbar\":{\"outlinewidth\":0,\"ticks\":\"\"},\"colorscale\":[[0.0,\"#0d0887\"],[0.1111111111111111,\"#46039f\"],[0.2222222222222222,\"#7201a8\"],[0.3333333333333333,\"#9c179e\"],[0.4444444444444444,\"#bd3786\"],[0.5555555555555556,\"#d8576b\"],[0.6666666666666666,\"#ed7953\"],[0.7777777777777778,\"#fb9f3a\"],[0.8888888888888888,\"#fdca26\"],[1.0,\"#f0f921\"]],\"type\":\"contour\"}],\"contourcarpet\":[{\"colorbar\":{\"outlinewidth\":0,\"ticks\":\"\"},\"type\":\"contourcarpet\"}],\"heatmap\":[{\"colorbar\":{\"outlinewidth\":0,\"ticks\":\"\"},\"colorscale\":[[0.0,\"#0d0887\"],[0.1111111111111111,\"#46039f\"],[0.2222222222222222,\"#7201a8\"],[0.3333333333333333,\"#9c179e\"],[0.4444444444444444,\"#bd3786\"],[0.5555555555555556,\"#d8576b\"],[0.6666666666666666,\"#ed7953\"],[0.7777777777777778,\"#fb9f3a\"],[0.8888888888888888,\"#fdca26\"],[1.0,\"#f0f921\"]],\"type\":\"heatmap\"}],\"heatmapgl\":[{\"colorbar\":{\"outlinewidth\":0,\"ticks\":\"\"},\"colorscale\":[[0.0,\"#0d0887\"],[0.1111111111111111,\"#46039f\"],[0.2222222222222222,\"#7201a8\"],[0.3333333333333333,\"#9c179e\"],[0.4444444444444444,\"#bd3786\"],[0.5555555555555556,\"#d8576b\"],[0.6666666666666666,\"#ed7953\"],[0.7777777777777778,\"#fb9f3a\"],[0.8888888888888888,\"#fdca26\"],[1.0,\"#f0f921\"]],\"type\":\"heatmapgl\"}],\"histogram\":[{\"marker\":{\"pattern\":{\"fillmode\":\"overlay\",\"size\":10,\"solidity\":0.2}},\"type\":\"histogram\"}],\"histogram2d\":[{\"colorbar\":{\"outlinewidth\":0,\"ticks\":\"\"},\"colorscale\":[[0.0,\"#0d0887\"],[0.1111111111111111,\"#46039f\"],[0.2222222222222222,\"#7201a8\"],[0.3333333333333333,\"#9c179e\"],[0.4444444444444444,\"#bd3786\"],[0.5555555555555556,\"#d8576b\"],[0.6666666666666666,\"#ed7953\"],[0.7777777777777778,\"#fb9f3a\"],[0.8888888888888888,\"#fdca26\"],[1.0,\"#f0f921\"]],\"type\":\"histogram2d\"}],\"histogram2dcontour\":[{\"colorbar\":{\"outlinewidth\":0,\"ticks\":\"\"},\"colorscale\":[[0.0,\"#0d0887\"],[0.1111111111111111,\"#46039f\"],[0.2222222222222222,\"#7201a8\"],[0.3333333333333333,\"#9c179e\"],[0.4444444444444444,\"#bd3786\"],[0.5555555555555556,\"#d8576b\"],[0.6666666666666666,\"#ed7953\"],[0.7777777777777778,\"#fb9f3a\"],[0.8888888888888888,\"#fdca26\"],[1.0,\"#f0f921\"]],\"type\":\"histogram2dcontour\"}],\"mesh3d\":[{\"colorbar\":{\"outlinewidth\":0,\"ticks\":\"\"},\"type\":\"mesh3d\"}],\"parcoords\":[{\"line\":{\"colorbar\":{\"outlinewidth\":0,\"ticks\":\"\"}},\"type\":\"parcoords\"}],\"pie\":[{\"automargin\":true,\"type\":\"pie\"}],\"scatter\":[{\"marker\":{\"colorbar\":{\"outlinewidth\":0,\"ticks\":\"\"}},\"type\":\"scatter\"}],\"scatter3d\":[{\"line\":{\"colorbar\":{\"outlinewidth\":0,\"ticks\":\"\"}},\"marker\":{\"colorbar\":{\"outlinewidth\":0,\"ticks\":\"\"}},\"type\":\"scatter3d\"}],\"scattercarpet\":[{\"marker\":{\"colorbar\":{\"outlinewidth\":0,\"ticks\":\"\"}},\"type\":\"scattercarpet\"}],\"scattergeo\":[{\"marker\":{\"colorbar\":{\"outlinewidth\":0,\"ticks\":\"\"}},\"type\":\"scattergeo\"}],\"scattergl\":[{\"marker\":{\"colorbar\":{\"outlinewidth\":0,\"ticks\":\"\"}},\"type\":\"scattergl\"}],\"scattermapbox\":[{\"marker\":{\"colorbar\":{\"outlinewidth\":0,\"ticks\":\"\"}},\"type\":\"scattermapbox\"}],\"scatterpolar\":[{\"marker\":{\"colorbar\":{\"outlinewidth\":0,\"ticks\":\"\"}},\"type\":\"scatterpolar\"}],\"scatterpolargl\":[{\"marker\":{\"colorbar\":{\"outlinewidth\":0,\"ticks\":\"\"}},\"type\":\"scatterpolargl\"}],\"scatterternary\":[{\"marker\":{\"colorbar\":{\"outlinewidth\":0,\"ticks\":\"\"}},\"type\":\"scatterternary\"}],\"surface\":[{\"colorbar\":{\"outlinewidth\":0,\"ticks\":\"\"},\"colorscale\":[[0.0,\"#0d0887\"],[0.1111111111111111,\"#46039f\"],[0.2222222222222222,\"#7201a8\"],[0.3333333333333333,\"#9c179e\"],[0.4444444444444444,\"#bd3786\"],[0.5555555555555556,\"#d8576b\"],[0.6666666666666666,\"#ed7953\"],[0.7777777777777778,\"#fb9f3a\"],[0.8888888888888888,\"#fdca26\"],[1.0,\"#f0f921\"]],\"type\":\"surface\"}],\"table\":[{\"cells\":{\"fill\":{\"color\":\"#EBF0F8\"},\"line\":{\"color\":\"white\"}},\"header\":{\"fill\":{\"color\":\"#C8D4E3\"},\"line\":{\"color\":\"white\"}},\"type\":\"table\"}]},\"layout\":{\"annotationdefaults\":{\"arrowcolor\":\"#2a3f5f\",\"arrowhead\":0,\"arrowwidth\":1},\"autotypenumbers\":\"strict\",\"coloraxis\":{\"colorbar\":{\"outlinewidth\":0,\"ticks\":\"\"}},\"colorscale\":{\"diverging\":[[0,\"#8e0152\"],[0.1,\"#c51b7d\"],[0.2,\"#de77ae\"],[0.3,\"#f1b6da\"],[0.4,\"#fde0ef\"],[0.5,\"#f7f7f7\"],[0.6,\"#e6f5d0\"],[0.7,\"#b8e186\"],[0.8,\"#7fbc41\"],[0.9,\"#4d9221\"],[1,\"#276419\"]],\"sequential\":[[0.0,\"#0d0887\"],[0.1111111111111111,\"#46039f\"],[0.2222222222222222,\"#7201a8\"],[0.3333333333333333,\"#9c179e\"],[0.4444444444444444,\"#bd3786\"],[0.5555555555555556,\"#d8576b\"],[0.6666666666666666,\"#ed7953\"],[0.7777777777777778,\"#fb9f3a\"],[0.8888888888888888,\"#fdca26\"],[1.0,\"#f0f921\"]],\"sequentialminus\":[[0.0,\"#0d0887\"],[0.1111111111111111,\"#46039f\"],[0.2222222222222222,\"#7201a8\"],[0.3333333333333333,\"#9c179e\"],[0.4444444444444444,\"#bd3786\"],[0.5555555555555556,\"#d8576b\"],[0.6666666666666666,\"#ed7953\"],[0.7777777777777778,\"#fb9f3a\"],[0.8888888888888888,\"#fdca26\"],[1.0,\"#f0f921\"]]},\"colorway\":[\"#636efa\",\"#EF553B\",\"#00cc96\",\"#ab63fa\",\"#FFA15A\",\"#19d3f3\",\"#FF6692\",\"#B6E880\",\"#FF97FF\",\"#FECB52\"],\"font\":{\"color\":\"#2a3f5f\"},\"geo\":{\"bgcolor\":\"white\",\"lakecolor\":\"white\",\"landcolor\":\"#E5ECF6\",\"showlakes\":true,\"showland\":true,\"subunitcolor\":\"white\"},\"hoverlabel\":{\"align\":\"left\"},\"hovermode\":\"closest\",\"mapbox\":{\"style\":\"light\"},\"paper_bgcolor\":\"white\",\"plot_bgcolor\":\"#E5ECF6\",\"polar\":{\"angularaxis\":{\"gridcolor\":\"white\",\"linecolor\":\"white\",\"ticks\":\"\"},\"bgcolor\":\"#E5ECF6\",\"radialaxis\":{\"gridcolor\":\"white\",\"linecolor\":\"white\",\"ticks\":\"\"}},\"scene\":{\"xaxis\":{\"backgroundcolor\":\"#E5ECF6\",\"gridcolor\":\"white\",\"gridwidth\":2,\"linecolor\":\"white\",\"showbackground\":true,\"ticks\":\"\",\"zerolinecolor\":\"white\"},\"yaxis\":{\"backgroundcolor\":\"#E5ECF6\",\"gridcolor\":\"white\",\"gridwidth\":2,\"linecolor\":\"white\",\"showbackground\":true,\"ticks\":\"\",\"zerolinecolor\":\"white\"},\"zaxis\":{\"backgroundcolor\":\"#E5ECF6\",\"gridcolor\":\"white\",\"gridwidth\":2,\"linecolor\":\"white\",\"showbackground\":true,\"ticks\":\"\",\"zerolinecolor\":\"white\"}},\"shapedefaults\":{\"line\":{\"color\":\"#2a3f5f\"}},\"ternary\":{\"aaxis\":{\"gridcolor\":\"white\",\"linecolor\":\"white\",\"ticks\":\"\"},\"baxis\":{\"gridcolor\":\"white\",\"linecolor\":\"white\",\"ticks\":\"\"},\"bgcolor\":\"#E5ECF6\",\"caxis\":{\"gridcolor\":\"white\",\"linecolor\":\"white\",\"ticks\":\"\"}},\"title\":{\"x\":0.05},\"xaxis\":{\"automargin\":true,\"gridcolor\":\"white\",\"linecolor\":\"white\",\"ticks\":\"\",\"title\":{\"standoff\":15},\"zerolinecolor\":\"white\",\"zerolinewidth\":2},\"yaxis\":{\"automargin\":true,\"gridcolor\":\"white\",\"linecolor\":\"white\",\"ticks\":\"\",\"title\":{\"standoff\":15},\"zerolinecolor\":\"white\",\"zerolinewidth\":2}}},\"xaxis\":{\"anchor\":\"y\",\"domain\":[0.0,1.0]},\"yaxis\":{\"anchor\":\"x\",\"domain\":[0.0,1.0],\"title\":{\"text\":\"Cases - cumulative total per 100000 population\"}},\"legend\":{\"tracegroupgap\":0},\"title\":{\"text\":\"Cases - cumulative total per 100,000 population\"},\"violinmode\":\"group\"},                        {\"responsive\": true}                    ).then(function(){\n",
       "                            \n",
       "var gd = document.getElementById('0b500e2b-edcb-49e8-82fc-231a76e55e8e');\n",
       "var x = new MutationObserver(function (mutations, observer) {{\n",
       "        var display = window.getComputedStyle(gd).display;\n",
       "        if (!display || display === 'none') {{\n",
       "            console.log([gd, 'removed!']);\n",
       "            Plotly.purge(gd);\n",
       "            observer.disconnect();\n",
       "        }}\n",
       "}});\n",
       "\n",
       "// Listen for the removal of the full notebook cells\n",
       "var notebookContainer = gd.closest('#notebook-container');\n",
       "if (notebookContainer) {{\n",
       "    x.observe(notebookContainer, {childList: true});\n",
       "}}\n",
       "\n",
       "// Listen for the clearing of the current output cell\n",
       "var outputEl = gd.closest('.output');\n",
       "if (outputEl) {{\n",
       "    x.observe(outputEl, {childList: true});\n",
       "}}\n",
       "\n",
       "                        })                };                });            </script>        </div>"
      ]
     },
     "metadata": {},
     "output_type": "display_data"
    }
   ],
   "source": [
    "fig = px.violin(df_covidstats['Cases - cumulative total per 100000 population'], y=\"Cases - cumulative total per 100000 population\", box=True, points='all', title=\"Cases - cumulative total per 100,000 population\")\n",
    "fig.update_traces(fillcolor='orange', line_color='black', customdata=df_covidstats, hovertemplate ='%{customdata[0]}<br>%{customdata[3]}')\n",
    "fig.show()\n",
    "\n",
    "#Faroe Islands has the highest value point in the violin plot for cumulative cases per 100,000 (70,926.02). \n",
    "#This is an interesting data point that is worth further investigation to determine the underlying reason for this\n",
    "# In the violin plot, the wider the section, the greater the probability that members of the population will take the given value; \n",
    "#in the skinnier section, the lower the probability. A significant number of data points are concentrated towards the \n",
    "#lower end of the plot, signifying lower number of cases per 100,000 for a number of countries."
   ]
  },
  {
   "attachments": {
    "Cumulative%20cases%20per%20100000.png": {
     "image/png": "[encoded data removed]"
    }
   },
   "cell_type": "markdown",
   "metadata": {},
   "source": [
    "![Cumulative%20cases%20per%20100000.png](attachment:Cumulative%20cases%20per%20100000.png)"
   ]
  },
  {
   "cell_type": "code",
   "execution_count": 37,
   "metadata": {},
   "outputs": [
    {
     "data": {
      "application/vnd.plotly.v1+json": {
       "config": {
        "plotlyServerURL": "https://plot.ly"
       },
       "data": [
        {
         "alignmentgroup": "True",
         "box": {
          "visible": true
         },
         "customdata": [
          [
           "Global",
           "Global",
           534495291,
           6857.303528,
           3485948,
           44.72294503,
           571825,
           6311088,
           80.96805853,
           8591,
           0.110218173,
           1082
          ],
          [
           "United States of America",
           "Americas",
           84708007,
           25591.338,
           731052,
           220.86,
           114807,
           1001895,
           302.685,
           2340,
           0.707,
           297
          ],
          [
           "India",
           "South-East Asia",
           43245517,
           3133.723,
           55235,
           4.003,
           8822,
           524792,
           38.028,
           77,
           0.006,
           15
          ],
          [
           "Brazil",
           "Americas",
           31497038,
           14817.992,
           301920,
           142.04,
           40173,
           668180,
           314.35,
           1139,
           0.536,
           70
          ],
          [
           "France",
           "Europe",
           29009234,
           44602.583,
           251844,
           387.218,
           65425,
           145564,
           223.809,
           293,
           0.45,
           57
          ],
          [
           "Germany",
           "Europe",
           27007429,
           32473.845,
           393189,
           472.772,
           64479,
           140026,
           168.368,
           47,
           0.057,
           8
          ],
          [
           "The United Kingdom",
           "Europe",
           22422615,
           33029.805,
           64264,
           94.665,
           8427,
           179363,
           264.212,
           179,
           0.264,
           6
          ],
          [
           "Russian Federation",
           "Europe",
           18385098,
           12598.188,
           22993,
           15.756,
           2718,
           380203,
           260.53,
           467,
           0.32,
           66
          ],
          [
           "Republic of Korea",
           "Western Pacific",
           18248479,
           35593.464,
           60294,
           117.603,
           9423,
           24399,
           47.59,
           94,
           0.183,
           9
          ],
          [
           "Italy",
           "Europe",
           17703887,
           29683.845,
           160751,
           269.529,
           39844,
           167505,
           280.853,
           416,
           0.698,
           73
          ],
          [
           "Turkey",
           "Europe",
           15085742,
           17887.016,
           7556,
           8.959,
           0,
           98996,
           117.379,
           20,
           0.024,
           0
          ],
          [
           "Spain",
           "Europe",
           12515127,
           26440.811,
           44153,
           93.282,
           36133,
           107239,
           226.565,
           230,
           0.486,
           131
          ],
          [
           "Viet Nam",
           "Western Pacific",
           10733285,
           11026.753,
           6280,
           6.452,
           856,
           43083,
           44.261,
           2,
           0.002,
           0
          ],
          [
           "Argentina",
           "Americas",
           9313453,
           20606.911,
           36835,
           81.501,
           0,
           128994,
           285.412,
           21,
           0.046,
           0
          ],
          [
           "Japan",
           "Western Pacific",
           9075966,
           7176.012,
           103312,
           81.685,
           14030,
           30935,
           24.459,
           138,
           0.109,
           25
          ],
          [
           "Netherlands",
           "Europe",
           8110818,
           46593.585,
           15526,
           89.191,
           2887,
           22336,
           128.312,
           10,
           0.057,
           0
          ],
          [
           "Australia",
           "Western Pacific",
           7583518,
           29739.422,
           112726,
           442.065,
           15418,
           8957,
           35.126,
           155,
           0.608,
           0
          ],
          [
           "Iran (Islamic Republic of)",
           "Eastern Mediterranean",
           7234042,
           8612.678,
           1113,
           1.325,
           162,
           141353,
           168.292,
           14,
           0.017,
           1
          ],
          [
           "Colombia",
           "Americas",
           6117847,
           12023.387,
           8742,
           17.181,
           0,
           139894,
           274.933,
           27,
           0.053,
           0
          ],
          [
           "Indonesia",
           "South-East Asia",
           6063251,
           2216.719,
           5071,
           1.854,
           1242,
           156670,
           57.278,
           42,
           0.015,
           8
          ],
          [
           "Poland",
           "Europe",
           6010643,
           15834.926,
           1438,
           3.788,
           232,
           116387,
           306.619,
           25,
           0.066,
           7
          ],
          [
           "Mexico",
           "Americas",
           5825532,
           4518.272,
           21701,
           16.831,
           1688,
           325205,
           252.228,
           23,
           0.018,
           11
          ],
          [
           "Ukraine",
           "Europe",
           5014929,
           11466.952,
           0,
           0,
           0,
           108605,
           248.332,
           0,
           0,
           0
          ],
          [
           "Portugal",
           "Europe",
           4985742,
           48424.496,
           114410,
           1111.218,
           23364,
           23707,
           230.257,
           256,
           2.486,
           37
          ],
          [
           "Malaysia",
           "Western Pacific",
           4530312,
           13997.133,
           12865,
           39.749,
           1922,
           35720,
           110.363,
           21,
           0.065,
           4
          ],
          [
           "Thailand",
           "South-East Asia",
           4490760,
           6433.756,
           16893,
           24.202,
           2263,
           30368,
           43.507,
           129,
           0.185,
           0
          ],
          [
           "Austria",
           "Europe",
           4335007,
           48702.121,
           27541,
           309.412,
           4335,
           19975,
           224.411,
           12,
           0.135,
           0
          ],
          [
           "Israel",
           "Europe",
           4201869,
           48545.423,
           39735,
           459.07,
           7661,
           10882,
           125.723,
           6,
           0.069,
           0
          ],
          [
           "Belgium",
           "Europe",
           4177440,
           36254.821,
           8932,
           77.518,
           0,
           31835,
           276.287,
           26,
           0.226,
           0
          ],
          [
           "China",
           "Western Pacific",
           3994428,
           271.492,
           465700,
           31.653,
           66634,
           19020,
           1.293,
           1191,
           0.081,
           124
          ],
          [
           "South Africa",
           "Africa",
           3979126,
           6709.179,
           8133,
           13.713,
           0,
           101509,
           171.154,
           112,
           0.189,
           0
          ],
          [
           "Czechia",
           "Europe",
           3923943,
           36693.149,
           2069,
           19.347,
           450,
           40303,
           376.877,
           6,
           0.056,
           0
          ],
          [
           "Canada",
           "Americas",
           3892409,
           10313.161,
           9188,
           24.344,
           0,
           41470,
           109.877,
           170,
           0.45,
           0
          ],
          [
           "Chile",
           "Americas",
           3834020,
           20056.391,
           73129,
           382.55,
           4901,
           58119,
           304.03,
           122,
           0.638,
           10
          ],
          [
           "Philippines",
           "Western Pacific",
           3693865,
           3370.897,
           1973,
           1.8,
           257,
           60461,
           55.175,
           5,
           0.005,
           0
          ],
          [
           "Switzerland",
           "Europe",
           3684276,
           42570.059,
           13128,
           151.688,
           6,
           13273,
           153.363,
           0,
           0,
           0
          ],
          [
           "Peru",
           "Americas",
           3591816,
           10893.582,
           6049,
           18.346,
           934,
           213338,
           647.031,
           69,
           0.209,
           14
          ],
          [
           "Greece",
           "Europe",
           3508610,
           32733.953,
           29831,
           278.312,
           4210,
           30033,
           280.196,
           82,
           0.765,
           7
          ],
          [
           "Denmark",
           "Europe",
           3148183,
           54066.824,
           7518,
           129.114,
           2364,
           6419,
           110.24,
           31,
           0.532,
           5
          ],
          [
           "Romania",
           "Europe",
           2912878,
           15070.114,
           1708,
           8.837,
           0,
           65714,
           339.979,
           17,
           0.088,
           0
          ],
          [
           "Sweden",
           "Europe",
           2510930,
           24312.838,
           874,
           8.463,
           0,
           19049,
           184.448,
           0,
           0,
           0
          ],
          [
           "Iraq",
           "Eastern Mediterranean",
           2330393,
           5793.756,
           1436,
           3.57,
           344,
           25224,
           62.711,
           3,
           0.007,
           1
          ],
          [
           "Serbia",
           "Europe",
           2020952,
           29176.239,
           1781,
           25.712,
           356,
           16103,
           232.477,
           9,
           0.13,
           2
          ],
          [
           "Bangladesh",
           "South-East Asia",
           1954637,
           1186.863,
           883,
           0.536,
           232,
           29131,
           17.688,
           0,
           0,
           0
          ],
          [
           "Hungary",
           "Europe",
           1923122,
           19684.906,
           1636,
           16.746,
           1636,
           46594,
           476.932,
           23,
           0.235,
           23
          ],
          [
           "Slovakia",
           "Europe",
           1791639,
           32826.689,
           1042,
           19.092,
           213,
           20119,
           368.623,
           12,
           0.22,
           0
          ],
          [
           "Jordan",
           "Eastern Mediterranean",
           1697673,
           16638.741,
           402,
           3.94,
           0,
           14068,
           137.879,
           0,
           0,
           0
          ],
          [
           "Georgia",
           "Europe",
           1658755,
           41581.405,
           515,
           12.91,
           0,
           16838,
           422.092,
           3,
           0.075,
           0
          ],
          [
           "Ireland",
           "Europe",
           1570519,
           31635.371,
           905,
           18.23,
           0,
           7416,
           149.382,
           5,
           0.101,
           0
          ],
          [
           "Pakistan",
           "Eastern Mediterranean",
           1531327,
           693.246,
           513,
           0.232,
           54,
           30381,
           13.754,
           2,
           0.001,
           0
          ],
          [
           "Norway",
           "Europe",
           1437344,
           26778.25,
           2192,
           40.838,
           264,
           3210,
           59.803,
           0,
           0,
           0
          ],
          [
           "Kazakhstan",
           "Europe",
           1395085,
           7429.87,
           88,
           0.469,
           17,
           19017,
           101.28,
           1,
           0.005,
           0
          ],
          [
           "Singapore",
           "Western Pacific",
           1348775,
           23054.635,
           23152,
           395.738,
           5130,
           1401,
           23.947,
           7,
           0.12,
           3
          ],
          [
           "New Zealand",
           "Western Pacific",
           1248298,
           25886.306,
           40499,
           839.839,
           0,
           1295,
           26.855,
           79,
           1.638,
           0
          ],
          [
           "Morocco",
           "Eastern Mediterranean",
           1177842,
           3191.071,
           6808,
           18.445,
           1677,
           16083,
           43.573,
           1,
           0.003,
           1
          ],
          [
           "Bulgaria",
           "Europe",
           1167314,
           16792.304,
           998,
           14.357,
           167,
           37206,
           535.224,
           22,
           0.316,
           2
          ],
          [
           "Croatia",
           "Europe",
           1140078,
           28093.436,
           1800,
           44.355,
           243,
           16020,
           394.76,
           16,
           0.394,
           1
          ],
          [
           "Finland",
           "Europe",
           1114573,
           20172.201,
           836,
           15.13,
           0,
           4714,
           85.317,
           0,
           0,
           0
          ],
          [
           "Cuba",
           "Americas",
           1105643,
           9761.459,
           153,
           1.351,
           12,
           8529,
           75.301,
           0,
           0,
           0
          ],
          [
           "Lebanon",
           "Eastern Mediterranean",
           1101109,
           16132.413,
           1102,
           16.145,
           0,
           10445,
           153.03,
           6,
           0.088,
           0
          ],
          [
           "Lithuania",
           "Europe",
           1064538,
           38099.632,
           1013,
           36.255,
           230,
           9158,
           327.763,
           7,
           0.251,
           3
          ],
          [
           "Tunisia",
           "Eastern Mediterranean",
           1044426,
           8837.124,
           886,
           7.497,
           886,
           28655,
           242.456,
           7,
           0.059,
           7
          ],
          [
           "Slovenia",
           "Europe",
           1028943,
           49094.048,
           2095,
           99.959,
           561,
           7805,
           372.401,
           0,
           0,
           0
          ],
          [
           "Belarus",
           "Europe",
           982867,
           10401.456,
           0,
           0,
           0,
           6978,
           73.847,
           0,
           0,
           0
          ],
          [
           "Nepal",
           "South-East Asia",
           979297,
           3361.03,
           74,
           0.254,
           19,
           11952,
           41.02,
           0,
           0,
           0
          ],
          [
           "Uruguay",
           "Americas",
           943877,
           27171.858,
           8916,
           256.669,
           0,
           7290,
           209.861,
           28,
           0.806,
           0
          ],
          [
           "Mongolia",
           "Western Pacific",
           926282,
           28255.035,
           0,
           0,
           0,
           2115,
           64.515,
           0,
           0,
           0
          ],
          [
           "United Arab Emirates",
           "Eastern Mediterranean",
           920171,
           9303.676,
           8085,
           81.746,
           1356,
           2305,
           23.305,
           0,
           0,
           0
          ],
          [
           "Bolivia (Plurinational State of)",
           "Americas",
           912869,
           7820.332,
           2353,
           20.158,
           396,
           21951,
           188.049,
           2,
           0.017,
           0
          ],
          [
           "Costa Rica",
           "Americas",
           904934,
           17764.292,
           0,
           0,
           0,
           8525,
           167.35,
           0,
           0,
           0
          ],
          [
           "Panama",
           "Americas",
           892455,
           20683.736,
           16969,
           393.277,
           1106,
           8307,
           192.525,
           31,
           0.718,
           8
          ],
          [
           "Ecuador",
           "Americas",
           890852,
           5049.307,
           5534,
           31.366,
           311,
           35659,
           202.114,
           10,
           0.057,
           1
          ],
          [
           "Guatemala",
           "Americas",
           871263,
           4863.161,
           6495,
           36.253,
           151,
           18293,
           102.107,
           69,
           0.385,
           6
          ],
          [
           "Latvia",
           "Europe",
           830977,
           43559.673,
           1337,
           70.085,
           0,
           5841,
           306.184,
           7,
           0.367,
           0
          ],
          [
           "Azerbaijan",
           "Europe",
           792903,
           7820.192,
           83,
           0.819,
           19,
           9715,
           95.816,
           1,
           0.01,
           0
          ],
          [
           "Saudi Arabia",
           "Eastern Mediterranean",
           780135,
           2240.874,
           6914,
           19.86,
           1152,
           9176,
           26.357,
           16,
           0.046,
           1
          ],
          [
           "Puerto Rico",
           "Americas",
           718965,
           25131.141,
           23622,
           825.698,
           390,
           4449,
           155.513,
           41,
           1.433,
           9
          ],
          [
           "Sri Lanka",
           "South-East Asia",
           663965,
           3100.72,
           64,
           0.299,
           0,
           16519,
           77.144,
           1,
           0.005,
           0
          ],
          [
           "occupied Palestinian territory, including east Jerusalem",
           "Eastern Mediterranean",
           658100,
           12900.345,
           221,
           4.332,
           221,
           5660,
           110.95,
           0,
           0,
           0
          ],
          [
           "Paraguay",
           "Americas",
           652044,
           9141.823,
           776,
           10.88,
           0,
           18932,
           265.431,
           21,
           0.294,
           0
          ],
          [
           "Kuwait",
           "Eastern Mediterranean",
           637061,
           14917.467,
           2524,
           59.102,
           409,
           2555,
           59.828,
           0,
           0,
           0
          ],
          [
           "Myanmar",
           "South-East Asia",
           613460,
           1127.481,
           55,
           0.101,
           0,
           19434,
           35.718,
           0,
           0,
           0
          ],
          [
           "Bahrain",
           "Eastern Mediterranean",
           598552,
           35176.351,
           7746,
           455.225,
           1368,
           1490,
           87.566,
           1,
           0.059,
           1
          ],
          [
           "Dominican Republic",
           "Americas",
           592578,
           5462.601,
           4170,
           38.441,
           0,
           4382,
           40.395,
           3,
           0.028,
           0
          ],
          [
           "Estonia",
           "Europe",
           578494,
           43529.304,
           633,
           47.631,
           0,
           2586,
           194.586,
           5,
           0.376,
           0
          ],
          [
           "Venezuela (Bolivarian Republic of)",
           "Americas",
           524321,
           1843.867,
           384,
           1.35,
           30,
           5724,
           20.129,
           2,
           0.007,
           0
          ],
          [
           "Republic of Moldova",
           "Europe",
           519452,
           12876.965,
           224,
           5.553,
           224,
           11554,
           286.418,
           3,
           0.074,
           3
          ],
          [
           "Egypt",
           "Eastern Mediterranean",
           514008,
           502.283,
           33,
           0.032,
           0,
           24720,
           24.156,
           1,
           0.001,
           0
          ],
          [
           "Libya",
           "Eastern Mediterranean",
           502076,
           7306.865,
           36,
           0.524,
           0,
           6430,
           93.578,
           0,
           0,
           0
          ],
          [
           "Cyprus",
           "Europe",
           493984,
           55628.516,
           2207,
           248.535,
           0,
           1068,
           120.27,
           1,
           0.113,
           0
          ],
          [
           "Ethiopia",
           "Africa",
           479484,
           417.075,
           3720,
           3.236,
           0,
           7517,
           6.539,
           2,
           0.002,
           0
          ],
          [
           "Honduras",
           "Americas",
           425655,
           4297.546,
           184,
           1.858,
           0,
           10902,
           110.07,
           2,
           0.02,
           0
          ],
          [
           "Armenia",
           "Europe",
           423044,
           14276.429,
           38,
           1.282,
           0,
           8625,
           291.067,
           0,
           0,
           0
          ],
          [
           "Réunion",
           "Africa",
           419968,
           46907.447,
           1383,
           154.471,
           0,
           799,
           89.243,
           3,
           0.335,
           0
          ],
          [
           "Oman",
           "Eastern Mediterranean",
           389758,
           7632.398,
           0,
           0,
           0,
           4260,
           83.421,
           0,
           0,
           0
          ],
          [
           "Bosnia and Herzegovina",
           "Europe",
           378138,
           11525.734,
           116,
           3.536,
           26,
           15796,
           481.466,
           5,
           0.152,
           1
          ],
          [
           "Qatar",
           "Eastern Mediterranean",
           373178,
           12952.834,
           2627,
           91.182,
           474,
           677,
           23.498,
           0,
           0,
           0
          ],
          [
           "Kenya",
           "Africa",
           327145,
           608.401,
           1348,
           2.507,
           0,
           5651,
           10.509,
           0,
           0,
           0
          ],
          [
           "Zambia",
           "Africa",
           323337,
           1758.8,
           775,
           4.216,
           0,
           3989,
           21.698,
           0,
           0,
           0
          ],
          [
           "North Macedonia",
           "Europe",
           312673,
           15007.968,
           328,
           15.744,
           66,
           9316,
           447.158,
           4,
           0.192,
           0
          ],
          [
           "Botswana",
           "Africa",
           310419,
           13200.18,
           0,
           0,
           0,
           2701,
           114.857,
           0,
           0,
           0
          ],
          [
           "Albania",
           "Europe",
           276821,
           9619.188,
           353,
           12.266,
           83,
           3497,
           121.516,
           0,
           0,
           0
          ],
          [
           "Algeria",
           "Africa",
           265937,
           606.455,
           33,
           0.075,
           0,
           6875,
           15.678,
           0,
           0,
           0
          ],
          [
           "Nigeria",
           "Africa",
           256352,
           124.358,
           125,
           0.061,
           0,
           3144,
           1.525,
           1,
           0,
           0
          ],
          [
           "Zimbabwe",
           "Africa",
           254155,
           1709.993,
           518,
           3.485,
           0,
           5521,
           37.146,
           6,
           0.04,
           0
          ],
          [
           "Luxembourg",
           "Europe",
           253318,
           40459.154,
           3422,
           546.551,
           625,
           1082,
           172.814,
           1,
           0.16,
           0
          ],
          [
           "Uzbekistan",
           "Europe",
           239319,
           715.043,
           160,
           0.478,
           39,
           1637,
           4.891,
           0,
           0,
           0
          ],
          [
           "Montenegro",
           "Europe",
           238037,
           37900.239,
           407,
           64.803,
           94,
           2722,
           433.397,
           2,
           0.318,
           0
          ],
          [
           "Kosovo[1]",
           "Europe",
           228407,
           12719.904,
           53,
           2.952,
           8,
           3129,
           174.253,
           0,
           0,
           0
          ],
          [
           "Mauritius",
           "Africa",
           227442,
           17883.922,
           0,
           0,
           0,
           1000,
           78.631,
           0,
           0,
           0
          ],
          [
           "Mozambique",
           "Africa",
           226481,
           724.613,
           416,
           1.331,
           0,
           2206,
           7.058,
           1,
           0.003,
           0
          ],
          [
           "Lao People's Democratic Republic",
           "Western Pacific",
           210164,
           2888.63,
           66,
           0.907,
           6,
           757,
           10.405,
           1,
           0.014,
           0
          ],
          [
           "Kyrgyzstan",
           "Europe",
           200993,
           3080.734,
           0,
           0,
           0,
           2991,
           45.845,
           0,
           0,
           0
          ],
          [
           "Iceland",
           "Europe",
           190643,
           52355.177,
           1169,
           321.036,
           215,
           153,
           42.017,
           0,
           0,
           0
          ],
          [
           "Afghanistan",
           "Eastern Mediterranean",
           181236,
           465.563,
           452,
           1.161,
           58,
           7710,
           19.806,
           1,
           0.003,
           0
          ],
          [
           "Martinique",
           "Americas",
           180883,
           48201.404,
           8000,
           2131.827,
           0,
           950,
           253.154,
           8,
           2.132,
           0
          ],
          [
           "Maldives",
           "South-East Asia",
           179979,
           33295.902,
           62,
           11.47,
           0,
           299,
           55.315,
           0,
           0,
           0
          ],
          [
           "Namibia",
           "Africa",
           165507,
           6513.703,
           799,
           31.445,
           0,
           4049,
           159.353,
           9,
           0.354,
           0
          ],
          [
           "Uganda",
           "Africa",
           165251,
           361.275,
           310,
           0.678,
           0,
           3605,
           7.881,
           2,
           0.004,
           0
          ],
          [
           "Trinidad and Tobago",
           "Americas",
           164829,
           11777.807,
           1884,
           134.621,
           106,
           3965,
           283.318,
           22,
           1.572,
           2
          ],
          [
           "Guadeloupe",
           "Americas",
           164325,
           41068.519,
           2135,
           533.585,
           0,
           950,
           237.426,
           1,
           0.25,
           0
          ],
          [
           "El Salvador",
           "Americas",
           164134,
           2530.509,
           0,
           0,
           0,
           4135,
           63.751,
           2,
           0.031,
           0
          ],
          [
           "Ghana",
           "Africa",
           161935,
           521.145,
           0,
           0,
           0,
           1445,
           4.65,
           0,
           0,
           0
          ],
          [
           "Brunei Darussalam",
           "Western Pacific",
           154133,
           35232.091,
           2972,
           679.347,
           522,
           164,
           37.488,
           2,
           0.457,
           0
          ],
          [
           "Jamaica",
           "Americas",
           140754,
           4753.329,
           1551,
           52.378,
           84,
           3091,
           104.385,
           15,
           0.507,
           7
          ],
          [
           "Cambodia",
           "Western Pacific",
           136262,
           815.015,
           0,
           0,
           0,
           3056,
           18.279,
           0,
           0,
           0
          ],
          [
           "Rwanda",
           "Africa",
           130382,
           1006.638,
           149,
           1.15,
           0,
           1459,
           11.264,
           0,
           0,
           0
          ],
          [
           "Cameroon",
           "Africa",
           119947,
           451.848,
           0,
           0,
           0,
           1930,
           7.27,
           0,
           0,
           0
          ],
          [
           "Angola",
           "Africa",
           99761,
           303.536,
           0,
           0,
           0,
           1900,
           5.781,
           0,
           0,
           0
          ],
          [
           "Malta",
           "Europe",
           96490,
           18751.798,
           1125,
           218.632,
           200,
           728,
           141.479,
           5,
           0.972,
           1
          ],
          [
           "Democratic Republic of the Congo",
           "Africa",
           89932,
           100.414,
           0,
           0,
           0,
           1345,
           1.502,
           0,
           0,
           0
          ],
          [
           "Senegal",
           "Africa",
           86150,
           514.515,
           10,
           0.06,
           0,
           1967,
           11.748,
           0,
           0,
           0
          ],
          [
           "Malawi",
           "Africa",
           86107,
           450.116,
           85,
           0.444,
           0,
           2642,
           13.811,
           0,
           0,
           0
          ],
          [
           "French Guiana",
           "Americas",
           84507,
           28293.302,
           836,
           279.896,
           0,
           399,
           133.587,
           2,
           0.67,
           0
          ],
          [
           "Côte d’Ivoire",
           "Africa",
           82492,
           312.727,
           176,
           0.667,
           0,
           799,
           3.029,
           0,
           0,
           0
          ],
          [
           "Barbados",
           "Americas",
           82318,
           28644.802,
           800,
           278.382,
           63,
           468,
           162.853,
           5,
           1.74,
           1
          ],
          [
           "Suriname",
           "Americas",
           80673,
           13751.892,
           126,
           21.479,
           0,
           1352,
           230.468,
           2,
           0.341,
           0
          ],
          [
           "French Polynesia",
           "Western Pacific",
           73124,
           26031.299,
           62,
           22.071,
           18,
           649,
           231.036,
           0,
           0,
           0
          ],
          [
           "Eswatini",
           "Africa",
           72904,
           6283.939,
           155,
           13.36,
           0,
           1410,
           121.535,
           0,
           0,
           0
          ],
          [
           "Guyana",
           "Americas",
           65926,
           8381.645,
           632,
           80.351,
           34,
           1240,
           157.65,
           2,
           0.254,
           1
          ],
          [
           "Fiji",
           "Western Pacific",
           65217,
           7275.07,
           114,
           12.717,
           0,
           865,
           96.492,
           1,
           0.112,
           0
          ],
          [
           "Madagascar",
           "Africa",
           64685,
           233.596,
           207,
           0.748,
           0,
           1396,
           5.041,
           0,
           0,
           0
          ],
          [
           "New Caledonia",
           "Western Pacific",
           63002,
           22067.405,
           379,
           132.75,
           379,
           313,
           109.633,
           0,
           0,
           0
          ],
          [
           "Sudan",
           "Eastern Mediterranean",
           62489,
           142.509,
           45,
           0.103,
           4,
           4950,
           11.289,
           0,
           0,
           0
          ],
          [
           "Belize",
           "Americas",
           61150,
           15378.696,
           1087,
           273.371,
           287,
           678,
           170.511,
           0,
           0,
           0
          ],
          [
           "Bhutan",
           "South-East Asia",
           59644,
           7729.832,
           8,
           1.037,
           0,
           21,
           2.722,
           0,
           0,
           0
          ],
          [
           "Mauritania",
           "Africa",
           59247,
           1274.223,
           35,
           0.753,
           0,
           982,
           21.12,
           0,
           0,
           0
          ],
          [
           "Cabo Verde",
           "Africa",
           57096,
           10269.305,
           358,
           64.39,
           0,
           402,
           72.304,
           0,
           0,
           0
          ],
          [
           "Syrian Arab Republic",
           "Eastern Mediterranean",
           55908,
           319.462,
           8,
           0.046,
           1,
           3150,
           17.999,
           0,
           0,
           0
          ],
          [
           "Jersey",
           "Europe",
           51132,
           47434.042,
           139,
           128.947,
           0,
           129,
           119.67,
           0,
           0,
           0
          ],
          [
           "Gabon",
           "Africa",
           47711,
           2143.607,
           34,
           1.528,
           0,
           304,
           13.658,
           0,
           0,
           0
          ],
          [
           "Papua New Guinea",
           "Western Pacific",
           44675,
           499.328,
           32,
           0.358,
           13,
           658,
           7.354,
           1,
           0.011,
           0
          ],
          [
           "Seychelles",
           "Africa",
           44397,
           45143.217,
           102,
           103.714,
           0,
           167,
           169.807,
           0,
           0,
           0
          ],
          [
           "Curaçao",
           "Americas",
           44314,
           27005.418,
           187,
           113.96,
           187,
           278,
           169.416,
           1,
           0.609,
           1
          ],
          [
           "Andorra",
           "Europe",
           43224,
           55942.535,
           157,
           203.197,
           0,
           153,
           198.02,
           0,
           0,
           0
          ],
          [
           "Burundi",
           "Africa",
           42330,
           355.99,
           82,
           0.69,
           0,
           15,
           0.126,
           0,
           0,
           0
          ],
          [
           "Guam",
           "Western Pacific",
           42029,
           24902.385,
           479,
           283.81,
           0,
           370,
           219.227,
           4,
           2.37,
           1
          ],
          [
           "Aruba",
           "Americas",
           39339,
           36846,
           1038,
           972.22,
           1038,
           219,
           205.121,
           3,
           2.81,
           3
          ],
          [
           "Mayotte",
           "Africa",
           37751,
           13837.582,
           94,
           34.456,
           0,
           187,
           68.545,
           0,
           0,
           0
          ],
          [
           "Togo",
           "Africa",
           37196,
           449.296,
           54,
           0.652,
           0,
           273,
           3.298,
           0,
           0,
           0
          ],
          [
           "Guinea",
           "Africa",
           36817,
           280.344,
           0,
           0,
           0,
           442,
           3.366,
           0,
           0,
           0
          ],
          [
           "Bahamas",
           "Americas",
           35351,
           8989.584,
           252,
           64.082,
           0,
           812,
           206.488,
           1,
           0.254,
           0
          ],
          [
           "United Republic of Tanzania",
           "Africa",
           35159,
           58.859,
           171,
           0.286,
           0,
           840,
           1.406,
           0,
           0,
           0
          ],
          [
           "Faroe Islands",
           "Europe",
           34658,
           70926.021,
           0,
           0,
           0,
           28,
           57.301,
           0,
           0,
           0
          ],
          [
           "Isle of Man",
           "Europe",
           33821,
           39774.438,
           723,
           850.268,
           570,
           107,
           125.835,
           0,
           0,
           0
          ],
          [
           "Lesotho",
           "Africa",
           33746,
           1575.26,
           0,
           0,
           0,
           699,
           32.629,
           0,
           0,
           0
          ],
          [
           "Mali",
           "Africa",
           31127,
           153.707,
           12,
           0.059,
           0,
           736,
           3.634,
           1,
           0.005,
           0
          ],
          [
           "Haiti",
           "Americas",
           31054,
           272.343,
           50,
           0.438,
           0,
           837,
           7.34,
           0,
           0,
           0
          ],
          [
           "Benin",
           "Africa",
           26914,
           222.004,
           0,
           0,
           0,
           163,
           1.345,
           0,
           0,
           0
          ],
          [
           "Somalia",
           "Eastern Mediterranean",
           26675,
           167.839,
           110,
           0.692,
           0,
           1361,
           8.563,
           0,
           0,
           0
          ],
          [
           "Saint Lucia",
           "Americas",
           26584,
           14477.174,
           350,
           190.604,
           20,
           376,
           204.763,
           5,
           2.723,
           5
          ],
          [
           "Cayman Islands",
           "Americas",
           26325,
           40056.299,
           439,
           667.985,
           439,
           28,
           42.605,
           0,
           0,
           0
          ],
          [
           "Guernsey",
           "Europe",
           26131,
           40533.288,
           257,
           398.647,
           257,
           47,
           72.904,
           0,
           0,
           0
          ],
          [
           "Congo",
           "Africa",
           24128,
           437.253,
           0,
           0,
           0,
           385,
           6.977,
           0,
           0,
           0
          ],
          [
           "Timor-Leste",
           "South-East Asia",
           22944,
           1740.232,
           15,
           1.138,
           4,
           133,
           10.088,
           0,
           0,
           0
          ],
          [
           "Solomon Islands",
           "Western Pacific",
           21237,
           3091.788,
           0,
           0,
           0,
           149,
           21.692,
           0,
           0,
           0
          ],
          [
           "Burkina Faso",
           "Africa",
           20899,
           99.98,
           0,
           0,
           0,
           384,
           1.837,
           0,
           0,
           0
          ],
          [
           "United States Virgin Islands",
           "Americas",
           20516,
           19646.636,
           287,
           274.838,
           44,
           115,
           110.127,
           1,
           0.958,
           0
          ],
          [
           "Gibraltar",
           "Europe",
           18806,
           55819.061,
           215,
           638.153,
           0,
           101,
           299.783,
           0,
           0,
           0
          ],
          [
           "Grenada",
           "Americas",
           18115,
           16098.931,
           167,
           148.414,
           80,
           231,
           205.291,
           0,
           0,
           0
          ],
          [
           "Tajikistan",
           "Europe",
           17786,
           186.482,
           0,
           0,
           0,
           125,
           1.311,
           0,
           0,
           0
          ],
          [
           "South Sudan",
           "Africa",
           17659,
           157.758,
           18,
           0.161,
           0,
           138,
           1.233,
           0,
           0,
           0
          ],
          [
           "Liechtenstein",
           "Europe",
           17619,
           45471.908,
           64,
           165.174,
           0,
           84,
           216.791,
           0,
           0,
           0
          ],
          [
           "San Marino",
           "Europe",
           17376,
           51199.246,
           146,
           430.196,
           31,
           115,
           338.853,
           0,
           0,
           0
          ],
          [
           "Equatorial Guinea",
           "Africa",
           15945,
           1136.505,
           21,
           1.497,
           0,
           183,
           13.044,
           0,
           0,
           0
          ],
          [
           "Djibouti",
           "Eastern Mediterranean",
           15690,
           1588.057,
           4,
           0.405,
           0,
           189,
           19.13,
           0,
           0,
           0
          ],
          [
           "Bermuda",
           "Americas",
           15428,
           24774.782,
           343,
           550.801,
           0,
           138,
           221.605,
           0,
           0,
           0
          ],
          [
           "Dominica",
           "Americas",
           14638,
           20333.097,
           343,
           476.448,
           0,
           67,
           93.067,
           0,
           0,
           0
          ],
          [
           "Nicaragua",
           "Americas",
           14619,
           220.679,
           42,
           0.634,
           42,
           241,
           3.638,
           1,
           0.015,
           1
          ],
          [
           "Samoa",
           "Western Pacific",
           14422,
           7268.64,
           235,
           118.439,
           107,
           28,
           14.112,
           1,
           0.504,
           0
          ],
          [
           "Central African Republic",
           "Africa",
           14371,
           297.551,
           0,
           0,
           0,
           113,
           2.34,
           0,
           0,
           0
          ],
          [
           "Monaco",
           "Europe",
           12545,
           31966.67,
           185,
           471.41,
           31,
           57,
           145.245,
           0,
           0,
           0
          ],
          [
           "Gambia",
           "Africa",
           12002,
           496.634,
           0,
           0,
           0,
           365,
           15.103,
           0,
           0,
           0
          ],
          [
           "Greenland",
           "Europe",
           11971,
           21086.099,
           0,
           0,
           0,
           21,
           36.99,
           0,
           0,
           0
          ],
          [
           "Tonga",
           "Western Pacific",
           11909,
           11267.326,
           0,
           0,
           0,
           12,
           11.353,
           0,
           0,
           0
          ],
          [
           "Yemen",
           "Eastern Mediterranean",
           11822,
           39.637,
           0,
           0,
           0,
           2149,
           7.205,
           0,
           0,
           0
          ],
          [
           "Northern Mariana Islands (Commonwealth of the)",
           "Western Pacific",
           11482,
           19948.92,
           79,
           137.255,
           0,
           34,
           59.072,
           0,
           0,
           0
          ],
          [
           "Saint Martin",
           "Americas",
           10800,
           27936.574,
           74,
           191.417,
           0,
           44,
           113.816,
           0,
           0,
           0
          ],
          [
           "Vanuatu",
           "Western Pacific",
           10695,
           3482.069,
           361,
           117.534,
           0,
           14,
           4.558,
           0,
           0,
           0
          ],
          [
           "Sint Maarten",
           "Americas",
           10508,
           24504.454,
           74,
           172.567,
           74,
           86,
           200.55,
           0,
           0,
           0
          ],
          [
           "Eritrea",
           "Africa",
           9771,
           275.517,
           3,
           0.085,
           0,
           103,
           2.904,
           0,
           0,
           0
          ],
          [
           "Niger",
           "Africa",
           9031,
           37.308,
           0,
           0,
           0,
           310,
           1.281,
           0,
           0,
           0
          ],
          [
           "Saint Vincent and the Grenadines",
           "Americas",
           8929,
           8048.495,
           122,
           109.969,
           13,
           109,
           98.251,
           1,
           0.901,
           1
          ],
          [
           "Bonaire",
           "Americas",
           8696,
           41577.815,
           46,
           219.938,
           46,
           30,
           143.438,
           0,
           0,
           0
          ],
          [
           "Antigua and Barbuda",
           "Americas",
           8531,
           8711.413,
           153,
           156.236,
           39,
           140,
           142.961,
           2,
           2.042,
           0
          ],
          [
           "Guinea-Bissau",
           "Africa",
           8306,
           422.053,
           9,
           0.457,
           0,
           171,
           8.689,
           0,
           0,
           0
          ],
          [
           "Comoros",
           "Africa",
           8131,
           935.027,
           0,
           0,
           0,
           160,
           18.399,
           0,
           0,
           0
          ],
          [
           "Sierra Leone",
           "Africa",
           7682,
           96.302,
           0,
           0,
           0,
           125,
           1.567,
           0,
           0,
           0
          ],
          [
           "Liberia",
           "Africa",
           7460,
           147.498,
           1,
           0.02,
           0,
           294,
           5.813,
           0,
           0,
           0
          ],
          [
           "Chad",
           "Africa",
           7420,
           45.173,
           2,
           0.012,
           0,
           193,
           1.175,
           0,
           0,
           0
          ],
          [
           "British Virgin Islands",
           "Americas",
           6902,
           22826.339,
           137,
           453.087,
           0,
           63,
           208.354,
           1,
           3.307,
           0
          ],
          [
           "American Samoa",
           "Western Pacific",
           6270,
           11359.313,
           78,
           141.312,
           78,
           31,
           56.162,
           0,
           0,
           0
          ],
          [
           "Turks and Caicos Islands",
           "Americas",
           6160,
           15909.913,
           12,
           30.993,
           0,
           36,
           92.98,
           0,
           0,
           0
          ],
          [
           "Sao Tome and Principe",
           "Africa",
           6010,
           2742.301,
           7,
           3.194,
           0,
           73,
           33.309,
           0,
           0,
           0
          ],
          [
           "Saint Kitts and Nevis",
           "Americas",
           5861,
           11018.574,
           50,
           93.999,
           9,
           43,
           80.839,
           0,
           0,
           0
          ],
          [
           "Cook Islands",
           "Western Pacific",
           5720,
           32566.614,
           9,
           51.241,
           3,
           1,
           5.693,
           0,
           0,
           0
          ],
          [
           "Palau",
           "Western Pacific",
           5165,
           28548.53,
           39,
           215.565,
           20,
           6,
           33.164,
           0,
           0,
           0
          ],
          [
           "Saint Barthélemy",
           "Americas",
           4646,
           47000.506,
           32,
           323.723,
           0,
           4,
           40.465,
           0,
           0,
           0
          ],
          [
           "Anguilla",
           "Americas",
           3374,
           22490.335,
           80,
           533.262,
           32,
           9,
           59.992,
           0,
           0,
           0
          ],
          [
           "Kiribati",
           "Western Pacific",
           3215,
           2691.525,
           32,
           26.79,
           6,
           13,
           10.883,
           0,
           0,
           0
          ],
          [
           "Saint Pierre and Miquelon",
           "Americas",
           2765,
           47713.546,
           3,
           51.769,
           0,
           1,
           17.256,
           0,
           0,
           0
          ],
          [
           "Falkland Islands (Malvinas)",
           "Americas",
           1733,
           49755.958,
           16,
           459.374,
           0,
           0,
           0,
           0,
           0,
           0
          ],
          [
           "Montserrat",
           "Americas",
           1012,
           20244.049,
           9,
           180.036,
           0,
           8,
           160.032,
           0,
           0,
           0
          ],
          [
           "Sint Eustatius",
           "Americas",
           945,
           30105.129,
           8,
           254.858,
           8,
           5,
           159.286,
           0,
           0,
           0
          ],
          [
           "Saba",
           "Americas",
           608,
           31453.699,
           1,
           51.733,
           1,
           1,
           51.733,
           1,
           51.733,
           0
          ],
          [
           "Wallis and Futuna",
           "Western Pacific",
           454,
           4036.991,
           0,
           0,
           0,
           7,
           62.244,
           0,
           0,
           0
          ],
          [
           "Micronesia (Federated States of)",
           "Western Pacific",
           34,
           29.559,
           0,
           0,
           0,
           0,
           0,
           0,
           0,
           0
          ],
          [
           "Holy See",
           "Europe",
           26,
           3213.844,
           0,
           0,
           0,
           0,
           0,
           0,
           0,
           0
          ],
          [
           "Marshall Islands",
           "Western Pacific",
           18,
           30.408,
           0,
           0,
           0,
           0,
           0,
           0,
           0,
           0
          ],
          [
           "Niue",
           "Western Pacific",
           9,
           556.242,
           0,
           0,
           0,
           0,
           0,
           0,
           0,
           0
          ],
          [
           "Nauru",
           "Western Pacific",
           3,
           27.691,
           0,
           0,
           0,
           0,
           0,
           0,
           0,
           0
          ],
          [
           "Tuvalu",
           "Western Pacific",
           3,
           25.441,
           0,
           0,
           0,
           0,
           0,
           0,
           0,
           0
          ],
          [
           "Democratic People's Republic of Korea",
           "South-East Asia",
           0,
           0,
           0,
           0,
           0,
           0,
           0,
           0,
           0,
           0
          ],
          [
           "Pitcairn Islands",
           "Western Pacific",
           0,
           0,
           0,
           0,
           0,
           0,
           0,
           0,
           0,
           0
          ],
          [
           "Saint Helena",
           "Africa",
           0,
           0,
           0,
           0,
           0,
           0,
           0,
           0,
           0,
           0
          ],
          [
           "Tokelau",
           "Western Pacific",
           0,
           0,
           0,
           0,
           0,
           0,
           0,
           0,
           0,
           0
          ],
          [
           "Turkmenistan",
           "Europe",
           0,
           0,
           0,
           0,
           0,
           0,
           0,
           0,
           0,
           0
          ]
         ],
         "fillcolor": "red",
         "hovertemplate": "%{customdata[0]}<br>%{customdata[8]}",
         "legendgroup": "",
         "line": {
          "color": "black"
         },
         "marker": {
          "color": "#636efa"
         },
         "name": "",
         "offsetgroup": "",
         "orientation": "v",
         "points": "all",
         "scalegroup": "True",
         "showlegend": false,
         "type": "violin",
         "x0": " ",
         "xaxis": "x",
         "y": [
          80.96805853,
          302.685,
          38.028,
          314.35,
          223.809,
          168.368,
          264.212,
          260.53,
          47.59,
          280.853,
          117.379,
          226.565,
          44.261,
          285.412,
          24.459,
          128.312,
          35.126,
          168.292,
          274.933,
          57.278,
          306.619,
          252.228,
          248.332,
          230.257,
          110.363,
          43.507,
          224.411,
          125.723,
          276.287,
          1.293,
          171.154,
          376.877,
          109.877,
          304.03,
          55.175,
          153.363,
          647.031,
          280.196,
          110.24,
          339.979,
          184.448,
          62.711,
          232.477,
          17.688,
          476.932,
          368.623,
          137.879,
          422.092,
          149.382,
          13.754,
          59.803,
          101.28,
          23.947,
          26.855,
          43.573,
          535.224,
          394.76,
          85.317,
          75.301,
          153.03,
          327.763,
          242.456,
          372.401,
          73.847,
          41.02,
          209.861,
          64.515,
          23.305,
          188.049,
          167.35,
          192.525,
          202.114,
          102.107,
          306.184,
          95.816,
          26.357,
          155.513,
          77.144,
          110.95,
          265.431,
          59.828,
          35.718,
          87.566,
          40.395,
          194.586,
          20.129,
          286.418,
          24.156,
          93.578,
          120.27,
          6.539,
          110.07,
          291.067,
          89.243,
          83.421,
          481.466,
          23.498,
          10.509,
          21.698,
          447.158,
          114.857,
          121.516,
          15.678,
          1.525,
          37.146,
          172.814,
          4.891,
          433.397,
          174.253,
          78.631,
          7.058,
          10.405,
          45.845,
          42.017,
          19.806,
          253.154,
          55.315,
          159.353,
          7.881,
          283.318,
          237.426,
          63.751,
          4.65,
          37.488,
          104.385,
          18.279,
          11.264,
          7.27,
          5.781,
          141.479,
          1.502,
          11.748,
          13.811,
          133.587,
          3.029,
          162.853,
          230.468,
          231.036,
          121.535,
          157.65,
          96.492,
          5.041,
          109.633,
          11.289,
          170.511,
          2.722,
          21.12,
          72.304,
          17.999,
          119.67,
          13.658,
          7.354,
          169.807,
          169.416,
          198.02,
          0.126,
          219.227,
          205.121,
          68.545,
          3.298,
          3.366,
          206.488,
          1.406,
          57.301,
          125.835,
          32.629,
          3.634,
          7.34,
          1.345,
          8.563,
          204.763,
          42.605,
          72.904,
          6.977,
          10.088,
          21.692,
          1.837,
          110.127,
          299.783,
          205.291,
          1.311,
          1.233,
          216.791,
          338.853,
          13.044,
          19.13,
          221.605,
          93.067,
          3.638,
          14.112,
          2.34,
          145.245,
          15.103,
          36.99,
          11.353,
          7.205,
          59.072,
          113.816,
          4.558,
          200.55,
          2.904,
          1.281,
          98.251,
          143.438,
          142.961,
          8.689,
          18.399,
          1.567,
          5.813,
          1.175,
          208.354,
          56.162,
          92.98,
          33.309,
          80.839,
          5.693,
          33.164,
          40.465,
          59.992,
          10.883,
          17.256,
          0,
          160.032,
          159.286,
          51.733,
          62.244,
          0,
          0,
          0,
          0,
          0,
          0,
          0,
          0,
          0,
          0,
          0
         ],
         "y0": " ",
         "yaxis": "y"
        }
       ],
       "layout": {
        "legend": {
         "tracegroupgap": 0
        },
        "template": {
         "data": {
          "bar": [
           {
            "error_x": {
             "color": "#2a3f5f"
            },
            "error_y": {
             "color": "#2a3f5f"
            },
            "marker": {
             "line": {
              "color": "#E5ECF6",
              "width": 0.5
             },
             "pattern": {
              "fillmode": "overlay",
              "size": 10,
              "solidity": 0.2
             }
            },
            "type": "bar"
           }
          ],
          "barpolar": [
           {
            "marker": {
             "line": {
              "color": "#E5ECF6",
              "width": 0.5
             },
             "pattern": {
              "fillmode": "overlay",
              "size": 10,
              "solidity": 0.2
             }
            },
            "type": "barpolar"
           }
          ],
          "carpet": [
           {
            "aaxis": {
             "endlinecolor": "#2a3f5f",
             "gridcolor": "white",
             "linecolor": "white",
             "minorgridcolor": "white",
             "startlinecolor": "#2a3f5f"
            },
            "baxis": {
             "endlinecolor": "#2a3f5f",
             "gridcolor": "white",
             "linecolor": "white",
             "minorgridcolor": "white",
             "startlinecolor": "#2a3f5f"
            },
            "type": "carpet"
           }
          ],
          "choropleth": [
           {
            "colorbar": {
             "outlinewidth": 0,
             "ticks": ""
            },
            "type": "choropleth"
           }
          ],
          "contour": [
           {
            "colorbar": {
             "outlinewidth": 0,
             "ticks": ""
            },
            "colorscale": [
             [
              0,
              "#0d0887"
             ],
             [
              0.1111111111111111,
              "#46039f"
             ],
             [
              0.2222222222222222,
              "#7201a8"
             ],
             [
              0.3333333333333333,
              "#9c179e"
             ],
             [
              0.4444444444444444,
              "#bd3786"
             ],
             [
              0.5555555555555556,
              "#d8576b"
             ],
             [
              0.6666666666666666,
              "#ed7953"
             ],
             [
              0.7777777777777778,
              "#fb9f3a"
             ],
             [
              0.8888888888888888,
              "#fdca26"
             ],
             [
              1,
              "#f0f921"
             ]
            ],
            "type": "contour"
           }
          ],
          "contourcarpet": [
           {
            "colorbar": {
             "outlinewidth": 0,
             "ticks": ""
            },
            "type": "contourcarpet"
           }
          ],
          "heatmap": [
           {
            "colorbar": {
             "outlinewidth": 0,
             "ticks": ""
            },
            "colorscale": [
             [
              0,
              "#0d0887"
             ],
             [
              0.1111111111111111,
              "#46039f"
             ],
             [
              0.2222222222222222,
              "#7201a8"
             ],
             [
              0.3333333333333333,
              "#9c179e"
             ],
             [
              0.4444444444444444,
              "#bd3786"
             ],
             [
              0.5555555555555556,
              "#d8576b"
             ],
             [
              0.6666666666666666,
              "#ed7953"
             ],
             [
              0.7777777777777778,
              "#fb9f3a"
             ],
             [
              0.8888888888888888,
              "#fdca26"
             ],
             [
              1,
              "#f0f921"
             ]
            ],
            "type": "heatmap"
           }
          ],
          "heatmapgl": [
           {
            "colorbar": {
             "outlinewidth": 0,
             "ticks": ""
            },
            "colorscale": [
             [
              0,
              "#0d0887"
             ],
             [
              0.1111111111111111,
              "#46039f"
             ],
             [
              0.2222222222222222,
              "#7201a8"
             ],
             [
              0.3333333333333333,
              "#9c179e"
             ],
             [
              0.4444444444444444,
              "#bd3786"
             ],
             [
              0.5555555555555556,
              "#d8576b"
             ],
             [
              0.6666666666666666,
              "#ed7953"
             ],
             [
              0.7777777777777778,
              "#fb9f3a"
             ],
             [
              0.8888888888888888,
              "#fdca26"
             ],
             [
              1,
              "#f0f921"
             ]
            ],
            "type": "heatmapgl"
           }
          ],
          "histogram": [
           {
            "marker": {
             "pattern": {
              "fillmode": "overlay",
              "size": 10,
              "solidity": 0.2
             }
            },
            "type": "histogram"
           }
          ],
          "histogram2d": [
           {
            "colorbar": {
             "outlinewidth": 0,
             "ticks": ""
            },
            "colorscale": [
             [
              0,
              "#0d0887"
             ],
             [
              0.1111111111111111,
              "#46039f"
             ],
             [
              0.2222222222222222,
              "#7201a8"
             ],
             [
              0.3333333333333333,
              "#9c179e"
             ],
             [
              0.4444444444444444,
              "#bd3786"
             ],
             [
              0.5555555555555556,
              "#d8576b"
             ],
             [
              0.6666666666666666,
              "#ed7953"
             ],
             [
              0.7777777777777778,
              "#fb9f3a"
             ],
             [
              0.8888888888888888,
              "#fdca26"
             ],
             [
              1,
              "#f0f921"
             ]
            ],
            "type": "histogram2d"
           }
          ],
          "histogram2dcontour": [
           {
            "colorbar": {
             "outlinewidth": 0,
             "ticks": ""
            },
            "colorscale": [
             [
              0,
              "#0d0887"
             ],
             [
              0.1111111111111111,
              "#46039f"
             ],
             [
              0.2222222222222222,
              "#7201a8"
             ],
             [
              0.3333333333333333,
              "#9c179e"
             ],
             [
              0.4444444444444444,
              "#bd3786"
             ],
             [
              0.5555555555555556,
              "#d8576b"
             ],
             [
              0.6666666666666666,
              "#ed7953"
             ],
             [
              0.7777777777777778,
              "#fb9f3a"
             ],
             [
              0.8888888888888888,
              "#fdca26"
             ],
             [
              1,
              "#f0f921"
             ]
            ],
            "type": "histogram2dcontour"
           }
          ],
          "mesh3d": [
           {
            "colorbar": {
             "outlinewidth": 0,
             "ticks": ""
            },
            "type": "mesh3d"
           }
          ],
          "parcoords": [
           {
            "line": {
             "colorbar": {
              "outlinewidth": 0,
              "ticks": ""
             }
            },
            "type": "parcoords"
           }
          ],
          "pie": [
           {
            "automargin": true,
            "type": "pie"
           }
          ],
          "scatter": [
           {
            "marker": {
             "colorbar": {
              "outlinewidth": 0,
              "ticks": ""
             }
            },
            "type": "scatter"
           }
          ],
          "scatter3d": [
           {
            "line": {
             "colorbar": {
              "outlinewidth": 0,
              "ticks": ""
             }
            },
            "marker": {
             "colorbar": {
              "outlinewidth": 0,
              "ticks": ""
             }
            },
            "type": "scatter3d"
           }
          ],
          "scattercarpet": [
           {
            "marker": {
             "colorbar": {
              "outlinewidth": 0,
              "ticks": ""
             }
            },
            "type": "scattercarpet"
           }
          ],
          "scattergeo": [
           {
            "marker": {
             "colorbar": {
              "outlinewidth": 0,
              "ticks": ""
             }
            },
            "type": "scattergeo"
           }
          ],
          "scattergl": [
           {
            "marker": {
             "colorbar": {
              "outlinewidth": 0,
              "ticks": ""
             }
            },
            "type": "scattergl"
           }
          ],
          "scattermapbox": [
           {
            "marker": {
             "colorbar": {
              "outlinewidth": 0,
              "ticks": ""
             }
            },
            "type": "scattermapbox"
           }
          ],
          "scatterpolar": [
           {
            "marker": {
             "colorbar": {
              "outlinewidth": 0,
              "ticks": ""
             }
            },
            "type": "scatterpolar"
           }
          ],
          "scatterpolargl": [
           {
            "marker": {
             "colorbar": {
              "outlinewidth": 0,
              "ticks": ""
             }
            },
            "type": "scatterpolargl"
           }
          ],
          "scatterternary": [
           {
            "marker": {
             "colorbar": {
              "outlinewidth": 0,
              "ticks": ""
             }
            },
            "type": "scatterternary"
           }
          ],
          "surface": [
           {
            "colorbar": {
             "outlinewidth": 0,
             "ticks": ""
            },
            "colorscale": [
             [
              0,
              "#0d0887"
             ],
             [
              0.1111111111111111,
              "#46039f"
             ],
             [
              0.2222222222222222,
              "#7201a8"
             ],
             [
              0.3333333333333333,
              "#9c179e"
             ],
             [
              0.4444444444444444,
              "#bd3786"
             ],
             [
              0.5555555555555556,
              "#d8576b"
             ],
             [
              0.6666666666666666,
              "#ed7953"
             ],
             [
              0.7777777777777778,
              "#fb9f3a"
             ],
             [
              0.8888888888888888,
              "#fdca26"
             ],
             [
              1,
              "#f0f921"
             ]
            ],
            "type": "surface"
           }
          ],
          "table": [
           {
            "cells": {
             "fill": {
              "color": "#EBF0F8"
             },
             "line": {
              "color": "white"
             }
            },
            "header": {
             "fill": {
              "color": "#C8D4E3"
             },
             "line": {
              "color": "white"
             }
            },
            "type": "table"
           }
          ]
         },
         "layout": {
          "annotationdefaults": {
           "arrowcolor": "#2a3f5f",
           "arrowhead": 0,
           "arrowwidth": 1
          },
          "autotypenumbers": "strict",
          "coloraxis": {
           "colorbar": {
            "outlinewidth": 0,
            "ticks": ""
           }
          },
          "colorscale": {
           "diverging": [
            [
             0,
             "#8e0152"
            ],
            [
             0.1,
             "#c51b7d"
            ],
            [
             0.2,
             "#de77ae"
            ],
            [
             0.3,
             "#f1b6da"
            ],
            [
             0.4,
             "#fde0ef"
            ],
            [
             0.5,
             "#f7f7f7"
            ],
            [
             0.6,
             "#e6f5d0"
            ],
            [
             0.7,
             "#b8e186"
            ],
            [
             0.8,
             "#7fbc41"
            ],
            [
             0.9,
             "#4d9221"
            ],
            [
             1,
             "#276419"
            ]
           ],
           "sequential": [
            [
             0,
             "#0d0887"
            ],
            [
             0.1111111111111111,
             "#46039f"
            ],
            [
             0.2222222222222222,
             "#7201a8"
            ],
            [
             0.3333333333333333,
             "#9c179e"
            ],
            [
             0.4444444444444444,
             "#bd3786"
            ],
            [
             0.5555555555555556,
             "#d8576b"
            ],
            [
             0.6666666666666666,
             "#ed7953"
            ],
            [
             0.7777777777777778,
             "#fb9f3a"
            ],
            [
             0.8888888888888888,
             "#fdca26"
            ],
            [
             1,
             "#f0f921"
            ]
           ],
           "sequentialminus": [
            [
             0,
             "#0d0887"
            ],
            [
             0.1111111111111111,
             "#46039f"
            ],
            [
             0.2222222222222222,
             "#7201a8"
            ],
            [
             0.3333333333333333,
             "#9c179e"
            ],
            [
             0.4444444444444444,
             "#bd3786"
            ],
            [
             0.5555555555555556,
             "#d8576b"
            ],
            [
             0.6666666666666666,
             "#ed7953"
            ],
            [
             0.7777777777777778,
             "#fb9f3a"
            ],
            [
             0.8888888888888888,
             "#fdca26"
            ],
            [
             1,
             "#f0f921"
            ]
           ]
          },
          "colorway": [
           "#636efa",
           "#EF553B",
           "#00cc96",
           "#ab63fa",
           "#FFA15A",
           "#19d3f3",
           "#FF6692",
           "#B6E880",
           "#FF97FF",
           "#FECB52"
          ],
          "font": {
           "color": "#2a3f5f"
          },
          "geo": {
           "bgcolor": "white",
           "lakecolor": "white",
           "landcolor": "#E5ECF6",
           "showlakes": true,
           "showland": true,
           "subunitcolor": "white"
          },
          "hoverlabel": {
           "align": "left"
          },
          "hovermode": "closest",
          "mapbox": {
           "style": "light"
          },
          "paper_bgcolor": "white",
          "plot_bgcolor": "#E5ECF6",
          "polar": {
           "angularaxis": {
            "gridcolor": "white",
            "linecolor": "white",
            "ticks": ""
           },
           "bgcolor": "#E5ECF6",
           "radialaxis": {
            "gridcolor": "white",
            "linecolor": "white",
            "ticks": ""
           }
          },
          "scene": {
           "xaxis": {
            "backgroundcolor": "#E5ECF6",
            "gridcolor": "white",
            "gridwidth": 2,
            "linecolor": "white",
            "showbackground": true,
            "ticks": "",
            "zerolinecolor": "white"
           },
           "yaxis": {
            "backgroundcolor": "#E5ECF6",
            "gridcolor": "white",
            "gridwidth": 2,
            "linecolor": "white",
            "showbackground": true,
            "ticks": "",
            "zerolinecolor": "white"
           },
           "zaxis": {
            "backgroundcolor": "#E5ECF6",
            "gridcolor": "white",
            "gridwidth": 2,
            "linecolor": "white",
            "showbackground": true,
            "ticks": "",
            "zerolinecolor": "white"
           }
          },
          "shapedefaults": {
           "line": {
            "color": "#2a3f5f"
           }
          },
          "ternary": {
           "aaxis": {
            "gridcolor": "white",
            "linecolor": "white",
            "ticks": ""
           },
           "baxis": {
            "gridcolor": "white",
            "linecolor": "white",
            "ticks": ""
           },
           "bgcolor": "#E5ECF6",
           "caxis": {
            "gridcolor": "white",
            "linecolor": "white",
            "ticks": ""
           }
          },
          "title": {
           "x": 0.05
          },
          "xaxis": {
           "automargin": true,
           "gridcolor": "white",
           "linecolor": "white",
           "ticks": "",
           "title": {
            "standoff": 15
           },
           "zerolinecolor": "white",
           "zerolinewidth": 2
          },
          "yaxis": {
           "automargin": true,
           "gridcolor": "white",
           "linecolor": "white",
           "ticks": "",
           "title": {
            "standoff": 15
           },
           "zerolinecolor": "white",
           "zerolinewidth": 2
          }
         }
        },
        "title": {
         "text": "Deaths - cumulative total per 100,000 population"
        },
        "violinmode": "group",
        "xaxis": {
         "anchor": "y",
         "domain": [
          0,
          1
         ]
        },
        "yaxis": {
         "anchor": "x",
         "domain": [
          0,
          1
         ],
         "title": {
          "text": "Deaths - cumulative total per 100000 population"
         }
        }
       }
      },
      "text/html": [
       "<div>                            <div id=\"21ceed64-4cc1-46ef-b5e1-31af5c65acae\" class=\"plotly-graph-div\" style=\"height:525px; width:100%;\"></div>            <script type=\"text/javascript\">                require([\"plotly\"], function(Plotly) {                    window.PLOTLYENV=window.PLOTLYENV || {};                                    if (document.getElementById(\"21ceed64-4cc1-46ef-b5e1-31af5c65acae\")) {                    Plotly.newPlot(                        \"21ceed64-4cc1-46ef-b5e1-31af5c65acae\",                        [{\"alignmentgroup\":\"True\",\"box\":{\"visible\":true},\"hovertemplate\":\"%{customdata[0]}<br>%{customdata[8]}\",\"legendgroup\":\"\",\"marker\":{\"color\":\"#636efa\"},\"name\":\"\",\"offsetgroup\":\"\",\"orientation\":\"v\",\"points\":\"all\",\"scalegroup\":\"True\",\"showlegend\":false,\"x0\":\" \",\"xaxis\":\"x\",\"y\":[80.96805853,302.685,38.028,314.35,223.809,168.368,264.212,260.53,47.59,280.853,117.379,226.565,44.261,285.412,24.459,128.312,35.126,168.292,274.933,57.278,306.619,252.228,248.332,230.257,110.363,43.507,224.411,125.723,276.287,1.293,171.154,376.877,109.877,304.03,55.175,153.363,647.031,280.196,110.24,339.979,184.448,62.711,232.477,17.688,476.932,368.623,137.879,422.092,149.382,13.754,59.803,101.28,23.947,26.855,43.573,535.224,394.76,85.317,75.301,153.03,327.763,242.456,372.401,73.847,41.02,209.861,64.515,23.305,188.049,167.35,192.525,202.114,102.107,306.184,95.816,26.357,155.513,77.144,110.95,265.431,59.828,35.718,87.566,40.395,194.586,20.129,286.418,24.156,93.578,120.27,6.539,110.07,291.067,89.243,83.421,481.466,23.498,10.509,21.698,447.158,114.857,121.516,15.678,1.525,37.146,172.814,4.891,433.397,174.253,78.631,7.058,10.405,45.845,42.017,19.806,253.154,55.315,159.353,7.881,283.318,237.426,63.751,4.65,37.488,104.385,18.279,11.264,7.27,5.781,141.479,1.502,11.748,13.811,133.587,3.029,162.853,230.468,231.036,121.535,157.65,96.492,5.041,109.633,11.289,170.511,2.722,21.12,72.304,17.999,119.67,13.658,7.354,169.807,169.416,198.02,0.126,219.227,205.121,68.545,3.298,3.366,206.488,1.406,57.301,125.835,32.629,3.634,7.34,1.345,8.563,204.763,42.605,72.904,6.977,10.088,21.692,1.837,110.127,299.783,205.291,1.311,1.233,216.791,338.853,13.044,19.13,221.605,93.067,3.638,14.112,2.34,145.245,15.103,36.99,11.353,7.205,59.072,113.816,4.558,200.55,2.904,1.281,98.251,143.438,142.961,8.689,18.399,1.567,5.813,1.175,208.354,56.162,92.98,33.309,80.839,5.693,33.164,40.465,59.992,10.883,17.256,0.0,160.032,159.286,51.733,62.244,0.0,0.0,0.0,0.0,0.0,0.0,0.0,0.0,0.0,0.0,0.0],\"y0\":\" \",\"yaxis\":\"y\",\"type\":\"violin\",\"line\":{\"color\":\"black\"},\"customdata\":[[\"Global\",\"Global\",534495291,6857.303528,3485948,44.72294503,571825,6311088,80.96805853,8591,0.110218173,1082],[\"United States of America\",\"Americas\",84708007,25591.338,731052,220.86,114807,1001895,302.685,2340,0.707,297],[\"India\",\"South-East Asia\",43245517,3133.723,55235,4.003,8822,524792,38.028,77,0.006,15],[\"Brazil\",\"Americas\",31497038,14817.992,301920,142.04,40173,668180,314.35,1139,0.536,70],[\"France\",\"Europe\",29009234,44602.583,251844,387.218,65425,145564,223.809,293,0.45,57],[\"Germany\",\"Europe\",27007429,32473.845,393189,472.772,64479,140026,168.368,47,0.057,8],[\"The United Kingdom\",\"Europe\",22422615,33029.805,64264,94.665,8427,179363,264.212,179,0.264,6],[\"Russian Federation\",\"Europe\",18385098,12598.188,22993,15.756,2718,380203,260.53,467,0.32,66],[\"Republic of Korea\",\"Western Pacific\",18248479,35593.464,60294,117.603,9423,24399,47.59,94,0.183,9],[\"Italy\",\"Europe\",17703887,29683.845,160751,269.529,39844,167505,280.853,416,0.698,73],[\"Turkey\",\"Europe\",15085742,17887.016,7556,8.959,0,98996,117.379,20,0.024,0],[\"Spain\",\"Europe\",12515127,26440.811,44153,93.282,36133,107239,226.565,230,0.486,131],[\"Viet Nam\",\"Western Pacific\",10733285,11026.753,6280,6.452,856,43083,44.261,2,0.002,0],[\"Argentina\",\"Americas\",9313453,20606.911,36835,81.501,0,128994,285.412,21,0.046,0],[\"Japan\",\"Western Pacific\",9075966,7176.012,103312,81.685,14030,30935,24.459,138,0.109,25],[\"Netherlands\",\"Europe\",8110818,46593.585,15526,89.191,2887,22336,128.312,10,0.057,0],[\"Australia\",\"Western Pacific\",7583518,29739.422,112726,442.065,15418,8957,35.126,155,0.608,0],[\"Iran (Islamic Republic of)\",\"Eastern Mediterranean\",7234042,8612.678,1113,1.325,162,141353,168.292,14,0.017,1],[\"Colombia\",\"Americas\",6117847,12023.387,8742,17.181,0,139894,274.933,27,0.053,0],[\"Indonesia\",\"South-East Asia\",6063251,2216.719,5071,1.854,1242,156670,57.278,42,0.015,8],[\"Poland\",\"Europe\",6010643,15834.926,1438,3.788,232,116387,306.619,25,0.066,7],[\"Mexico\",\"Americas\",5825532,4518.272,21701,16.831,1688,325205,252.228,23,0.018,11],[\"Ukraine\",\"Europe\",5014929,11466.952,0,0.0,0,108605,248.332,0,0.0,0],[\"Portugal\",\"Europe\",4985742,48424.496,114410,1111.218,23364,23707,230.257,256,2.486,37],[\"Malaysia\",\"Western Pacific\",4530312,13997.133,12865,39.749,1922,35720,110.363,21,0.065,4],[\"Thailand\",\"South-East Asia\",4490760,6433.756,16893,24.202,2263,30368,43.507,129,0.185,0],[\"Austria\",\"Europe\",4335007,48702.121,27541,309.412,4335,19975,224.411,12,0.135,0],[\"Israel\",\"Europe\",4201869,48545.423,39735,459.07,7661,10882,125.723,6,0.069,0],[\"Belgium\",\"Europe\",4177440,36254.821,8932,77.518,0,31835,276.287,26,0.226,0],[\"China\",\"Western Pacific\",3994428,271.492,465700,31.653,66634,19020,1.293,1191,0.081,124],[\"South Africa\",\"Africa\",3979126,6709.179,8133,13.713,0,101509,171.154,112,0.189,0],[\"Czechia\",\"Europe\",3923943,36693.149,2069,19.347,450,40303,376.877,6,0.056,0],[\"Canada\",\"Americas\",3892409,10313.161,9188,24.344,0,41470,109.877,170,0.45,0],[\"Chile\",\"Americas\",3834020,20056.391,73129,382.55,4901,58119,304.03,122,0.638,10],[\"Philippines\",\"Western Pacific\",3693865,3370.897,1973,1.8,257,60461,55.175,5,0.005,0],[\"Switzerland\",\"Europe\",3684276,42570.059,13128,151.688,6,13273,153.363,0,0.0,0],[\"Peru\",\"Americas\",3591816,10893.582,6049,18.346,934,213338,647.031,69,0.209,14],[\"Greece\",\"Europe\",3508610,32733.953,29831,278.312,4210,30033,280.196,82,0.765,7],[\"Denmark\",\"Europe\",3148183,54066.824,7518,129.114,2364,6419,110.24,31,0.532,5],[\"Romania\",\"Europe\",2912878,15070.114,1708,8.837,0,65714,339.979,17,0.088,0],[\"Sweden\",\"Europe\",2510930,24312.838,874,8.463,0,19049,184.448,0,0.0,0],[\"Iraq\",\"Eastern Mediterranean\",2330393,5793.756,1436,3.57,344,25224,62.711,3,0.007,1],[\"Serbia\",\"Europe\",2020952,29176.239,1781,25.712,356,16103,232.477,9,0.13,2],[\"Bangladesh\",\"South-East Asia\",1954637,1186.863,883,0.536,232,29131,17.688,0,0.0,0],[\"Hungary\",\"Europe\",1923122,19684.906,1636,16.746,1636,46594,476.932,23,0.235,23],[\"Slovakia\",\"Europe\",1791639,32826.689,1042,19.092,213,20119,368.623,12,0.22,0],[\"Jordan\",\"Eastern Mediterranean\",1697673,16638.741,402,3.94,0,14068,137.879,0,0.0,0],[\"Georgia\",\"Europe\",1658755,41581.405,515,12.91,0,16838,422.092,3,0.075,0],[\"Ireland\",\"Europe\",1570519,31635.371,905,18.23,0,7416,149.382,5,0.101,0],[\"Pakistan\",\"Eastern Mediterranean\",1531327,693.246,513,0.232,54,30381,13.754,2,0.001,0],[\"Norway\",\"Europe\",1437344,26778.25,2192,40.838,264,3210,59.803,0,0.0,0],[\"Kazakhstan\",\"Europe\",1395085,7429.87,88,0.469,17,19017,101.28,1,0.005,0],[\"Singapore\",\"Western Pacific\",1348775,23054.635,23152,395.738,5130,1401,23.947,7,0.12,3],[\"New Zealand\",\"Western Pacific\",1248298,25886.306,40499,839.839,0,1295,26.855,79,1.638,0],[\"Morocco\",\"Eastern Mediterranean\",1177842,3191.071,6808,18.445,1677,16083,43.573,1,0.003,1],[\"Bulgaria\",\"Europe\",1167314,16792.304,998,14.357,167,37206,535.224,22,0.316,2],[\"Croatia\",\"Europe\",1140078,28093.436,1800,44.355,243,16020,394.76,16,0.394,1],[\"Finland\",\"Europe\",1114573,20172.201,836,15.13,0,4714,85.317,0,0.0,0],[\"Cuba\",\"Americas\",1105643,9761.459,153,1.351,12,8529,75.301,0,0.0,0],[\"Lebanon\",\"Eastern Mediterranean\",1101109,16132.413,1102,16.145,0,10445,153.03,6,0.088,0],[\"Lithuania\",\"Europe\",1064538,38099.632,1013,36.255,230,9158,327.763,7,0.251,3],[\"Tunisia\",\"Eastern Mediterranean\",1044426,8837.124,886,7.497,886,28655,242.456,7,0.059,7],[\"Slovenia\",\"Europe\",1028943,49094.048,2095,99.959,561,7805,372.401,0,0.0,0],[\"Belarus\",\"Europe\",982867,10401.456,0,0.0,0,6978,73.847,0,0.0,0],[\"Nepal\",\"South-East Asia\",979297,3361.03,74,0.254,19,11952,41.02,0,0.0,0],[\"Uruguay\",\"Americas\",943877,27171.858,8916,256.669,0,7290,209.861,28,0.806,0],[\"Mongolia\",\"Western Pacific\",926282,28255.035,0,0.0,0,2115,64.515,0,0.0,0],[\"United Arab Emirates\",\"Eastern Mediterranean\",920171,9303.676,8085,81.746,1356,2305,23.305,0,0.0,0],[\"Bolivia (Plurinational State of)\",\"Americas\",912869,7820.332,2353,20.158,396,21951,188.049,2,0.017,0],[\"Costa Rica\",\"Americas\",904934,17764.292,0,0.0,0,8525,167.35,0,0.0,0],[\"Panama\",\"Americas\",892455,20683.736,16969,393.277,1106,8307,192.525,31,0.718,8],[\"Ecuador\",\"Americas\",890852,5049.307,5534,31.366,311,35659,202.114,10,0.057,1],[\"Guatemala\",\"Americas\",871263,4863.161,6495,36.253,151,18293,102.107,69,0.385,6],[\"Latvia\",\"Europe\",830977,43559.673,1337,70.085,0,5841,306.184,7,0.367,0],[\"Azerbaijan\",\"Europe\",792903,7820.192,83,0.819,19,9715,95.816,1,0.01,0],[\"Saudi Arabia\",\"Eastern Mediterranean\",780135,2240.874,6914,19.86,1152,9176,26.357,16,0.046,1],[\"Puerto Rico\",\"Americas\",718965,25131.141,23622,825.698,390,4449,155.513,41,1.433,9],[\"Sri Lanka\",\"South-East Asia\",663965,3100.72,64,0.299,0,16519,77.144,1,0.005,0],[\"occupied Palestinian territory, including east Jerusalem\",\"Eastern Mediterranean\",658100,12900.345,221,4.332,221,5660,110.95,0,0.0,0],[\"Paraguay\",\"Americas\",652044,9141.823,776,10.88,0,18932,265.431,21,0.294,0],[\"Kuwait\",\"Eastern Mediterranean\",637061,14917.467,2524,59.102,409,2555,59.828,0,0.0,0],[\"Myanmar\",\"South-East Asia\",613460,1127.481,55,0.101,0,19434,35.718,0,0.0,0],[\"Bahrain\",\"Eastern Mediterranean\",598552,35176.351,7746,455.225,1368,1490,87.566,1,0.059,1],[\"Dominican Republic\",\"Americas\",592578,5462.601,4170,38.441,0,4382,40.395,3,0.028,0],[\"Estonia\",\"Europe\",578494,43529.304,633,47.631,0,2586,194.586,5,0.376,0],[\"Venezuela (Bolivarian Republic of)\",\"Americas\",524321,1843.867,384,1.35,30,5724,20.129,2,0.007,0],[\"Republic of Moldova\",\"Europe\",519452,12876.965,224,5.553,224,11554,286.418,3,0.074,3],[\"Egypt\",\"Eastern Mediterranean\",514008,502.283,33,0.032,0,24720,24.156,1,0.001,0],[\"Libya\",\"Eastern Mediterranean\",502076,7306.865,36,0.524,0,6430,93.578,0,0.0,0],[\"Cyprus\",\"Europe\",493984,55628.516,2207,248.535,0,1068,120.27,1,0.113,0],[\"Ethiopia\",\"Africa\",479484,417.075,3720,3.236,0,7517,6.539,2,0.002,0],[\"Honduras\",\"Americas\",425655,4297.546,184,1.858,0,10902,110.07,2,0.02,0],[\"Armenia\",\"Europe\",423044,14276.429,38,1.282,0,8625,291.067,0,0.0,0],[\"R\\u00e9union\",\"Africa\",419968,46907.447,1383,154.471,0,799,89.243,3,0.335,0],[\"Oman\",\"Eastern Mediterranean\",389758,7632.398,0,0.0,0,4260,83.421,0,0.0,0],[\"Bosnia and Herzegovina\",\"Europe\",378138,11525.734,116,3.536,26,15796,481.466,5,0.152,1],[\"Qatar\",\"Eastern Mediterranean\",373178,12952.834,2627,91.182,474,677,23.498,0,0.0,0],[\"Kenya\",\"Africa\",327145,608.401,1348,2.507,0,5651,10.509,0,0.0,0],[\"Zambia\",\"Africa\",323337,1758.8,775,4.216,0,3989,21.698,0,0.0,0],[\"North Macedonia\",\"Europe\",312673,15007.968,328,15.744,66,9316,447.158,4,0.192,0],[\"Botswana\",\"Africa\",310419,13200.18,0,0.0,0,2701,114.857,0,0.0,0],[\"Albania\",\"Europe\",276821,9619.188,353,12.266,83,3497,121.516,0,0.0,0],[\"Algeria\",\"Africa\",265937,606.455,33,0.075,0,6875,15.678,0,0.0,0],[\"Nigeria\",\"Africa\",256352,124.358,125,0.061,0,3144,1.525,1,0.0,0],[\"Zimbabwe\",\"Africa\",254155,1709.993,518,3.485,0,5521,37.146,6,0.04,0],[\"Luxembourg\",\"Europe\",253318,40459.154,3422,546.551,625,1082,172.814,1,0.16,0],[\"Uzbekistan\",\"Europe\",239319,715.043,160,0.478,39,1637,4.891,0,0.0,0],[\"Montenegro\",\"Europe\",238037,37900.239,407,64.803,94,2722,433.397,2,0.318,0],[\"Kosovo[1]\",\"Europe\",228407,12719.904,53,2.952,8,3129,174.253,0,0.0,0],[\"Mauritius\",\"Africa\",227442,17883.922,0,0.0,0,1000,78.631,0,0.0,0],[\"Mozambique\",\"Africa\",226481,724.613,416,1.331,0,2206,7.058,1,0.003,0],[\"Lao People's Democratic Republic\",\"Western Pacific\",210164,2888.63,66,0.907,6,757,10.405,1,0.014,0],[\"Kyrgyzstan\",\"Europe\",200993,3080.734,0,0.0,0,2991,45.845,0,0.0,0],[\"Iceland\",\"Europe\",190643,52355.177,1169,321.036,215,153,42.017,0,0.0,0],[\"Afghanistan\",\"Eastern Mediterranean\",181236,465.563,452,1.161,58,7710,19.806,1,0.003,0],[\"Martinique\",\"Americas\",180883,48201.404,8000,2131.827,0,950,253.154,8,2.132,0],[\"Maldives\",\"South-East Asia\",179979,33295.902,62,11.47,0,299,55.315,0,0.0,0],[\"Namibia\",\"Africa\",165507,6513.703,799,31.445,0,4049,159.353,9,0.354,0],[\"Uganda\",\"Africa\",165251,361.275,310,0.678,0,3605,7.881,2,0.004,0],[\"Trinidad and Tobago\",\"Americas\",164829,11777.807,1884,134.621,106,3965,283.318,22,1.572,2],[\"Guadeloupe\",\"Americas\",164325,41068.519,2135,533.585,0,950,237.426,1,0.25,0],[\"El Salvador\",\"Americas\",164134,2530.509,0,0.0,0,4135,63.751,2,0.031,0],[\"Ghana\",\"Africa\",161935,521.145,0,0.0,0,1445,4.65,0,0.0,0],[\"Brunei Darussalam\",\"Western Pacific\",154133,35232.091,2972,679.347,522,164,37.488,2,0.457,0],[\"Jamaica\",\"Americas\",140754,4753.329,1551,52.378,84,3091,104.385,15,0.507,7],[\"Cambodia\",\"Western Pacific\",136262,815.015,0,0.0,0,3056,18.279,0,0.0,0],[\"Rwanda\",\"Africa\",130382,1006.638,149,1.15,0,1459,11.264,0,0.0,0],[\"Cameroon\",\"Africa\",119947,451.848,0,0.0,0,1930,7.27,0,0.0,0],[\"Angola\",\"Africa\",99761,303.536,0,0.0,0,1900,5.781,0,0.0,0],[\"Malta\",\"Europe\",96490,18751.798,1125,218.632,200,728,141.479,5,0.972,1],[\"Democratic Republic of the Congo\",\"Africa\",89932,100.414,0,0.0,0,1345,1.502,0,0.0,0],[\"Senegal\",\"Africa\",86150,514.515,10,0.06,0,1967,11.748,0,0.0,0],[\"Malawi\",\"Africa\",86107,450.116,85,0.444,0,2642,13.811,0,0.0,0],[\"French Guiana\",\"Americas\",84507,28293.302,836,279.896,0,399,133.587,2,0.67,0],[\"C\\u00f4te d\\u2019Ivoire\",\"Africa\",82492,312.727,176,0.667,0,799,3.029,0,0.0,0],[\"Barbados\",\"Americas\",82318,28644.802,800,278.382,63,468,162.853,5,1.74,1],[\"Suriname\",\"Americas\",80673,13751.892,126,21.479,0,1352,230.468,2,0.341,0],[\"French Polynesia\",\"Western Pacific\",73124,26031.299,62,22.071,18,649,231.036,0,0.0,0],[\"Eswatini\",\"Africa\",72904,6283.939,155,13.36,0,1410,121.535,0,0.0,0],[\"Guyana\",\"Americas\",65926,8381.645,632,80.351,34,1240,157.65,2,0.254,1],[\"Fiji\",\"Western Pacific\",65217,7275.07,114,12.717,0,865,96.492,1,0.112,0],[\"Madagascar\",\"Africa\",64685,233.596,207,0.748,0,1396,5.041,0,0.0,0],[\"New Caledonia\",\"Western Pacific\",63002,22067.405,379,132.75,379,313,109.633,0,0.0,0],[\"Sudan\",\"Eastern Mediterranean\",62489,142.509,45,0.103,4,4950,11.289,0,0.0,0],[\"Belize\",\"Americas\",61150,15378.696,1087,273.371,287,678,170.511,0,0.0,0],[\"Bhutan\",\"South-East Asia\",59644,7729.832,8,1.037,0,21,2.722,0,0.0,0],[\"Mauritania\",\"Africa\",59247,1274.223,35,0.753,0,982,21.12,0,0.0,0],[\"Cabo Verde\",\"Africa\",57096,10269.305,358,64.39,0,402,72.304,0,0.0,0],[\"Syrian Arab Republic\",\"Eastern Mediterranean\",55908,319.462,8,0.046,1,3150,17.999,0,0.0,0],[\"Jersey\",\"Europe\",51132,47434.042,139,128.947,0,129,119.67,0,0.0,0],[\"Gabon\",\"Africa\",47711,2143.607,34,1.528,0,304,13.658,0,0.0,0],[\"Papua New Guinea\",\"Western Pacific\",44675,499.328,32,0.358,13,658,7.354,1,0.011,0],[\"Seychelles\",\"Africa\",44397,45143.217,102,103.714,0,167,169.807,0,0.0,0],[\"Cura\\u00e7ao\",\"Americas\",44314,27005.418,187,113.96,187,278,169.416,1,0.609,1],[\"Andorra\",\"Europe\",43224,55942.535,157,203.197,0,153,198.02,0,0.0,0],[\"Burundi\",\"Africa\",42330,355.99,82,0.69,0,15,0.126,0,0.0,0],[\"Guam\",\"Western Pacific\",42029,24902.385,479,283.81,0,370,219.227,4,2.37,1],[\"Aruba\",\"Americas\",39339,36846.0,1038,972.22,1038,219,205.121,3,2.81,3],[\"Mayotte\",\"Africa\",37751,13837.582,94,34.456,0,187,68.545,0,0.0,0],[\"Togo\",\"Africa\",37196,449.296,54,0.652,0,273,3.298,0,0.0,0],[\"Guinea\",\"Africa\",36817,280.344,0,0.0,0,442,3.366,0,0.0,0],[\"Bahamas\",\"Americas\",35351,8989.584,252,64.082,0,812,206.488,1,0.254,0],[\"United Republic of Tanzania\",\"Africa\",35159,58.859,171,0.286,0,840,1.406,0,0.0,0],[\"Faroe Islands\",\"Europe\",34658,70926.021,0,0.0,0,28,57.301,0,0.0,0],[\"Isle of Man\",\"Europe\",33821,39774.438,723,850.268,570,107,125.835,0,0.0,0],[\"Lesotho\",\"Africa\",33746,1575.26,0,0.0,0,699,32.629,0,0.0,0],[\"Mali\",\"Africa\",31127,153.707,12,0.059,0,736,3.634,1,0.005,0],[\"Haiti\",\"Americas\",31054,272.343,50,0.438,0,837,7.34,0,0.0,0],[\"Benin\",\"Africa\",26914,222.004,0,0.0,0,163,1.345,0,0.0,0],[\"Somalia\",\"Eastern Mediterranean\",26675,167.839,110,0.692,0,1361,8.563,0,0.0,0],[\"Saint Lucia\",\"Americas\",26584,14477.174,350,190.604,20,376,204.763,5,2.723,5],[\"Cayman Islands\",\"Americas\",26325,40056.299,439,667.985,439,28,42.605,0,0.0,0],[\"Guernsey\",\"Europe\",26131,40533.288,257,398.647,257,47,72.904,0,0.0,0],[\"Congo\",\"Africa\",24128,437.253,0,0.0,0,385,6.977,0,0.0,0],[\"Timor-Leste\",\"South-East Asia\",22944,1740.232,15,1.138,4,133,10.088,0,0.0,0],[\"Solomon Islands\",\"Western Pacific\",21237,3091.788,0,0.0,0,149,21.692,0,0.0,0],[\"Burkina Faso\",\"Africa\",20899,99.98,0,0.0,0,384,1.837,0,0.0,0],[\"United States Virgin Islands\",\"Americas\",20516,19646.636,287,274.838,44,115,110.127,1,0.958,0],[\"Gibraltar\",\"Europe\",18806,55819.061,215,638.153,0,101,299.783,0,0.0,0],[\"Grenada\",\"Americas\",18115,16098.931,167,148.414,80,231,205.291,0,0.0,0],[\"Tajikistan\",\"Europe\",17786,186.482,0,0.0,0,125,1.311,0,0.0,0],[\"South Sudan\",\"Africa\",17659,157.758,18,0.161,0,138,1.233,0,0.0,0],[\"Liechtenstein\",\"Europe\",17619,45471.908,64,165.174,0,84,216.791,0,0.0,0],[\"San Marino\",\"Europe\",17376,51199.246,146,430.196,31,115,338.853,0,0.0,0],[\"Equatorial Guinea\",\"Africa\",15945,1136.505,21,1.497,0,183,13.044,0,0.0,0],[\"Djibouti\",\"Eastern Mediterranean\",15690,1588.057,4,0.405,0,189,19.13,0,0.0,0],[\"Bermuda\",\"Americas\",15428,24774.782,343,550.801,0,138,221.605,0,0.0,0],[\"Dominica\",\"Americas\",14638,20333.097,343,476.448,0,67,93.067,0,0.0,0],[\"Nicaragua\",\"Americas\",14619,220.679,42,0.634,42,241,3.638,1,0.015,1],[\"Samoa\",\"Western Pacific\",14422,7268.64,235,118.439,107,28,14.112,1,0.504,0],[\"Central African Republic\",\"Africa\",14371,297.551,0,0.0,0,113,2.34,0,0.0,0],[\"Monaco\",\"Europe\",12545,31966.67,185,471.41,31,57,145.245,0,0.0,0],[\"Gambia\",\"Africa\",12002,496.634,0,0.0,0,365,15.103,0,0.0,0],[\"Greenland\",\"Europe\",11971,21086.099,0,0.0,0,21,36.99,0,0.0,0],[\"Tonga\",\"Western Pacific\",11909,11267.326,0,0.0,0,12,11.353,0,0.0,0],[\"Yemen\",\"Eastern Mediterranean\",11822,39.637,0,0.0,0,2149,7.205,0,0.0,0],[\"Northern Mariana Islands (Commonwealth of the)\",\"Western Pacific\",11482,19948.92,79,137.255,0,34,59.072,0,0.0,0],[\"Saint Martin\",\"Americas\",10800,27936.574,74,191.417,0,44,113.816,0,0.0,0],[\"Vanuatu\",\"Western Pacific\",10695,3482.069,361,117.534,0,14,4.558,0,0.0,0],[\"Sint Maarten\",\"Americas\",10508,24504.454,74,172.567,74,86,200.55,0,0.0,0],[\"Eritrea\",\"Africa\",9771,275.517,3,0.085,0,103,2.904,0,0.0,0],[\"Niger\",\"Africa\",9031,37.308,0,0.0,0,310,1.281,0,0.0,0],[\"Saint Vincent and the Grenadines\",\"Americas\",8929,8048.495,122,109.969,13,109,98.251,1,0.901,1],[\"Bonaire\",\"Americas\",8696,41577.815,46,219.938,46,30,143.438,0,0.0,0],[\"Antigua and Barbuda\",\"Americas\",8531,8711.413,153,156.236,39,140,142.961,2,2.042,0],[\"Guinea-Bissau\",\"Africa\",8306,422.053,9,0.457,0,171,8.689,0,0.0,0],[\"Comoros\",\"Africa\",8131,935.027,0,0.0,0,160,18.399,0,0.0,0],[\"Sierra Leone\",\"Africa\",7682,96.302,0,0.0,0,125,1.567,0,0.0,0],[\"Liberia\",\"Africa\",7460,147.498,1,0.02,0,294,5.813,0,0.0,0],[\"Chad\",\"Africa\",7420,45.173,2,0.012,0,193,1.175,0,0.0,0],[\"British Virgin Islands\",\"Americas\",6902,22826.339,137,453.087,0,63,208.354,1,3.307,0],[\"American Samoa\",\"Western Pacific\",6270,11359.313,78,141.312,78,31,56.162,0,0.0,0],[\"Turks and Caicos Islands\",\"Americas\",6160,15909.913,12,30.993,0,36,92.98,0,0.0,0],[\"Sao Tome and Principe\",\"Africa\",6010,2742.301,7,3.194,0,73,33.309,0,0.0,0],[\"Saint Kitts and Nevis\",\"Americas\",5861,11018.574,50,93.999,9,43,80.839,0,0.0,0],[\"Cook Islands\",\"Western Pacific\",5720,32566.614,9,51.241,3,1,5.693,0,0.0,0],[\"Palau\",\"Western Pacific\",5165,28548.53,39,215.565,20,6,33.164,0,0.0,0],[\"Saint Barth\\u00e9lemy\",\"Americas\",4646,47000.506,32,323.723,0,4,40.465,0,0.0,0],[\"Anguilla\",\"Americas\",3374,22490.335,80,533.262,32,9,59.992,0,0.0,0],[\"Kiribati\",\"Western Pacific\",3215,2691.525,32,26.79,6,13,10.883,0,0.0,0],[\"Saint Pierre and Miquelon\",\"Americas\",2765,47713.546,3,51.769,0,1,17.256,0,0.0,0],[\"Falkland Islands (Malvinas)\",\"Americas\",1733,49755.958,16,459.374,0,0,0.0,0,0.0,0],[\"Montserrat\",\"Americas\",1012,20244.049,9,180.036,0,8,160.032,0,0.0,0],[\"Sint Eustatius\",\"Americas\",945,30105.129,8,254.858,8,5,159.286,0,0.0,0],[\"Saba\",\"Americas\",608,31453.699,1,51.733,1,1,51.733,1,51.733,0],[\"Wallis and Futuna\",\"Western Pacific\",454,4036.991,0,0.0,0,7,62.244,0,0.0,0],[\"Micronesia (Federated States of)\",\"Western Pacific\",34,29.559,0,0.0,0,0,0.0,0,0.0,0],[\"Holy See\",\"Europe\",26,3213.844,0,0.0,0,0,0.0,0,0.0,0],[\"Marshall Islands\",\"Western Pacific\",18,30.408,0,0.0,0,0,0.0,0,0.0,0],[\"Niue\",\"Western Pacific\",9,556.242,0,0.0,0,0,0.0,0,0.0,0],[\"Nauru\",\"Western Pacific\",3,27.691,0,0.0,0,0,0.0,0,0.0,0],[\"Tuvalu\",\"Western Pacific\",3,25.441,0,0.0,0,0,0.0,0,0.0,0],[\"Democratic People's Republic of Korea\",\"South-East Asia\",0,0.0,0,0.0,0,0,0.0,0,0.0,0],[\"Pitcairn Islands\",\"Western Pacific\",0,0.0,0,0.0,0,0,0.0,0,0.0,0],[\"Saint Helena\",\"Africa\",0,0.0,0,0.0,0,0,0.0,0,0.0,0],[\"Tokelau\",\"Western Pacific\",0,0.0,0,0.0,0,0,0.0,0,0.0,0],[\"Turkmenistan\",\"Europe\",0,0.0,0,0.0,0,0,0.0,0,0.0,0]],\"fillcolor\":\"red\"}],                        {\"template\":{\"data\":{\"bar\":[{\"error_x\":{\"color\":\"#2a3f5f\"},\"error_y\":{\"color\":\"#2a3f5f\"},\"marker\":{\"line\":{\"color\":\"#E5ECF6\",\"width\":0.5},\"pattern\":{\"fillmode\":\"overlay\",\"size\":10,\"solidity\":0.2}},\"type\":\"bar\"}],\"barpolar\":[{\"marker\":{\"line\":{\"color\":\"#E5ECF6\",\"width\":0.5},\"pattern\":{\"fillmode\":\"overlay\",\"size\":10,\"solidity\":0.2}},\"type\":\"barpolar\"}],\"carpet\":[{\"aaxis\":{\"endlinecolor\":\"#2a3f5f\",\"gridcolor\":\"white\",\"linecolor\":\"white\",\"minorgridcolor\":\"white\",\"startlinecolor\":\"#2a3f5f\"},\"baxis\":{\"endlinecolor\":\"#2a3f5f\",\"gridcolor\":\"white\",\"linecolor\":\"white\",\"minorgridcolor\":\"white\",\"startlinecolor\":\"#2a3f5f\"},\"type\":\"carpet\"}],\"choropleth\":[{\"colorbar\":{\"outlinewidth\":0,\"ticks\":\"\"},\"type\":\"choropleth\"}],\"contour\":[{\"colorbar\":{\"outlinewidth\":0,\"ticks\":\"\"},\"colorscale\":[[0.0,\"#0d0887\"],[0.1111111111111111,\"#46039f\"],[0.2222222222222222,\"#7201a8\"],[0.3333333333333333,\"#9c179e\"],[0.4444444444444444,\"#bd3786\"],[0.5555555555555556,\"#d8576b\"],[0.6666666666666666,\"#ed7953\"],[0.7777777777777778,\"#fb9f3a\"],[0.8888888888888888,\"#fdca26\"],[1.0,\"#f0f921\"]],\"type\":\"contour\"}],\"contourcarpet\":[{\"colorbar\":{\"outlinewidth\":0,\"ticks\":\"\"},\"type\":\"contourcarpet\"}],\"heatmap\":[{\"colorbar\":{\"outlinewidth\":0,\"ticks\":\"\"},\"colorscale\":[[0.0,\"#0d0887\"],[0.1111111111111111,\"#46039f\"],[0.2222222222222222,\"#7201a8\"],[0.3333333333333333,\"#9c179e\"],[0.4444444444444444,\"#bd3786\"],[0.5555555555555556,\"#d8576b\"],[0.6666666666666666,\"#ed7953\"],[0.7777777777777778,\"#fb9f3a\"],[0.8888888888888888,\"#fdca26\"],[1.0,\"#f0f921\"]],\"type\":\"heatmap\"}],\"heatmapgl\":[{\"colorbar\":{\"outlinewidth\":0,\"ticks\":\"\"},\"colorscale\":[[0.0,\"#0d0887\"],[0.1111111111111111,\"#46039f\"],[0.2222222222222222,\"#7201a8\"],[0.3333333333333333,\"#9c179e\"],[0.4444444444444444,\"#bd3786\"],[0.5555555555555556,\"#d8576b\"],[0.6666666666666666,\"#ed7953\"],[0.7777777777777778,\"#fb9f3a\"],[0.8888888888888888,\"#fdca26\"],[1.0,\"#f0f921\"]],\"type\":\"heatmapgl\"}],\"histogram\":[{\"marker\":{\"pattern\":{\"fillmode\":\"overlay\",\"size\":10,\"solidity\":0.2}},\"type\":\"histogram\"}],\"histogram2d\":[{\"colorbar\":{\"outlinewidth\":0,\"ticks\":\"\"},\"colorscale\":[[0.0,\"#0d0887\"],[0.1111111111111111,\"#46039f\"],[0.2222222222222222,\"#7201a8\"],[0.3333333333333333,\"#9c179e\"],[0.4444444444444444,\"#bd3786\"],[0.5555555555555556,\"#d8576b\"],[0.6666666666666666,\"#ed7953\"],[0.7777777777777778,\"#fb9f3a\"],[0.8888888888888888,\"#fdca26\"],[1.0,\"#f0f921\"]],\"type\":\"histogram2d\"}],\"histogram2dcontour\":[{\"colorbar\":{\"outlinewidth\":0,\"ticks\":\"\"},\"colorscale\":[[0.0,\"#0d0887\"],[0.1111111111111111,\"#46039f\"],[0.2222222222222222,\"#7201a8\"],[0.3333333333333333,\"#9c179e\"],[0.4444444444444444,\"#bd3786\"],[0.5555555555555556,\"#d8576b\"],[0.6666666666666666,\"#ed7953\"],[0.7777777777777778,\"#fb9f3a\"],[0.8888888888888888,\"#fdca26\"],[1.0,\"#f0f921\"]],\"type\":\"histogram2dcontour\"}],\"mesh3d\":[{\"colorbar\":{\"outlinewidth\":0,\"ticks\":\"\"},\"type\":\"mesh3d\"}],\"parcoords\":[{\"line\":{\"colorbar\":{\"outlinewidth\":0,\"ticks\":\"\"}},\"type\":\"parcoords\"}],\"pie\":[{\"automargin\":true,\"type\":\"pie\"}],\"scatter\":[{\"marker\":{\"colorbar\":{\"outlinewidth\":0,\"ticks\":\"\"}},\"type\":\"scatter\"}],\"scatter3d\":[{\"line\":{\"colorbar\":{\"outlinewidth\":0,\"ticks\":\"\"}},\"marker\":{\"colorbar\":{\"outlinewidth\":0,\"ticks\":\"\"}},\"type\":\"scatter3d\"}],\"scattercarpet\":[{\"marker\":{\"colorbar\":{\"outlinewidth\":0,\"ticks\":\"\"}},\"type\":\"scattercarpet\"}],\"scattergeo\":[{\"marker\":{\"colorbar\":{\"outlinewidth\":0,\"ticks\":\"\"}},\"type\":\"scattergeo\"}],\"scattergl\":[{\"marker\":{\"colorbar\":{\"outlinewidth\":0,\"ticks\":\"\"}},\"type\":\"scattergl\"}],\"scattermapbox\":[{\"marker\":{\"colorbar\":{\"outlinewidth\":0,\"ticks\":\"\"}},\"type\":\"scattermapbox\"}],\"scatterpolar\":[{\"marker\":{\"colorbar\":{\"outlinewidth\":0,\"ticks\":\"\"}},\"type\":\"scatterpolar\"}],\"scatterpolargl\":[{\"marker\":{\"colorbar\":{\"outlinewidth\":0,\"ticks\":\"\"}},\"type\":\"scatterpolargl\"}],\"scatterternary\":[{\"marker\":{\"colorbar\":{\"outlinewidth\":0,\"ticks\":\"\"}},\"type\":\"scatterternary\"}],\"surface\":[{\"colorbar\":{\"outlinewidth\":0,\"ticks\":\"\"},\"colorscale\":[[0.0,\"#0d0887\"],[0.1111111111111111,\"#46039f\"],[0.2222222222222222,\"#7201a8\"],[0.3333333333333333,\"#9c179e\"],[0.4444444444444444,\"#bd3786\"],[0.5555555555555556,\"#d8576b\"],[0.6666666666666666,\"#ed7953\"],[0.7777777777777778,\"#fb9f3a\"],[0.8888888888888888,\"#fdca26\"],[1.0,\"#f0f921\"]],\"type\":\"surface\"}],\"table\":[{\"cells\":{\"fill\":{\"color\":\"#EBF0F8\"},\"line\":{\"color\":\"white\"}},\"header\":{\"fill\":{\"color\":\"#C8D4E3\"},\"line\":{\"color\":\"white\"}},\"type\":\"table\"}]},\"layout\":{\"annotationdefaults\":{\"arrowcolor\":\"#2a3f5f\",\"arrowhead\":0,\"arrowwidth\":1},\"autotypenumbers\":\"strict\",\"coloraxis\":{\"colorbar\":{\"outlinewidth\":0,\"ticks\":\"\"}},\"colorscale\":{\"diverging\":[[0,\"#8e0152\"],[0.1,\"#c51b7d\"],[0.2,\"#de77ae\"],[0.3,\"#f1b6da\"],[0.4,\"#fde0ef\"],[0.5,\"#f7f7f7\"],[0.6,\"#e6f5d0\"],[0.7,\"#b8e186\"],[0.8,\"#7fbc41\"],[0.9,\"#4d9221\"],[1,\"#276419\"]],\"sequential\":[[0.0,\"#0d0887\"],[0.1111111111111111,\"#46039f\"],[0.2222222222222222,\"#7201a8\"],[0.3333333333333333,\"#9c179e\"],[0.4444444444444444,\"#bd3786\"],[0.5555555555555556,\"#d8576b\"],[0.6666666666666666,\"#ed7953\"],[0.7777777777777778,\"#fb9f3a\"],[0.8888888888888888,\"#fdca26\"],[1.0,\"#f0f921\"]],\"sequentialminus\":[[0.0,\"#0d0887\"],[0.1111111111111111,\"#46039f\"],[0.2222222222222222,\"#7201a8\"],[0.3333333333333333,\"#9c179e\"],[0.4444444444444444,\"#bd3786\"],[0.5555555555555556,\"#d8576b\"],[0.6666666666666666,\"#ed7953\"],[0.7777777777777778,\"#fb9f3a\"],[0.8888888888888888,\"#fdca26\"],[1.0,\"#f0f921\"]]},\"colorway\":[\"#636efa\",\"#EF553B\",\"#00cc96\",\"#ab63fa\",\"#FFA15A\",\"#19d3f3\",\"#FF6692\",\"#B6E880\",\"#FF97FF\",\"#FECB52\"],\"font\":{\"color\":\"#2a3f5f\"},\"geo\":{\"bgcolor\":\"white\",\"lakecolor\":\"white\",\"landcolor\":\"#E5ECF6\",\"showlakes\":true,\"showland\":true,\"subunitcolor\":\"white\"},\"hoverlabel\":{\"align\":\"left\"},\"hovermode\":\"closest\",\"mapbox\":{\"style\":\"light\"},\"paper_bgcolor\":\"white\",\"plot_bgcolor\":\"#E5ECF6\",\"polar\":{\"angularaxis\":{\"gridcolor\":\"white\",\"linecolor\":\"white\",\"ticks\":\"\"},\"bgcolor\":\"#E5ECF6\",\"radialaxis\":{\"gridcolor\":\"white\",\"linecolor\":\"white\",\"ticks\":\"\"}},\"scene\":{\"xaxis\":{\"backgroundcolor\":\"#E5ECF6\",\"gridcolor\":\"white\",\"gridwidth\":2,\"linecolor\":\"white\",\"showbackground\":true,\"ticks\":\"\",\"zerolinecolor\":\"white\"},\"yaxis\":{\"backgroundcolor\":\"#E5ECF6\",\"gridcolor\":\"white\",\"gridwidth\":2,\"linecolor\":\"white\",\"showbackground\":true,\"ticks\":\"\",\"zerolinecolor\":\"white\"},\"zaxis\":{\"backgroundcolor\":\"#E5ECF6\",\"gridcolor\":\"white\",\"gridwidth\":2,\"linecolor\":\"white\",\"showbackground\":true,\"ticks\":\"\",\"zerolinecolor\":\"white\"}},\"shapedefaults\":{\"line\":{\"color\":\"#2a3f5f\"}},\"ternary\":{\"aaxis\":{\"gridcolor\":\"white\",\"linecolor\":\"white\",\"ticks\":\"\"},\"baxis\":{\"gridcolor\":\"white\",\"linecolor\":\"white\",\"ticks\":\"\"},\"bgcolor\":\"#E5ECF6\",\"caxis\":{\"gridcolor\":\"white\",\"linecolor\":\"white\",\"ticks\":\"\"}},\"title\":{\"x\":0.05},\"xaxis\":{\"automargin\":true,\"gridcolor\":\"white\",\"linecolor\":\"white\",\"ticks\":\"\",\"title\":{\"standoff\":15},\"zerolinecolor\":\"white\",\"zerolinewidth\":2},\"yaxis\":{\"automargin\":true,\"gridcolor\":\"white\",\"linecolor\":\"white\",\"ticks\":\"\",\"title\":{\"standoff\":15},\"zerolinecolor\":\"white\",\"zerolinewidth\":2}}},\"xaxis\":{\"anchor\":\"y\",\"domain\":[0.0,1.0]},\"yaxis\":{\"anchor\":\"x\",\"domain\":[0.0,1.0],\"title\":{\"text\":\"Deaths - cumulative total per 100000 population\"}},\"legend\":{\"tracegroupgap\":0},\"title\":{\"text\":\"Deaths - cumulative total per 100,000 population\"},\"violinmode\":\"group\"},                        {\"responsive\": true}                    ).then(function(){\n",
       "                            \n",
       "var gd = document.getElementById('21ceed64-4cc1-46ef-b5e1-31af5c65acae');\n",
       "var x = new MutationObserver(function (mutations, observer) {{\n",
       "        var display = window.getComputedStyle(gd).display;\n",
       "        if (!display || display === 'none') {{\n",
       "            console.log([gd, 'removed!']);\n",
       "            Plotly.purge(gd);\n",
       "            observer.disconnect();\n",
       "        }}\n",
       "}});\n",
       "\n",
       "// Listen for the removal of the full notebook cells\n",
       "var notebookContainer = gd.closest('#notebook-container');\n",
       "if (notebookContainer) {{\n",
       "    x.observe(notebookContainer, {childList: true});\n",
       "}}\n",
       "\n",
       "// Listen for the clearing of the current output cell\n",
       "var outputEl = gd.closest('.output');\n",
       "if (outputEl) {{\n",
       "    x.observe(outputEl, {childList: true});\n",
       "}}\n",
       "\n",
       "                        })                };                });            </script>        </div>"
      ]
     },
     "metadata": {},
     "output_type": "display_data"
    }
   ],
   "source": [
    "fig = px.violin(df_covidstats['Deaths - cumulative total per 100000 population'], y=\"Deaths - cumulative total per 100000 population\", box=True, points='all', title=\"Deaths - cumulative total per 100,000 population\")\n",
    "fig.update_traces(fillcolor='red', line_color='black', customdata=df_covidstats, hovertemplate ='%{customdata[0]}<br>%{customdata[8]}')\n",
    "fig.show()\n",
    "\n",
    "#Peru has the highest value data point for cumulative deaths per 100,000 (647.03).\n",
    "#This is worth exploring further\n",
    "#Most of the other data points are accumulated towards the lower end of the violin plot signifying that a large number of countries recorded relatively lower death rates than others."
   ]
  },
  {
   "attachments": {
    "Deaths%20per%20100000.png": {
     "image/png": "[encoded data removed]"
    }
   },
   "cell_type": "markdown",
   "metadata": {},
   "source": [
    "![Deaths%20per%20100000.png](attachment:Deaths%20per%20100000.png)\n",
    "\n"
   ]
  },
  {
   "attachments": {
    "violin%20plot%20interpretation.png": {
     "image/png": "[encoded data removed]"
    }
   },
   "cell_type": "markdown",
   "metadata": {},
   "source": [
    "### Both datasets contain max values that are significantly higher than the rest of the dataset. This can be considered as potential outliers. However I will leave them in for further analysis as this information can be useful when comparing cases, death rates and vaccination rates together. These max values can be legitimate observations and I believe it is important to investigate them further to see if I can gain insight on the nature of the outliers.\n",
    "\n",
    "\n",
    "![violin%20plot%20interpretation.png](attachment:violin%20plot%20interpretation.png)\n",
    "\n",
    "Source: [Toward Data Science-Violin Plots Explained](https://towardsdatascience.com/violin-plots-explained-fb1d115e023d)\n",
    "\n",
    "NB-The figure is for my future reference when interpreting box and violin plots"
   ]
  },
  {
   "cell_type": "markdown",
   "metadata": {
    "azdata_cell_guid": "6f5b8ee0-bab3-44bc-958a-67d1e4c0407f"
   },
   "source": [
    "## Unnecessary Data\n",
    "\n",
    "Look for the different types of unnecessary data in your dataset and address it as needed. Make sure to use code comments to illustrate your thought process."
   ]
  },
  {
   "cell_type": "markdown",
   "metadata": {},
   "source": [
    "### Checking for Duplicates"
   ]
  },
  {
   "cell_type": "code",
   "execution_count": 25,
   "metadata": {},
   "outputs": [
    {
     "data": {
      "text/html": [
       "<div>\n",
       "<style scoped>\n",
       "    .dataframe tbody tr th:only-of-type {\n",
       "        vertical-align: middle;\n",
       "    }\n",
       "\n",
       "    .dataframe tbody tr th {\n",
       "        vertical-align: top;\n",
       "    }\n",
       "\n",
       "    .dataframe thead th {\n",
       "        text-align: right;\n",
       "    }\n",
       "</style>\n",
       "<table border=\"1\" class=\"dataframe\">\n",
       "  <thead>\n",
       "    <tr style=\"text-align: right;\">\n",
       "      <th></th>\n",
       "      <th>COUNTRY</th>\n",
       "      <th>ISO3</th>\n",
       "      <th>WHO_REGION</th>\n",
       "      <th>DATA_SOURCE</th>\n",
       "      <th>DATE_UPDATED</th>\n",
       "      <th>TOTAL_VACCINATIONS</th>\n",
       "      <th>PERSONS_VACCINATED_1PLUS_DOSE</th>\n",
       "      <th>TOTAL_VACCINATIONS_PER100</th>\n",
       "      <th>PERSONS_VACCINATED_1PLUS_DOSE_PER100</th>\n",
       "      <th>PERSONS_FULLY_VACCINATED</th>\n",
       "      <th>PERSONS_FULLY_VACCINATED_PER100</th>\n",
       "      <th>VACCINES_USED</th>\n",
       "      <th>NUMBER_VACCINES_TYPES_USED</th>\n",
       "    </tr>\n",
       "  </thead>\n",
       "  <tbody>\n",
       "  </tbody>\n",
       "</table>\n",
       "</div>"
      ],
      "text/plain": [
       "Empty DataFrame\n",
       "Columns: [COUNTRY, ISO3, WHO_REGION, DATA_SOURCE, DATE_UPDATED, TOTAL_VACCINATIONS, PERSONS_VACCINATED_1PLUS_DOSE, TOTAL_VACCINATIONS_PER100, PERSONS_VACCINATED_1PLUS_DOSE_PER100, PERSONS_FULLY_VACCINATED, PERSONS_FULLY_VACCINATED_PER100, VACCINES_USED, NUMBER_VACCINES_TYPES_USED]\n",
       "Index: []"
      ]
     },
     "execution_count": 25,
     "metadata": {},
     "output_type": "execute_result"
    },
    {
     "data": {
      "text/html": [
       "<div>\n",
       "<style scoped>\n",
       "    .dataframe tbody tr th:only-of-type {\n",
       "        vertical-align: middle;\n",
       "    }\n",
       "\n",
       "    .dataframe tbody tr th {\n",
       "        vertical-align: top;\n",
       "    }\n",
       "\n",
       "    .dataframe thead th {\n",
       "        text-align: right;\n",
       "    }\n",
       "</style>\n",
       "<table border=\"1\" class=\"dataframe\">\n",
       "  <thead>\n",
       "    <tr style=\"text-align: right;\">\n",
       "      <th></th>\n",
       "      <th>Name</th>\n",
       "      <th>WHO Region</th>\n",
       "      <th>Cases - cumulative total</th>\n",
       "      <th>Cases - cumulative total per 100000 population</th>\n",
       "      <th>Cases - newly reported in last 7 days</th>\n",
       "      <th>Cases - newly reported in last 7 days per 100000 population</th>\n",
       "      <th>Cases - newly reported in last 24 hours</th>\n",
       "      <th>Deaths - cumulative total</th>\n",
       "      <th>Deaths - cumulative total per 100000 population</th>\n",
       "      <th>Deaths - newly reported in last 7 days</th>\n",
       "      <th>Deaths - newly reported in last 7 days per 100000 population</th>\n",
       "      <th>Deaths - newly reported in last 24 hours</th>\n",
       "    </tr>\n",
       "  </thead>\n",
       "  <tbody>\n",
       "  </tbody>\n",
       "</table>\n",
       "</div>"
      ],
      "text/plain": [
       "Empty DataFrame\n",
       "Columns: [Name, WHO Region, Cases - cumulative total, Cases - cumulative total per 100000 population, Cases - newly reported in last 7 days, Cases - newly reported in last 7 days per 100000 population, Cases - newly reported in last 24 hours, Deaths - cumulative total, Deaths - cumulative total per 100000 population, Deaths - newly reported in last 7 days, Deaths - newly reported in last 7 days per 100000 population, Deaths - newly reported in last 24 hours]\n",
       "Index: []"
      ]
     },
     "execution_count": 25,
     "metadata": {},
     "output_type": "execute_result"
    }
   ],
   "source": [
    "df_vacc[df_vacc.duplicated()]\n",
    "#no duplicates in first dataset\n",
    "\n",
    "df_covidstats[df_covidstats.duplicated()]"
   ]
  },
  {
   "cell_type": "markdown",
   "metadata": {},
   "source": [
    "verifying duplicates"
   ]
  },
  {
   "cell_type": "code",
   "execution_count": 26,
   "metadata": {},
   "outputs": [
    {
     "name": "stdout",
     "output_type": "stream",
     "text": [
      "Number of duplicated rows:  (0, 12)\n"
     ]
    }
   ],
   "source": [
    "#df_covidstats.loc[['Tokelau']]\n",
    "\n",
    "#Checking for duplicates\n",
    "duplicate_rows_df = df_covidstats[df_covidstats.duplicated()]\n",
    "print(\"Number of duplicated rows: \", duplicate_rows_df.shape)\n",
    "\n",
    "#1 row and 11 columns duplicated in dataset 2"
   ]
  },
  {
   "cell_type": "markdown",
   "metadata": {},
   "source": [
    "Dropping duplicates"
   ]
  },
  {
   "cell_type": "code",
   "execution_count": 27,
   "metadata": {},
   "outputs": [
    {
     "data": {
      "text/html": [
       "<div>\n",
       "<style scoped>\n",
       "    .dataframe tbody tr th:only-of-type {\n",
       "        vertical-align: middle;\n",
       "    }\n",
       "\n",
       "    .dataframe tbody tr th {\n",
       "        vertical-align: top;\n",
       "    }\n",
       "\n",
       "    .dataframe thead th {\n",
       "        text-align: right;\n",
       "    }\n",
       "</style>\n",
       "<table border=\"1\" class=\"dataframe\">\n",
       "  <thead>\n",
       "    <tr style=\"text-align: right;\">\n",
       "      <th></th>\n",
       "      <th>Name</th>\n",
       "      <th>WHO Region</th>\n",
       "      <th>Cases - cumulative total</th>\n",
       "      <th>Cases - cumulative total per 100000 population</th>\n",
       "      <th>Cases - newly reported in last 7 days</th>\n",
       "      <th>Cases - newly reported in last 7 days per 100000 population</th>\n",
       "      <th>Cases - newly reported in last 24 hours</th>\n",
       "      <th>Deaths - cumulative total</th>\n",
       "      <th>Deaths - cumulative total per 100000 population</th>\n",
       "      <th>Deaths - newly reported in last 7 days</th>\n",
       "      <th>Deaths - newly reported in last 7 days per 100000 population</th>\n",
       "      <th>Deaths - newly reported in last 24 hours</th>\n",
       "    </tr>\n",
       "  </thead>\n",
       "  <tbody>\n",
       "  </tbody>\n",
       "</table>\n",
       "</div>"
      ],
      "text/plain": [
       "Empty DataFrame\n",
       "Columns: [Name, WHO Region, Cases - cumulative total, Cases - cumulative total per 100000 population, Cases - newly reported in last 7 days, Cases - newly reported in last 7 days per 100000 population, Cases - newly reported in last 24 hours, Deaths - cumulative total, Deaths - cumulative total per 100000 population, Deaths - newly reported in last 7 days, Deaths - newly reported in last 7 days per 100000 population, Deaths - newly reported in last 24 hours]\n",
       "Index: []"
      ]
     },
     "execution_count": 27,
     "metadata": {},
     "output_type": "execute_result"
    }
   ],
   "source": [
    "# Dropping the duplicates then rechecking\n",
    "df_covidstats = df_covidstats.drop_duplicates()\n",
    "\n",
    "df_covidstats[df_covidstats.duplicated()]"
   ]
  },
  {
   "cell_type": "markdown",
   "metadata": {},
   "source": [
    "### Checking for columns with 95% or more of the same data"
   ]
  },
  {
   "cell_type": "code",
   "execution_count": 28,
   "metadata": {
    "azdata_cell_guid": "e788a239-2fbf-41de-9bd3-19e52e3b187c"
   },
   "outputs": [
    {
     "name": "stdout",
     "output_type": "stream",
     "text": [
      "DATA_SOURCE: 95.61404%\n",
      "REPORTING    218\n",
      "OWID          10\n",
      "Name: DATA_SOURCE, dtype: int64\n",
      "\n"
     ]
    }
   ],
   "source": [
    "num_rows = len(df_vacc.index)\n",
    "low_information_cols = [] #\n",
    "\n",
    "for col in df_vacc.columns:\n",
    "    cnts = df_vacc[col].value_counts(dropna=False)\n",
    "    top_pct = (cnts/num_rows).iloc[0]\n",
    "    \n",
    "    if top_pct > 0.95:\n",
    "        low_information_cols.append(col)\n",
    "        print('{0}: {1:.5f}%'.format(col, top_pct*100))\n",
    "        print(cnts)\n",
    "        print()\n",
    "        \n",
    "#-------------------------------        \n",
    "        \n",
    "num_rows = len(df_covidstats.index)\n",
    "low_information_cols = [] #\n",
    "\n",
    "for col in df_covidstats.columns:\n",
    "    cnts = df_covidstats[col].value_counts(dropna=False)\n",
    "    top_pct = (cnts/num_rows).iloc[0]\n",
    "    \n",
    "    if top_pct > 0.95:\n",
    "        low_information_cols.append(col)\n",
    "        print('{0}: {1:.5f}%'.format(col, top_pct*100))\n",
    "        print(cnts)\n",
    "        print()\n",
    "        \n",
    "        \n",
    "#No columns in dataset 2 have a high percentage(>=95%) of the same values.       "
   ]
  },
  {
   "cell_type": "markdown",
   "metadata": {},
   "source": [
    "Data source- Whether or not it was reported by the country or sourced from OWID (Our World In Data). \n",
    "\n",
    "### I won't be using the DATA_SOURCE column for further analysis. Since the data is repetitive/ uninformative for the context of this project, I will drop it."
   ]
  },
  {
   "cell_type": "code",
   "execution_count": 29,
   "metadata": {},
   "outputs": [
    {
     "name": "stdout",
     "output_type": "stream",
     "text": [
      "<class 'pandas.core.frame.DataFrame'>\n",
      "RangeIndex: 228 entries, 0 to 227\n",
      "Data columns (total 12 columns):\n",
      " #   Column                                Non-Null Count  Dtype  \n",
      "---  ------                                --------------  -----  \n",
      " 0   COUNTRY                               228 non-null    object \n",
      " 1   ISO3                                  228 non-null    object \n",
      " 2   WHO_REGION                            228 non-null    object \n",
      " 3   DATE_UPDATED                          228 non-null    object \n",
      " 4   TOTAL_VACCINATIONS                    228 non-null    int64  \n",
      " 5   PERSONS_VACCINATED_1PLUS_DOSE         227 non-null    float64\n",
      " 6   TOTAL_VACCINATIONS_PER100             228 non-null    float64\n",
      " 7   PERSONS_VACCINATED_1PLUS_DOSE_PER100  227 non-null    float64\n",
      " 8   PERSONS_FULLY_VACCINATED              227 non-null    float64\n",
      " 9   PERSONS_FULLY_VACCINATED_PER100       227 non-null    float64\n",
      " 10  VACCINES_USED                         228 non-null    object \n",
      " 11  NUMBER_VACCINES_TYPES_USED            225 non-null    float64\n",
      "dtypes: float64(6), int64(1), object(5)\n",
      "memory usage: 21.5+ KB\n"
     ]
    }
   ],
   "source": [
    "#df_vacc.loc[df_vacc['DATA_SOURCE'] == 'OWID']\n",
    "\n",
    "df_vacc = df_vacc.drop([\"DATA_SOURCE\"], axis=1)\n",
    "\n",
    "#Rechecking the dataset to ensure column was dropped\n",
    "df_vacc.info()\n"
   ]
  },
  {
   "cell_type": "markdown",
   "metadata": {
    "azdata_cell_guid": "53e0cf94-c68a-4fa0-9849-9505a66bcce6"
   },
   "source": [
    "## Inconsistent Data\n",
    "\n",
    "Check for inconsistent data and address any that arises. As always, use code comments to illustrate your thought process."
   ]
  },
  {
   "cell_type": "code",
   "execution_count": 30,
   "metadata": {
    "azdata_cell_guid": "e9de6624-812a-43f8-8e20-93b4a49b091f"
   },
   "outputs": [],
   "source": [
    "# No inconsistent data spotted as yet"
   ]
  },
  {
   "cell_type": "markdown",
   "metadata": {
    "azdata_cell_guid": "dedc0bfe-17d0-40b2-914f-2ddb54f9ce0d"
   },
   "source": [
    "## Summarize Your Results\n",
    "\n",
    "Make note of your answers to the following questions.\n",
    "\n",
    "1. Did you find all four types of dirty data in your dataset?\n",
    "\n",
    "* **No inconsistent data was spotted at this stage. I opted to fill/remove some of the missing data and remove some of the unnecessary data. However, I kept all of the irregular data. I believe there is a story behind the countries that are outliers in terms of max number of cases, death rates and vaccination rates and I would like to explore that further.**\n",
    "\n",
    "2. Did the process of cleaning your data give you new insights into your dataset?\n",
    "\n",
    "* **I was surprised to find that Cuba was one of the outliers in terms of vaccination rates per 100 of the population and that Peru was the outlier in terms of death rates per 100, 000 of the population. The latter was particularly intriguing since Europe as a region had the highest death rates in my previous EDA. I was expecting the most extreme outlier to be from there.**\n",
    "\n",
    "3. Is there anything you would like to make note of when it comes to manipulating the data and making visualizations?\n",
    "\n",
    "* **Moving forward I would like to start comparing the datasets together to get a better idea of how vaccination rates impact number of cases and death rates.**"
   ]
  },
  {
   "cell_type": "code",
   "execution_count": 39,
   "metadata": {},
   "outputs": [],
   "source": [
    "#Exporting Cleaned Datasets\n",
    "\n",
    "# df_vacc.to_csv(\"vaccinedata.csv\")\n",
    "\n",
    "# df_covidstats.to_csv(\"globalcovidstatistics.csv\")"
   ]
  }
 ],
 "metadata": {
  "kernelspec": {
   "display_name": "Python 3 (ipykernel)",
   "language": "python",
   "name": "python3"
  },
  "language_info": {
   "codemirror_mode": {
    "name": "ipython",
    "version": 3
   },
   "file_extension": ".py",
   "mimetype": "text/x-python",
   "name": "python",
   "nbconvert_exporter": "python",
   "pygments_lexer": "ipython3",
   "version": "3.9.12"
  }
 },
 "nbformat": 4,
 "nbformat_minor": 2
}
